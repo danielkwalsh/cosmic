{
 "cells": [
  {
   "cell_type": "code",
   "execution_count": null,
   "id": "887c8563-a11a-48c6-bb0d-0892bca7a965",
   "metadata": {},
   "outputs": [],
   "source": [
    "from mip import Model, xsum, minimize, BINARY\n",
    "\n",
    "alpha = 1\n",
    "beta = 0\n",
    "qmin = 1/2\n",
    "qmax = 1\n",
    "Q = 1/4\n",
    "\n",
    "m = Model()\n",
    "\n",
    "theta = [m.add_var(var_type=BINARY)]\n",
    "q = [m.add_var()]\n",
    "\n",
    "m.objective = minimize(alpha * q[0] + beta - beta * (1 - theta[0]))\n",
    "\n",
    "#Constraints:\n",
    "m += q[0] <= qmax * theta[0]\n",
    "m += q[0] >= qmin * theta[0]\n",
    "m += q[0] == Q\n",
    "\n",
    "m.optimize()\n",
    "\n",
    "q[0].x, theta[0].x"
   ]
  }
 ],
 "metadata": {
  "kernelspec": {
   "display_name": "Python 3 (ipykernel)",
   "language": "python",
   "name": "python3"
  },
  "language_info": {
   "codemirror_mode": {
    "name": "ipython",
    "version": 3
   },
   "file_extension": ".py",
   "mimetype": "text/x-python",
   "name": "python",
   "nbconvert_exporter": "python",
   "pygments_lexer": "ipython3",
   "version": "3.10.9"
  }
 },
 "nbformat": 4,
 "nbformat_minor": 5
}
