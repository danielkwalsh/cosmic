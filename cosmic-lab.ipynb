{
 "cells": [
  {
   "cell_type": "code",
   "execution_count": 1,
   "id": "bfe5367a-df1d-4068-ac3e-69dd6c711bf1",
   "metadata": {},
   "outputs": [],
   "source": [
    "from cosmiclib import Compressor, Optimizer"
   ]
  },
  {
   "cell_type": "code",
   "execution_count": 2,
   "id": "6a3c02be-9706-4f0b-9cbf-a7488eb1d7a4",
   "metadata": {},
   "outputs": [
    {
     "data": {
      "text/plain": [
       "{'compressors': {'Compressor 1': {'theta': True, 'q': 0.75, 'w': 0.75},\n",
       "  'Compressor 2': {'theta': True, 'q': 0.75, 'w': 0.875}},\n",
       " 'Qtot': 1.5,\n",
       " 'Wtot': 1.625,\n",
       " 'Success': True,\n",
       " 'OptimizationStatus': <OptimizationStatus.OPTIMAL: 0>}"
      ]
     },
     "execution_count": 2,
     "metadata": {},
     "output_type": "execute_result"
    }
   ],
   "source": [
    "compressor1 = Compressor('Compressor 1', qmin=0.5, qmax=1, wmin=0.5, wmax=1)\n",
    "compressor2 = Compressor('Compressor 2', qmin=0.5, qmax=0.75, wmin=0.75, wmax=7/8)\n",
    "my_optimizer = Optimizer(compressors=[compressor1, compressor2])\n",
    "my_optimizer.setup_problem()\n",
    "my_optimizer.find_opt(1.5)"
   ]
  },
  {
   "cell_type": "code",
   "execution_count": null,
   "id": "239177c0-877d-4eab-8595-8ae85ce2d70f",
   "metadata": {},
   "outputs": [],
   "source": []
  }
 ],
 "metadata": {
  "kernelspec": {
   "display_name": "Python 3 (ipykernel)",
   "language": "python",
   "name": "python3"
  },
  "language_info": {
   "codemirror_mode": {
    "name": "ipython",
    "version": 3
   },
   "file_extension": ".py",
   "mimetype": "text/x-python",
   "name": "python",
   "nbconvert_exporter": "python",
   "pygments_lexer": "ipython3",
   "version": "3.10.9"
  }
 },
 "nbformat": 4,
 "nbformat_minor": 5
}
