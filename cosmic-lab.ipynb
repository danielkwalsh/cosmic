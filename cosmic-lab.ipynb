{
 "cells": [
  {
   "cell_type": "code",
   "execution_count": 1,
   "id": "bfe5367a-df1d-4068-ac3e-69dd6c711bf1",
   "metadata": {},
   "outputs": [],
   "source": [
    "from cosmiclib import Compressor, Optimizer"
   ]
  },
  {
   "cell_type": "code",
   "execution_count": 8,
   "id": "6a3c02be-9706-4f0b-9cbf-a7488eb1d7a4",
   "metadata": {},
   "outputs": [
    {
     "name": "stdout",
     "output_type": "stream",
     "text": [
      "Cgl0003I 0 fixed, 0 tightened bounds, 0 strengthened rows, 1 substitutions\n",
      "Cgl0004I processed model has 4 rows, 2 columns (1 integer (1 of which binary)) and 8 elements\n",
      "Coin3009W Conflict graph built in 0.000 seconds, density: 10.000%\n",
      "Cgl0015I Clique Strengthening extended 0 cliques, 0 were dominated\n",
      "Cbc0038I Initial state - 0 integers unsatisfied sum - 0\n",
      "Cbc0038I Solution found of 0.5\n",
      "Cbc0038I Relaxing continuous gives 0.5\n",
      "Cbc0038I Before mini branch and bound, 1 integers at bound fixed and 1 continuous\n",
      "Cbc0038I Mini branch and bound did not improve solution (0.00 seconds)\n",
      "Cbc0038I After 0.00 seconds - Feasibility pump exiting with objective of 0.5 - took 0.00 seconds\n",
      "Cbc0012I Integer solution of 0.5 found by feasibility pump after 0 iterations and 0 nodes (0.00 seconds)\n",
      "Cbc0001I Search completed - best objective 0.5, took 0 iterations and 0 nodes (0.00 seconds)\n",
      "Cbc0035I Maximum depth 0, 0 variables fixed on reduced cost\n",
      "Total time (CPU seconds):       0.00   (Wallclock seconds):       0.00\n",
      "\n",
      "Starting solution of the Linear programming relaxation problem using Dual Simplex\n",
      "\n",
      "Coin0506I Presolve 1 (-4) rows, 2 (-2) columns and 2 (-8) elements\n",
      "Clp0006I 0  Obj 1.3583333 Primal inf 0.42499903 (1)\n",
      "Clp0000I Optimal - objective value 1.5833333\n",
      "Coin0511I After Postsolve, objective 1.5833333, infeasibilities - dual 0 (0), primal 0 (0)\n",
      "Clp0032I Optimal objective 1.583333333 - 1 iterations time 0.002, Presolve 0.00\n",
      "\n",
      "Starting MIP optimization\n"
     ]
    },
    {
     "data": {
      "text/plain": [
       "([True, True], [0.75, 0.75])"
      ]
     },
     "execution_count": 8,
     "metadata": {},
     "output_type": "execute_result"
    }
   ],
   "source": [
    "compressor1 = Compressor('Compressor 1', qmin=0.5, qmax=1, wmin=0.5, wmax=1)\n",
    "compressor2 = Compressor('Compressor 2', qmin=0.5, qmax=0.75, wmin=0.75, wmax=7/8)\n",
    "my_optimizer = Optimizer(compressors=[compressor1, compressor2])\n",
    "my_optimizer.setup_problem()\n",
    "my_optimizer.find_opt(1.5)"
   ]
  },
  {
   "cell_type": "code",
   "execution_count": null,
   "id": "239177c0-877d-4eab-8595-8ae85ce2d70f",
   "metadata": {},
   "outputs": [],
   "source": []
  }
 ],
 "metadata": {
  "kernelspec": {
   "display_name": "Python 3 (ipykernel)",
   "language": "python",
   "name": "python3"
  },
  "language_info": {
   "codemirror_mode": {
    "name": "ipython",
    "version": 3
   },
   "file_extension": ".py",
   "mimetype": "text/x-python",
   "name": "python",
   "nbconvert_exporter": "python",
   "pygments_lexer": "ipython3",
   "version": "3.10.9"
  }
 },
 "nbformat": 4,
 "nbformat_minor": 5
}
