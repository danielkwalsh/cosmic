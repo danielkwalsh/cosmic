{
 "cells": [
  {
   "cell_type": "code",
   "execution_count": 2,
   "id": "bfe5367a-df1d-4068-ac3e-69dd6c711bf1",
   "metadata": {},
   "outputs": [],
   "source": [
    "from cosmiclib import Compressor, Optimizer\n",
    "import plotly.express as px\n",
    "import pandas as pd\n",
    "import numpy as np"
   ]
  },
  {
   "cell_type": "code",
   "execution_count": null,
   "id": "6a3c02be-9706-4f0b-9cbf-a7488eb1d7a4",
   "metadata": {},
   "outputs": [],
   "source": []
  },
  {
   "cell_type": "code",
   "execution_count": 147,
   "id": "b8c68c04-9601-4341-9877-f0344d1ca1db",
   "metadata": {},
   "outputs": [],
   "source": [
    "def make_row(Qtot, sol_dict):\n",
    "    dict_data = {'Qtot': [Qtot]}\n",
    "    dict_data.update({f'{c}: q': [sol_dict['compressors'][c]['q']] for c in comp_names})\n",
    "    dict_data.update({f'{c}: w': [sol_dict['compressors'][c]['w']] for c in comp_names})\n",
    "    return pd.DataFrame(dict_data)\n",
    "\n",
    "compressor1 = Compressor('Compressor 1', qmin=0.5, qmax=1, wmin=0.5, wmax=1)\n",
    "compressor2 = Compressor('Compressor 2', qmin=0.5, qmax=0.75, wmin=0.75, wmax=7/8)\n",
    "compressors = [compressor1, compressor2]\n",
    "Qmax = sum([c.qmax for c in compressors])\n",
    "comp_names = [c.name for c in compressors]\n",
    "my_optimizer = Optimizer(compressors=compressors)\n",
    "my_optimizer.setup_problem()\n",
    "\n",
    "df = None\n",
    "Qmax_plot = Qmax * 1.1\n",
    "for Qtot in np.arange(0,Qmax_plot,0.001):\n",
    "    solution = my_optimizer.find_opt(Qtot)\n",
    "    if df is None:\n",
    "        df = make_row(Qtot, solution)\n",
    "    else:\n",
    "        df = pd.concat([df, make_row(Qtot, solution)])\n",
    "#df.set_index('Qtot')\n"
   ]
  },
  {
   "cell_type": "code",
   "execution_count": 169,
   "id": "9e8a0264-bdb6-44a5-b6d0-ba51ee49cc38",
   "metadata": {},
   "outputs": [
    {
     "data": {
      "application/vnd.plotly.v1+json": {
       "config": {
        "plotlyServerURL": "https://plot.ly"
       },
       "data": [
        {
         "customdata": [
          [
           0
          ],
          [
           null
          ],
          [
           null
          ],
          [
           null
          ],
          [
           null
          ],
          [
           null
          ],
          [
           null
          ],
          [
           null
          ],
          [
           null
          ],
          [
           null
          ],
          [
           null
          ],
          [
           null
          ],
          [
           null
          ],
          [
           null
          ],
          [
           null
          ],
          [
           null
          ],
          [
           null
          ],
          [
           null
          ],
          [
           null
          ],
          [
           null
          ],
          [
           null
          ],
          [
           null
          ],
          [
           null
          ],
          [
           null
          ],
          [
           null
          ],
          [
           null
          ],
          [
           null
          ],
          [
           null
          ],
          [
           null
          ],
          [
           null
          ],
          [
           null
          ],
          [
           null
          ],
          [
           null
          ],
          [
           null
          ],
          [
           null
          ],
          [
           null
          ],
          [
           null
          ],
          [
           null
          ],
          [
           null
          ],
          [
           null
          ],
          [
           null
          ],
          [
           null
          ],
          [
           null
          ],
          [
           null
          ],
          [
           null
          ],
          [
           null
          ],
          [
           null
          ],
          [
           null
          ],
          [
           null
          ],
          [
           null
          ],
          [
           null
          ],
          [
           null
          ],
          [
           null
          ],
          [
           null
          ],
          [
           null
          ],
          [
           null
          ],
          [
           null
          ],
          [
           null
          ],
          [
           null
          ],
          [
           null
          ],
          [
           null
          ],
          [
           null
          ],
          [
           null
          ],
          [
           null
          ],
          [
           null
          ],
          [
           null
          ],
          [
           null
          ],
          [
           null
          ],
          [
           null
          ],
          [
           null
          ],
          [
           null
          ],
          [
           null
          ],
          [
           null
          ],
          [
           null
          ],
          [
           null
          ],
          [
           null
          ],
          [
           null
          ],
          [
           null
          ],
          [
           null
          ],
          [
           null
          ],
          [
           null
          ],
          [
           null
          ],
          [
           null
          ],
          [
           null
          ],
          [
           null
          ],
          [
           null
          ],
          [
           null
          ],
          [
           null
          ],
          [
           null
          ],
          [
           null
          ],
          [
           null
          ],
          [
           null
          ],
          [
           null
          ],
          [
           null
          ],
          [
           null
          ],
          [
           null
          ],
          [
           null
          ],
          [
           null
          ],
          [
           null
          ],
          [
           null
          ],
          [
           null
          ],
          [
           null
          ],
          [
           null
          ],
          [
           null
          ],
          [
           null
          ],
          [
           null
          ],
          [
           null
          ],
          [
           null
          ],
          [
           null
          ],
          [
           null
          ],
          [
           null
          ],
          [
           null
          ],
          [
           null
          ],
          [
           null
          ],
          [
           null
          ],
          [
           null
          ],
          [
           null
          ],
          [
           null
          ],
          [
           null
          ],
          [
           null
          ],
          [
           null
          ],
          [
           null
          ],
          [
           null
          ],
          [
           null
          ],
          [
           null
          ],
          [
           null
          ],
          [
           null
          ],
          [
           null
          ],
          [
           null
          ],
          [
           null
          ],
          [
           null
          ],
          [
           null
          ],
          [
           null
          ],
          [
           null
          ],
          [
           null
          ],
          [
           null
          ],
          [
           null
          ],
          [
           null
          ],
          [
           null
          ],
          [
           null
          ],
          [
           null
          ],
          [
           null
          ],
          [
           null
          ],
          [
           null
          ],
          [
           null
          ],
          [
           null
          ],
          [
           null
          ],
          [
           null
          ],
          [
           null
          ],
          [
           null
          ],
          [
           null
          ],
          [
           null
          ],
          [
           null
          ],
          [
           null
          ],
          [
           null
          ],
          [
           null
          ],
          [
           null
          ],
          [
           null
          ],
          [
           null
          ],
          [
           null
          ],
          [
           null
          ],
          [
           null
          ],
          [
           null
          ],
          [
           null
          ],
          [
           null
          ],
          [
           null
          ],
          [
           null
          ],
          [
           null
          ],
          [
           null
          ],
          [
           null
          ],
          [
           null
          ],
          [
           null
          ],
          [
           null
          ],
          [
           null
          ],
          [
           null
          ],
          [
           null
          ],
          [
           null
          ],
          [
           null
          ],
          [
           null
          ],
          [
           null
          ],
          [
           null
          ],
          [
           null
          ],
          [
           null
          ],
          [
           null
          ],
          [
           null
          ],
          [
           null
          ],
          [
           null
          ],
          [
           null
          ],
          [
           null
          ],
          [
           null
          ],
          [
           null
          ],
          [
           null
          ],
          [
           null
          ],
          [
           null
          ],
          [
           null
          ],
          [
           null
          ],
          [
           null
          ],
          [
           null
          ],
          [
           null
          ],
          [
           null
          ],
          [
           null
          ],
          [
           null
          ],
          [
           null
          ],
          [
           null
          ],
          [
           null
          ],
          [
           null
          ],
          [
           null
          ],
          [
           null
          ],
          [
           null
          ],
          [
           null
          ],
          [
           null
          ],
          [
           null
          ],
          [
           null
          ],
          [
           null
          ],
          [
           null
          ],
          [
           null
          ],
          [
           null
          ],
          [
           null
          ],
          [
           null
          ],
          [
           null
          ],
          [
           null
          ],
          [
           null
          ],
          [
           null
          ],
          [
           null
          ],
          [
           null
          ],
          [
           null
          ],
          [
           null
          ],
          [
           null
          ],
          [
           null
          ],
          [
           null
          ],
          [
           null
          ],
          [
           null
          ],
          [
           null
          ],
          [
           null
          ],
          [
           null
          ],
          [
           null
          ],
          [
           null
          ],
          [
           null
          ],
          [
           null
          ],
          [
           null
          ],
          [
           null
          ],
          [
           null
          ],
          [
           null
          ],
          [
           null
          ],
          [
           null
          ],
          [
           null
          ],
          [
           null
          ],
          [
           null
          ],
          [
           null
          ],
          [
           null
          ],
          [
           null
          ],
          [
           null
          ],
          [
           null
          ],
          [
           null
          ],
          [
           null
          ],
          [
           null
          ],
          [
           null
          ],
          [
           null
          ],
          [
           null
          ],
          [
           null
          ],
          [
           null
          ],
          [
           null
          ],
          [
           null
          ],
          [
           null
          ],
          [
           null
          ],
          [
           null
          ],
          [
           null
          ],
          [
           null
          ],
          [
           null
          ],
          [
           null
          ],
          [
           null
          ],
          [
           null
          ],
          [
           null
          ],
          [
           null
          ],
          [
           null
          ],
          [
           null
          ],
          [
           null
          ],
          [
           null
          ],
          [
           null
          ],
          [
           null
          ],
          [
           null
          ],
          [
           null
          ],
          [
           null
          ],
          [
           null
          ],
          [
           null
          ],
          [
           null
          ],
          [
           null
          ],
          [
           null
          ],
          [
           null
          ],
          [
           null
          ],
          [
           null
          ],
          [
           null
          ],
          [
           null
          ],
          [
           null
          ],
          [
           null
          ],
          [
           null
          ],
          [
           null
          ],
          [
           null
          ],
          [
           null
          ],
          [
           null
          ],
          [
           null
          ],
          [
           null
          ],
          [
           null
          ],
          [
           null
          ],
          [
           null
          ],
          [
           null
          ],
          [
           null
          ],
          [
           null
          ],
          [
           null
          ],
          [
           null
          ],
          [
           null
          ],
          [
           null
          ],
          [
           null
          ],
          [
           null
          ],
          [
           null
          ],
          [
           null
          ],
          [
           null
          ],
          [
           null
          ],
          [
           null
          ],
          [
           null
          ],
          [
           null
          ],
          [
           null
          ],
          [
           null
          ],
          [
           null
          ],
          [
           null
          ],
          [
           null
          ],
          [
           null
          ],
          [
           null
          ],
          [
           null
          ],
          [
           null
          ],
          [
           null
          ],
          [
           null
          ],
          [
           null
          ],
          [
           null
          ],
          [
           null
          ],
          [
           null
          ],
          [
           null
          ],
          [
           null
          ],
          [
           null
          ],
          [
           null
          ],
          [
           null
          ],
          [
           null
          ],
          [
           null
          ],
          [
           null
          ],
          [
           null
          ],
          [
           null
          ],
          [
           null
          ],
          [
           null
          ],
          [
           null
          ],
          [
           null
          ],
          [
           null
          ],
          [
           null
          ],
          [
           null
          ],
          [
           null
          ],
          [
           null
          ],
          [
           null
          ],
          [
           null
          ],
          [
           null
          ],
          [
           null
          ],
          [
           null
          ],
          [
           null
          ],
          [
           null
          ],
          [
           null
          ],
          [
           null
          ],
          [
           null
          ],
          [
           null
          ],
          [
           null
          ],
          [
           null
          ],
          [
           null
          ],
          [
           null
          ],
          [
           null
          ],
          [
           null
          ],
          [
           null
          ],
          [
           null
          ],
          [
           null
          ],
          [
           null
          ],
          [
           null
          ],
          [
           null
          ],
          [
           null
          ],
          [
           null
          ],
          [
           null
          ],
          [
           null
          ],
          [
           null
          ],
          [
           null
          ],
          [
           null
          ],
          [
           null
          ],
          [
           null
          ],
          [
           null
          ],
          [
           null
          ],
          [
           null
          ],
          [
           null
          ],
          [
           null
          ],
          [
           null
          ],
          [
           null
          ],
          [
           null
          ],
          [
           null
          ],
          [
           null
          ],
          [
           null
          ],
          [
           null
          ],
          [
           null
          ],
          [
           null
          ],
          [
           null
          ],
          [
           null
          ],
          [
           null
          ],
          [
           null
          ],
          [
           null
          ],
          [
           null
          ],
          [
           null
          ],
          [
           null
          ],
          [
           null
          ],
          [
           null
          ],
          [
           null
          ],
          [
           null
          ],
          [
           null
          ],
          [
           null
          ],
          [
           null
          ],
          [
           null
          ],
          [
           null
          ],
          [
           null
          ],
          [
           null
          ],
          [
           null
          ],
          [
           null
          ],
          [
           null
          ],
          [
           null
          ],
          [
           null
          ],
          [
           null
          ],
          [
           null
          ],
          [
           null
          ],
          [
           null
          ],
          [
           null
          ],
          [
           null
          ],
          [
           null
          ],
          [
           null
          ],
          [
           null
          ],
          [
           null
          ],
          [
           null
          ],
          [
           null
          ],
          [
           null
          ],
          [
           null
          ],
          [
           null
          ],
          [
           null
          ],
          [
           null
          ],
          [
           null
          ],
          [
           null
          ],
          [
           null
          ],
          [
           null
          ],
          [
           null
          ],
          [
           null
          ],
          [
           null
          ],
          [
           null
          ],
          [
           null
          ],
          [
           null
          ],
          [
           null
          ],
          [
           null
          ],
          [
           null
          ],
          [
           null
          ],
          [
           null
          ],
          [
           null
          ],
          [
           null
          ],
          [
           null
          ],
          [
           null
          ],
          [
           null
          ],
          [
           null
          ],
          [
           null
          ],
          [
           null
          ],
          [
           null
          ],
          [
           null
          ],
          [
           null
          ],
          [
           null
          ],
          [
           null
          ],
          [
           null
          ],
          [
           null
          ],
          [
           null
          ],
          [
           null
          ],
          [
           null
          ],
          [
           null
          ],
          [
           null
          ],
          [
           null
          ],
          [
           null
          ],
          [
           null
          ],
          [
           null
          ],
          [
           null
          ],
          [
           null
          ],
          [
           null
          ],
          [
           null
          ],
          [
           null
          ],
          [
           null
          ],
          [
           null
          ],
          [
           null
          ],
          [
           null
          ],
          [
           null
          ],
          [
           null
          ],
          [
           null
          ],
          [
           null
          ],
          [
           null
          ],
          [
           null
          ],
          [
           null
          ],
          [
           null
          ],
          [
           null
          ],
          [
           null
          ],
          [
           0.5
          ],
          [
           0.501
          ],
          [
           0.502
          ],
          [
           0.503
          ],
          [
           0.504
          ],
          [
           0.505
          ],
          [
           0.506
          ],
          [
           0.507
          ],
          [
           0.508
          ],
          [
           0.509
          ],
          [
           0.51
          ],
          [
           0.511
          ],
          [
           0.512
          ],
          [
           0.513
          ],
          [
           0.514
          ],
          [
           0.515
          ],
          [
           0.516
          ],
          [
           0.517
          ],
          [
           0.518
          ],
          [
           0.519
          ],
          [
           0.52
          ],
          [
           0.521
          ],
          [
           0.522
          ],
          [
           0.523
          ],
          [
           0.524
          ],
          [
           0.525
          ],
          [
           0.526
          ],
          [
           0.527
          ],
          [
           0.528
          ],
          [
           0.529
          ],
          [
           0.53
          ],
          [
           0.531
          ],
          [
           0.532
          ],
          [
           0.533
          ],
          [
           0.534
          ],
          [
           0.535
          ],
          [
           0.536
          ],
          [
           0.537
          ],
          [
           0.538
          ],
          [
           0.539
          ],
          [
           0.54
          ],
          [
           0.541
          ],
          [
           0.542
          ],
          [
           0.543
          ],
          [
           0.544
          ],
          [
           0.545
          ],
          [
           0.546
          ],
          [
           0.547
          ],
          [
           0.548
          ],
          [
           0.549
          ],
          [
           0.55
          ],
          [
           0.551
          ],
          [
           0.552
          ],
          [
           0.553
          ],
          [
           0.554
          ],
          [
           0.555
          ],
          [
           0.556
          ],
          [
           0.557
          ],
          [
           0.558
          ],
          [
           0.559
          ],
          [
           0.56
          ],
          [
           0.561
          ],
          [
           0.562
          ],
          [
           0.5630000000000001
          ],
          [
           0.5640000000000001
          ],
          [
           0.5650000000000001
          ],
          [
           0.5660000000000001
          ],
          [
           0.5670000000000001
          ],
          [
           0.5680000000000001
          ],
          [
           0.5690000000000001
          ],
          [
           0.5700000000000001
          ],
          [
           0.5710000000000001
          ],
          [
           0.5720000000000001
          ],
          [
           0.5730000000000001
          ],
          [
           0.5740000000000001
          ],
          [
           0.5750000000000001
          ],
          [
           0.5760000000000001
          ],
          [
           0.577
          ],
          [
           0.578
          ],
          [
           0.579
          ],
          [
           0.58
          ],
          [
           0.581
          ],
          [
           0.582
          ],
          [
           0.583
          ],
          [
           0.584
          ],
          [
           0.585
          ],
          [
           0.586
          ],
          [
           0.587
          ],
          [
           0.588
          ],
          [
           0.589
          ],
          [
           0.59
          ],
          [
           0.591
          ],
          [
           0.592
          ],
          [
           0.593
          ],
          [
           0.594
          ],
          [
           0.595
          ],
          [
           0.596
          ],
          [
           0.597
          ],
          [
           0.598
          ],
          [
           0.599
          ],
          [
           0.6
          ],
          [
           0.601
          ],
          [
           0.602
          ],
          [
           0.603
          ],
          [
           0.604
          ],
          [
           0.605
          ],
          [
           0.606
          ],
          [
           0.607
          ],
          [
           0.608
          ],
          [
           0.609
          ],
          [
           0.61
          ],
          [
           0.611
          ],
          [
           0.612
          ],
          [
           0.613
          ],
          [
           0.614
          ],
          [
           0.615
          ],
          [
           0.616
          ],
          [
           0.617
          ],
          [
           0.618
          ],
          [
           0.619
          ],
          [
           0.62
          ],
          [
           0.621
          ],
          [
           0.622
          ],
          [
           0.623
          ],
          [
           0.624
          ],
          [
           0.625
          ],
          [
           0.626
          ],
          [
           0.627
          ],
          [
           0.628
          ],
          [
           0.629
          ],
          [
           0.63
          ],
          [
           0.631
          ],
          [
           0.632
          ],
          [
           0.633
          ],
          [
           0.634
          ],
          [
           0.635
          ],
          [
           0.636
          ],
          [
           0.637
          ],
          [
           0.638
          ],
          [
           0.639
          ],
          [
           0.64
          ],
          [
           0.641
          ],
          [
           0.642
          ],
          [
           0.643
          ],
          [
           0.644
          ],
          [
           0.645
          ],
          [
           0.646
          ],
          [
           0.647
          ],
          [
           0.648
          ],
          [
           0.649
          ],
          [
           0.65
          ],
          [
           0.651
          ],
          [
           0.652
          ],
          [
           0.653
          ],
          [
           0.654
          ],
          [
           0.655
          ],
          [
           0.656
          ],
          [
           0.657
          ],
          [
           0.658
          ],
          [
           0.659
          ],
          [
           0.66
          ],
          [
           0.661
          ],
          [
           0.662
          ],
          [
           0.663
          ],
          [
           0.664
          ],
          [
           0.665
          ],
          [
           0.666
          ],
          [
           0.667
          ],
          [
           0.668
          ],
          [
           0.669
          ],
          [
           0.67
          ],
          [
           0.671
          ],
          [
           0.672
          ],
          [
           0.673
          ],
          [
           0.674
          ],
          [
           0.675
          ],
          [
           0.676
          ],
          [
           0.677
          ],
          [
           0.678
          ],
          [
           0.679
          ],
          [
           0.68
          ],
          [
           0.681
          ],
          [
           0.682
          ],
          [
           0.683
          ],
          [
           0.684
          ],
          [
           0.685
          ],
          [
           0.686
          ],
          [
           0.687
          ],
          [
           0.6880000000000001
          ],
          [
           0.6890000000000001
          ],
          [
           0.6900000000000001
          ],
          [
           0.6910000000000001
          ],
          [
           0.6920000000000001
          ],
          [
           0.6930000000000001
          ],
          [
           0.6940000000000001
          ],
          [
           0.6950000000000001
          ],
          [
           0.6960000000000001
          ],
          [
           0.6970000000000001
          ],
          [
           0.6980000000000001
          ],
          [
           0.6990000000000001
          ],
          [
           0.7000000000000001
          ],
          [
           0.7010000000000001
          ],
          [
           0.7020000000000001
          ],
          [
           0.7030000000000001
          ],
          [
           0.704
          ],
          [
           0.705
          ],
          [
           0.706
          ],
          [
           0.707
          ],
          [
           0.708
          ],
          [
           0.709
          ],
          [
           0.71
          ],
          [
           0.711
          ],
          [
           0.712
          ],
          [
           0.713
          ],
          [
           0.714
          ],
          [
           0.715
          ],
          [
           0.716
          ],
          [
           0.717
          ],
          [
           0.718
          ],
          [
           0.719
          ],
          [
           0.72
          ],
          [
           0.721
          ],
          [
           0.722
          ],
          [
           0.723
          ],
          [
           0.724
          ],
          [
           0.725
          ],
          [
           0.726
          ],
          [
           0.727
          ],
          [
           0.728
          ],
          [
           0.729
          ],
          [
           0.73
          ],
          [
           0.731
          ],
          [
           0.732
          ],
          [
           0.733
          ],
          [
           0.734
          ],
          [
           0.735
          ],
          [
           0.736
          ],
          [
           0.737
          ],
          [
           0.738
          ],
          [
           0.739
          ],
          [
           0.74
          ],
          [
           0.741
          ],
          [
           0.742
          ],
          [
           0.743
          ],
          [
           0.744
          ],
          [
           0.745
          ],
          [
           0.746
          ],
          [
           0.747
          ],
          [
           0.748
          ],
          [
           0.749
          ],
          [
           0.75
          ],
          [
           0.751
          ],
          [
           0.752
          ],
          [
           0.753
          ],
          [
           0.754
          ],
          [
           0.755
          ],
          [
           0.756
          ],
          [
           0.757
          ],
          [
           0.758
          ],
          [
           0.759
          ],
          [
           0.76
          ],
          [
           0.761
          ],
          [
           0.762
          ],
          [
           0.763
          ],
          [
           0.764
          ],
          [
           0.765
          ],
          [
           0.766
          ],
          [
           0.767
          ],
          [
           0.768
          ],
          [
           0.769
          ],
          [
           0.77
          ],
          [
           0.771
          ],
          [
           0.772
          ],
          [
           0.773
          ],
          [
           0.774
          ],
          [
           0.775
          ],
          [
           0.776
          ],
          [
           0.777
          ],
          [
           0.778
          ],
          [
           0.779
          ],
          [
           0.78
          ],
          [
           0.781
          ],
          [
           0.782
          ],
          [
           0.783
          ],
          [
           0.784
          ],
          [
           0.785
          ],
          [
           0.786
          ],
          [
           0.787
          ],
          [
           0.788
          ],
          [
           0.789
          ],
          [
           0.79
          ],
          [
           0.791
          ],
          [
           0.792
          ],
          [
           0.793
          ],
          [
           0.794
          ],
          [
           0.795
          ],
          [
           0.796
          ],
          [
           0.797
          ],
          [
           0.798
          ],
          [
           0.799
          ],
          [
           0.8
          ],
          [
           0.801
          ],
          [
           0.802
          ],
          [
           0.803
          ],
          [
           0.804
          ],
          [
           0.805
          ],
          [
           0.806
          ],
          [
           0.807
          ],
          [
           0.808
          ],
          [
           0.809
          ],
          [
           0.81
          ],
          [
           0.811
          ],
          [
           0.812
          ],
          [
           0.8130000000000001
          ],
          [
           0.8140000000000001
          ],
          [
           0.8150000000000001
          ],
          [
           0.8160000000000001
          ],
          [
           0.8170000000000001
          ],
          [
           0.8180000000000001
          ],
          [
           0.8190000000000001
          ],
          [
           0.8200000000000001
          ],
          [
           0.8210000000000001
          ],
          [
           0.8220000000000001
          ],
          [
           0.8230000000000001
          ],
          [
           0.8240000000000001
          ],
          [
           0.8250000000000001
          ],
          [
           0.8260000000000001
          ],
          [
           0.8270000000000001
          ],
          [
           0.8280000000000001
          ],
          [
           0.8290000000000001
          ],
          [
           0.8300000000000001
          ],
          [
           0.8310000000000001
          ],
          [
           0.8320000000000001
          ],
          [
           0.833
          ],
          [
           0.834
          ],
          [
           0.835
          ],
          [
           0.836
          ],
          [
           0.837
          ],
          [
           0.838
          ],
          [
           0.839
          ],
          [
           0.84
          ],
          [
           0.841
          ],
          [
           0.842
          ],
          [
           0.843
          ],
          [
           0.844
          ],
          [
           0.845
          ],
          [
           0.846
          ],
          [
           0.847
          ],
          [
           0.848
          ],
          [
           0.849
          ],
          [
           0.85
          ],
          [
           0.851
          ],
          [
           0.852
          ],
          [
           0.853
          ],
          [
           0.854
          ],
          [
           0.855
          ],
          [
           0.856
          ],
          [
           0.857
          ],
          [
           0.858
          ],
          [
           0.859
          ],
          [
           0.86
          ],
          [
           0.861
          ],
          [
           0.862
          ],
          [
           0.863
          ],
          [
           0.864
          ],
          [
           0.865
          ],
          [
           0.866
          ],
          [
           0.867
          ],
          [
           0.868
          ],
          [
           0.869
          ],
          [
           0.87
          ],
          [
           0.871
          ],
          [
           0.872
          ],
          [
           0.873
          ],
          [
           0.874
          ],
          [
           0.875
          ],
          [
           0.876
          ],
          [
           0.877
          ],
          [
           0.878
          ],
          [
           0.879
          ],
          [
           0.88
          ],
          [
           0.881
          ],
          [
           0.882
          ],
          [
           0.883
          ],
          [
           0.884
          ],
          [
           0.885
          ],
          [
           0.886
          ],
          [
           0.887
          ],
          [
           0.888
          ],
          [
           0.889
          ],
          [
           0.89
          ],
          [
           0.891
          ],
          [
           0.892
          ],
          [
           0.893
          ],
          [
           0.894
          ],
          [
           0.895
          ],
          [
           0.896
          ],
          [
           0.897
          ],
          [
           0.898
          ],
          [
           0.899
          ],
          [
           0.9
          ],
          [
           0.901
          ],
          [
           0.902
          ],
          [
           0.903
          ],
          [
           0.904
          ],
          [
           0.905
          ],
          [
           0.906
          ],
          [
           0.907
          ],
          [
           0.908
          ],
          [
           0.909
          ],
          [
           0.91
          ],
          [
           0.911
          ],
          [
           0.912
          ],
          [
           0.913
          ],
          [
           0.914
          ],
          [
           0.915
          ],
          [
           0.916
          ],
          [
           0.917
          ],
          [
           0.918
          ],
          [
           0.919
          ],
          [
           0.92
          ],
          [
           0.921
          ],
          [
           0.922
          ],
          [
           0.923
          ],
          [
           0.924
          ],
          [
           0.925
          ],
          [
           0.926
          ],
          [
           0.927
          ],
          [
           0.928
          ],
          [
           0.929
          ],
          [
           0.93
          ],
          [
           0.931
          ],
          [
           0.932
          ],
          [
           0.933
          ],
          [
           0.934
          ],
          [
           0.935
          ],
          [
           0.936
          ],
          [
           0.937
          ],
          [
           0.9380000000000001
          ],
          [
           0.9390000000000001
          ],
          [
           0.9400000000000001
          ],
          [
           0.9410000000000001
          ],
          [
           0.9420000000000001
          ],
          [
           0.9430000000000001
          ],
          [
           0.9440000000000001
          ],
          [
           0.9450000000000001
          ],
          [
           0.9460000000000001
          ],
          [
           0.9470000000000001
          ],
          [
           0.9480000000000001
          ],
          [
           0.9490000000000001
          ],
          [
           0.9500000000000001
          ],
          [
           0.9510000000000001
          ],
          [
           0.9520000000000001
          ],
          [
           0.9530000000000001
          ],
          [
           0.9540000000000001
          ],
          [
           0.9550000000000001
          ],
          [
           0.9560000000000001
          ],
          [
           0.9570000000000001
          ],
          [
           0.9580000000000001
          ],
          [
           0.9590000000000001
          ],
          [
           0.96
          ],
          [
           0.961
          ],
          [
           0.962
          ],
          [
           0.963
          ],
          [
           0.964
          ],
          [
           0.965
          ],
          [
           0.966
          ],
          [
           0.967
          ],
          [
           0.968
          ],
          [
           0.969
          ],
          [
           0.97
          ],
          [
           0.971
          ],
          [
           0.972
          ],
          [
           0.973
          ],
          [
           0.974
          ],
          [
           0.975
          ],
          [
           0.976
          ],
          [
           0.977
          ],
          [
           0.978
          ],
          [
           0.979
          ],
          [
           0.98
          ],
          [
           0.981
          ],
          [
           0.982
          ],
          [
           0.983
          ],
          [
           0.984
          ],
          [
           0.985
          ],
          [
           0.986
          ],
          [
           0.987
          ],
          [
           0.988
          ],
          [
           0.989
          ],
          [
           0.99
          ],
          [
           0.991
          ],
          [
           0.992
          ],
          [
           0.993
          ],
          [
           0.994
          ],
          [
           0.995
          ],
          [
           0.996
          ],
          [
           0.997
          ],
          [
           0.998
          ],
          [
           0.999
          ],
          [
           1
          ],
          [
           0.5
          ],
          [
           0.5
          ],
          [
           0.5
          ],
          [
           0.5
          ],
          [
           0.5
          ],
          [
           0.5
          ],
          [
           0.5
          ],
          [
           0.5
          ],
          [
           0.5
          ],
          [
           0.5
          ],
          [
           0.5
          ],
          [
           0.5
          ],
          [
           0.5
          ],
          [
           0.5
          ],
          [
           0.5
          ],
          [
           0.5
          ],
          [
           0.5
          ],
          [
           0.5
          ],
          [
           0.5
          ],
          [
           0.5
          ],
          [
           0.5
          ],
          [
           0.5
          ],
          [
           0.5
          ],
          [
           0.5
          ],
          [
           0.5
          ],
          [
           0.5
          ],
          [
           0.5
          ],
          [
           0.5
          ],
          [
           0.5
          ],
          [
           0.5
          ],
          [
           0.5
          ],
          [
           0.5
          ],
          [
           0.5
          ],
          [
           0.5
          ],
          [
           0.5
          ],
          [
           0.5
          ],
          [
           0.5
          ],
          [
           0.5
          ],
          [
           0.5
          ],
          [
           0.5
          ],
          [
           0.5
          ],
          [
           0.5
          ],
          [
           0.5
          ],
          [
           0.5
          ],
          [
           0.5
          ],
          [
           0.5
          ],
          [
           0.5
          ],
          [
           0.5
          ],
          [
           0.5
          ],
          [
           0.5
          ],
          [
           0.5
          ],
          [
           0.5
          ],
          [
           0.5
          ],
          [
           0.5
          ],
          [
           0.5
          ],
          [
           0.5
          ],
          [
           0.5
          ],
          [
           0.5
          ],
          [
           0.5
          ],
          [
           0.5
          ],
          [
           0.5
          ],
          [
           0.5
          ],
          [
           0.5
          ],
          [
           0.5
          ],
          [
           0.5
          ],
          [
           0.5
          ],
          [
           0.5
          ],
          [
           0.5
          ],
          [
           0.5
          ],
          [
           0.5
          ],
          [
           0.5
          ],
          [
           0.5
          ],
          [
           0.5
          ],
          [
           0.5
          ],
          [
           0.5
          ],
          [
           0.5
          ],
          [
           0.5
          ],
          [
           0.5
          ],
          [
           0.5
          ],
          [
           0.5
          ],
          [
           0.5
          ],
          [
           0.5
          ],
          [
           0.5
          ],
          [
           0.5
          ],
          [
           0.5
          ],
          [
           0.5
          ],
          [
           0.5
          ],
          [
           0.5
          ],
          [
           0.5
          ],
          [
           0.5
          ],
          [
           0.5
          ],
          [
           0.5
          ],
          [
           0.5
          ],
          [
           0.5
          ],
          [
           0.5
          ],
          [
           0.5
          ],
          [
           0.5
          ],
          [
           0.5
          ],
          [
           0.5
          ],
          [
           0.5
          ],
          [
           0.5
          ],
          [
           0.5
          ],
          [
           0.5
          ],
          [
           0.5
          ],
          [
           0.5
          ],
          [
           0.5
          ],
          [
           0.5
          ],
          [
           0.5
          ],
          [
           0.5
          ],
          [
           0.5
          ],
          [
           0.5
          ],
          [
           0.5
          ],
          [
           0.5
          ],
          [
           0.5
          ],
          [
           0.5
          ],
          [
           0.5
          ],
          [
           0.5
          ],
          [
           0.5
          ],
          [
           0.5
          ],
          [
           0.5
          ],
          [
           0.5
          ],
          [
           0.5
          ],
          [
           0.5
          ],
          [
           0.5
          ],
          [
           0.5
          ],
          [
           0.5
          ],
          [
           0.5
          ],
          [
           0.5
          ],
          [
           0.5
          ],
          [
           0.5
          ],
          [
           0.5
          ],
          [
           0.5
          ],
          [
           0.5
          ],
          [
           0.5
          ],
          [
           0.5
          ],
          [
           0.5
          ],
          [
           0.5
          ],
          [
           0.5
          ],
          [
           0.5
          ],
          [
           0.5
          ],
          [
           0.5
          ],
          [
           0.5
          ],
          [
           0.5
          ],
          [
           0.5
          ],
          [
           0.5
          ],
          [
           0.5
          ],
          [
           0.5
          ],
          [
           0.5
          ],
          [
           0.5
          ],
          [
           0.5
          ],
          [
           0.5
          ],
          [
           0.5
          ],
          [
           0.5
          ],
          [
           0.5
          ],
          [
           0.5
          ],
          [
           0.5
          ],
          [
           0.5
          ],
          [
           0.5
          ],
          [
           0.5
          ],
          [
           0.5
          ],
          [
           0.5
          ],
          [
           0.5
          ],
          [
           0.5
          ],
          [
           0.5
          ],
          [
           0.5
          ],
          [
           0.5
          ],
          [
           0.5
          ],
          [
           0.5
          ],
          [
           0.5
          ],
          [
           0.5
          ],
          [
           0.5
          ],
          [
           0.5
          ],
          [
           0.5
          ],
          [
           0.5
          ],
          [
           0.5
          ],
          [
           0.5
          ],
          [
           0.5
          ],
          [
           0.5
          ],
          [
           0.5
          ],
          [
           0.5
          ],
          [
           0.5
          ],
          [
           0.5
          ],
          [
           0.5
          ],
          [
           0.5
          ],
          [
           0.5
          ],
          [
           0.5
          ],
          [
           0.5
          ],
          [
           0.5
          ],
          [
           0.5
          ],
          [
           0.5
          ],
          [
           0.5
          ],
          [
           0.5
          ],
          [
           0.5
          ],
          [
           0.5
          ],
          [
           0.5
          ],
          [
           0.5
          ],
          [
           0.5
          ],
          [
           0.5
          ],
          [
           0.5
          ],
          [
           0.5
          ],
          [
           0.5
          ],
          [
           0.5
          ],
          [
           0.5
          ],
          [
           0.5
          ],
          [
           0.5
          ],
          [
           0.5
          ],
          [
           0.5
          ],
          [
           0.5
          ],
          [
           0.5
          ],
          [
           0.5
          ],
          [
           0.5
          ],
          [
           0.5
          ],
          [
           0.5
          ],
          [
           0.5
          ],
          [
           0.5
          ],
          [
           0.5
          ],
          [
           0.5
          ],
          [
           0.5
          ],
          [
           0.5
          ],
          [
           0.5
          ],
          [
           0.5
          ],
          [
           0.5
          ],
          [
           0.5
          ],
          [
           0.5
          ],
          [
           0.5
          ],
          [
           0.5
          ],
          [
           0.5
          ],
          [
           0.5
          ],
          [
           0.5
          ],
          [
           0.5
          ],
          [
           0.5
          ],
          [
           0.5
          ],
          [
           0.5
          ],
          [
           0.5
          ],
          [
           0.5
          ],
          [
           0.5
          ],
          [
           0.5
          ],
          [
           0.5
          ],
          [
           0.5
          ],
          [
           0.5
          ],
          [
           0.5
          ],
          [
           0.5
          ],
          [
           0.5
          ],
          [
           0.5
          ],
          [
           0.5
          ],
          [
           0.5
          ],
          [
           0.5
          ],
          [
           0.5
          ],
          [
           0.5
          ],
          [
           0.5
          ],
          [
           0.5010000000000001
          ],
          [
           0.502
          ],
          [
           0.5030000000000001
          ],
          [
           0.504
          ],
          [
           0.5050000000000001
          ],
          [
           0.506
          ],
          [
           0.5070000000000001
          ],
          [
           0.508
          ],
          [
           0.5090000000000001
          ],
          [
           0.51
          ],
          [
           0.5110000000000001
          ],
          [
           0.512
          ],
          [
           0.5130000000000001
          ],
          [
           0.514
          ],
          [
           0.5150000000000001
          ],
          [
           0.516
          ],
          [
           0.5170000000000001
          ],
          [
           0.518
          ],
          [
           0.5190000000000001
          ],
          [
           0.52
          ],
          [
           0.5210000000000001
          ],
          [
           0.522
          ],
          [
           0.5230000000000001
          ],
          [
           0.524
          ],
          [
           0.5250000000000001
          ],
          [
           0.526
          ],
          [
           0.5270000000000001
          ],
          [
           0.528
          ],
          [
           0.5290000000000001
          ],
          [
           0.53
          ],
          [
           0.5309999999999999
          ],
          [
           0.532
          ],
          [
           0.5329999999999999
          ],
          [
           0.534
          ],
          [
           0.5349999999999999
          ],
          [
           0.536
          ],
          [
           0.5369999999999999
          ],
          [
           0.538
          ],
          [
           0.5389999999999999
          ],
          [
           0.54
          ],
          [
           0.5409999999999999
          ],
          [
           0.542
          ],
          [
           0.5429999999999999
          ],
          [
           0.544
          ],
          [
           0.5449999999999999
          ],
          [
           0.546
          ],
          [
           0.5469999999999999
          ],
          [
           0.548
          ],
          [
           0.5489999999999999
          ],
          [
           0.55
          ],
          [
           0.5509999999999999
          ],
          [
           0.552
          ],
          [
           0.5529999999999999
          ],
          [
           0.554
          ],
          [
           0.5549999999999999
          ],
          [
           0.556
          ],
          [
           0.5569999999999999
          ],
          [
           0.558
          ],
          [
           0.5589999999999999
          ],
          [
           0.56
          ],
          [
           0.5609999999999999
          ],
          [
           0.562
          ],
          [
           0.563
          ],
          [
           0.5640000000000001
          ],
          [
           0.565
          ],
          [
           0.5660000000000001
          ],
          [
           0.567
          ],
          [
           0.5680000000000001
          ],
          [
           0.569
          ],
          [
           0.5700000000000001
          ],
          [
           0.571
          ],
          [
           0.5720000000000001
          ],
          [
           0.573
          ],
          [
           0.5740000000000001
          ],
          [
           0.575
          ],
          [
           0.5760000000000001
          ],
          [
           0.577
          ],
          [
           0.5780000000000001
          ],
          [
           0.579
          ],
          [
           0.5800000000000001
          ],
          [
           0.581
          ],
          [
           0.5820000000000001
          ],
          [
           0.583
          ],
          [
           0.5840000000000001
          ],
          [
           0.585
          ],
          [
           0.5860000000000001
          ],
          [
           0.587
          ],
          [
           0.5880000000000001
          ],
          [
           0.589
          ],
          [
           0.5900000000000001
          ],
          [
           0.591
          ],
          [
           0.5920000000000001
          ],
          [
           0.593
          ],
          [
           0.5940000000000001
          ],
          [
           0.595
          ],
          [
           0.5960000000000001
          ],
          [
           0.597
          ],
          [
           0.5980000000000001
          ],
          [
           0.599
          ],
          [
           0.6000000000000001
          ],
          [
           0.601
          ],
          [
           0.6020000000000001
          ],
          [
           0.603
          ],
          [
           0.6040000000000001
          ],
          [
           0.605
          ],
          [
           0.6060000000000001
          ],
          [
           0.607
          ],
          [
           0.6080000000000001
          ],
          [
           0.609
          ],
          [
           0.6100000000000001
          ],
          [
           0.611
          ],
          [
           0.6120000000000001
          ],
          [
           0.613
          ],
          [
           0.6140000000000001
          ],
          [
           0.615
          ],
          [
           0.6160000000000001
          ],
          [
           0.617
          ],
          [
           0.6180000000000001
          ],
          [
           0.619
          ],
          [
           0.6200000000000001
          ],
          [
           0.621
          ],
          [
           0.6220000000000001
          ],
          [
           0.623
          ],
          [
           0.6240000000000001
          ],
          [
           0.625
          ],
          [
           0.6260000000000001
          ],
          [
           0.627
          ],
          [
           0.6280000000000001
          ],
          [
           0.629
          ],
          [
           0.6300000000000001
          ],
          [
           0.631
          ],
          [
           0.6320000000000001
          ],
          [
           0.633
          ],
          [
           0.6340000000000001
          ],
          [
           0.635
          ],
          [
           0.6360000000000001
          ],
          [
           0.637
          ],
          [
           0.6380000000000001
          ],
          [
           0.639
          ],
          [
           0.6400000000000001
          ],
          [
           0.641
          ],
          [
           0.6420000000000001
          ],
          [
           0.643
          ],
          [
           0.6440000000000001
          ],
          [
           0.645
          ],
          [
           0.6460000000000001
          ],
          [
           0.647
          ],
          [
           0.6480000000000001
          ],
          [
           0.649
          ],
          [
           0.6500000000000001
          ],
          [
           0.651
          ],
          [
           0.6520000000000001
          ],
          [
           0.653
          ],
          [
           0.6540000000000001
          ],
          [
           0.655
          ],
          [
           0.6560000000000001
          ],
          [
           0.657
          ],
          [
           0.6579999999999999
          ],
          [
           0.659
          ],
          [
           0.6599999999999999
          ],
          [
           0.661
          ],
          [
           0.6619999999999999
          ],
          [
           0.663
          ],
          [
           0.6639999999999999
          ],
          [
           0.665
          ],
          [
           0.6659999999999999
          ],
          [
           0.667
          ],
          [
           0.6679999999999999
          ],
          [
           0.669
          ],
          [
           0.6699999999999999
          ],
          [
           0.671
          ],
          [
           0.6719999999999999
          ],
          [
           0.673
          ],
          [
           0.6739999999999999
          ],
          [
           0.675
          ],
          [
           0.6759999999999999
          ],
          [
           0.677
          ],
          [
           0.6779999999999999
          ],
          [
           0.679
          ],
          [
           0.6799999999999999
          ],
          [
           0.681
          ],
          [
           0.6819999999999999
          ],
          [
           0.683
          ],
          [
           0.6839999999999999
          ],
          [
           0.685
          ],
          [
           0.6859999999999999
          ],
          [
           0.687
          ],
          [
           0.688
          ],
          [
           0.6890000000000001
          ],
          [
           0.69
          ],
          [
           0.6910000000000001
          ],
          [
           0.692
          ],
          [
           0.6930000000000001
          ],
          [
           0.694
          ],
          [
           0.6950000000000001
          ],
          [
           0.696
          ],
          [
           0.6970000000000001
          ],
          [
           0.698
          ],
          [
           0.6990000000000001
          ],
          [
           0.7
          ],
          [
           0.7010000000000001
          ],
          [
           0.702
          ],
          [
           0.7030000000000001
          ],
          [
           0.704
          ],
          [
           0.7050000000000001
          ],
          [
           0.706
          ],
          [
           0.7070000000000001
          ],
          [
           0.708
          ],
          [
           0.7090000000000001
          ],
          [
           0.71
          ],
          [
           0.7110000000000001
          ],
          [
           0.712
          ],
          [
           0.7130000000000001
          ],
          [
           0.714
          ],
          [
           0.7150000000000001
          ],
          [
           0.716
          ],
          [
           0.7170000000000001
          ],
          [
           0.718
          ],
          [
           0.7190000000000001
          ],
          [
           0.72
          ],
          [
           0.7210000000000001
          ],
          [
           0.722
          ],
          [
           0.7230000000000001
          ],
          [
           0.724
          ],
          [
           0.7250000000000001
          ],
          [
           0.726
          ],
          [
           0.7270000000000001
          ],
          [
           0.728
          ],
          [
           0.7290000000000001
          ],
          [
           0.73
          ],
          [
           0.7310000000000001
          ],
          [
           0.732
          ],
          [
           0.7330000000000001
          ],
          [
           0.734
          ],
          [
           0.7350000000000001
          ],
          [
           0.736
          ],
          [
           0.7370000000000001
          ],
          [
           0.738
          ],
          [
           0.7390000000000001
          ],
          [
           0.74
          ],
          [
           0.7410000000000001
          ],
          [
           0.742
          ],
          [
           0.7430000000000001
          ],
          [
           0.744
          ],
          [
           0.7450000000000001
          ],
          [
           0.746
          ],
          [
           0.7470000000000001
          ],
          [
           0.748
          ],
          [
           0.7490000000000001
          ],
          [
           0.75
          ],
          [
           0.7510000000000001
          ],
          [
           0.752
          ],
          [
           0.7530000000000001
          ],
          [
           0.754
          ],
          [
           0.7550000000000001
          ],
          [
           0.756
          ],
          [
           0.7570000000000001
          ],
          [
           0.758
          ],
          [
           0.7590000000000001
          ],
          [
           0.76
          ],
          [
           0.7610000000000001
          ],
          [
           0.762
          ],
          [
           0.7630000000000001
          ],
          [
           0.764
          ],
          [
           0.7650000000000001
          ],
          [
           0.766
          ],
          [
           0.7670000000000001
          ],
          [
           0.768
          ],
          [
           0.7690000000000001
          ],
          [
           0.77
          ],
          [
           0.7710000000000001
          ],
          [
           0.772
          ],
          [
           0.7730000000000001
          ],
          [
           0.774
          ],
          [
           0.7750000000000001
          ],
          [
           0.776
          ],
          [
           0.7770000000000001
          ],
          [
           0.778
          ],
          [
           0.7790000000000001
          ],
          [
           0.78
          ],
          [
           0.7810000000000001
          ],
          [
           0.782
          ],
          [
           0.7830000000000001
          ],
          [
           0.784
          ],
          [
           0.7850000000000001
          ],
          [
           0.786
          ],
          [
           0.7869999999999999
          ],
          [
           0.788
          ],
          [
           0.7889999999999999
          ],
          [
           0.79
          ],
          [
           0.7909999999999999
          ],
          [
           0.792
          ],
          [
           0.7929999999999999
          ],
          [
           0.794
          ],
          [
           0.7949999999999999
          ],
          [
           0.796
          ],
          [
           0.7969999999999999
          ],
          [
           0.798
          ],
          [
           0.7989999999999999
          ],
          [
           0.8
          ],
          [
           0.8009999999999999
          ],
          [
           0.802
          ],
          [
           0.8029999999999999
          ],
          [
           0.804
          ],
          [
           0.8049999999999999
          ],
          [
           0.806
          ],
          [
           0.8069999999999999
          ],
          [
           0.808
          ],
          [
           0.8089999999999999
          ],
          [
           0.81
          ],
          [
           0.8109999999999999
          ],
          [
           0.812
          ],
          [
           0.813
          ],
          [
           0.8140000000000001
          ],
          [
           0.815
          ],
          [
           0.8160000000000001
          ],
          [
           0.817
          ],
          [
           0.8180000000000001
          ],
          [
           0.819
          ],
          [
           0.8200000000000001
          ],
          [
           0.821
          ],
          [
           0.8220000000000001
          ],
          [
           0.823
          ],
          [
           0.8240000000000001
          ],
          [
           0.825
          ],
          [
           0.8260000000000001
          ],
          [
           0.827
          ],
          [
           0.8280000000000001
          ],
          [
           0.829
          ],
          [
           0.8300000000000001
          ],
          [
           0.831
          ],
          [
           0.8320000000000001
          ],
          [
           0.833
          ],
          [
           0.8340000000000001
          ],
          [
           0.835
          ],
          [
           0.8360000000000001
          ],
          [
           0.837
          ],
          [
           0.8380000000000001
          ],
          [
           0.839
          ],
          [
           0.8400000000000001
          ],
          [
           0.841
          ],
          [
           0.8420000000000001
          ],
          [
           0.843
          ],
          [
           0.8440000000000001
          ],
          [
           0.845
          ],
          [
           0.8460000000000001
          ],
          [
           0.847
          ],
          [
           0.8480000000000001
          ],
          [
           0.849
          ],
          [
           0.8500000000000001
          ],
          [
           0.851
          ],
          [
           0.8520000000000001
          ],
          [
           0.853
          ],
          [
           0.8540000000000001
          ],
          [
           0.855
          ],
          [
           0.8560000000000001
          ],
          [
           0.857
          ],
          [
           0.8580000000000001
          ],
          [
           0.859
          ],
          [
           0.8600000000000001
          ],
          [
           0.861
          ],
          [
           0.8620000000000001
          ],
          [
           0.863
          ],
          [
           0.8640000000000001
          ],
          [
           0.865
          ],
          [
           0.8660000000000001
          ],
          [
           0.867
          ],
          [
           0.8680000000000001
          ],
          [
           0.869
          ],
          [
           0.8700000000000001
          ],
          [
           0.871
          ],
          [
           0.8720000000000001
          ],
          [
           0.873
          ],
          [
           0.8740000000000001
          ],
          [
           0.875
          ],
          [
           0.8760000000000001
          ],
          [
           0.877
          ],
          [
           0.8780000000000001
          ],
          [
           0.879
          ],
          [
           0.8800000000000001
          ],
          [
           0.881
          ],
          [
           0.8820000000000001
          ],
          [
           0.883
          ],
          [
           0.8840000000000001
          ],
          [
           0.885
          ],
          [
           0.8860000000000001
          ],
          [
           0.887
          ],
          [
           0.8880000000000001
          ],
          [
           0.889
          ],
          [
           0.8900000000000001
          ],
          [
           0.891
          ],
          [
           0.8920000000000001
          ],
          [
           0.893
          ],
          [
           0.8940000000000001
          ],
          [
           0.895
          ],
          [
           0.8960000000000001
          ],
          [
           0.897
          ],
          [
           0.8980000000000001
          ],
          [
           0.899
          ],
          [
           0.9000000000000001
          ],
          [
           0.901
          ],
          [
           0.9020000000000001
          ],
          [
           0.903
          ],
          [
           0.9040000000000001
          ],
          [
           0.905
          ],
          [
           0.9060000000000001
          ],
          [
           0.907
          ],
          [
           0.9080000000000001
          ],
          [
           0.909
          ],
          [
           0.9100000000000001
          ],
          [
           0.911
          ],
          [
           0.9120000000000001
          ],
          [
           0.913
          ],
          [
           0.9140000000000001
          ],
          [
           0.915
          ],
          [
           0.9159999999999999
          ],
          [
           0.917
          ],
          [
           0.9179999999999999
          ],
          [
           0.919
          ],
          [
           0.9199999999999999
          ],
          [
           0.921
          ],
          [
           0.9219999999999999
          ],
          [
           0.923
          ],
          [
           0.9239999999999999
          ],
          [
           0.925
          ],
          [
           0.9259999999999999
          ],
          [
           0.927
          ],
          [
           0.9279999999999999
          ],
          [
           0.929
          ],
          [
           0.9299999999999999
          ],
          [
           0.931
          ],
          [
           0.9319999999999999
          ],
          [
           0.933
          ],
          [
           0.9339999999999999
          ],
          [
           0.935
          ],
          [
           0.9359999999999999
          ],
          [
           0.937
          ],
          [
           0.938
          ],
          [
           0.9390000000000001
          ],
          [
           0.94
          ],
          [
           0.9410000000000001
          ],
          [
           0.942
          ],
          [
           0.9430000000000001
          ],
          [
           0.944
          ],
          [
           0.9450000000000001
          ],
          [
           0.946
          ],
          [
           0.9470000000000001
          ],
          [
           0.948
          ],
          [
           0.9490000000000001
          ],
          [
           0.95
          ],
          [
           0.9510000000000001
          ],
          [
           0.952
          ],
          [
           0.9530000000000001
          ],
          [
           0.954
          ],
          [
           0.9550000000000001
          ],
          [
           0.956
          ],
          [
           0.9570000000000001
          ],
          [
           0.958
          ],
          [
           0.9590000000000001
          ],
          [
           0.96
          ],
          [
           0.9610000000000001
          ],
          [
           0.962
          ],
          [
           0.9630000000000001
          ],
          [
           0.964
          ],
          [
           0.9650000000000001
          ],
          [
           0.966
          ],
          [
           0.9670000000000001
          ],
          [
           0.968
          ],
          [
           0.9690000000000001
          ],
          [
           0.97
          ],
          [
           0.9710000000000001
          ],
          [
           0.972
          ],
          [
           0.9730000000000001
          ],
          [
           0.974
          ],
          [
           0.9750000000000001
          ],
          [
           0.976
          ],
          [
           0.9770000000000001
          ],
          [
           0.978
          ],
          [
           0.9790000000000001
          ],
          [
           0.98
          ],
          [
           0.9810000000000001
          ],
          [
           0.982
          ],
          [
           0.9830000000000001
          ],
          [
           0.984
          ],
          [
           0.9850000000000001
          ],
          [
           0.986
          ],
          [
           0.9870000000000001
          ],
          [
           0.988
          ],
          [
           0.9890000000000001
          ],
          [
           0.99
          ],
          [
           0.9910000000000001
          ],
          [
           0.992
          ],
          [
           0.9930000000000001
          ],
          [
           0.994
          ],
          [
           0.9950000000000001
          ],
          [
           0.996
          ],
          [
           0.9970000000000001
          ],
          [
           0.998
          ],
          [
           0.9990000000000001
          ],
          [
           1
          ],
          [
           null
          ],
          [
           null
          ],
          [
           null
          ],
          [
           null
          ],
          [
           null
          ],
          [
           null
          ],
          [
           null
          ],
          [
           null
          ],
          [
           null
          ],
          [
           null
          ],
          [
           null
          ],
          [
           null
          ],
          [
           null
          ],
          [
           null
          ],
          [
           null
          ],
          [
           null
          ],
          [
           null
          ],
          [
           null
          ],
          [
           null
          ],
          [
           null
          ],
          [
           null
          ],
          [
           null
          ],
          [
           null
          ],
          [
           null
          ],
          [
           null
          ],
          [
           null
          ],
          [
           null
          ],
          [
           null
          ],
          [
           null
          ],
          [
           null
          ],
          [
           null
          ],
          [
           null
          ],
          [
           null
          ],
          [
           null
          ],
          [
           null
          ],
          [
           null
          ],
          [
           null
          ],
          [
           null
          ],
          [
           null
          ],
          [
           null
          ],
          [
           null
          ],
          [
           null
          ],
          [
           null
          ],
          [
           null
          ],
          [
           null
          ],
          [
           null
          ],
          [
           null
          ],
          [
           null
          ],
          [
           null
          ],
          [
           null
          ],
          [
           null
          ],
          [
           null
          ],
          [
           null
          ],
          [
           null
          ],
          [
           null
          ],
          [
           null
          ],
          [
           null
          ],
          [
           null
          ],
          [
           null
          ],
          [
           null
          ],
          [
           null
          ],
          [
           null
          ],
          [
           null
          ],
          [
           null
          ],
          [
           null
          ],
          [
           null
          ],
          [
           null
          ],
          [
           null
          ],
          [
           null
          ],
          [
           null
          ],
          [
           null
          ],
          [
           null
          ],
          [
           null
          ],
          [
           null
          ],
          [
           null
          ],
          [
           null
          ],
          [
           null
          ],
          [
           null
          ],
          [
           null
          ],
          [
           null
          ],
          [
           null
          ],
          [
           null
          ],
          [
           null
          ],
          [
           null
          ],
          [
           null
          ],
          [
           null
          ],
          [
           null
          ],
          [
           null
          ],
          [
           null
          ],
          [
           null
          ],
          [
           null
          ],
          [
           null
          ],
          [
           null
          ],
          [
           null
          ],
          [
           null
          ],
          [
           null
          ],
          [
           null
          ],
          [
           null
          ],
          [
           null
          ],
          [
           null
          ],
          [
           null
          ],
          [
           null
          ],
          [
           null
          ],
          [
           null
          ],
          [
           null
          ],
          [
           null
          ],
          [
           null
          ],
          [
           null
          ],
          [
           null
          ],
          [
           null
          ],
          [
           null
          ],
          [
           null
          ],
          [
           null
          ],
          [
           null
          ],
          [
           null
          ],
          [
           null
          ],
          [
           null
          ],
          [
           null
          ],
          [
           null
          ],
          [
           null
          ],
          [
           null
          ],
          [
           null
          ],
          [
           null
          ],
          [
           null
          ],
          [
           null
          ],
          [
           null
          ],
          [
           null
          ],
          [
           null
          ],
          [
           null
          ],
          [
           null
          ],
          [
           null
          ],
          [
           null
          ],
          [
           null
          ],
          [
           null
          ],
          [
           null
          ],
          [
           null
          ],
          [
           null
          ],
          [
           null
          ],
          [
           null
          ],
          [
           null
          ],
          [
           null
          ],
          [
           null
          ],
          [
           null
          ],
          [
           null
          ],
          [
           null
          ],
          [
           null
          ],
          [
           null
          ],
          [
           null
          ],
          [
           null
          ],
          [
           null
          ],
          [
           null
          ],
          [
           null
          ],
          [
           null
          ],
          [
           null
          ],
          [
           null
          ],
          [
           null
          ],
          [
           null
          ],
          [
           null
          ],
          [
           null
          ],
          [
           null
          ],
          [
           null
          ],
          [
           null
          ],
          [
           null
          ],
          [
           null
          ],
          [
           null
          ],
          [
           null
          ],
          [
           null
          ],
          [
           null
          ],
          [
           null
          ],
          [
           null
          ],
          [
           null
          ],
          [
           null
          ],
          [
           null
          ],
          [
           null
          ],
          [
           null
          ]
         ],
         "fillpattern": {
          "shape": ""
         },
         "hovertemplate": "<b>%{hovertext}</b><br><br>Compressors=Compressor 1<br>Qtot=%{x}<br>q=%{y}<br>w=%{customdata[0]}<extra></extra>",
         "hovertext": [
          "Compressor 1",
          "Compressor 1",
          "Compressor 1",
          "Compressor 1",
          "Compressor 1",
          "Compressor 1",
          "Compressor 1",
          "Compressor 1",
          "Compressor 1",
          "Compressor 1",
          "Compressor 1",
          "Compressor 1",
          "Compressor 1",
          "Compressor 1",
          "Compressor 1",
          "Compressor 1",
          "Compressor 1",
          "Compressor 1",
          "Compressor 1",
          "Compressor 1",
          "Compressor 1",
          "Compressor 1",
          "Compressor 1",
          "Compressor 1",
          "Compressor 1",
          "Compressor 1",
          "Compressor 1",
          "Compressor 1",
          "Compressor 1",
          "Compressor 1",
          "Compressor 1",
          "Compressor 1",
          "Compressor 1",
          "Compressor 1",
          "Compressor 1",
          "Compressor 1",
          "Compressor 1",
          "Compressor 1",
          "Compressor 1",
          "Compressor 1",
          "Compressor 1",
          "Compressor 1",
          "Compressor 1",
          "Compressor 1",
          "Compressor 1",
          "Compressor 1",
          "Compressor 1",
          "Compressor 1",
          "Compressor 1",
          "Compressor 1",
          "Compressor 1",
          "Compressor 1",
          "Compressor 1",
          "Compressor 1",
          "Compressor 1",
          "Compressor 1",
          "Compressor 1",
          "Compressor 1",
          "Compressor 1",
          "Compressor 1",
          "Compressor 1",
          "Compressor 1",
          "Compressor 1",
          "Compressor 1",
          "Compressor 1",
          "Compressor 1",
          "Compressor 1",
          "Compressor 1",
          "Compressor 1",
          "Compressor 1",
          "Compressor 1",
          "Compressor 1",
          "Compressor 1",
          "Compressor 1",
          "Compressor 1",
          "Compressor 1",
          "Compressor 1",
          "Compressor 1",
          "Compressor 1",
          "Compressor 1",
          "Compressor 1",
          "Compressor 1",
          "Compressor 1",
          "Compressor 1",
          "Compressor 1",
          "Compressor 1",
          "Compressor 1",
          "Compressor 1",
          "Compressor 1",
          "Compressor 1",
          "Compressor 1",
          "Compressor 1",
          "Compressor 1",
          "Compressor 1",
          "Compressor 1",
          "Compressor 1",
          "Compressor 1",
          "Compressor 1",
          "Compressor 1",
          "Compressor 1",
          "Compressor 1",
          "Compressor 1",
          "Compressor 1",
          "Compressor 1",
          "Compressor 1",
          "Compressor 1",
          "Compressor 1",
          "Compressor 1",
          "Compressor 1",
          "Compressor 1",
          "Compressor 1",
          "Compressor 1",
          "Compressor 1",
          "Compressor 1",
          "Compressor 1",
          "Compressor 1",
          "Compressor 1",
          "Compressor 1",
          "Compressor 1",
          "Compressor 1",
          "Compressor 1",
          "Compressor 1",
          "Compressor 1",
          "Compressor 1",
          "Compressor 1",
          "Compressor 1",
          "Compressor 1",
          "Compressor 1",
          "Compressor 1",
          "Compressor 1",
          "Compressor 1",
          "Compressor 1",
          "Compressor 1",
          "Compressor 1",
          "Compressor 1",
          "Compressor 1",
          "Compressor 1",
          "Compressor 1",
          "Compressor 1",
          "Compressor 1",
          "Compressor 1",
          "Compressor 1",
          "Compressor 1",
          "Compressor 1",
          "Compressor 1",
          "Compressor 1",
          "Compressor 1",
          "Compressor 1",
          "Compressor 1",
          "Compressor 1",
          "Compressor 1",
          "Compressor 1",
          "Compressor 1",
          "Compressor 1",
          "Compressor 1",
          "Compressor 1",
          "Compressor 1",
          "Compressor 1",
          "Compressor 1",
          "Compressor 1",
          "Compressor 1",
          "Compressor 1",
          "Compressor 1",
          "Compressor 1",
          "Compressor 1",
          "Compressor 1",
          "Compressor 1",
          "Compressor 1",
          "Compressor 1",
          "Compressor 1",
          "Compressor 1",
          "Compressor 1",
          "Compressor 1",
          "Compressor 1",
          "Compressor 1",
          "Compressor 1",
          "Compressor 1",
          "Compressor 1",
          "Compressor 1",
          "Compressor 1",
          "Compressor 1",
          "Compressor 1",
          "Compressor 1",
          "Compressor 1",
          "Compressor 1",
          "Compressor 1",
          "Compressor 1",
          "Compressor 1",
          "Compressor 1",
          "Compressor 1",
          "Compressor 1",
          "Compressor 1",
          "Compressor 1",
          "Compressor 1",
          "Compressor 1",
          "Compressor 1",
          "Compressor 1",
          "Compressor 1",
          "Compressor 1",
          "Compressor 1",
          "Compressor 1",
          "Compressor 1",
          "Compressor 1",
          "Compressor 1",
          "Compressor 1",
          "Compressor 1",
          "Compressor 1",
          "Compressor 1",
          "Compressor 1",
          "Compressor 1",
          "Compressor 1",
          "Compressor 1",
          "Compressor 1",
          "Compressor 1",
          "Compressor 1",
          "Compressor 1",
          "Compressor 1",
          "Compressor 1",
          "Compressor 1",
          "Compressor 1",
          "Compressor 1",
          "Compressor 1",
          "Compressor 1",
          "Compressor 1",
          "Compressor 1",
          "Compressor 1",
          "Compressor 1",
          "Compressor 1",
          "Compressor 1",
          "Compressor 1",
          "Compressor 1",
          "Compressor 1",
          "Compressor 1",
          "Compressor 1",
          "Compressor 1",
          "Compressor 1",
          "Compressor 1",
          "Compressor 1",
          "Compressor 1",
          "Compressor 1",
          "Compressor 1",
          "Compressor 1",
          "Compressor 1",
          "Compressor 1",
          "Compressor 1",
          "Compressor 1",
          "Compressor 1",
          "Compressor 1",
          "Compressor 1",
          "Compressor 1",
          "Compressor 1",
          "Compressor 1",
          "Compressor 1",
          "Compressor 1",
          "Compressor 1",
          "Compressor 1",
          "Compressor 1",
          "Compressor 1",
          "Compressor 1",
          "Compressor 1",
          "Compressor 1",
          "Compressor 1",
          "Compressor 1",
          "Compressor 1",
          "Compressor 1",
          "Compressor 1",
          "Compressor 1",
          "Compressor 1",
          "Compressor 1",
          "Compressor 1",
          "Compressor 1",
          "Compressor 1",
          "Compressor 1",
          "Compressor 1",
          "Compressor 1",
          "Compressor 1",
          "Compressor 1",
          "Compressor 1",
          "Compressor 1",
          "Compressor 1",
          "Compressor 1",
          "Compressor 1",
          "Compressor 1",
          "Compressor 1",
          "Compressor 1",
          "Compressor 1",
          "Compressor 1",
          "Compressor 1",
          "Compressor 1",
          "Compressor 1",
          "Compressor 1",
          "Compressor 1",
          "Compressor 1",
          "Compressor 1",
          "Compressor 1",
          "Compressor 1",
          "Compressor 1",
          "Compressor 1",
          "Compressor 1",
          "Compressor 1",
          "Compressor 1",
          "Compressor 1",
          "Compressor 1",
          "Compressor 1",
          "Compressor 1",
          "Compressor 1",
          "Compressor 1",
          "Compressor 1",
          "Compressor 1",
          "Compressor 1",
          "Compressor 1",
          "Compressor 1",
          "Compressor 1",
          "Compressor 1",
          "Compressor 1",
          "Compressor 1",
          "Compressor 1",
          "Compressor 1",
          "Compressor 1",
          "Compressor 1",
          "Compressor 1",
          "Compressor 1",
          "Compressor 1",
          "Compressor 1",
          "Compressor 1",
          "Compressor 1",
          "Compressor 1",
          "Compressor 1",
          "Compressor 1",
          "Compressor 1",
          "Compressor 1",
          "Compressor 1",
          "Compressor 1",
          "Compressor 1",
          "Compressor 1",
          "Compressor 1",
          "Compressor 1",
          "Compressor 1",
          "Compressor 1",
          "Compressor 1",
          "Compressor 1",
          "Compressor 1",
          "Compressor 1",
          "Compressor 1",
          "Compressor 1",
          "Compressor 1",
          "Compressor 1",
          "Compressor 1",
          "Compressor 1",
          "Compressor 1",
          "Compressor 1",
          "Compressor 1",
          "Compressor 1",
          "Compressor 1",
          "Compressor 1",
          "Compressor 1",
          "Compressor 1",
          "Compressor 1",
          "Compressor 1",
          "Compressor 1",
          "Compressor 1",
          "Compressor 1",
          "Compressor 1",
          "Compressor 1",
          "Compressor 1",
          "Compressor 1",
          "Compressor 1",
          "Compressor 1",
          "Compressor 1",
          "Compressor 1",
          "Compressor 1",
          "Compressor 1",
          "Compressor 1",
          "Compressor 1",
          "Compressor 1",
          "Compressor 1",
          "Compressor 1",
          "Compressor 1",
          "Compressor 1",
          "Compressor 1",
          "Compressor 1",
          "Compressor 1",
          "Compressor 1",
          "Compressor 1",
          "Compressor 1",
          "Compressor 1",
          "Compressor 1",
          "Compressor 1",
          "Compressor 1",
          "Compressor 1",
          "Compressor 1",
          "Compressor 1",
          "Compressor 1",
          "Compressor 1",
          "Compressor 1",
          "Compressor 1",
          "Compressor 1",
          "Compressor 1",
          "Compressor 1",
          "Compressor 1",
          "Compressor 1",
          "Compressor 1",
          "Compressor 1",
          "Compressor 1",
          "Compressor 1",
          "Compressor 1",
          "Compressor 1",
          "Compressor 1",
          "Compressor 1",
          "Compressor 1",
          "Compressor 1",
          "Compressor 1",
          "Compressor 1",
          "Compressor 1",
          "Compressor 1",
          "Compressor 1",
          "Compressor 1",
          "Compressor 1",
          "Compressor 1",
          "Compressor 1",
          "Compressor 1",
          "Compressor 1",
          "Compressor 1",
          "Compressor 1",
          "Compressor 1",
          "Compressor 1",
          "Compressor 1",
          "Compressor 1",
          "Compressor 1",
          "Compressor 1",
          "Compressor 1",
          "Compressor 1",
          "Compressor 1",
          "Compressor 1",
          "Compressor 1",
          "Compressor 1",
          "Compressor 1",
          "Compressor 1",
          "Compressor 1",
          "Compressor 1",
          "Compressor 1",
          "Compressor 1",
          "Compressor 1",
          "Compressor 1",
          "Compressor 1",
          "Compressor 1",
          "Compressor 1",
          "Compressor 1",
          "Compressor 1",
          "Compressor 1",
          "Compressor 1",
          "Compressor 1",
          "Compressor 1",
          "Compressor 1",
          "Compressor 1",
          "Compressor 1",
          "Compressor 1",
          "Compressor 1",
          "Compressor 1",
          "Compressor 1",
          "Compressor 1",
          "Compressor 1",
          "Compressor 1",
          "Compressor 1",
          "Compressor 1",
          "Compressor 1",
          "Compressor 1",
          "Compressor 1",
          "Compressor 1",
          "Compressor 1",
          "Compressor 1",
          "Compressor 1",
          "Compressor 1",
          "Compressor 1",
          "Compressor 1",
          "Compressor 1",
          "Compressor 1",
          "Compressor 1",
          "Compressor 1",
          "Compressor 1",
          "Compressor 1",
          "Compressor 1",
          "Compressor 1",
          "Compressor 1",
          "Compressor 1",
          "Compressor 1",
          "Compressor 1",
          "Compressor 1",
          "Compressor 1",
          "Compressor 1",
          "Compressor 1",
          "Compressor 1",
          "Compressor 1",
          "Compressor 1",
          "Compressor 1",
          "Compressor 1",
          "Compressor 1",
          "Compressor 1",
          "Compressor 1",
          "Compressor 1",
          "Compressor 1",
          "Compressor 1",
          "Compressor 1",
          "Compressor 1",
          "Compressor 1",
          "Compressor 1",
          "Compressor 1",
          "Compressor 1",
          "Compressor 1",
          "Compressor 1",
          "Compressor 1",
          "Compressor 1",
          "Compressor 1",
          "Compressor 1",
          "Compressor 1",
          "Compressor 1",
          "Compressor 1",
          "Compressor 1",
          "Compressor 1",
          "Compressor 1",
          "Compressor 1",
          "Compressor 1",
          "Compressor 1",
          "Compressor 1",
          "Compressor 1",
          "Compressor 1",
          "Compressor 1",
          "Compressor 1",
          "Compressor 1",
          "Compressor 1",
          "Compressor 1",
          "Compressor 1",
          "Compressor 1",
          "Compressor 1",
          "Compressor 1",
          "Compressor 1",
          "Compressor 1",
          "Compressor 1",
          "Compressor 1",
          "Compressor 1",
          "Compressor 1",
          "Compressor 1",
          "Compressor 1",
          "Compressor 1",
          "Compressor 1",
          "Compressor 1",
          "Compressor 1",
          "Compressor 1",
          "Compressor 1",
          "Compressor 1",
          "Compressor 1",
          "Compressor 1",
          "Compressor 1",
          "Compressor 1",
          "Compressor 1",
          "Compressor 1",
          "Compressor 1",
          "Compressor 1",
          "Compressor 1",
          "Compressor 1",
          "Compressor 1",
          "Compressor 1",
          "Compressor 1",
          "Compressor 1",
          "Compressor 1",
          "Compressor 1",
          "Compressor 1",
          "Compressor 1",
          "Compressor 1",
          "Compressor 1",
          "Compressor 1",
          "Compressor 1",
          "Compressor 1",
          "Compressor 1",
          "Compressor 1",
          "Compressor 1",
          "Compressor 1",
          "Compressor 1",
          "Compressor 1",
          "Compressor 1",
          "Compressor 1",
          "Compressor 1",
          "Compressor 1",
          "Compressor 1",
          "Compressor 1",
          "Compressor 1",
          "Compressor 1",
          "Compressor 1",
          "Compressor 1",
          "Compressor 1",
          "Compressor 1",
          "Compressor 1",
          "Compressor 1",
          "Compressor 1",
          "Compressor 1",
          "Compressor 1",
          "Compressor 1",
          "Compressor 1",
          "Compressor 1",
          "Compressor 1",
          "Compressor 1",
          "Compressor 1",
          "Compressor 1",
          "Compressor 1",
          "Compressor 1",
          "Compressor 1",
          "Compressor 1",
          "Compressor 1",
          "Compressor 1",
          "Compressor 1",
          "Compressor 1",
          "Compressor 1",
          "Compressor 1",
          "Compressor 1",
          "Compressor 1",
          "Compressor 1",
          "Compressor 1",
          "Compressor 1",
          "Compressor 1",
          "Compressor 1",
          "Compressor 1",
          "Compressor 1",
          "Compressor 1",
          "Compressor 1",
          "Compressor 1",
          "Compressor 1",
          "Compressor 1",
          "Compressor 1",
          "Compressor 1",
          "Compressor 1",
          "Compressor 1",
          "Compressor 1",
          "Compressor 1",
          "Compressor 1",
          "Compressor 1",
          "Compressor 1",
          "Compressor 1",
          "Compressor 1",
          "Compressor 1",
          "Compressor 1",
          "Compressor 1",
          "Compressor 1",
          "Compressor 1",
          "Compressor 1",
          "Compressor 1",
          "Compressor 1",
          "Compressor 1",
          "Compressor 1",
          "Compressor 1",
          "Compressor 1",
          "Compressor 1",
          "Compressor 1",
          "Compressor 1",
          "Compressor 1",
          "Compressor 1",
          "Compressor 1",
          "Compressor 1",
          "Compressor 1",
          "Compressor 1",
          "Compressor 1",
          "Compressor 1",
          "Compressor 1",
          "Compressor 1",
          "Compressor 1",
          "Compressor 1",
          "Compressor 1",
          "Compressor 1",
          "Compressor 1",
          "Compressor 1",
          "Compressor 1",
          "Compressor 1",
          "Compressor 1",
          "Compressor 1",
          "Compressor 1",
          "Compressor 1",
          "Compressor 1",
          "Compressor 1",
          "Compressor 1",
          "Compressor 1",
          "Compressor 1",
          "Compressor 1",
          "Compressor 1",
          "Compressor 1",
          "Compressor 1",
          "Compressor 1",
          "Compressor 1",
          "Compressor 1",
          "Compressor 1",
          "Compressor 1",
          "Compressor 1",
          "Compressor 1",
          "Compressor 1",
          "Compressor 1",
          "Compressor 1",
          "Compressor 1",
          "Compressor 1",
          "Compressor 1",
          "Compressor 1",
          "Compressor 1",
          "Compressor 1",
          "Compressor 1",
          "Compressor 1",
          "Compressor 1",
          "Compressor 1",
          "Compressor 1",
          "Compressor 1",
          "Compressor 1",
          "Compressor 1",
          "Compressor 1",
          "Compressor 1",
          "Compressor 1",
          "Compressor 1",
          "Compressor 1",
          "Compressor 1",
          "Compressor 1",
          "Compressor 1",
          "Compressor 1",
          "Compressor 1",
          "Compressor 1",
          "Compressor 1",
          "Compressor 1",
          "Compressor 1",
          "Compressor 1",
          "Compressor 1",
          "Compressor 1",
          "Compressor 1",
          "Compressor 1",
          "Compressor 1",
          "Compressor 1",
          "Compressor 1",
          "Compressor 1",
          "Compressor 1",
          "Compressor 1",
          "Compressor 1",
          "Compressor 1",
          "Compressor 1",
          "Compressor 1",
          "Compressor 1",
          "Compressor 1",
          "Compressor 1",
          "Compressor 1",
          "Compressor 1",
          "Compressor 1",
          "Compressor 1",
          "Compressor 1",
          "Compressor 1",
          "Compressor 1",
          "Compressor 1",
          "Compressor 1",
          "Compressor 1",
          "Compressor 1",
          "Compressor 1",
          "Compressor 1",
          "Compressor 1",
          "Compressor 1",
          "Compressor 1",
          "Compressor 1",
          "Compressor 1",
          "Compressor 1",
          "Compressor 1",
          "Compressor 1",
          "Compressor 1",
          "Compressor 1",
          "Compressor 1",
          "Compressor 1",
          "Compressor 1",
          "Compressor 1",
          "Compressor 1",
          "Compressor 1",
          "Compressor 1",
          "Compressor 1",
          "Compressor 1",
          "Compressor 1",
          "Compressor 1",
          "Compressor 1",
          "Compressor 1",
          "Compressor 1",
          "Compressor 1",
          "Compressor 1",
          "Compressor 1",
          "Compressor 1",
          "Compressor 1",
          "Compressor 1",
          "Compressor 1",
          "Compressor 1",
          "Compressor 1",
          "Compressor 1",
          "Compressor 1",
          "Compressor 1",
          "Compressor 1",
          "Compressor 1",
          "Compressor 1",
          "Compressor 1",
          "Compressor 1",
          "Compressor 1",
          "Compressor 1",
          "Compressor 1",
          "Compressor 1",
          "Compressor 1",
          "Compressor 1",
          "Compressor 1",
          "Compressor 1",
          "Compressor 1",
          "Compressor 1",
          "Compressor 1",
          "Compressor 1",
          "Compressor 1",
          "Compressor 1",
          "Compressor 1",
          "Compressor 1",
          "Compressor 1",
          "Compressor 1",
          "Compressor 1",
          "Compressor 1",
          "Compressor 1",
          "Compressor 1",
          "Compressor 1",
          "Compressor 1",
          "Compressor 1",
          "Compressor 1",
          "Compressor 1",
          "Compressor 1",
          "Compressor 1",
          "Compressor 1",
          "Compressor 1",
          "Compressor 1",
          "Compressor 1",
          "Compressor 1",
          "Compressor 1",
          "Compressor 1",
          "Compressor 1",
          "Compressor 1",
          "Compressor 1",
          "Compressor 1",
          "Compressor 1",
          "Compressor 1",
          "Compressor 1",
          "Compressor 1",
          "Compressor 1",
          "Compressor 1",
          "Compressor 1",
          "Compressor 1",
          "Compressor 1",
          "Compressor 1",
          "Compressor 1",
          "Compressor 1",
          "Compressor 1",
          "Compressor 1",
          "Compressor 1",
          "Compressor 1",
          "Compressor 1",
          "Compressor 1",
          "Compressor 1",
          "Compressor 1",
          "Compressor 1",
          "Compressor 1",
          "Compressor 1",
          "Compressor 1",
          "Compressor 1",
          "Compressor 1",
          "Compressor 1",
          "Compressor 1",
          "Compressor 1",
          "Compressor 1",
          "Compressor 1",
          "Compressor 1",
          "Compressor 1",
          "Compressor 1",
          "Compressor 1",
          "Compressor 1",
          "Compressor 1",
          "Compressor 1",
          "Compressor 1",
          "Compressor 1",
          "Compressor 1",
          "Compressor 1",
          "Compressor 1",
          "Compressor 1",
          "Compressor 1",
          "Compressor 1",
          "Compressor 1",
          "Compressor 1",
          "Compressor 1",
          "Compressor 1",
          "Compressor 1",
          "Compressor 1",
          "Compressor 1",
          "Compressor 1",
          "Compressor 1",
          "Compressor 1",
          "Compressor 1",
          "Compressor 1",
          "Compressor 1",
          "Compressor 1",
          "Compressor 1",
          "Compressor 1",
          "Compressor 1",
          "Compressor 1",
          "Compressor 1",
          "Compressor 1",
          "Compressor 1",
          "Compressor 1",
          "Compressor 1",
          "Compressor 1",
          "Compressor 1",
          "Compressor 1",
          "Compressor 1",
          "Compressor 1",
          "Compressor 1",
          "Compressor 1",
          "Compressor 1",
          "Compressor 1",
          "Compressor 1",
          "Compressor 1",
          "Compressor 1",
          "Compressor 1",
          "Compressor 1",
          "Compressor 1",
          "Compressor 1",
          "Compressor 1",
          "Compressor 1",
          "Compressor 1",
          "Compressor 1",
          "Compressor 1",
          "Compressor 1",
          "Compressor 1",
          "Compressor 1",
          "Compressor 1",
          "Compressor 1",
          "Compressor 1",
          "Compressor 1",
          "Compressor 1",
          "Compressor 1",
          "Compressor 1",
          "Compressor 1",
          "Compressor 1",
          "Compressor 1",
          "Compressor 1",
          "Compressor 1",
          "Compressor 1",
          "Compressor 1",
          "Compressor 1",
          "Compressor 1",
          "Compressor 1",
          "Compressor 1",
          "Compressor 1",
          "Compressor 1",
          "Compressor 1",
          "Compressor 1",
          "Compressor 1",
          "Compressor 1",
          "Compressor 1",
          "Compressor 1",
          "Compressor 1",
          "Compressor 1",
          "Compressor 1",
          "Compressor 1",
          "Compressor 1",
          "Compressor 1",
          "Compressor 1",
          "Compressor 1",
          "Compressor 1",
          "Compressor 1",
          "Compressor 1",
          "Compressor 1",
          "Compressor 1",
          "Compressor 1",
          "Compressor 1",
          "Compressor 1",
          "Compressor 1",
          "Compressor 1",
          "Compressor 1",
          "Compressor 1",
          "Compressor 1",
          "Compressor 1",
          "Compressor 1",
          "Compressor 1",
          "Compressor 1",
          "Compressor 1",
          "Compressor 1",
          "Compressor 1",
          "Compressor 1",
          "Compressor 1",
          "Compressor 1",
          "Compressor 1",
          "Compressor 1",
          "Compressor 1",
          "Compressor 1",
          "Compressor 1",
          "Compressor 1",
          "Compressor 1",
          "Compressor 1",
          "Compressor 1",
          "Compressor 1",
          "Compressor 1",
          "Compressor 1",
          "Compressor 1",
          "Compressor 1",
          "Compressor 1",
          "Compressor 1",
          "Compressor 1",
          "Compressor 1",
          "Compressor 1",
          "Compressor 1",
          "Compressor 1",
          "Compressor 1",
          "Compressor 1",
          "Compressor 1",
          "Compressor 1",
          "Compressor 1",
          "Compressor 1",
          "Compressor 1",
          "Compressor 1",
          "Compressor 1",
          "Compressor 1",
          "Compressor 1",
          "Compressor 1",
          "Compressor 1",
          "Compressor 1",
          "Compressor 1",
          "Compressor 1",
          "Compressor 1",
          "Compressor 1",
          "Compressor 1",
          "Compressor 1",
          "Compressor 1",
          "Compressor 1",
          "Compressor 1",
          "Compressor 1",
          "Compressor 1",
          "Compressor 1",
          "Compressor 1",
          "Compressor 1",
          "Compressor 1",
          "Compressor 1",
          "Compressor 1",
          "Compressor 1",
          "Compressor 1",
          "Compressor 1",
          "Compressor 1",
          "Compressor 1",
          "Compressor 1",
          "Compressor 1",
          "Compressor 1",
          "Compressor 1",
          "Compressor 1",
          "Compressor 1",
          "Compressor 1",
          "Compressor 1",
          "Compressor 1",
          "Compressor 1",
          "Compressor 1",
          "Compressor 1",
          "Compressor 1",
          "Compressor 1",
          "Compressor 1",
          "Compressor 1",
          "Compressor 1",
          "Compressor 1",
          "Compressor 1",
          "Compressor 1",
          "Compressor 1",
          "Compressor 1",
          "Compressor 1",
          "Compressor 1",
          "Compressor 1",
          "Compressor 1",
          "Compressor 1",
          "Compressor 1",
          "Compressor 1",
          "Compressor 1",
          "Compressor 1",
          "Compressor 1",
          "Compressor 1",
          "Compressor 1",
          "Compressor 1",
          "Compressor 1",
          "Compressor 1",
          "Compressor 1",
          "Compressor 1",
          "Compressor 1",
          "Compressor 1",
          "Compressor 1",
          "Compressor 1",
          "Compressor 1",
          "Compressor 1",
          "Compressor 1",
          "Compressor 1",
          "Compressor 1",
          "Compressor 1",
          "Compressor 1",
          "Compressor 1",
          "Compressor 1",
          "Compressor 1",
          "Compressor 1",
          "Compressor 1",
          "Compressor 1",
          "Compressor 1",
          "Compressor 1",
          "Compressor 1",
          "Compressor 1",
          "Compressor 1",
          "Compressor 1",
          "Compressor 1",
          "Compressor 1",
          "Compressor 1",
          "Compressor 1",
          "Compressor 1",
          "Compressor 1",
          "Compressor 1",
          "Compressor 1",
          "Compressor 1",
          "Compressor 1",
          "Compressor 1",
          "Compressor 1",
          "Compressor 1",
          "Compressor 1",
          "Compressor 1",
          "Compressor 1",
          "Compressor 1",
          "Compressor 1",
          "Compressor 1",
          "Compressor 1",
          "Compressor 1",
          "Compressor 1",
          "Compressor 1",
          "Compressor 1",
          "Compressor 1",
          "Compressor 1",
          "Compressor 1",
          "Compressor 1",
          "Compressor 1",
          "Compressor 1",
          "Compressor 1",
          "Compressor 1",
          "Compressor 1",
          "Compressor 1",
          "Compressor 1",
          "Compressor 1",
          "Compressor 1",
          "Compressor 1",
          "Compressor 1",
          "Compressor 1",
          "Compressor 1",
          "Compressor 1",
          "Compressor 1",
          "Compressor 1",
          "Compressor 1",
          "Compressor 1",
          "Compressor 1",
          "Compressor 1",
          "Compressor 1",
          "Compressor 1",
          "Compressor 1",
          "Compressor 1",
          "Compressor 1",
          "Compressor 1",
          "Compressor 1",
          "Compressor 1",
          "Compressor 1",
          "Compressor 1",
          "Compressor 1",
          "Compressor 1",
          "Compressor 1",
          "Compressor 1",
          "Compressor 1",
          "Compressor 1",
          "Compressor 1",
          "Compressor 1",
          "Compressor 1",
          "Compressor 1",
          "Compressor 1",
          "Compressor 1",
          "Compressor 1",
          "Compressor 1",
          "Compressor 1",
          "Compressor 1",
          "Compressor 1",
          "Compressor 1",
          "Compressor 1",
          "Compressor 1",
          "Compressor 1",
          "Compressor 1",
          "Compressor 1",
          "Compressor 1",
          "Compressor 1",
          "Compressor 1",
          "Compressor 1",
          "Compressor 1",
          "Compressor 1",
          "Compressor 1",
          "Compressor 1",
          "Compressor 1",
          "Compressor 1",
          "Compressor 1",
          "Compressor 1",
          "Compressor 1",
          "Compressor 1",
          "Compressor 1",
          "Compressor 1",
          "Compressor 1",
          "Compressor 1",
          "Compressor 1",
          "Compressor 1",
          "Compressor 1",
          "Compressor 1",
          "Compressor 1",
          "Compressor 1",
          "Compressor 1",
          "Compressor 1",
          "Compressor 1",
          "Compressor 1",
          "Compressor 1",
          "Compressor 1",
          "Compressor 1",
          "Compressor 1",
          "Compressor 1",
          "Compressor 1",
          "Compressor 1",
          "Compressor 1",
          "Compressor 1",
          "Compressor 1",
          "Compressor 1",
          "Compressor 1",
          "Compressor 1",
          "Compressor 1",
          "Compressor 1",
          "Compressor 1",
          "Compressor 1",
          "Compressor 1",
          "Compressor 1",
          "Compressor 1",
          "Compressor 1",
          "Compressor 1",
          "Compressor 1",
          "Compressor 1",
          "Compressor 1",
          "Compressor 1",
          "Compressor 1",
          "Compressor 1",
          "Compressor 1",
          "Compressor 1",
          "Compressor 1",
          "Compressor 1",
          "Compressor 1",
          "Compressor 1",
          "Compressor 1",
          "Compressor 1",
          "Compressor 1",
          "Compressor 1",
          "Compressor 1",
          "Compressor 1",
          "Compressor 1",
          "Compressor 1",
          "Compressor 1",
          "Compressor 1",
          "Compressor 1",
          "Compressor 1",
          "Compressor 1",
          "Compressor 1",
          "Compressor 1",
          "Compressor 1",
          "Compressor 1",
          "Compressor 1",
          "Compressor 1",
          "Compressor 1",
          "Compressor 1",
          "Compressor 1",
          "Compressor 1",
          "Compressor 1",
          "Compressor 1",
          "Compressor 1",
          "Compressor 1",
          "Compressor 1",
          "Compressor 1",
          "Compressor 1",
          "Compressor 1",
          "Compressor 1",
          "Compressor 1",
          "Compressor 1",
          "Compressor 1",
          "Compressor 1",
          "Compressor 1",
          "Compressor 1",
          "Compressor 1",
          "Compressor 1",
          "Compressor 1",
          "Compressor 1",
          "Compressor 1",
          "Compressor 1",
          "Compressor 1",
          "Compressor 1",
          "Compressor 1",
          "Compressor 1",
          "Compressor 1",
          "Compressor 1",
          "Compressor 1",
          "Compressor 1",
          "Compressor 1",
          "Compressor 1",
          "Compressor 1",
          "Compressor 1",
          "Compressor 1",
          "Compressor 1",
          "Compressor 1",
          "Compressor 1",
          "Compressor 1",
          "Compressor 1",
          "Compressor 1",
          "Compressor 1",
          "Compressor 1",
          "Compressor 1",
          "Compressor 1",
          "Compressor 1",
          "Compressor 1",
          "Compressor 1",
          "Compressor 1",
          "Compressor 1",
          "Compressor 1",
          "Compressor 1",
          "Compressor 1",
          "Compressor 1",
          "Compressor 1",
          "Compressor 1",
          "Compressor 1",
          "Compressor 1",
          "Compressor 1",
          "Compressor 1",
          "Compressor 1",
          "Compressor 1",
          "Compressor 1",
          "Compressor 1",
          "Compressor 1",
          "Compressor 1",
          "Compressor 1",
          "Compressor 1",
          "Compressor 1",
          "Compressor 1",
          "Compressor 1",
          "Compressor 1",
          "Compressor 1",
          "Compressor 1",
          "Compressor 1",
          "Compressor 1",
          "Compressor 1",
          "Compressor 1",
          "Compressor 1",
          "Compressor 1",
          "Compressor 1",
          "Compressor 1",
          "Compressor 1",
          "Compressor 1",
          "Compressor 1",
          "Compressor 1",
          "Compressor 1",
          "Compressor 1",
          "Compressor 1",
          "Compressor 1",
          "Compressor 1",
          "Compressor 1",
          "Compressor 1",
          "Compressor 1",
          "Compressor 1",
          "Compressor 1",
          "Compressor 1",
          "Compressor 1",
          "Compressor 1",
          "Compressor 1",
          "Compressor 1",
          "Compressor 1",
          "Compressor 1",
          "Compressor 1",
          "Compressor 1",
          "Compressor 1",
          "Compressor 1",
          "Compressor 1",
          "Compressor 1",
          "Compressor 1",
          "Compressor 1",
          "Compressor 1",
          "Compressor 1",
          "Compressor 1",
          "Compressor 1",
          "Compressor 1",
          "Compressor 1",
          "Compressor 1",
          "Compressor 1",
          "Compressor 1",
          "Compressor 1",
          "Compressor 1",
          "Compressor 1",
          "Compressor 1",
          "Compressor 1",
          "Compressor 1",
          "Compressor 1",
          "Compressor 1",
          "Compressor 1",
          "Compressor 1",
          "Compressor 1",
          "Compressor 1",
          "Compressor 1",
          "Compressor 1",
          "Compressor 1",
          "Compressor 1",
          "Compressor 1",
          "Compressor 1",
          "Compressor 1",
          "Compressor 1",
          "Compressor 1",
          "Compressor 1",
          "Compressor 1",
          "Compressor 1",
          "Compressor 1",
          "Compressor 1",
          "Compressor 1",
          "Compressor 1",
          "Compressor 1",
          "Compressor 1",
          "Compressor 1",
          "Compressor 1",
          "Compressor 1",
          "Compressor 1",
          "Compressor 1",
          "Compressor 1",
          "Compressor 1",
          "Compressor 1",
          "Compressor 1",
          "Compressor 1",
          "Compressor 1",
          "Compressor 1",
          "Compressor 1",
          "Compressor 1",
          "Compressor 1",
          "Compressor 1",
          "Compressor 1",
          "Compressor 1",
          "Compressor 1",
          "Compressor 1",
          "Compressor 1",
          "Compressor 1",
          "Compressor 1",
          "Compressor 1",
          "Compressor 1",
          "Compressor 1",
          "Compressor 1",
          "Compressor 1",
          "Compressor 1",
          "Compressor 1",
          "Compressor 1",
          "Compressor 1",
          "Compressor 1",
          "Compressor 1",
          "Compressor 1",
          "Compressor 1",
          "Compressor 1",
          "Compressor 1",
          "Compressor 1",
          "Compressor 1",
          "Compressor 1",
          "Compressor 1",
          "Compressor 1",
          "Compressor 1",
          "Compressor 1",
          "Compressor 1",
          "Compressor 1",
          "Compressor 1",
          "Compressor 1",
          "Compressor 1",
          "Compressor 1",
          "Compressor 1",
          "Compressor 1",
          "Compressor 1",
          "Compressor 1",
          "Compressor 1",
          "Compressor 1",
          "Compressor 1",
          "Compressor 1",
          "Compressor 1",
          "Compressor 1",
          "Compressor 1",
          "Compressor 1",
          "Compressor 1",
          "Compressor 1",
          "Compressor 1",
          "Compressor 1",
          "Compressor 1",
          "Compressor 1",
          "Compressor 1",
          "Compressor 1",
          "Compressor 1",
          "Compressor 1",
          "Compressor 1",
          "Compressor 1",
          "Compressor 1",
          "Compressor 1",
          "Compressor 1",
          "Compressor 1",
          "Compressor 1",
          "Compressor 1",
          "Compressor 1",
          "Compressor 1",
          "Compressor 1",
          "Compressor 1",
          "Compressor 1",
          "Compressor 1",
          "Compressor 1",
          "Compressor 1",
          "Compressor 1",
          "Compressor 1",
          "Compressor 1",
          "Compressor 1",
          "Compressor 1",
          "Compressor 1",
          "Compressor 1",
          "Compressor 1",
          "Compressor 1",
          "Compressor 1",
          "Compressor 1",
          "Compressor 1",
          "Compressor 1",
          "Compressor 1",
          "Compressor 1",
          "Compressor 1",
          "Compressor 1",
          "Compressor 1",
          "Compressor 1",
          "Compressor 1",
          "Compressor 1",
          "Compressor 1",
          "Compressor 1",
          "Compressor 1",
          "Compressor 1",
          "Compressor 1",
          "Compressor 1",
          "Compressor 1",
          "Compressor 1",
          "Compressor 1",
          "Compressor 1",
          "Compressor 1",
          "Compressor 1",
          "Compressor 1",
          "Compressor 1",
          "Compressor 1",
          "Compressor 1",
          "Compressor 1",
          "Compressor 1",
          "Compressor 1",
          "Compressor 1",
          "Compressor 1",
          "Compressor 1",
          "Compressor 1",
          "Compressor 1",
          "Compressor 1",
          "Compressor 1",
          "Compressor 1",
          "Compressor 1",
          "Compressor 1",
          "Compressor 1",
          "Compressor 1",
          "Compressor 1",
          "Compressor 1",
          "Compressor 1",
          "Compressor 1",
          "Compressor 1",
          "Compressor 1",
          "Compressor 1",
          "Compressor 1",
          "Compressor 1",
          "Compressor 1",
          "Compressor 1",
          "Compressor 1",
          "Compressor 1",
          "Compressor 1",
          "Compressor 1",
          "Compressor 1",
          "Compressor 1",
          "Compressor 1",
          "Compressor 1",
          "Compressor 1",
          "Compressor 1",
          "Compressor 1",
          "Compressor 1",
          "Compressor 1",
          "Compressor 1",
          "Compressor 1",
          "Compressor 1",
          "Compressor 1",
          "Compressor 1",
          "Compressor 1",
          "Compressor 1",
          "Compressor 1",
          "Compressor 1",
          "Compressor 1",
          "Compressor 1",
          "Compressor 1",
          "Compressor 1",
          "Compressor 1",
          "Compressor 1",
          "Compressor 1",
          "Compressor 1",
          "Compressor 1",
          "Compressor 1",
          "Compressor 1",
          "Compressor 1",
          "Compressor 1",
          "Compressor 1",
          "Compressor 1",
          "Compressor 1",
          "Compressor 1",
          "Compressor 1",
          "Compressor 1",
          "Compressor 1",
          "Compressor 1",
          "Compressor 1",
          "Compressor 1",
          "Compressor 1",
          "Compressor 1",
          "Compressor 1",
          "Compressor 1",
          "Compressor 1",
          "Compressor 1",
          "Compressor 1",
          "Compressor 1",
          "Compressor 1",
          "Compressor 1",
          "Compressor 1",
          "Compressor 1",
          "Compressor 1",
          "Compressor 1",
          "Compressor 1",
          "Compressor 1",
          "Compressor 1",
          "Compressor 1",
          "Compressor 1",
          "Compressor 1",
          "Compressor 1",
          "Compressor 1",
          "Compressor 1",
          "Compressor 1",
          "Compressor 1",
          "Compressor 1",
          "Compressor 1",
          "Compressor 1",
          "Compressor 1",
          "Compressor 1",
          "Compressor 1",
          "Compressor 1",
          "Compressor 1",
          "Compressor 1",
          "Compressor 1",
          "Compressor 1",
          "Compressor 1",
          "Compressor 1",
          "Compressor 1",
          "Compressor 1",
          "Compressor 1",
          "Compressor 1",
          "Compressor 1",
          "Compressor 1",
          "Compressor 1",
          "Compressor 1",
          "Compressor 1",
          "Compressor 1",
          "Compressor 1",
          "Compressor 1",
          "Compressor 1",
          "Compressor 1",
          "Compressor 1",
          "Compressor 1",
          "Compressor 1",
          "Compressor 1",
          "Compressor 1",
          "Compressor 1",
          "Compressor 1",
          "Compressor 1",
          "Compressor 1",
          "Compressor 1",
          "Compressor 1",
          "Compressor 1",
          "Compressor 1",
          "Compressor 1",
          "Compressor 1",
          "Compressor 1",
          "Compressor 1",
          "Compressor 1",
          "Compressor 1",
          "Compressor 1",
          "Compressor 1",
          "Compressor 1",
          "Compressor 1",
          "Compressor 1",
          "Compressor 1",
          "Compressor 1",
          "Compressor 1",
          "Compressor 1",
          "Compressor 1",
          "Compressor 1",
          "Compressor 1",
          "Compressor 1",
          "Compressor 1",
          "Compressor 1",
          "Compressor 1",
          "Compressor 1",
          "Compressor 1",
          "Compressor 1",
          "Compressor 1",
          "Compressor 1",
          "Compressor 1",
          "Compressor 1",
          "Compressor 1",
          "Compressor 1",
          "Compressor 1",
          "Compressor 1",
          "Compressor 1",
          "Compressor 1",
          "Compressor 1",
          "Compressor 1",
          "Compressor 1",
          "Compressor 1",
          "Compressor 1",
          "Compressor 1",
          "Compressor 1",
          "Compressor 1",
          "Compressor 1",
          "Compressor 1",
          "Compressor 1",
          "Compressor 1",
          "Compressor 1",
          "Compressor 1",
          "Compressor 1",
          "Compressor 1",
          "Compressor 1",
          "Compressor 1",
          "Compressor 1",
          "Compressor 1",
          "Compressor 1",
          "Compressor 1",
          "Compressor 1",
          "Compressor 1",
          "Compressor 1",
          "Compressor 1",
          "Compressor 1",
          "Compressor 1",
          "Compressor 1",
          "Compressor 1",
          "Compressor 1",
          "Compressor 1",
          "Compressor 1",
          "Compressor 1",
          "Compressor 1",
          "Compressor 1",
          "Compressor 1",
          "Compressor 1",
          "Compressor 1",
          "Compressor 1",
          "Compressor 1",
          "Compressor 1",
          "Compressor 1",
          "Compressor 1",
          "Compressor 1",
          "Compressor 1",
          "Compressor 1",
          "Compressor 1",
          "Compressor 1",
          "Compressor 1",
          "Compressor 1",
          "Compressor 1",
          "Compressor 1",
          "Compressor 1",
          "Compressor 1",
          "Compressor 1",
          "Compressor 1",
          "Compressor 1",
          "Compressor 1",
          "Compressor 1",
          "Compressor 1",
          "Compressor 1",
          "Compressor 1",
          "Compressor 1",
          "Compressor 1",
          "Compressor 1",
          "Compressor 1",
          "Compressor 1",
          "Compressor 1",
          "Compressor 1",
          "Compressor 1",
          "Compressor 1",
          "Compressor 1",
          "Compressor 1",
          "Compressor 1",
          "Compressor 1",
          "Compressor 1",
          "Compressor 1",
          "Compressor 1",
          "Compressor 1",
          "Compressor 1",
          "Compressor 1",
          "Compressor 1",
          "Compressor 1",
          "Compressor 1",
          "Compressor 1",
          "Compressor 1",
          "Compressor 1",
          "Compressor 1",
          "Compressor 1",
          "Compressor 1",
          "Compressor 1",
          "Compressor 1",
          "Compressor 1",
          "Compressor 1",
          "Compressor 1",
          "Compressor 1",
          "Compressor 1",
          "Compressor 1",
          "Compressor 1",
          "Compressor 1",
          "Compressor 1",
          "Compressor 1",
          "Compressor 1",
          "Compressor 1",
          "Compressor 1",
          "Compressor 1",
          "Compressor 1",
          "Compressor 1",
          "Compressor 1",
          "Compressor 1",
          "Compressor 1",
          "Compressor 1",
          "Compressor 1",
          "Compressor 1",
          "Compressor 1",
          "Compressor 1",
          "Compressor 1",
          "Compressor 1",
          "Compressor 1",
          "Compressor 1",
          "Compressor 1",
          "Compressor 1",
          "Compressor 1",
          "Compressor 1",
          "Compressor 1",
          "Compressor 1",
          "Compressor 1",
          "Compressor 1",
          "Compressor 1",
          "Compressor 1",
          "Compressor 1",
          "Compressor 1",
          "Compressor 1",
          "Compressor 1",
          "Compressor 1",
          "Compressor 1",
          "Compressor 1",
          "Compressor 1",
          "Compressor 1",
          "Compressor 1",
          "Compressor 1",
          "Compressor 1",
          "Compressor 1",
          "Compressor 1",
          "Compressor 1",
          "Compressor 1",
          "Compressor 1",
          "Compressor 1",
          "Compressor 1",
          "Compressor 1",
          "Compressor 1",
          "Compressor 1",
          "Compressor 1",
          "Compressor 1",
          "Compressor 1",
          "Compressor 1",
          "Compressor 1",
          "Compressor 1",
          "Compressor 1",
          "Compressor 1",
          "Compressor 1",
          "Compressor 1",
          "Compressor 1",
          "Compressor 1",
          "Compressor 1",
          "Compressor 1",
          "Compressor 1",
          "Compressor 1",
          "Compressor 1",
          "Compressor 1",
          "Compressor 1",
          "Compressor 1",
          "Compressor 1",
          "Compressor 1",
          "Compressor 1",
          "Compressor 1",
          "Compressor 1",
          "Compressor 1",
          "Compressor 1",
          "Compressor 1",
          "Compressor 1",
          "Compressor 1",
          "Compressor 1",
          "Compressor 1",
          "Compressor 1",
          "Compressor 1",
          "Compressor 1",
          "Compressor 1",
          "Compressor 1",
          "Compressor 1",
          "Compressor 1",
          "Compressor 1",
          "Compressor 1",
          "Compressor 1",
          "Compressor 1",
          "Compressor 1",
          "Compressor 1",
          "Compressor 1",
          "Compressor 1",
          "Compressor 1",
          "Compressor 1",
          "Compressor 1",
          "Compressor 1",
          "Compressor 1",
          "Compressor 1",
          "Compressor 1",
          "Compressor 1",
          "Compressor 1",
          "Compressor 1",
          "Compressor 1"
         ],
         "legendgroup": "Compressor 1",
         "line": {
          "color": "#636efa"
         },
         "marker": {
          "symbol": "circle"
         },
         "mode": "lines",
         "name": "Compressor 1",
         "orientation": "v",
         "showlegend": true,
         "stackgroup": "1",
         "type": "scatter",
         "x": [
          0,
          0.001,
          0.002,
          0.003,
          0.004,
          0.005,
          0.006,
          0.007,
          0.008,
          0.009000000000000001,
          0.01,
          0.011,
          0.012,
          0.013000000000000001,
          0.014,
          0.015,
          0.016,
          0.017,
          0.018000000000000002,
          0.019,
          0.02,
          0.021,
          0.022,
          0.023,
          0.024,
          0.025,
          0.026000000000000002,
          0.027,
          0.028,
          0.029,
          0.03,
          0.031,
          0.032,
          0.033,
          0.034,
          0.035,
          0.036000000000000004,
          0.037,
          0.038,
          0.039,
          0.04,
          0.041,
          0.042,
          0.043000000000000003,
          0.044,
          0.045,
          0.046,
          0.047,
          0.048,
          0.049,
          0.05,
          0.051000000000000004,
          0.052000000000000005,
          0.053,
          0.054,
          0.055,
          0.056,
          0.057,
          0.058,
          0.059000000000000004,
          0.06,
          0.061,
          0.062,
          0.063,
          0.064,
          0.065,
          0.066,
          0.067,
          0.068,
          0.069,
          0.07,
          0.07100000000000001,
          0.07200000000000001,
          0.073,
          0.074,
          0.075,
          0.076,
          0.077,
          0.078,
          0.079,
          0.08,
          0.081,
          0.082,
          0.083,
          0.084,
          0.085,
          0.08600000000000001,
          0.08700000000000001,
          0.088,
          0.089,
          0.09,
          0.091,
          0.092,
          0.093,
          0.094,
          0.095,
          0.096,
          0.097,
          0.098,
          0.099,
          0.1,
          0.101,
          0.10200000000000001,
          0.10300000000000001,
          0.10400000000000001,
          0.105,
          0.106,
          0.107,
          0.108,
          0.109,
          0.11,
          0.111,
          0.112,
          0.113,
          0.114,
          0.115,
          0.116,
          0.117,
          0.11800000000000001,
          0.11900000000000001,
          0.12,
          0.121,
          0.122,
          0.123,
          0.124,
          0.125,
          0.126,
          0.127,
          0.128,
          0.129,
          0.13,
          0.131,
          0.132,
          0.133,
          0.134,
          0.135,
          0.136,
          0.137,
          0.138,
          0.139,
          0.14,
          0.14100000000000001,
          0.14200000000000002,
          0.14300000000000002,
          0.14400000000000002,
          0.145,
          0.146,
          0.147,
          0.148,
          0.149,
          0.15,
          0.151,
          0.152,
          0.153,
          0.154,
          0.155,
          0.156,
          0.157,
          0.158,
          0.159,
          0.16,
          0.161,
          0.162,
          0.163,
          0.164,
          0.165,
          0.166,
          0.167,
          0.168,
          0.169,
          0.17,
          0.171,
          0.17200000000000001,
          0.17300000000000001,
          0.17400000000000002,
          0.17500000000000002,
          0.176,
          0.177,
          0.178,
          0.179,
          0.18,
          0.181,
          0.182,
          0.183,
          0.184,
          0.185,
          0.186,
          0.187,
          0.188,
          0.189,
          0.19,
          0.191,
          0.192,
          0.193,
          0.194,
          0.195,
          0.196,
          0.197,
          0.198,
          0.199,
          0.2,
          0.201,
          0.202,
          0.203,
          0.20400000000000001,
          0.20500000000000002,
          0.20600000000000002,
          0.20700000000000002,
          0.20800000000000002,
          0.209,
          0.21,
          0.211,
          0.212,
          0.213,
          0.214,
          0.215,
          0.216,
          0.217,
          0.218,
          0.219,
          0.22,
          0.221,
          0.222,
          0.223,
          0.224,
          0.225,
          0.226,
          0.227,
          0.228,
          0.229,
          0.23,
          0.231,
          0.232,
          0.233,
          0.234,
          0.23500000000000001,
          0.23600000000000002,
          0.23700000000000002,
          0.23800000000000002,
          0.23900000000000002,
          0.24,
          0.241,
          0.242,
          0.243,
          0.244,
          0.245,
          0.246,
          0.247,
          0.248,
          0.249,
          0.25,
          0.251,
          0.252,
          0.253,
          0.254,
          0.255,
          0.256,
          0.257,
          0.258,
          0.259,
          0.26,
          0.261,
          0.262,
          0.263,
          0.264,
          0.265,
          0.266,
          0.267,
          0.268,
          0.269,
          0.27,
          0.271,
          0.272,
          0.273,
          0.274,
          0.275,
          0.276,
          0.277,
          0.278,
          0.279,
          0.28,
          0.281,
          0.28200000000000003,
          0.28300000000000003,
          0.28400000000000003,
          0.28500000000000003,
          0.28600000000000003,
          0.28700000000000003,
          0.28800000000000003,
          0.289,
          0.29,
          0.291,
          0.292,
          0.293,
          0.294,
          0.295,
          0.296,
          0.297,
          0.298,
          0.299,
          0.3,
          0.301,
          0.302,
          0.303,
          0.304,
          0.305,
          0.306,
          0.307,
          0.308,
          0.309,
          0.31,
          0.311,
          0.312,
          0.313,
          0.314,
          0.315,
          0.316,
          0.317,
          0.318,
          0.319,
          0.32,
          0.321,
          0.322,
          0.323,
          0.324,
          0.325,
          0.326,
          0.327,
          0.328,
          0.329,
          0.33,
          0.331,
          0.332,
          0.333,
          0.334,
          0.335,
          0.336,
          0.337,
          0.338,
          0.339,
          0.34,
          0.341,
          0.342,
          0.343,
          0.34400000000000003,
          0.34500000000000003,
          0.34600000000000003,
          0.34700000000000003,
          0.34800000000000003,
          0.34900000000000003,
          0.35000000000000003,
          0.35100000000000003,
          0.352,
          0.353,
          0.354,
          0.355,
          0.356,
          0.357,
          0.358,
          0.359,
          0.36,
          0.361,
          0.362,
          0.363,
          0.364,
          0.365,
          0.366,
          0.367,
          0.368,
          0.369,
          0.37,
          0.371,
          0.372,
          0.373,
          0.374,
          0.375,
          0.376,
          0.377,
          0.378,
          0.379,
          0.38,
          0.381,
          0.382,
          0.383,
          0.384,
          0.385,
          0.386,
          0.387,
          0.388,
          0.389,
          0.39,
          0.391,
          0.392,
          0.393,
          0.394,
          0.395,
          0.396,
          0.397,
          0.398,
          0.399,
          0.4,
          0.401,
          0.402,
          0.403,
          0.404,
          0.405,
          0.406,
          0.40700000000000003,
          0.40800000000000003,
          0.40900000000000003,
          0.41000000000000003,
          0.41100000000000003,
          0.41200000000000003,
          0.41300000000000003,
          0.41400000000000003,
          0.41500000000000004,
          0.41600000000000004,
          0.417,
          0.418,
          0.419,
          0.42,
          0.421,
          0.422,
          0.423,
          0.424,
          0.425,
          0.426,
          0.427,
          0.428,
          0.429,
          0.43,
          0.431,
          0.432,
          0.433,
          0.434,
          0.435,
          0.436,
          0.437,
          0.438,
          0.439,
          0.44,
          0.441,
          0.442,
          0.443,
          0.444,
          0.445,
          0.446,
          0.447,
          0.448,
          0.449,
          0.45,
          0.451,
          0.452,
          0.453,
          0.454,
          0.455,
          0.456,
          0.457,
          0.458,
          0.459,
          0.46,
          0.461,
          0.462,
          0.463,
          0.464,
          0.465,
          0.466,
          0.467,
          0.468,
          0.46900000000000003,
          0.47000000000000003,
          0.47100000000000003,
          0.47200000000000003,
          0.47300000000000003,
          0.47400000000000003,
          0.47500000000000003,
          0.47600000000000003,
          0.47700000000000004,
          0.47800000000000004,
          0.47900000000000004,
          0.48,
          0.481,
          0.482,
          0.483,
          0.484,
          0.485,
          0.486,
          0.487,
          0.488,
          0.489,
          0.49,
          0.491,
          0.492,
          0.493,
          0.494,
          0.495,
          0.496,
          0.497,
          0.498,
          0.499,
          0.5,
          0.501,
          0.502,
          0.503,
          0.504,
          0.505,
          0.506,
          0.507,
          0.508,
          0.509,
          0.51,
          0.511,
          0.512,
          0.513,
          0.514,
          0.515,
          0.516,
          0.517,
          0.518,
          0.519,
          0.52,
          0.521,
          0.522,
          0.523,
          0.524,
          0.525,
          0.526,
          0.527,
          0.528,
          0.529,
          0.53,
          0.531,
          0.532,
          0.533,
          0.534,
          0.535,
          0.536,
          0.537,
          0.538,
          0.539,
          0.54,
          0.541,
          0.542,
          0.543,
          0.544,
          0.545,
          0.546,
          0.547,
          0.548,
          0.549,
          0.55,
          0.551,
          0.552,
          0.553,
          0.554,
          0.555,
          0.556,
          0.557,
          0.558,
          0.559,
          0.56,
          0.561,
          0.562,
          0.5630000000000001,
          0.5640000000000001,
          0.5650000000000001,
          0.5660000000000001,
          0.5670000000000001,
          0.5680000000000001,
          0.5690000000000001,
          0.5700000000000001,
          0.5710000000000001,
          0.5720000000000001,
          0.5730000000000001,
          0.5740000000000001,
          0.5750000000000001,
          0.5760000000000001,
          0.577,
          0.578,
          0.579,
          0.58,
          0.581,
          0.582,
          0.583,
          0.584,
          0.585,
          0.586,
          0.587,
          0.588,
          0.589,
          0.59,
          0.591,
          0.592,
          0.593,
          0.594,
          0.595,
          0.596,
          0.597,
          0.598,
          0.599,
          0.6,
          0.601,
          0.602,
          0.603,
          0.604,
          0.605,
          0.606,
          0.607,
          0.608,
          0.609,
          0.61,
          0.611,
          0.612,
          0.613,
          0.614,
          0.615,
          0.616,
          0.617,
          0.618,
          0.619,
          0.62,
          0.621,
          0.622,
          0.623,
          0.624,
          0.625,
          0.626,
          0.627,
          0.628,
          0.629,
          0.63,
          0.631,
          0.632,
          0.633,
          0.634,
          0.635,
          0.636,
          0.637,
          0.638,
          0.639,
          0.64,
          0.641,
          0.642,
          0.643,
          0.644,
          0.645,
          0.646,
          0.647,
          0.648,
          0.649,
          0.65,
          0.651,
          0.652,
          0.653,
          0.654,
          0.655,
          0.656,
          0.657,
          0.658,
          0.659,
          0.66,
          0.661,
          0.662,
          0.663,
          0.664,
          0.665,
          0.666,
          0.667,
          0.668,
          0.669,
          0.67,
          0.671,
          0.672,
          0.673,
          0.674,
          0.675,
          0.676,
          0.677,
          0.678,
          0.679,
          0.68,
          0.681,
          0.682,
          0.683,
          0.684,
          0.685,
          0.686,
          0.687,
          0.6880000000000001,
          0.6890000000000001,
          0.6900000000000001,
          0.6910000000000001,
          0.6920000000000001,
          0.6930000000000001,
          0.6940000000000001,
          0.6950000000000001,
          0.6960000000000001,
          0.6970000000000001,
          0.6980000000000001,
          0.6990000000000001,
          0.7000000000000001,
          0.7010000000000001,
          0.7020000000000001,
          0.7030000000000001,
          0.704,
          0.705,
          0.706,
          0.707,
          0.708,
          0.709,
          0.71,
          0.711,
          0.712,
          0.713,
          0.714,
          0.715,
          0.716,
          0.717,
          0.718,
          0.719,
          0.72,
          0.721,
          0.722,
          0.723,
          0.724,
          0.725,
          0.726,
          0.727,
          0.728,
          0.729,
          0.73,
          0.731,
          0.732,
          0.733,
          0.734,
          0.735,
          0.736,
          0.737,
          0.738,
          0.739,
          0.74,
          0.741,
          0.742,
          0.743,
          0.744,
          0.745,
          0.746,
          0.747,
          0.748,
          0.749,
          0.75,
          0.751,
          0.752,
          0.753,
          0.754,
          0.755,
          0.756,
          0.757,
          0.758,
          0.759,
          0.76,
          0.761,
          0.762,
          0.763,
          0.764,
          0.765,
          0.766,
          0.767,
          0.768,
          0.769,
          0.77,
          0.771,
          0.772,
          0.773,
          0.774,
          0.775,
          0.776,
          0.777,
          0.778,
          0.779,
          0.78,
          0.781,
          0.782,
          0.783,
          0.784,
          0.785,
          0.786,
          0.787,
          0.788,
          0.789,
          0.79,
          0.791,
          0.792,
          0.793,
          0.794,
          0.795,
          0.796,
          0.797,
          0.798,
          0.799,
          0.8,
          0.801,
          0.802,
          0.803,
          0.804,
          0.805,
          0.806,
          0.807,
          0.808,
          0.809,
          0.81,
          0.811,
          0.812,
          0.8130000000000001,
          0.8140000000000001,
          0.8150000000000001,
          0.8160000000000001,
          0.8170000000000001,
          0.8180000000000001,
          0.8190000000000001,
          0.8200000000000001,
          0.8210000000000001,
          0.8220000000000001,
          0.8230000000000001,
          0.8240000000000001,
          0.8250000000000001,
          0.8260000000000001,
          0.8270000000000001,
          0.8280000000000001,
          0.8290000000000001,
          0.8300000000000001,
          0.8310000000000001,
          0.8320000000000001,
          0.833,
          0.834,
          0.835,
          0.836,
          0.837,
          0.838,
          0.839,
          0.84,
          0.841,
          0.842,
          0.843,
          0.844,
          0.845,
          0.846,
          0.847,
          0.848,
          0.849,
          0.85,
          0.851,
          0.852,
          0.853,
          0.854,
          0.855,
          0.856,
          0.857,
          0.858,
          0.859,
          0.86,
          0.861,
          0.862,
          0.863,
          0.864,
          0.865,
          0.866,
          0.867,
          0.868,
          0.869,
          0.87,
          0.871,
          0.872,
          0.873,
          0.874,
          0.875,
          0.876,
          0.877,
          0.878,
          0.879,
          0.88,
          0.881,
          0.882,
          0.883,
          0.884,
          0.885,
          0.886,
          0.887,
          0.888,
          0.889,
          0.89,
          0.891,
          0.892,
          0.893,
          0.894,
          0.895,
          0.896,
          0.897,
          0.898,
          0.899,
          0.9,
          0.901,
          0.902,
          0.903,
          0.904,
          0.905,
          0.906,
          0.907,
          0.908,
          0.909,
          0.91,
          0.911,
          0.912,
          0.913,
          0.914,
          0.915,
          0.916,
          0.917,
          0.918,
          0.919,
          0.92,
          0.921,
          0.922,
          0.923,
          0.924,
          0.925,
          0.926,
          0.927,
          0.928,
          0.929,
          0.93,
          0.931,
          0.932,
          0.933,
          0.934,
          0.935,
          0.936,
          0.937,
          0.9380000000000001,
          0.9390000000000001,
          0.9400000000000001,
          0.9410000000000001,
          0.9420000000000001,
          0.9430000000000001,
          0.9440000000000001,
          0.9450000000000001,
          0.9460000000000001,
          0.9470000000000001,
          0.9480000000000001,
          0.9490000000000001,
          0.9500000000000001,
          0.9510000000000001,
          0.9520000000000001,
          0.9530000000000001,
          0.9540000000000001,
          0.9550000000000001,
          0.9560000000000001,
          0.9570000000000001,
          0.9580000000000001,
          0.9590000000000001,
          0.96,
          0.961,
          0.962,
          0.963,
          0.964,
          0.965,
          0.966,
          0.967,
          0.968,
          0.969,
          0.97,
          0.971,
          0.972,
          0.973,
          0.974,
          0.975,
          0.976,
          0.977,
          0.978,
          0.979,
          0.98,
          0.981,
          0.982,
          0.983,
          0.984,
          0.985,
          0.986,
          0.987,
          0.988,
          0.989,
          0.99,
          0.991,
          0.992,
          0.993,
          0.994,
          0.995,
          0.996,
          0.997,
          0.998,
          0.999,
          1,
          1.0010000000000001,
          1.002,
          1.0030000000000001,
          1.004,
          1.0050000000000001,
          1.006,
          1.0070000000000001,
          1.008,
          1.0090000000000001,
          1.01,
          1.0110000000000001,
          1.012,
          1.0130000000000001,
          1.014,
          1.0150000000000001,
          1.016,
          1.0170000000000001,
          1.018,
          1.0190000000000001,
          1.02,
          1.0210000000000001,
          1.022,
          1.0230000000000001,
          1.024,
          1.025,
          1.026,
          1.027,
          1.028,
          1.029,
          1.03,
          1.031,
          1.032,
          1.033,
          1.034,
          1.035,
          1.036,
          1.037,
          1.038,
          1.039,
          1.04,
          1.041,
          1.042,
          1.043,
          1.044,
          1.045,
          1.046,
          1.047,
          1.048,
          1.049,
          1.05,
          1.051,
          1.052,
          1.053,
          1.054,
          1.055,
          1.056,
          1.057,
          1.058,
          1.059,
          1.06,
          1.061,
          1.062,
          1.063,
          1.064,
          1.065,
          1.066,
          1.067,
          1.068,
          1.069,
          1.07,
          1.071,
          1.072,
          1.073,
          1.074,
          1.075,
          1.076,
          1.077,
          1.078,
          1.079,
          1.08,
          1.081,
          1.082,
          1.083,
          1.084,
          1.085,
          1.086,
          1.087,
          1.088,
          1.089,
          1.09,
          1.091,
          1.092,
          1.093,
          1.094,
          1.095,
          1.096,
          1.097,
          1.098,
          1.099,
          1.1,
          1.101,
          1.102,
          1.103,
          1.104,
          1.105,
          1.106,
          1.107,
          1.108,
          1.109,
          1.11,
          1.111,
          1.112,
          1.113,
          1.114,
          1.115,
          1.116,
          1.117,
          1.118,
          1.119,
          1.12,
          1.121,
          1.122,
          1.123,
          1.124,
          1.125,
          1.1260000000000001,
          1.127,
          1.1280000000000001,
          1.129,
          1.1300000000000001,
          1.131,
          1.1320000000000001,
          1.133,
          1.1340000000000001,
          1.135,
          1.1360000000000001,
          1.137,
          1.1380000000000001,
          1.139,
          1.1400000000000001,
          1.141,
          1.1420000000000001,
          1.143,
          1.1440000000000001,
          1.145,
          1.1460000000000001,
          1.147,
          1.1480000000000001,
          1.149,
          1.1500000000000001,
          1.151,
          1.1520000000000001,
          1.153,
          1.154,
          1.155,
          1.156,
          1.157,
          1.158,
          1.159,
          1.16,
          1.161,
          1.162,
          1.163,
          1.164,
          1.165,
          1.166,
          1.167,
          1.168,
          1.169,
          1.17,
          1.171,
          1.172,
          1.173,
          1.174,
          1.175,
          1.176,
          1.177,
          1.178,
          1.179,
          1.18,
          1.181,
          1.182,
          1.183,
          1.184,
          1.185,
          1.186,
          1.187,
          1.188,
          1.189,
          1.19,
          1.191,
          1.192,
          1.193,
          1.194,
          1.195,
          1.196,
          1.197,
          1.198,
          1.199,
          1.2,
          1.201,
          1.202,
          1.203,
          1.204,
          1.205,
          1.206,
          1.207,
          1.208,
          1.209,
          1.21,
          1.211,
          1.212,
          1.213,
          1.214,
          1.215,
          1.216,
          1.217,
          1.218,
          1.219,
          1.22,
          1.221,
          1.222,
          1.223,
          1.224,
          1.225,
          1.226,
          1.227,
          1.228,
          1.229,
          1.23,
          1.231,
          1.232,
          1.233,
          1.234,
          1.235,
          1.236,
          1.237,
          1.238,
          1.239,
          1.24,
          1.241,
          1.242,
          1.243,
          1.244,
          1.245,
          1.246,
          1.247,
          1.248,
          1.249,
          1.25,
          1.2510000000000001,
          1.252,
          1.2530000000000001,
          1.254,
          1.2550000000000001,
          1.256,
          1.2570000000000001,
          1.258,
          1.2590000000000001,
          1.26,
          1.2610000000000001,
          1.262,
          1.2630000000000001,
          1.264,
          1.2650000000000001,
          1.266,
          1.2670000000000001,
          1.268,
          1.2690000000000001,
          1.27,
          1.2710000000000001,
          1.272,
          1.2730000000000001,
          1.274,
          1.2750000000000001,
          1.276,
          1.2770000000000001,
          1.278,
          1.2790000000000001,
          1.28,
          1.281,
          1.282,
          1.283,
          1.284,
          1.285,
          1.286,
          1.287,
          1.288,
          1.289,
          1.29,
          1.291,
          1.292,
          1.293,
          1.294,
          1.295,
          1.296,
          1.297,
          1.298,
          1.299,
          1.3,
          1.301,
          1.302,
          1.303,
          1.304,
          1.305,
          1.306,
          1.307,
          1.308,
          1.309,
          1.31,
          1.311,
          1.312,
          1.313,
          1.314,
          1.315,
          1.316,
          1.317,
          1.318,
          1.319,
          1.32,
          1.321,
          1.322,
          1.323,
          1.324,
          1.325,
          1.326,
          1.327,
          1.328,
          1.329,
          1.33,
          1.331,
          1.332,
          1.333,
          1.334,
          1.335,
          1.336,
          1.337,
          1.338,
          1.339,
          1.34,
          1.341,
          1.342,
          1.343,
          1.344,
          1.345,
          1.346,
          1.347,
          1.348,
          1.349,
          1.35,
          1.351,
          1.352,
          1.353,
          1.354,
          1.355,
          1.356,
          1.357,
          1.358,
          1.359,
          1.36,
          1.361,
          1.362,
          1.363,
          1.364,
          1.365,
          1.366,
          1.367,
          1.368,
          1.369,
          1.37,
          1.371,
          1.372,
          1.373,
          1.374,
          1.375,
          1.3760000000000001,
          1.377,
          1.3780000000000001,
          1.379,
          1.3800000000000001,
          1.381,
          1.3820000000000001,
          1.383,
          1.3840000000000001,
          1.385,
          1.3860000000000001,
          1.387,
          1.3880000000000001,
          1.389,
          1.3900000000000001,
          1.391,
          1.3920000000000001,
          1.393,
          1.3940000000000001,
          1.395,
          1.3960000000000001,
          1.397,
          1.3980000000000001,
          1.399,
          1.4000000000000001,
          1.401,
          1.4020000000000001,
          1.403,
          1.4040000000000001,
          1.405,
          1.4060000000000001,
          1.407,
          1.408,
          1.409,
          1.41,
          1.411,
          1.412,
          1.413,
          1.414,
          1.415,
          1.416,
          1.417,
          1.418,
          1.419,
          1.42,
          1.421,
          1.422,
          1.423,
          1.424,
          1.425,
          1.426,
          1.427,
          1.428,
          1.429,
          1.43,
          1.431,
          1.432,
          1.433,
          1.434,
          1.435,
          1.436,
          1.437,
          1.438,
          1.439,
          1.44,
          1.441,
          1.442,
          1.443,
          1.444,
          1.445,
          1.446,
          1.447,
          1.448,
          1.449,
          1.45,
          1.451,
          1.452,
          1.453,
          1.454,
          1.455,
          1.456,
          1.457,
          1.458,
          1.459,
          1.46,
          1.461,
          1.462,
          1.463,
          1.464,
          1.465,
          1.466,
          1.467,
          1.468,
          1.469,
          1.47,
          1.471,
          1.472,
          1.473,
          1.474,
          1.475,
          1.476,
          1.477,
          1.478,
          1.479,
          1.48,
          1.481,
          1.482,
          1.483,
          1.484,
          1.485,
          1.486,
          1.487,
          1.488,
          1.489,
          1.49,
          1.491,
          1.492,
          1.493,
          1.494,
          1.495,
          1.496,
          1.497,
          1.498,
          1.499,
          1.5,
          1.5010000000000001,
          1.502,
          1.5030000000000001,
          1.504,
          1.5050000000000001,
          1.506,
          1.5070000000000001,
          1.508,
          1.5090000000000001,
          1.51,
          1.5110000000000001,
          1.512,
          1.5130000000000001,
          1.514,
          1.5150000000000001,
          1.516,
          1.5170000000000001,
          1.518,
          1.5190000000000001,
          1.52,
          1.5210000000000001,
          1.522,
          1.5230000000000001,
          1.524,
          1.5250000000000001,
          1.526,
          1.5270000000000001,
          1.528,
          1.5290000000000001,
          1.53,
          1.5310000000000001,
          1.532,
          1.5330000000000001,
          1.534,
          1.5350000000000001,
          1.536,
          1.537,
          1.538,
          1.539,
          1.54,
          1.541,
          1.542,
          1.543,
          1.544,
          1.545,
          1.546,
          1.547,
          1.548,
          1.549,
          1.55,
          1.551,
          1.552,
          1.553,
          1.554,
          1.555,
          1.556,
          1.557,
          1.558,
          1.559,
          1.56,
          1.561,
          1.562,
          1.563,
          1.564,
          1.565,
          1.566,
          1.567,
          1.568,
          1.569,
          1.57,
          1.571,
          1.572,
          1.573,
          1.574,
          1.575,
          1.576,
          1.577,
          1.578,
          1.579,
          1.58,
          1.581,
          1.582,
          1.583,
          1.584,
          1.585,
          1.586,
          1.587,
          1.588,
          1.589,
          1.59,
          1.591,
          1.592,
          1.593,
          1.594,
          1.595,
          1.596,
          1.597,
          1.598,
          1.599,
          1.6,
          1.601,
          1.602,
          1.603,
          1.604,
          1.605,
          1.606,
          1.607,
          1.608,
          1.609,
          1.61,
          1.611,
          1.612,
          1.613,
          1.614,
          1.615,
          1.616,
          1.617,
          1.618,
          1.619,
          1.62,
          1.621,
          1.622,
          1.623,
          1.624,
          1.625,
          1.6260000000000001,
          1.627,
          1.6280000000000001,
          1.629,
          1.6300000000000001,
          1.631,
          1.6320000000000001,
          1.633,
          1.6340000000000001,
          1.635,
          1.6360000000000001,
          1.637,
          1.6380000000000001,
          1.639,
          1.6400000000000001,
          1.641,
          1.6420000000000001,
          1.643,
          1.6440000000000001,
          1.645,
          1.6460000000000001,
          1.647,
          1.6480000000000001,
          1.649,
          1.6500000000000001,
          1.651,
          1.6520000000000001,
          1.653,
          1.6540000000000001,
          1.655,
          1.6560000000000001,
          1.657,
          1.6580000000000001,
          1.659,
          1.6600000000000001,
          1.661,
          1.6620000000000001,
          1.663,
          1.6640000000000001,
          1.665,
          1.666,
          1.667,
          1.668,
          1.669,
          1.67,
          1.671,
          1.672,
          1.673,
          1.674,
          1.675,
          1.676,
          1.677,
          1.678,
          1.679,
          1.68,
          1.681,
          1.682,
          1.683,
          1.684,
          1.685,
          1.686,
          1.687,
          1.688,
          1.689,
          1.69,
          1.691,
          1.692,
          1.693,
          1.694,
          1.695,
          1.696,
          1.697,
          1.698,
          1.699,
          1.7,
          1.701,
          1.702,
          1.703,
          1.704,
          1.705,
          1.706,
          1.707,
          1.708,
          1.709,
          1.71,
          1.711,
          1.712,
          1.713,
          1.714,
          1.715,
          1.716,
          1.717,
          1.718,
          1.719,
          1.72,
          1.721,
          1.722,
          1.723,
          1.724,
          1.725,
          1.726,
          1.727,
          1.728,
          1.729,
          1.73,
          1.731,
          1.732,
          1.733,
          1.734,
          1.735,
          1.736,
          1.737,
          1.738,
          1.739,
          1.74,
          1.741,
          1.742,
          1.743,
          1.744,
          1.745,
          1.746,
          1.747,
          1.748,
          1.749,
          1.75,
          1.7510000000000001,
          1.752,
          1.7530000000000001,
          1.754,
          1.7550000000000001,
          1.756,
          1.7570000000000001,
          1.758,
          1.7590000000000001,
          1.76,
          1.7610000000000001,
          1.762,
          1.7630000000000001,
          1.764,
          1.7650000000000001,
          1.766,
          1.7670000000000001,
          1.768,
          1.7690000000000001,
          1.77,
          1.7710000000000001,
          1.772,
          1.7730000000000001,
          1.774,
          1.7750000000000001,
          1.776,
          1.7770000000000001,
          1.778,
          1.7790000000000001,
          1.78,
          1.7810000000000001,
          1.782,
          1.7830000000000001,
          1.784,
          1.7850000000000001,
          1.786,
          1.7870000000000001,
          1.788,
          1.7890000000000001,
          1.79,
          1.7910000000000001,
          1.792,
          1.793,
          1.794,
          1.795,
          1.796,
          1.797,
          1.798,
          1.799,
          1.8,
          1.801,
          1.802,
          1.803,
          1.804,
          1.805,
          1.806,
          1.807,
          1.808,
          1.809,
          1.81,
          1.811,
          1.812,
          1.813,
          1.814,
          1.815,
          1.816,
          1.817,
          1.818,
          1.819,
          1.82,
          1.821,
          1.822,
          1.823,
          1.824,
          1.825,
          1.826,
          1.827,
          1.828,
          1.829,
          1.83,
          1.831,
          1.832,
          1.833,
          1.834,
          1.835,
          1.836,
          1.837,
          1.838,
          1.839,
          1.84,
          1.841,
          1.842,
          1.843,
          1.844,
          1.845,
          1.846,
          1.847,
          1.848,
          1.849,
          1.85,
          1.851,
          1.852,
          1.853,
          1.854,
          1.855,
          1.856,
          1.857,
          1.858,
          1.859,
          1.86,
          1.861,
          1.862,
          1.863,
          1.864,
          1.865,
          1.866,
          1.867,
          1.868,
          1.869,
          1.87,
          1.871,
          1.872,
          1.873,
          1.874,
          1.875,
          1.8760000000000001,
          1.877,
          1.8780000000000001,
          1.879,
          1.8800000000000001,
          1.881,
          1.8820000000000001,
          1.883,
          1.8840000000000001,
          1.885,
          1.8860000000000001,
          1.887,
          1.8880000000000001,
          1.889,
          1.8900000000000001,
          1.891,
          1.8920000000000001,
          1.893,
          1.8940000000000001,
          1.895,
          1.8960000000000001,
          1.897,
          1.8980000000000001,
          1.899,
          1.9000000000000001,
          1.901,
          1.9020000000000001,
          1.903,
          1.9040000000000001,
          1.905,
          1.9060000000000001,
          1.907,
          1.9080000000000001,
          1.909,
          1.9100000000000001,
          1.911,
          1.9120000000000001,
          1.913,
          1.9140000000000001,
          1.915,
          1.9160000000000001,
          1.917,
          1.9180000000000001,
          1.919,
          1.92,
          1.921,
          1.922,
          1.923,
          1.924,
          1.925
         ],
         "xaxis": "x",
         "y": [
          0,
          null,
          null,
          null,
          null,
          null,
          null,
          null,
          null,
          null,
          null,
          null,
          null,
          null,
          null,
          null,
          null,
          null,
          null,
          null,
          null,
          null,
          null,
          null,
          null,
          null,
          null,
          null,
          null,
          null,
          null,
          null,
          null,
          null,
          null,
          null,
          null,
          null,
          null,
          null,
          null,
          null,
          null,
          null,
          null,
          null,
          null,
          null,
          null,
          null,
          null,
          null,
          null,
          null,
          null,
          null,
          null,
          null,
          null,
          null,
          null,
          null,
          null,
          null,
          null,
          null,
          null,
          null,
          null,
          null,
          null,
          null,
          null,
          null,
          null,
          null,
          null,
          null,
          null,
          null,
          null,
          null,
          null,
          null,
          null,
          null,
          null,
          null,
          null,
          null,
          null,
          null,
          null,
          null,
          null,
          null,
          null,
          null,
          null,
          null,
          null,
          null,
          null,
          null,
          null,
          null,
          null,
          null,
          null,
          null,
          null,
          null,
          null,
          null,
          null,
          null,
          null,
          null,
          null,
          null,
          null,
          null,
          null,
          null,
          null,
          null,
          null,
          null,
          null,
          null,
          null,
          null,
          null,
          null,
          null,
          null,
          null,
          null,
          null,
          null,
          null,
          null,
          null,
          null,
          null,
          null,
          null,
          null,
          null,
          null,
          null,
          null,
          null,
          null,
          null,
          null,
          null,
          null,
          null,
          null,
          null,
          null,
          null,
          null,
          null,
          null,
          null,
          null,
          null,
          null,
          null,
          null,
          null,
          null,
          null,
          null,
          null,
          null,
          null,
          null,
          null,
          null,
          null,
          null,
          null,
          null,
          null,
          null,
          null,
          null,
          null,
          null,
          null,
          null,
          null,
          null,
          null,
          null,
          null,
          null,
          null,
          null,
          null,
          null,
          null,
          null,
          null,
          null,
          null,
          null,
          null,
          null,
          null,
          null,
          null,
          null,
          null,
          null,
          null,
          null,
          null,
          null,
          null,
          null,
          null,
          null,
          null,
          null,
          null,
          null,
          null,
          null,
          null,
          null,
          null,
          null,
          null,
          null,
          null,
          null,
          null,
          null,
          null,
          null,
          null,
          null,
          null,
          null,
          null,
          null,
          null,
          null,
          null,
          null,
          null,
          null,
          null,
          null,
          null,
          null,
          null,
          null,
          null,
          null,
          null,
          null,
          null,
          null,
          null,
          null,
          null,
          null,
          null,
          null,
          null,
          null,
          null,
          null,
          null,
          null,
          null,
          null,
          null,
          null,
          null,
          null,
          null,
          null,
          null,
          null,
          null,
          null,
          null,
          null,
          null,
          null,
          null,
          null,
          null,
          null,
          null,
          null,
          null,
          null,
          null,
          null,
          null,
          null,
          null,
          null,
          null,
          null,
          null,
          null,
          null,
          null,
          null,
          null,
          null,
          null,
          null,
          null,
          null,
          null,
          null,
          null,
          null,
          null,
          null,
          null,
          null,
          null,
          null,
          null,
          null,
          null,
          null,
          null,
          null,
          null,
          null,
          null,
          null,
          null,
          null,
          null,
          null,
          null,
          null,
          null,
          null,
          null,
          null,
          null,
          null,
          null,
          null,
          null,
          null,
          null,
          null,
          null,
          null,
          null,
          null,
          null,
          null,
          null,
          null,
          null,
          null,
          null,
          null,
          null,
          null,
          null,
          null,
          null,
          null,
          null,
          null,
          null,
          null,
          null,
          null,
          null,
          null,
          null,
          null,
          null,
          null,
          null,
          null,
          null,
          null,
          null,
          null,
          null,
          null,
          null,
          null,
          null,
          null,
          null,
          null,
          null,
          null,
          null,
          null,
          null,
          null,
          null,
          null,
          null,
          null,
          null,
          null,
          null,
          null,
          null,
          null,
          null,
          null,
          null,
          null,
          null,
          null,
          null,
          null,
          null,
          null,
          null,
          null,
          null,
          null,
          null,
          null,
          null,
          null,
          null,
          null,
          null,
          null,
          null,
          null,
          null,
          null,
          null,
          null,
          null,
          null,
          null,
          null,
          null,
          null,
          null,
          null,
          null,
          null,
          null,
          null,
          null,
          null,
          null,
          null,
          null,
          null,
          null,
          null,
          null,
          null,
          null,
          null,
          null,
          null,
          null,
          null,
          null,
          null,
          null,
          null,
          null,
          null,
          null,
          null,
          null,
          null,
          null,
          null,
          null,
          null,
          null,
          null,
          null,
          null,
          null,
          null,
          null,
          null,
          null,
          0.5,
          0.501,
          0.502,
          0.503,
          0.504,
          0.505,
          0.506,
          0.507,
          0.508,
          0.509,
          0.51,
          0.511,
          0.512,
          0.513,
          0.514,
          0.515,
          0.516,
          0.517,
          0.518,
          0.519,
          0.52,
          0.521,
          0.522,
          0.523,
          0.524,
          0.525,
          0.526,
          0.527,
          0.528,
          0.529,
          0.53,
          0.531,
          0.532,
          0.533,
          0.534,
          0.535,
          0.536,
          0.537,
          0.538,
          0.539,
          0.54,
          0.541,
          0.542,
          0.543,
          0.544,
          0.545,
          0.546,
          0.547,
          0.548,
          0.549,
          0.55,
          0.551,
          0.552,
          0.553,
          0.554,
          0.555,
          0.556,
          0.557,
          0.558,
          0.559,
          0.56,
          0.561,
          0.562,
          0.5630000000000001,
          0.5640000000000001,
          0.5650000000000001,
          0.5660000000000001,
          0.5670000000000001,
          0.5680000000000001,
          0.5690000000000001,
          0.5700000000000001,
          0.5710000000000001,
          0.5720000000000001,
          0.5730000000000001,
          0.5740000000000001,
          0.5750000000000001,
          0.5760000000000001,
          0.577,
          0.578,
          0.579,
          0.58,
          0.581,
          0.582,
          0.583,
          0.584,
          0.585,
          0.586,
          0.587,
          0.588,
          0.589,
          0.59,
          0.591,
          0.592,
          0.593,
          0.594,
          0.595,
          0.596,
          0.597,
          0.598,
          0.599,
          0.6,
          0.601,
          0.602,
          0.603,
          0.604,
          0.605,
          0.606,
          0.607,
          0.608,
          0.609,
          0.61,
          0.611,
          0.612,
          0.613,
          0.614,
          0.615,
          0.616,
          0.617,
          0.618,
          0.619,
          0.62,
          0.621,
          0.622,
          0.623,
          0.624,
          0.625,
          0.626,
          0.627,
          0.628,
          0.629,
          0.63,
          0.631,
          0.632,
          0.633,
          0.634,
          0.635,
          0.636,
          0.637,
          0.638,
          0.639,
          0.64,
          0.641,
          0.642,
          0.643,
          0.644,
          0.645,
          0.646,
          0.647,
          0.648,
          0.649,
          0.65,
          0.651,
          0.652,
          0.653,
          0.654,
          0.655,
          0.656,
          0.657,
          0.658,
          0.659,
          0.66,
          0.661,
          0.662,
          0.663,
          0.664,
          0.665,
          0.666,
          0.667,
          0.668,
          0.669,
          0.67,
          0.671,
          0.672,
          0.673,
          0.674,
          0.675,
          0.676,
          0.677,
          0.678,
          0.679,
          0.68,
          0.681,
          0.682,
          0.683,
          0.684,
          0.685,
          0.686,
          0.687,
          0.6880000000000001,
          0.6890000000000001,
          0.6900000000000001,
          0.6910000000000001,
          0.6920000000000001,
          0.6930000000000001,
          0.6940000000000001,
          0.6950000000000001,
          0.6960000000000001,
          0.6970000000000001,
          0.6980000000000001,
          0.6990000000000001,
          0.7000000000000001,
          0.7010000000000001,
          0.7020000000000001,
          0.7030000000000001,
          0.704,
          0.705,
          0.706,
          0.707,
          0.708,
          0.709,
          0.71,
          0.711,
          0.712,
          0.713,
          0.714,
          0.715,
          0.716,
          0.717,
          0.718,
          0.719,
          0.72,
          0.721,
          0.722,
          0.723,
          0.724,
          0.725,
          0.726,
          0.727,
          0.728,
          0.729,
          0.73,
          0.731,
          0.732,
          0.733,
          0.734,
          0.735,
          0.736,
          0.737,
          0.738,
          0.739,
          0.74,
          0.741,
          0.742,
          0.743,
          0.744,
          0.745,
          0.746,
          0.747,
          0.748,
          0.749,
          0.75,
          0.751,
          0.752,
          0.753,
          0.754,
          0.755,
          0.756,
          0.757,
          0.758,
          0.759,
          0.76,
          0.761,
          0.762,
          0.763,
          0.764,
          0.765,
          0.766,
          0.767,
          0.768,
          0.769,
          0.77,
          0.771,
          0.772,
          0.773,
          0.774,
          0.775,
          0.776,
          0.777,
          0.778,
          0.779,
          0.78,
          0.781,
          0.782,
          0.783,
          0.784,
          0.785,
          0.786,
          0.787,
          0.788,
          0.789,
          0.79,
          0.791,
          0.792,
          0.793,
          0.794,
          0.795,
          0.796,
          0.797,
          0.798,
          0.799,
          0.8,
          0.801,
          0.802,
          0.803,
          0.804,
          0.805,
          0.806,
          0.807,
          0.808,
          0.809,
          0.81,
          0.811,
          0.812,
          0.8130000000000001,
          0.8140000000000001,
          0.8150000000000001,
          0.8160000000000001,
          0.8170000000000001,
          0.8180000000000001,
          0.8190000000000001,
          0.8200000000000001,
          0.8210000000000001,
          0.8220000000000001,
          0.8230000000000001,
          0.8240000000000001,
          0.8250000000000001,
          0.8260000000000001,
          0.8270000000000001,
          0.8280000000000001,
          0.8290000000000001,
          0.8300000000000001,
          0.8310000000000001,
          0.8320000000000001,
          0.833,
          0.834,
          0.835,
          0.836,
          0.837,
          0.838,
          0.839,
          0.84,
          0.841,
          0.842,
          0.843,
          0.844,
          0.845,
          0.846,
          0.847,
          0.848,
          0.849,
          0.85,
          0.851,
          0.852,
          0.853,
          0.854,
          0.855,
          0.856,
          0.857,
          0.858,
          0.859,
          0.86,
          0.861,
          0.862,
          0.863,
          0.864,
          0.865,
          0.866,
          0.867,
          0.868,
          0.869,
          0.87,
          0.871,
          0.872,
          0.873,
          0.874,
          0.875,
          0.876,
          0.877,
          0.878,
          0.879,
          0.88,
          0.881,
          0.882,
          0.883,
          0.884,
          0.885,
          0.886,
          0.887,
          0.888,
          0.889,
          0.89,
          0.891,
          0.892,
          0.893,
          0.894,
          0.895,
          0.896,
          0.897,
          0.898,
          0.899,
          0.9,
          0.901,
          0.902,
          0.903,
          0.904,
          0.905,
          0.906,
          0.907,
          0.908,
          0.909,
          0.91,
          0.911,
          0.912,
          0.913,
          0.914,
          0.915,
          0.916,
          0.917,
          0.918,
          0.919,
          0.92,
          0.921,
          0.922,
          0.923,
          0.924,
          0.925,
          0.926,
          0.927,
          0.928,
          0.929,
          0.93,
          0.931,
          0.932,
          0.933,
          0.934,
          0.935,
          0.936,
          0.937,
          0.9380000000000001,
          0.9390000000000001,
          0.9400000000000001,
          0.9410000000000001,
          0.9420000000000001,
          0.9430000000000001,
          0.9440000000000001,
          0.9450000000000001,
          0.9460000000000001,
          0.9470000000000001,
          0.9480000000000001,
          0.9490000000000001,
          0.9500000000000001,
          0.9510000000000001,
          0.9520000000000001,
          0.9530000000000001,
          0.9540000000000001,
          0.9550000000000001,
          0.9560000000000001,
          0.9570000000000001,
          0.9580000000000001,
          0.9590000000000001,
          0.96,
          0.961,
          0.962,
          0.963,
          0.964,
          0.965,
          0.966,
          0.967,
          0.968,
          0.969,
          0.97,
          0.971,
          0.972,
          0.973,
          0.974,
          0.975,
          0.976,
          0.977,
          0.978,
          0.979,
          0.98,
          0.981,
          0.982,
          0.983,
          0.984,
          0.985,
          0.986,
          0.987,
          0.988,
          0.989,
          0.99,
          0.991,
          0.992,
          0.993,
          0.994,
          0.995,
          0.996,
          0.997,
          0.998,
          0.999,
          1,
          0.5,
          0.5,
          0.5,
          0.5,
          0.5,
          0.5,
          0.5,
          0.5,
          0.5,
          0.5,
          0.5,
          0.5,
          0.5,
          0.5,
          0.5,
          0.5,
          0.5,
          0.5,
          0.5,
          0.5,
          0.5,
          0.5,
          0.5,
          0.5,
          0.5,
          0.5,
          0.5,
          0.5,
          0.5,
          0.5,
          0.5,
          0.5,
          0.5,
          0.5,
          0.5,
          0.5,
          0.5,
          0.5,
          0.5,
          0.5,
          0.5,
          0.5,
          0.5,
          0.5,
          0.5,
          0.5,
          0.5,
          0.5,
          0.5,
          0.5,
          0.5,
          0.5,
          0.5,
          0.5,
          0.5,
          0.5,
          0.5,
          0.5,
          0.5,
          0.5,
          0.5,
          0.5,
          0.5,
          0.5,
          0.5,
          0.5,
          0.5,
          0.5,
          0.5,
          0.5,
          0.5,
          0.5,
          0.5,
          0.5,
          0.5,
          0.5,
          0.5,
          0.5,
          0.5,
          0.5,
          0.5,
          0.5,
          0.5,
          0.5,
          0.5,
          0.5,
          0.5,
          0.5,
          0.5,
          0.5,
          0.5,
          0.5,
          0.5,
          0.5,
          0.5,
          0.5,
          0.5,
          0.5,
          0.5,
          0.5,
          0.5,
          0.5,
          0.5,
          0.5,
          0.5,
          0.5,
          0.5,
          0.5,
          0.5,
          0.5,
          0.5,
          0.5,
          0.5,
          0.5,
          0.5,
          0.5,
          0.5,
          0.5,
          0.5,
          0.5,
          0.5,
          0.5,
          0.5,
          0.5,
          0.5,
          0.5,
          0.5,
          0.5,
          0.5,
          0.5,
          0.5,
          0.5,
          0.5,
          0.5,
          0.5,
          0.5,
          0.5,
          0.5,
          0.5,
          0.5,
          0.5,
          0.5,
          0.5,
          0.5,
          0.5,
          0.5,
          0.5,
          0.5,
          0.5,
          0.5,
          0.5,
          0.5,
          0.5,
          0.5,
          0.5,
          0.5,
          0.5,
          0.5,
          0.5,
          0.5,
          0.5,
          0.5,
          0.5,
          0.5,
          0.5,
          0.5,
          0.5,
          0.5,
          0.5,
          0.5,
          0.5,
          0.5,
          0.5,
          0.5,
          0.5,
          0.5,
          0.5,
          0.5,
          0.5,
          0.5,
          0.5,
          0.5,
          0.5,
          0.5,
          0.5,
          0.5,
          0.5,
          0.5,
          0.5,
          0.5,
          0.5,
          0.5,
          0.5,
          0.5,
          0.5,
          0.5,
          0.5,
          0.5,
          0.5,
          0.5,
          0.5,
          0.5,
          0.5,
          0.5,
          0.5,
          0.5,
          0.5,
          0.5,
          0.5,
          0.5,
          0.5,
          0.5,
          0.5,
          0.5,
          0.5,
          0.5,
          0.5,
          0.5,
          0.5,
          0.5,
          0.5,
          0.5,
          0.5,
          0.5,
          0.5,
          0.5,
          0.5,
          0.5,
          0.5,
          0.5,
          0.5,
          0.5,
          0.5,
          0.5,
          0.5,
          0.5,
          0.5,
          0.5,
          0.5,
          0.5,
          0.5,
          0.5,
          0.5,
          0.5,
          0.5,
          0.5,
          0.5,
          0.5,
          0.5,
          0.5,
          0.5010000000000001,
          0.502,
          0.5030000000000001,
          0.504,
          0.5050000000000001,
          0.506,
          0.5070000000000001,
          0.508,
          0.5090000000000001,
          0.51,
          0.5110000000000001,
          0.512,
          0.5130000000000001,
          0.514,
          0.5150000000000001,
          0.516,
          0.5170000000000001,
          0.518,
          0.5190000000000001,
          0.52,
          0.5210000000000001,
          0.522,
          0.5230000000000001,
          0.524,
          0.5250000000000001,
          0.526,
          0.5270000000000001,
          0.528,
          0.5290000000000001,
          0.53,
          0.5309999999999999,
          0.532,
          0.5329999999999999,
          0.534,
          0.5349999999999999,
          0.536,
          0.5369999999999999,
          0.538,
          0.5389999999999999,
          0.54,
          0.5409999999999999,
          0.542,
          0.5429999999999999,
          0.544,
          0.5449999999999999,
          0.546,
          0.5469999999999999,
          0.548,
          0.5489999999999999,
          0.55,
          0.5509999999999999,
          0.552,
          0.5529999999999999,
          0.554,
          0.5549999999999999,
          0.556,
          0.5569999999999999,
          0.558,
          0.5589999999999999,
          0.56,
          0.5609999999999999,
          0.562,
          0.563,
          0.5640000000000001,
          0.565,
          0.5660000000000001,
          0.567,
          0.5680000000000001,
          0.569,
          0.5700000000000001,
          0.571,
          0.5720000000000001,
          0.573,
          0.5740000000000001,
          0.575,
          0.5760000000000001,
          0.577,
          0.5780000000000001,
          0.579,
          0.5800000000000001,
          0.581,
          0.5820000000000001,
          0.583,
          0.5840000000000001,
          0.585,
          0.5860000000000001,
          0.587,
          0.5880000000000001,
          0.589,
          0.5900000000000001,
          0.591,
          0.5920000000000001,
          0.593,
          0.5940000000000001,
          0.595,
          0.5960000000000001,
          0.597,
          0.5980000000000001,
          0.599,
          0.6000000000000001,
          0.601,
          0.6020000000000001,
          0.603,
          0.6040000000000001,
          0.605,
          0.6060000000000001,
          0.607,
          0.6080000000000001,
          0.609,
          0.6100000000000001,
          0.611,
          0.6120000000000001,
          0.613,
          0.6140000000000001,
          0.615,
          0.6160000000000001,
          0.617,
          0.6180000000000001,
          0.619,
          0.6200000000000001,
          0.621,
          0.6220000000000001,
          0.623,
          0.6240000000000001,
          0.625,
          0.6260000000000001,
          0.627,
          0.6280000000000001,
          0.629,
          0.6300000000000001,
          0.631,
          0.6320000000000001,
          0.633,
          0.6340000000000001,
          0.635,
          0.6360000000000001,
          0.637,
          0.6380000000000001,
          0.639,
          0.6400000000000001,
          0.641,
          0.6420000000000001,
          0.643,
          0.6440000000000001,
          0.645,
          0.6460000000000001,
          0.647,
          0.6480000000000001,
          0.649,
          0.6500000000000001,
          0.651,
          0.6520000000000001,
          0.653,
          0.6540000000000001,
          0.655,
          0.6560000000000001,
          0.657,
          0.6579999999999999,
          0.659,
          0.6599999999999999,
          0.661,
          0.6619999999999999,
          0.663,
          0.6639999999999999,
          0.665,
          0.6659999999999999,
          0.667,
          0.6679999999999999,
          0.669,
          0.6699999999999999,
          0.671,
          0.6719999999999999,
          0.673,
          0.6739999999999999,
          0.675,
          0.6759999999999999,
          0.677,
          0.6779999999999999,
          0.679,
          0.6799999999999999,
          0.681,
          0.6819999999999999,
          0.683,
          0.6839999999999999,
          0.685,
          0.6859999999999999,
          0.687,
          0.688,
          0.6890000000000001,
          0.69,
          0.6910000000000001,
          0.692,
          0.6930000000000001,
          0.694,
          0.6950000000000001,
          0.696,
          0.6970000000000001,
          0.698,
          0.6990000000000001,
          0.7,
          0.7010000000000001,
          0.702,
          0.7030000000000001,
          0.704,
          0.7050000000000001,
          0.706,
          0.7070000000000001,
          0.708,
          0.7090000000000001,
          0.71,
          0.7110000000000001,
          0.712,
          0.7130000000000001,
          0.714,
          0.7150000000000001,
          0.716,
          0.7170000000000001,
          0.718,
          0.7190000000000001,
          0.72,
          0.7210000000000001,
          0.722,
          0.7230000000000001,
          0.724,
          0.7250000000000001,
          0.726,
          0.7270000000000001,
          0.728,
          0.7290000000000001,
          0.73,
          0.7310000000000001,
          0.732,
          0.7330000000000001,
          0.734,
          0.7350000000000001,
          0.736,
          0.7370000000000001,
          0.738,
          0.7390000000000001,
          0.74,
          0.7410000000000001,
          0.742,
          0.7430000000000001,
          0.744,
          0.7450000000000001,
          0.746,
          0.7470000000000001,
          0.748,
          0.7490000000000001,
          0.75,
          0.7510000000000001,
          0.752,
          0.7530000000000001,
          0.754,
          0.7550000000000001,
          0.756,
          0.7570000000000001,
          0.758,
          0.7590000000000001,
          0.76,
          0.7610000000000001,
          0.762,
          0.7630000000000001,
          0.764,
          0.7650000000000001,
          0.766,
          0.7670000000000001,
          0.768,
          0.7690000000000001,
          0.77,
          0.7710000000000001,
          0.772,
          0.7730000000000001,
          0.774,
          0.7750000000000001,
          0.776,
          0.7770000000000001,
          0.778,
          0.7790000000000001,
          0.78,
          0.7810000000000001,
          0.782,
          0.7830000000000001,
          0.784,
          0.7850000000000001,
          0.786,
          0.7869999999999999,
          0.788,
          0.7889999999999999,
          0.79,
          0.7909999999999999,
          0.792,
          0.7929999999999999,
          0.794,
          0.7949999999999999,
          0.796,
          0.7969999999999999,
          0.798,
          0.7989999999999999,
          0.8,
          0.8009999999999999,
          0.802,
          0.8029999999999999,
          0.804,
          0.8049999999999999,
          0.806,
          0.8069999999999999,
          0.808,
          0.8089999999999999,
          0.81,
          0.8109999999999999,
          0.812,
          0.813,
          0.8140000000000001,
          0.815,
          0.8160000000000001,
          0.817,
          0.8180000000000001,
          0.819,
          0.8200000000000001,
          0.821,
          0.8220000000000001,
          0.823,
          0.8240000000000001,
          0.825,
          0.8260000000000001,
          0.827,
          0.8280000000000001,
          0.829,
          0.8300000000000001,
          0.831,
          0.8320000000000001,
          0.833,
          0.8340000000000001,
          0.835,
          0.8360000000000001,
          0.837,
          0.8380000000000001,
          0.839,
          0.8400000000000001,
          0.841,
          0.8420000000000001,
          0.843,
          0.8440000000000001,
          0.845,
          0.8460000000000001,
          0.847,
          0.8480000000000001,
          0.849,
          0.8500000000000001,
          0.851,
          0.8520000000000001,
          0.853,
          0.8540000000000001,
          0.855,
          0.8560000000000001,
          0.857,
          0.8580000000000001,
          0.859,
          0.8600000000000001,
          0.861,
          0.8620000000000001,
          0.863,
          0.8640000000000001,
          0.865,
          0.8660000000000001,
          0.867,
          0.8680000000000001,
          0.869,
          0.8700000000000001,
          0.871,
          0.8720000000000001,
          0.873,
          0.8740000000000001,
          0.875,
          0.8760000000000001,
          0.877,
          0.8780000000000001,
          0.879,
          0.8800000000000001,
          0.881,
          0.8820000000000001,
          0.883,
          0.8840000000000001,
          0.885,
          0.8860000000000001,
          0.887,
          0.8880000000000001,
          0.889,
          0.8900000000000001,
          0.891,
          0.8920000000000001,
          0.893,
          0.8940000000000001,
          0.895,
          0.8960000000000001,
          0.897,
          0.8980000000000001,
          0.899,
          0.9000000000000001,
          0.901,
          0.9020000000000001,
          0.903,
          0.9040000000000001,
          0.905,
          0.9060000000000001,
          0.907,
          0.9080000000000001,
          0.909,
          0.9100000000000001,
          0.911,
          0.9120000000000001,
          0.913,
          0.9140000000000001,
          0.915,
          0.9159999999999999,
          0.917,
          0.9179999999999999,
          0.919,
          0.9199999999999999,
          0.921,
          0.9219999999999999,
          0.923,
          0.9239999999999999,
          0.925,
          0.9259999999999999,
          0.927,
          0.9279999999999999,
          0.929,
          0.9299999999999999,
          0.931,
          0.9319999999999999,
          0.933,
          0.9339999999999999,
          0.935,
          0.9359999999999999,
          0.937,
          0.938,
          0.9390000000000001,
          0.94,
          0.9410000000000001,
          0.942,
          0.9430000000000001,
          0.944,
          0.9450000000000001,
          0.946,
          0.9470000000000001,
          0.948,
          0.9490000000000001,
          0.95,
          0.9510000000000001,
          0.952,
          0.9530000000000001,
          0.954,
          0.9550000000000001,
          0.956,
          0.9570000000000001,
          0.958,
          0.9590000000000001,
          0.96,
          0.9610000000000001,
          0.962,
          0.9630000000000001,
          0.964,
          0.9650000000000001,
          0.966,
          0.9670000000000001,
          0.968,
          0.9690000000000001,
          0.97,
          0.9710000000000001,
          0.972,
          0.9730000000000001,
          0.974,
          0.9750000000000001,
          0.976,
          0.9770000000000001,
          0.978,
          0.9790000000000001,
          0.98,
          0.9810000000000001,
          0.982,
          0.9830000000000001,
          0.984,
          0.9850000000000001,
          0.986,
          0.9870000000000001,
          0.988,
          0.9890000000000001,
          0.99,
          0.9910000000000001,
          0.992,
          0.9930000000000001,
          0.994,
          0.9950000000000001,
          0.996,
          0.9970000000000001,
          0.998,
          0.9990000000000001,
          1,
          null,
          null,
          null,
          null,
          null,
          null,
          null,
          null,
          null,
          null,
          null,
          null,
          null,
          null,
          null,
          null,
          null,
          null,
          null,
          null,
          null,
          null,
          null,
          null,
          null,
          null,
          null,
          null,
          null,
          null,
          null,
          null,
          null,
          null,
          null,
          null,
          null,
          null,
          null,
          null,
          null,
          null,
          null,
          null,
          null,
          null,
          null,
          null,
          null,
          null,
          null,
          null,
          null,
          null,
          null,
          null,
          null,
          null,
          null,
          null,
          null,
          null,
          null,
          null,
          null,
          null,
          null,
          null,
          null,
          null,
          null,
          null,
          null,
          null,
          null,
          null,
          null,
          null,
          null,
          null,
          null,
          null,
          null,
          null,
          null,
          null,
          null,
          null,
          null,
          null,
          null,
          null,
          null,
          null,
          null,
          null,
          null,
          null,
          null,
          null,
          null,
          null,
          null,
          null,
          null,
          null,
          null,
          null,
          null,
          null,
          null,
          null,
          null,
          null,
          null,
          null,
          null,
          null,
          null,
          null,
          null,
          null,
          null,
          null,
          null,
          null,
          null,
          null,
          null,
          null,
          null,
          null,
          null,
          null,
          null,
          null,
          null,
          null,
          null,
          null,
          null,
          null,
          null,
          null,
          null,
          null,
          null,
          null,
          null,
          null,
          null,
          null,
          null,
          null,
          null,
          null,
          null,
          null,
          null,
          null,
          null,
          null,
          null,
          null,
          null,
          null,
          null,
          null,
          null,
          null,
          null,
          null,
          null,
          null,
          null
         ],
         "yaxis": "y"
        },
        {
         "customdata": [
          [
           0
          ],
          [
           null
          ],
          [
           null
          ],
          [
           null
          ],
          [
           null
          ],
          [
           null
          ],
          [
           null
          ],
          [
           null
          ],
          [
           null
          ],
          [
           null
          ],
          [
           null
          ],
          [
           null
          ],
          [
           null
          ],
          [
           null
          ],
          [
           null
          ],
          [
           null
          ],
          [
           null
          ],
          [
           null
          ],
          [
           null
          ],
          [
           null
          ],
          [
           null
          ],
          [
           null
          ],
          [
           null
          ],
          [
           null
          ],
          [
           null
          ],
          [
           null
          ],
          [
           null
          ],
          [
           null
          ],
          [
           null
          ],
          [
           null
          ],
          [
           null
          ],
          [
           null
          ],
          [
           null
          ],
          [
           null
          ],
          [
           null
          ],
          [
           null
          ],
          [
           null
          ],
          [
           null
          ],
          [
           null
          ],
          [
           null
          ],
          [
           null
          ],
          [
           null
          ],
          [
           null
          ],
          [
           null
          ],
          [
           null
          ],
          [
           null
          ],
          [
           null
          ],
          [
           null
          ],
          [
           null
          ],
          [
           null
          ],
          [
           null
          ],
          [
           null
          ],
          [
           null
          ],
          [
           null
          ],
          [
           null
          ],
          [
           null
          ],
          [
           null
          ],
          [
           null
          ],
          [
           null
          ],
          [
           null
          ],
          [
           null
          ],
          [
           null
          ],
          [
           null
          ],
          [
           null
          ],
          [
           null
          ],
          [
           null
          ],
          [
           null
          ],
          [
           null
          ],
          [
           null
          ],
          [
           null
          ],
          [
           null
          ],
          [
           null
          ],
          [
           null
          ],
          [
           null
          ],
          [
           null
          ],
          [
           null
          ],
          [
           null
          ],
          [
           null
          ],
          [
           null
          ],
          [
           null
          ],
          [
           null
          ],
          [
           null
          ],
          [
           null
          ],
          [
           null
          ],
          [
           null
          ],
          [
           null
          ],
          [
           null
          ],
          [
           null
          ],
          [
           null
          ],
          [
           null
          ],
          [
           null
          ],
          [
           null
          ],
          [
           null
          ],
          [
           null
          ],
          [
           null
          ],
          [
           null
          ],
          [
           null
          ],
          [
           null
          ],
          [
           null
          ],
          [
           null
          ],
          [
           null
          ],
          [
           null
          ],
          [
           null
          ],
          [
           null
          ],
          [
           null
          ],
          [
           null
          ],
          [
           null
          ],
          [
           null
          ],
          [
           null
          ],
          [
           null
          ],
          [
           null
          ],
          [
           null
          ],
          [
           null
          ],
          [
           null
          ],
          [
           null
          ],
          [
           null
          ],
          [
           null
          ],
          [
           null
          ],
          [
           null
          ],
          [
           null
          ],
          [
           null
          ],
          [
           null
          ],
          [
           null
          ],
          [
           null
          ],
          [
           null
          ],
          [
           null
          ],
          [
           null
          ],
          [
           null
          ],
          [
           null
          ],
          [
           null
          ],
          [
           null
          ],
          [
           null
          ],
          [
           null
          ],
          [
           null
          ],
          [
           null
          ],
          [
           null
          ],
          [
           null
          ],
          [
           null
          ],
          [
           null
          ],
          [
           null
          ],
          [
           null
          ],
          [
           null
          ],
          [
           null
          ],
          [
           null
          ],
          [
           null
          ],
          [
           null
          ],
          [
           null
          ],
          [
           null
          ],
          [
           null
          ],
          [
           null
          ],
          [
           null
          ],
          [
           null
          ],
          [
           null
          ],
          [
           null
          ],
          [
           null
          ],
          [
           null
          ],
          [
           null
          ],
          [
           null
          ],
          [
           null
          ],
          [
           null
          ],
          [
           null
          ],
          [
           null
          ],
          [
           null
          ],
          [
           null
          ],
          [
           null
          ],
          [
           null
          ],
          [
           null
          ],
          [
           null
          ],
          [
           null
          ],
          [
           null
          ],
          [
           null
          ],
          [
           null
          ],
          [
           null
          ],
          [
           null
          ],
          [
           null
          ],
          [
           null
          ],
          [
           null
          ],
          [
           null
          ],
          [
           null
          ],
          [
           null
          ],
          [
           null
          ],
          [
           null
          ],
          [
           null
          ],
          [
           null
          ],
          [
           null
          ],
          [
           null
          ],
          [
           null
          ],
          [
           null
          ],
          [
           null
          ],
          [
           null
          ],
          [
           null
          ],
          [
           null
          ],
          [
           null
          ],
          [
           null
          ],
          [
           null
          ],
          [
           null
          ],
          [
           null
          ],
          [
           null
          ],
          [
           null
          ],
          [
           null
          ],
          [
           null
          ],
          [
           null
          ],
          [
           null
          ],
          [
           null
          ],
          [
           null
          ],
          [
           null
          ],
          [
           null
          ],
          [
           null
          ],
          [
           null
          ],
          [
           null
          ],
          [
           null
          ],
          [
           null
          ],
          [
           null
          ],
          [
           null
          ],
          [
           null
          ],
          [
           null
          ],
          [
           null
          ],
          [
           null
          ],
          [
           null
          ],
          [
           null
          ],
          [
           null
          ],
          [
           null
          ],
          [
           null
          ],
          [
           null
          ],
          [
           null
          ],
          [
           null
          ],
          [
           null
          ],
          [
           null
          ],
          [
           null
          ],
          [
           null
          ],
          [
           null
          ],
          [
           null
          ],
          [
           null
          ],
          [
           null
          ],
          [
           null
          ],
          [
           null
          ],
          [
           null
          ],
          [
           null
          ],
          [
           null
          ],
          [
           null
          ],
          [
           null
          ],
          [
           null
          ],
          [
           null
          ],
          [
           null
          ],
          [
           null
          ],
          [
           null
          ],
          [
           null
          ],
          [
           null
          ],
          [
           null
          ],
          [
           null
          ],
          [
           null
          ],
          [
           null
          ],
          [
           null
          ],
          [
           null
          ],
          [
           null
          ],
          [
           null
          ],
          [
           null
          ],
          [
           null
          ],
          [
           null
          ],
          [
           null
          ],
          [
           null
          ],
          [
           null
          ],
          [
           null
          ],
          [
           null
          ],
          [
           null
          ],
          [
           null
          ],
          [
           null
          ],
          [
           null
          ],
          [
           null
          ],
          [
           null
          ],
          [
           null
          ],
          [
           null
          ],
          [
           null
          ],
          [
           null
          ],
          [
           null
          ],
          [
           null
          ],
          [
           null
          ],
          [
           null
          ],
          [
           null
          ],
          [
           null
          ],
          [
           null
          ],
          [
           null
          ],
          [
           null
          ],
          [
           null
          ],
          [
           null
          ],
          [
           null
          ],
          [
           null
          ],
          [
           null
          ],
          [
           null
          ],
          [
           null
          ],
          [
           null
          ],
          [
           null
          ],
          [
           null
          ],
          [
           null
          ],
          [
           null
          ],
          [
           null
          ],
          [
           null
          ],
          [
           null
          ],
          [
           null
          ],
          [
           null
          ],
          [
           null
          ],
          [
           null
          ],
          [
           null
          ],
          [
           null
          ],
          [
           null
          ],
          [
           null
          ],
          [
           null
          ],
          [
           null
          ],
          [
           null
          ],
          [
           null
          ],
          [
           null
          ],
          [
           null
          ],
          [
           null
          ],
          [
           null
          ],
          [
           null
          ],
          [
           null
          ],
          [
           null
          ],
          [
           null
          ],
          [
           null
          ],
          [
           null
          ],
          [
           null
          ],
          [
           null
          ],
          [
           null
          ],
          [
           null
          ],
          [
           null
          ],
          [
           null
          ],
          [
           null
          ],
          [
           null
          ],
          [
           null
          ],
          [
           null
          ],
          [
           null
          ],
          [
           null
          ],
          [
           null
          ],
          [
           null
          ],
          [
           null
          ],
          [
           null
          ],
          [
           null
          ],
          [
           null
          ],
          [
           null
          ],
          [
           null
          ],
          [
           null
          ],
          [
           null
          ],
          [
           null
          ],
          [
           null
          ],
          [
           null
          ],
          [
           null
          ],
          [
           null
          ],
          [
           null
          ],
          [
           null
          ],
          [
           null
          ],
          [
           null
          ],
          [
           null
          ],
          [
           null
          ],
          [
           null
          ],
          [
           null
          ],
          [
           null
          ],
          [
           null
          ],
          [
           null
          ],
          [
           null
          ],
          [
           null
          ],
          [
           null
          ],
          [
           null
          ],
          [
           null
          ],
          [
           null
          ],
          [
           null
          ],
          [
           null
          ],
          [
           null
          ],
          [
           null
          ],
          [
           null
          ],
          [
           null
          ],
          [
           null
          ],
          [
           null
          ],
          [
           null
          ],
          [
           null
          ],
          [
           null
          ],
          [
           null
          ],
          [
           null
          ],
          [
           null
          ],
          [
           null
          ],
          [
           null
          ],
          [
           null
          ],
          [
           null
          ],
          [
           null
          ],
          [
           null
          ],
          [
           null
          ],
          [
           null
          ],
          [
           null
          ],
          [
           null
          ],
          [
           null
          ],
          [
           null
          ],
          [
           null
          ],
          [
           null
          ],
          [
           null
          ],
          [
           null
          ],
          [
           null
          ],
          [
           null
          ],
          [
           null
          ],
          [
           null
          ],
          [
           null
          ],
          [
           null
          ],
          [
           null
          ],
          [
           null
          ],
          [
           null
          ],
          [
           null
          ],
          [
           null
          ],
          [
           null
          ],
          [
           null
          ],
          [
           null
          ],
          [
           null
          ],
          [
           null
          ],
          [
           null
          ],
          [
           null
          ],
          [
           null
          ],
          [
           null
          ],
          [
           null
          ],
          [
           null
          ],
          [
           null
          ],
          [
           null
          ],
          [
           null
          ],
          [
           null
          ],
          [
           null
          ],
          [
           null
          ],
          [
           null
          ],
          [
           null
          ],
          [
           null
          ],
          [
           null
          ],
          [
           null
          ],
          [
           null
          ],
          [
           null
          ],
          [
           null
          ],
          [
           null
          ],
          [
           null
          ],
          [
           null
          ],
          [
           null
          ],
          [
           null
          ],
          [
           null
          ],
          [
           null
          ],
          [
           null
          ],
          [
           null
          ],
          [
           null
          ],
          [
           null
          ],
          [
           null
          ],
          [
           null
          ],
          [
           null
          ],
          [
           null
          ],
          [
           null
          ],
          [
           null
          ],
          [
           null
          ],
          [
           null
          ],
          [
           null
          ],
          [
           null
          ],
          [
           null
          ],
          [
           null
          ],
          [
           null
          ],
          [
           null
          ],
          [
           null
          ],
          [
           null
          ],
          [
           null
          ],
          [
           null
          ],
          [
           null
          ],
          [
           null
          ],
          [
           null
          ],
          [
           null
          ],
          [
           null
          ],
          [
           null
          ],
          [
           null
          ],
          [
           null
          ],
          [
           null
          ],
          [
           null
          ],
          [
           null
          ],
          [
           null
          ],
          [
           null
          ],
          [
           null
          ],
          [
           null
          ],
          [
           null
          ],
          [
           null
          ],
          [
           null
          ],
          [
           null
          ],
          [
           null
          ],
          [
           null
          ],
          [
           null
          ],
          [
           null
          ],
          [
           null
          ],
          [
           null
          ],
          [
           null
          ],
          [
           null
          ],
          [
           null
          ],
          [
           null
          ],
          [
           null
          ],
          [
           null
          ],
          [
           null
          ],
          [
           null
          ],
          [
           null
          ],
          [
           null
          ],
          [
           null
          ],
          [
           null
          ],
          [
           null
          ],
          [
           null
          ],
          [
           null
          ],
          [
           null
          ],
          [
           0
          ],
          [
           0
          ],
          [
           0
          ],
          [
           0
          ],
          [
           0
          ],
          [
           0
          ],
          [
           0
          ],
          [
           0
          ],
          [
           0
          ],
          [
           0
          ],
          [
           0
          ],
          [
           0
          ],
          [
           0
          ],
          [
           0
          ],
          [
           0
          ],
          [
           0
          ],
          [
           0
          ],
          [
           0
          ],
          [
           0
          ],
          [
           0
          ],
          [
           0
          ],
          [
           0
          ],
          [
           0
          ],
          [
           0
          ],
          [
           0
          ],
          [
           0
          ],
          [
           0
          ],
          [
           0
          ],
          [
           0
          ],
          [
           0
          ],
          [
           0
          ],
          [
           0
          ],
          [
           0
          ],
          [
           0
          ],
          [
           0
          ],
          [
           0
          ],
          [
           0
          ],
          [
           0
          ],
          [
           0
          ],
          [
           0
          ],
          [
           0
          ],
          [
           0
          ],
          [
           0
          ],
          [
           0
          ],
          [
           0
          ],
          [
           0
          ],
          [
           0
          ],
          [
           0
          ],
          [
           0
          ],
          [
           0
          ],
          [
           0
          ],
          [
           0
          ],
          [
           0
          ],
          [
           0
          ],
          [
           0
          ],
          [
           0
          ],
          [
           0
          ],
          [
           0
          ],
          [
           0
          ],
          [
           0
          ],
          [
           0
          ],
          [
           0
          ],
          [
           0
          ],
          [
           0
          ],
          [
           0
          ],
          [
           0
          ],
          [
           0
          ],
          [
           0
          ],
          [
           0
          ],
          [
           0
          ],
          [
           0
          ],
          [
           0
          ],
          [
           0
          ],
          [
           0
          ],
          [
           0
          ],
          [
           0
          ],
          [
           0
          ],
          [
           0
          ],
          [
           0
          ],
          [
           0
          ],
          [
           0
          ],
          [
           0
          ],
          [
           0
          ],
          [
           0
          ],
          [
           0
          ],
          [
           0
          ],
          [
           0
          ],
          [
           0
          ],
          [
           0
          ],
          [
           0
          ],
          [
           0
          ],
          [
           0
          ],
          [
           0
          ],
          [
           0
          ],
          [
           0
          ],
          [
           0
          ],
          [
           0
          ],
          [
           0
          ],
          [
           0
          ],
          [
           0
          ],
          [
           0
          ],
          [
           0
          ],
          [
           0
          ],
          [
           0
          ],
          [
           0
          ],
          [
           0
          ],
          [
           0
          ],
          [
           0
          ],
          [
           0
          ],
          [
           0
          ],
          [
           0
          ],
          [
           0
          ],
          [
           0
          ],
          [
           0
          ],
          [
           0
          ],
          [
           0
          ],
          [
           0
          ],
          [
           0
          ],
          [
           0
          ],
          [
           0
          ],
          [
           0
          ],
          [
           0
          ],
          [
           0
          ],
          [
           0
          ],
          [
           0
          ],
          [
           0
          ],
          [
           0
          ],
          [
           0
          ],
          [
           0
          ],
          [
           0
          ],
          [
           0
          ],
          [
           0
          ],
          [
           0
          ],
          [
           0
          ],
          [
           0
          ],
          [
           0
          ],
          [
           0
          ],
          [
           0
          ],
          [
           0
          ],
          [
           0
          ],
          [
           0
          ],
          [
           0
          ],
          [
           0
          ],
          [
           0
          ],
          [
           0
          ],
          [
           0
          ],
          [
           0
          ],
          [
           0
          ],
          [
           0
          ],
          [
           0
          ],
          [
           0
          ],
          [
           0
          ],
          [
           0
          ],
          [
           0
          ],
          [
           0
          ],
          [
           0
          ],
          [
           0
          ],
          [
           0
          ],
          [
           0
          ],
          [
           0
          ],
          [
           0
          ],
          [
           0
          ],
          [
           0
          ],
          [
           0
          ],
          [
           0
          ],
          [
           0
          ],
          [
           0
          ],
          [
           0
          ],
          [
           0
          ],
          [
           0
          ],
          [
           0
          ],
          [
           0
          ],
          [
           0
          ],
          [
           0
          ],
          [
           0
          ],
          [
           0
          ],
          [
           0
          ],
          [
           0
          ],
          [
           0
          ],
          [
           0
          ],
          [
           0
          ],
          [
           0
          ],
          [
           0
          ],
          [
           0
          ],
          [
           0
          ],
          [
           0
          ],
          [
           0
          ],
          [
           0
          ],
          [
           0
          ],
          [
           0
          ],
          [
           0
          ],
          [
           0
          ],
          [
           0
          ],
          [
           0
          ],
          [
           0
          ],
          [
           0
          ],
          [
           0
          ],
          [
           0
          ],
          [
           0
          ],
          [
           0
          ],
          [
           0
          ],
          [
           0
          ],
          [
           0
          ],
          [
           0
          ],
          [
           0
          ],
          [
           0
          ],
          [
           0
          ],
          [
           0
          ],
          [
           0
          ],
          [
           0
          ],
          [
           0
          ],
          [
           0
          ],
          [
           0
          ],
          [
           0
          ],
          [
           0
          ],
          [
           0
          ],
          [
           0
          ],
          [
           0
          ],
          [
           0
          ],
          [
           0
          ],
          [
           0
          ],
          [
           0
          ],
          [
           0
          ],
          [
           0
          ],
          [
           0
          ],
          [
           0
          ],
          [
           0
          ],
          [
           0
          ],
          [
           0
          ],
          [
           0
          ],
          [
           0
          ],
          [
           0
          ],
          [
           0
          ],
          [
           0
          ],
          [
           0
          ],
          [
           0
          ],
          [
           0
          ],
          [
           0
          ],
          [
           0
          ],
          [
           0
          ],
          [
           0
          ],
          [
           0
          ],
          [
           0
          ],
          [
           0
          ],
          [
           0
          ],
          [
           0
          ],
          [
           0
          ],
          [
           0
          ],
          [
           0
          ],
          [
           0
          ],
          [
           0
          ],
          [
           0
          ],
          [
           0
          ],
          [
           0
          ],
          [
           0
          ],
          [
           0
          ],
          [
           0
          ],
          [
           0
          ],
          [
           0
          ],
          [
           0
          ],
          [
           0
          ],
          [
           0
          ],
          [
           0
          ],
          [
           0
          ],
          [
           0
          ],
          [
           0
          ],
          [
           0
          ],
          [
           0
          ],
          [
           0
          ],
          [
           0
          ],
          [
           0
          ],
          [
           0
          ],
          [
           0
          ],
          [
           0
          ],
          [
           0
          ],
          [
           0
          ],
          [
           0
          ],
          [
           0
          ],
          [
           0
          ],
          [
           0
          ],
          [
           0
          ],
          [
           0
          ],
          [
           0
          ],
          [
           0
          ],
          [
           0
          ],
          [
           0
          ],
          [
           0
          ],
          [
           0
          ],
          [
           0
          ],
          [
           0
          ],
          [
           0
          ],
          [
           0
          ],
          [
           0
          ],
          [
           0
          ],
          [
           0
          ],
          [
           0
          ],
          [
           0
          ],
          [
           0
          ],
          [
           0
          ],
          [
           0
          ],
          [
           0
          ],
          [
           0
          ],
          [
           0
          ],
          [
           0
          ],
          [
           0
          ],
          [
           0
          ],
          [
           0
          ],
          [
           0
          ],
          [
           0
          ],
          [
           0
          ],
          [
           0
          ],
          [
           0
          ],
          [
           0
          ],
          [
           0
          ],
          [
           0
          ],
          [
           0
          ],
          [
           0
          ],
          [
           0
          ],
          [
           0
          ],
          [
           0
          ],
          [
           0
          ],
          [
           0
          ],
          [
           0
          ],
          [
           0
          ],
          [
           0
          ],
          [
           0
          ],
          [
           0
          ],
          [
           0
          ],
          [
           0
          ],
          [
           0
          ],
          [
           0
          ],
          [
           0
          ],
          [
           0
          ],
          [
           0
          ],
          [
           0
          ],
          [
           0
          ],
          [
           0
          ],
          [
           0
          ],
          [
           0
          ],
          [
           0
          ],
          [
           0
          ],
          [
           0
          ],
          [
           0
          ],
          [
           0
          ],
          [
           0
          ],
          [
           0
          ],
          [
           0
          ],
          [
           0
          ],
          [
           0
          ],
          [
           0
          ],
          [
           0
          ],
          [
           0
          ],
          [
           0
          ],
          [
           0
          ],
          [
           0
          ],
          [
           0
          ],
          [
           0
          ],
          [
           0
          ],
          [
           0
          ],
          [
           0
          ],
          [
           0
          ],
          [
           0
          ],
          [
           0
          ],
          [
           0
          ],
          [
           0
          ],
          [
           0
          ],
          [
           0
          ],
          [
           0
          ],
          [
           0
          ],
          [
           0
          ],
          [
           0
          ],
          [
           0
          ],
          [
           0
          ],
          [
           0
          ],
          [
           0
          ],
          [
           0
          ],
          [
           0
          ],
          [
           0
          ],
          [
           0
          ],
          [
           0
          ],
          [
           0
          ],
          [
           0
          ],
          [
           0
          ],
          [
           0
          ],
          [
           0
          ],
          [
           0
          ],
          [
           0
          ],
          [
           0
          ],
          [
           0
          ],
          [
           0
          ],
          [
           0
          ],
          [
           0
          ],
          [
           0
          ],
          [
           0
          ],
          [
           0
          ],
          [
           0
          ],
          [
           0
          ],
          [
           0
          ],
          [
           0
          ],
          [
           0
          ],
          [
           0
          ],
          [
           0
          ],
          [
           0
          ],
          [
           0
          ],
          [
           0
          ],
          [
           0
          ],
          [
           0
          ],
          [
           0
          ],
          [
           0
          ],
          [
           0
          ],
          [
           0
          ],
          [
           0
          ],
          [
           0
          ],
          [
           0
          ],
          [
           0
          ],
          [
           0
          ],
          [
           0
          ],
          [
           0
          ],
          [
           0
          ],
          [
           0
          ],
          [
           0
          ],
          [
           0
          ],
          [
           0
          ],
          [
           0
          ],
          [
           0
          ],
          [
           0
          ],
          [
           0
          ],
          [
           0
          ],
          [
           0
          ],
          [
           0
          ],
          [
           0
          ],
          [
           0
          ],
          [
           0
          ],
          [
           0
          ],
          [
           0
          ],
          [
           0
          ],
          [
           0
          ],
          [
           0
          ],
          [
           0
          ],
          [
           0
          ],
          [
           0
          ],
          [
           0
          ],
          [
           0
          ],
          [
           0
          ],
          [
           0
          ],
          [
           0
          ],
          [
           0
          ],
          [
           0
          ],
          [
           0
          ],
          [
           0
          ],
          [
           0
          ],
          [
           0
          ],
          [
           0
          ],
          [
           0
          ],
          [
           0
          ],
          [
           0
          ],
          [
           0
          ],
          [
           0
          ],
          [
           0
          ],
          [
           0
          ],
          [
           0
          ],
          [
           0
          ],
          [
           0
          ],
          [
           0
          ],
          [
           0
          ],
          [
           0
          ],
          [
           0
          ],
          [
           0
          ],
          [
           0
          ],
          [
           0
          ],
          [
           0
          ],
          [
           0
          ],
          [
           0
          ],
          [
           0
          ],
          [
           0
          ],
          [
           0
          ],
          [
           0
          ],
          [
           0
          ],
          [
           0
          ],
          [
           0
          ],
          [
           0
          ],
          [
           0
          ],
          [
           0
          ],
          [
           0
          ],
          [
           0
          ],
          [
           0
          ],
          [
           0
          ],
          [
           0
          ],
          [
           0
          ],
          [
           0
          ],
          [
           0
          ],
          [
           0
          ],
          [
           0
          ],
          [
           0
          ],
          [
           0
          ],
          [
           0
          ],
          [
           0
          ],
          [
           0
          ],
          [
           0
          ],
          [
           0
          ],
          [
           0
          ],
          [
           0.7505000000000001
          ],
          [
           0.751
          ],
          [
           0.7515000000000001
          ],
          [
           0.752
          ],
          [
           0.7525000000000001
          ],
          [
           0.753
          ],
          [
           0.7535000000000001
          ],
          [
           0.754
          ],
          [
           0.7545000000000001
          ],
          [
           0.755
          ],
          [
           0.7555000000000001
          ],
          [
           0.756
          ],
          [
           0.7565000000000001
          ],
          [
           0.757
          ],
          [
           0.7575000000000001
          ],
          [
           0.758
          ],
          [
           0.7585000000000001
          ],
          [
           0.759
          ],
          [
           0.7595000000000001
          ],
          [
           0.76
          ],
          [
           0.7605000000000001
          ],
          [
           0.761
          ],
          [
           0.7615000000000001
          ],
          [
           0.762
          ],
          [
           0.7625
          ],
          [
           0.763
          ],
          [
           0.7635
          ],
          [
           0.764
          ],
          [
           0.7645
          ],
          [
           0.765
          ],
          [
           0.7655
          ],
          [
           0.766
          ],
          [
           0.7665
          ],
          [
           0.767
          ],
          [
           0.7675
          ],
          [
           0.768
          ],
          [
           0.7685
          ],
          [
           0.769
          ],
          [
           0.7695
          ],
          [
           0.77
          ],
          [
           0.7705
          ],
          [
           0.771
          ],
          [
           0.7715
          ],
          [
           0.772
          ],
          [
           0.7725
          ],
          [
           0.773
          ],
          [
           0.7735
          ],
          [
           0.774
          ],
          [
           0.7745
          ],
          [
           0.775
          ],
          [
           0.7755
          ],
          [
           0.776
          ],
          [
           0.7765
          ],
          [
           0.777
          ],
          [
           0.7775
          ],
          [
           0.778
          ],
          [
           0.7785
          ],
          [
           0.779
          ],
          [
           0.7795
          ],
          [
           0.78
          ],
          [
           0.7805
          ],
          [
           0.781
          ],
          [
           0.7815
          ],
          [
           0.782
          ],
          [
           0.7825
          ],
          [
           0.783
          ],
          [
           0.7835
          ],
          [
           0.784
          ],
          [
           0.7845
          ],
          [
           0.785
          ],
          [
           0.7855
          ],
          [
           0.786
          ],
          [
           0.7865
          ],
          [
           0.787
          ],
          [
           0.7875
          ],
          [
           0.788
          ],
          [
           0.7885
          ],
          [
           0.789
          ],
          [
           0.7895
          ],
          [
           0.79
          ],
          [
           0.7905
          ],
          [
           0.791
          ],
          [
           0.7915
          ],
          [
           0.792
          ],
          [
           0.7925
          ],
          [
           0.793
          ],
          [
           0.7935
          ],
          [
           0.794
          ],
          [
           0.7945
          ],
          [
           0.795
          ],
          [
           0.7955
          ],
          [
           0.796
          ],
          [
           0.7965
          ],
          [
           0.797
          ],
          [
           0.7975
          ],
          [
           0.798
          ],
          [
           0.7985
          ],
          [
           0.799
          ],
          [
           0.7995
          ],
          [
           0.8
          ],
          [
           0.8005
          ],
          [
           0.801
          ],
          [
           0.8015
          ],
          [
           0.802
          ],
          [
           0.8025
          ],
          [
           0.803
          ],
          [
           0.8035
          ],
          [
           0.804
          ],
          [
           0.8045
          ],
          [
           0.805
          ],
          [
           0.8055
          ],
          [
           0.806
          ],
          [
           0.8065
          ],
          [
           0.807
          ],
          [
           0.8075
          ],
          [
           0.808
          ],
          [
           0.8085
          ],
          [
           0.809
          ],
          [
           0.8095
          ],
          [
           0.81
          ],
          [
           0.8105
          ],
          [
           0.811
          ],
          [
           0.8115
          ],
          [
           0.812
          ],
          [
           0.8125
          ],
          [
           0.8130000000000001
          ],
          [
           0.8135
          ],
          [
           0.8140000000000001
          ],
          [
           0.8145
          ],
          [
           0.8150000000000001
          ],
          [
           0.8155
          ],
          [
           0.8160000000000001
          ],
          [
           0.8165
          ],
          [
           0.8170000000000001
          ],
          [
           0.8175
          ],
          [
           0.8180000000000001
          ],
          [
           0.8185
          ],
          [
           0.8190000000000001
          ],
          [
           0.8195
          ],
          [
           0.8200000000000001
          ],
          [
           0.8205
          ],
          [
           0.8210000000000001
          ],
          [
           0.8215
          ],
          [
           0.8220000000000001
          ],
          [
           0.8225
          ],
          [
           0.8230000000000001
          ],
          [
           0.8235
          ],
          [
           0.8240000000000001
          ],
          [
           0.8245
          ],
          [
           0.8250000000000001
          ],
          [
           0.8255
          ],
          [
           0.8260000000000001
          ],
          [
           0.8265
          ],
          [
           0.827
          ],
          [
           0.8275
          ],
          [
           0.828
          ],
          [
           0.8285
          ],
          [
           0.829
          ],
          [
           0.8295
          ],
          [
           0.83
          ],
          [
           0.8305
          ],
          [
           0.831
          ],
          [
           0.8315
          ],
          [
           0.832
          ],
          [
           0.8325
          ],
          [
           0.833
          ],
          [
           0.8335
          ],
          [
           0.834
          ],
          [
           0.8345
          ],
          [
           0.835
          ],
          [
           0.8355
          ],
          [
           0.836
          ],
          [
           0.8365
          ],
          [
           0.837
          ],
          [
           0.8375
          ],
          [
           0.838
          ],
          [
           0.8385
          ],
          [
           0.839
          ],
          [
           0.8395
          ],
          [
           0.84
          ],
          [
           0.8405
          ],
          [
           0.841
          ],
          [
           0.8415
          ],
          [
           0.842
          ],
          [
           0.8425
          ],
          [
           0.843
          ],
          [
           0.8435
          ],
          [
           0.844
          ],
          [
           0.8445
          ],
          [
           0.845
          ],
          [
           0.8455
          ],
          [
           0.846
          ],
          [
           0.8465
          ],
          [
           0.847
          ],
          [
           0.8475
          ],
          [
           0.848
          ],
          [
           0.8485
          ],
          [
           0.849
          ],
          [
           0.8495
          ],
          [
           0.85
          ],
          [
           0.8505
          ],
          [
           0.851
          ],
          [
           0.8515
          ],
          [
           0.852
          ],
          [
           0.8525
          ],
          [
           0.853
          ],
          [
           0.8535
          ],
          [
           0.854
          ],
          [
           0.8545
          ],
          [
           0.855
          ],
          [
           0.8555
          ],
          [
           0.856
          ],
          [
           0.8565
          ],
          [
           0.857
          ],
          [
           0.8575
          ],
          [
           0.858
          ],
          [
           0.8585
          ],
          [
           0.859
          ],
          [
           0.8595
          ],
          [
           0.86
          ],
          [
           0.8605
          ],
          [
           0.861
          ],
          [
           0.8615
          ],
          [
           0.862
          ],
          [
           0.8625
          ],
          [
           0.863
          ],
          [
           0.8635
          ],
          [
           0.864
          ],
          [
           0.8645
          ],
          [
           0.865
          ],
          [
           0.8655
          ],
          [
           0.866
          ],
          [
           0.8665
          ],
          [
           0.867
          ],
          [
           0.8675
          ],
          [
           0.868
          ],
          [
           0.8685
          ],
          [
           0.869
          ],
          [
           0.8695
          ],
          [
           0.87
          ],
          [
           0.8705
          ],
          [
           0.871
          ],
          [
           0.8715
          ],
          [
           0.872
          ],
          [
           0.8725
          ],
          [
           0.873
          ],
          [
           0.8735
          ],
          [
           0.874
          ],
          [
           0.8745
          ],
          [
           0.875
          ],
          [
           0.875
          ],
          [
           0.875
          ],
          [
           0.875
          ],
          [
           0.875
          ],
          [
           0.875
          ],
          [
           0.875
          ],
          [
           0.875
          ],
          [
           0.875
          ],
          [
           0.875
          ],
          [
           0.875
          ],
          [
           0.875
          ],
          [
           0.875
          ],
          [
           0.875
          ],
          [
           0.875
          ],
          [
           0.875
          ],
          [
           0.875
          ],
          [
           0.875
          ],
          [
           0.875
          ],
          [
           0.875
          ],
          [
           0.875
          ],
          [
           0.875
          ],
          [
           0.875
          ],
          [
           0.875
          ],
          [
           0.875
          ],
          [
           0.875
          ],
          [
           0.875
          ],
          [
           0.875
          ],
          [
           0.875
          ],
          [
           0.875
          ],
          [
           0.875
          ],
          [
           0.875
          ],
          [
           0.875
          ],
          [
           0.875
          ],
          [
           0.875
          ],
          [
           0.875
          ],
          [
           0.875
          ],
          [
           0.875
          ],
          [
           0.875
          ],
          [
           0.875
          ],
          [
           0.875
          ],
          [
           0.875
          ],
          [
           0.875
          ],
          [
           0.875
          ],
          [
           0.875
          ],
          [
           0.875
          ],
          [
           0.875
          ],
          [
           0.875
          ],
          [
           0.875
          ],
          [
           0.875
          ],
          [
           0.875
          ],
          [
           0.875
          ],
          [
           0.875
          ],
          [
           0.875
          ],
          [
           0.875
          ],
          [
           0.875
          ],
          [
           0.875
          ],
          [
           0.875
          ],
          [
           0.875
          ],
          [
           0.875
          ],
          [
           0.875
          ],
          [
           0.875
          ],
          [
           0.875
          ],
          [
           0.875
          ],
          [
           0.875
          ],
          [
           0.875
          ],
          [
           0.875
          ],
          [
           0.875
          ],
          [
           0.875
          ],
          [
           0.875
          ],
          [
           0.875
          ],
          [
           0.875
          ],
          [
           0.875
          ],
          [
           0.875
          ],
          [
           0.875
          ],
          [
           0.875
          ],
          [
           0.875
          ],
          [
           0.875
          ],
          [
           0.875
          ],
          [
           0.875
          ],
          [
           0.875
          ],
          [
           0.875
          ],
          [
           0.875
          ],
          [
           0.875
          ],
          [
           0.875
          ],
          [
           0.875
          ],
          [
           0.875
          ],
          [
           0.875
          ],
          [
           0.875
          ],
          [
           0.875
          ],
          [
           0.875
          ],
          [
           0.875
          ],
          [
           0.875
          ],
          [
           0.875
          ],
          [
           0.875
          ],
          [
           0.875
          ],
          [
           0.875
          ],
          [
           0.875
          ],
          [
           0.875
          ],
          [
           0.875
          ],
          [
           0.875
          ],
          [
           0.875
          ],
          [
           0.875
          ],
          [
           0.875
          ],
          [
           0.875
          ],
          [
           0.875
          ],
          [
           0.875
          ],
          [
           0.875
          ],
          [
           0.875
          ],
          [
           0.875
          ],
          [
           0.875
          ],
          [
           0.875
          ],
          [
           0.875
          ],
          [
           0.875
          ],
          [
           0.875
          ],
          [
           0.875
          ],
          [
           0.875
          ],
          [
           0.875
          ],
          [
           0.875
          ],
          [
           0.875
          ],
          [
           0.875
          ],
          [
           0.875
          ],
          [
           0.875
          ],
          [
           0.875
          ],
          [
           0.875
          ],
          [
           0.875
          ],
          [
           0.875
          ],
          [
           0.875
          ],
          [
           0.875
          ],
          [
           0.875
          ],
          [
           0.875
          ],
          [
           0.875
          ],
          [
           0.875
          ],
          [
           0.875
          ],
          [
           0.875
          ],
          [
           0.875
          ],
          [
           0.875
          ],
          [
           0.875
          ],
          [
           0.875
          ],
          [
           0.875
          ],
          [
           0.875
          ],
          [
           0.875
          ],
          [
           0.875
          ],
          [
           0.875
          ],
          [
           0.875
          ],
          [
           0.875
          ],
          [
           0.875
          ],
          [
           0.875
          ],
          [
           0.875
          ],
          [
           0.875
          ],
          [
           0.875
          ],
          [
           0.875
          ],
          [
           0.875
          ],
          [
           0.875
          ],
          [
           0.875
          ],
          [
           0.875
          ],
          [
           0.875
          ],
          [
           0.875
          ],
          [
           0.875
          ],
          [
           0.875
          ],
          [
           0.875
          ],
          [
           0.875
          ],
          [
           0.875
          ],
          [
           0.875
          ],
          [
           0.875
          ],
          [
           0.875
          ],
          [
           0.875
          ],
          [
           0.875
          ],
          [
           0.875
          ],
          [
           0.875
          ],
          [
           0.875
          ],
          [
           0.875
          ],
          [
           0.875
          ],
          [
           0.875
          ],
          [
           0.875
          ],
          [
           0.875
          ],
          [
           0.875
          ],
          [
           0.875
          ],
          [
           0.875
          ],
          [
           0.875
          ],
          [
           0.875
          ],
          [
           0.875
          ],
          [
           0.875
          ],
          [
           0.875
          ],
          [
           0.875
          ],
          [
           0.875
          ],
          [
           0.875
          ],
          [
           0.875
          ],
          [
           0.875
          ],
          [
           0.875
          ],
          [
           0.875
          ],
          [
           0.875
          ],
          [
           0.875
          ],
          [
           0.875
          ],
          [
           0.875
          ],
          [
           0.875
          ],
          [
           0.875
          ],
          [
           0.875
          ],
          [
           0.875
          ],
          [
           0.875
          ],
          [
           0.875
          ],
          [
           0.875
          ],
          [
           0.875
          ],
          [
           0.875
          ],
          [
           0.875
          ],
          [
           0.875
          ],
          [
           0.875
          ],
          [
           0.875
          ],
          [
           0.875
          ],
          [
           0.875
          ],
          [
           0.875
          ],
          [
           0.875
          ],
          [
           0.875
          ],
          [
           0.875
          ],
          [
           0.875
          ],
          [
           0.875
          ],
          [
           0.875
          ],
          [
           0.875
          ],
          [
           0.875
          ],
          [
           0.875
          ],
          [
           0.875
          ],
          [
           0.875
          ],
          [
           0.875
          ],
          [
           0.875
          ],
          [
           0.875
          ],
          [
           0.875
          ],
          [
           0.875
          ],
          [
           0.875
          ],
          [
           0.875
          ],
          [
           0.875
          ],
          [
           0.875
          ],
          [
           0.875
          ],
          [
           0.875
          ],
          [
           0.875
          ],
          [
           0.875
          ],
          [
           0.875
          ],
          [
           0.875
          ],
          [
           0.875
          ],
          [
           0.875
          ],
          [
           0.875
          ],
          [
           0.875
          ],
          [
           0.875
          ],
          [
           0.875
          ],
          [
           0.875
          ],
          [
           0.875
          ],
          [
           0.875
          ],
          [
           0.875
          ],
          [
           0.875
          ],
          [
           0.875
          ],
          [
           0.875
          ],
          [
           0.875
          ],
          [
           0.875
          ],
          [
           0.875
          ],
          [
           0.875
          ],
          [
           0.875
          ],
          [
           0.875
          ],
          [
           0.875
          ],
          [
           0.875
          ],
          [
           0.875
          ],
          [
           0.875
          ],
          [
           0.875
          ],
          [
           0.875
          ],
          [
           0.875
          ],
          [
           0.875
          ],
          [
           0.875
          ],
          [
           0.875
          ],
          [
           0.875
          ],
          [
           0.875
          ],
          [
           0.875
          ],
          [
           0.875
          ],
          [
           0.875
          ],
          [
           0.875
          ],
          [
           0.875
          ],
          [
           0.875
          ],
          [
           0.875
          ],
          [
           0.875
          ],
          [
           0.875
          ],
          [
           0.875
          ],
          [
           0.875
          ],
          [
           0.875
          ],
          [
           0.875
          ],
          [
           0.875
          ],
          [
           0.875
          ],
          [
           0.875
          ],
          [
           0.875
          ],
          [
           0.875
          ],
          [
           0.875
          ],
          [
           0.875
          ],
          [
           0.875
          ],
          [
           0.875
          ],
          [
           0.875
          ],
          [
           0.875
          ],
          [
           0.875
          ],
          [
           0.875
          ],
          [
           0.875
          ],
          [
           0.875
          ],
          [
           0.875
          ],
          [
           0.875
          ],
          [
           0.875
          ],
          [
           0.875
          ],
          [
           0.875
          ],
          [
           0.875
          ],
          [
           0.875
          ],
          [
           0.875
          ],
          [
           0.875
          ],
          [
           0.875
          ],
          [
           0.875
          ],
          [
           0.875
          ],
          [
           0.875
          ],
          [
           0.875
          ],
          [
           0.875
          ],
          [
           0.875
          ],
          [
           0.875
          ],
          [
           0.875
          ],
          [
           0.875
          ],
          [
           0.875
          ],
          [
           0.875
          ],
          [
           0.875
          ],
          [
           0.875
          ],
          [
           0.875
          ],
          [
           0.875
          ],
          [
           0.875
          ],
          [
           0.875
          ],
          [
           0.875
          ],
          [
           0.875
          ],
          [
           0.875
          ],
          [
           0.875
          ],
          [
           0.875
          ],
          [
           0.875
          ],
          [
           0.875
          ],
          [
           0.875
          ],
          [
           0.875
          ],
          [
           0.875
          ],
          [
           0.875
          ],
          [
           0.875
          ],
          [
           0.875
          ],
          [
           0.875
          ],
          [
           0.875
          ],
          [
           0.875
          ],
          [
           0.875
          ],
          [
           0.875
          ],
          [
           0.875
          ],
          [
           0.875
          ],
          [
           0.875
          ],
          [
           0.875
          ],
          [
           0.875
          ],
          [
           0.875
          ],
          [
           0.875
          ],
          [
           0.875
          ],
          [
           0.875
          ],
          [
           0.875
          ],
          [
           0.875
          ],
          [
           0.875
          ],
          [
           0.875
          ],
          [
           0.875
          ],
          [
           0.875
          ],
          [
           0.875
          ],
          [
           0.875
          ],
          [
           0.875
          ],
          [
           0.875
          ],
          [
           0.875
          ],
          [
           0.875
          ],
          [
           0.875
          ],
          [
           0.875
          ],
          [
           0.875
          ],
          [
           0.875
          ],
          [
           0.875
          ],
          [
           0.875
          ],
          [
           0.875
          ],
          [
           0.875
          ],
          [
           0.875
          ],
          [
           0.875
          ],
          [
           0.875
          ],
          [
           0.875
          ],
          [
           0.875
          ],
          [
           0.875
          ],
          [
           0.875
          ],
          [
           0.875
          ],
          [
           0.875
          ],
          [
           0.875
          ],
          [
           0.875
          ],
          [
           0.875
          ],
          [
           0.875
          ],
          [
           0.875
          ],
          [
           0.875
          ],
          [
           0.875
          ],
          [
           0.875
          ],
          [
           0.875
          ],
          [
           0.875
          ],
          [
           0.875
          ],
          [
           0.875
          ],
          [
           0.875
          ],
          [
           0.875
          ],
          [
           0.875
          ],
          [
           0.875
          ],
          [
           0.875
          ],
          [
           0.875
          ],
          [
           0.875
          ],
          [
           0.875
          ],
          [
           0.875
          ],
          [
           0.875
          ],
          [
           0.875
          ],
          [
           0.875
          ],
          [
           0.875
          ],
          [
           0.875
          ],
          [
           0.875
          ],
          [
           0.875
          ],
          [
           0.875
          ],
          [
           0.875
          ],
          [
           0.875
          ],
          [
           0.875
          ],
          [
           0.875
          ],
          [
           0.875
          ],
          [
           0.875
          ],
          [
           0.875
          ],
          [
           0.875
          ],
          [
           0.875
          ],
          [
           0.875
          ],
          [
           0.875
          ],
          [
           0.875
          ],
          [
           0.875
          ],
          [
           0.875
          ],
          [
           0.875
          ],
          [
           0.875
          ],
          [
           0.875
          ],
          [
           0.875
          ],
          [
           0.875
          ],
          [
           0.875
          ],
          [
           0.875
          ],
          [
           0.875
          ],
          [
           0.875
          ],
          [
           0.875
          ],
          [
           0.875
          ],
          [
           0.875
          ],
          [
           0.875
          ],
          [
           0.875
          ],
          [
           0.875
          ],
          [
           0.875
          ],
          [
           0.875
          ],
          [
           0.875
          ],
          [
           0.875
          ],
          [
           0.875
          ],
          [
           0.875
          ],
          [
           0.875
          ],
          [
           0.875
          ],
          [
           0.875
          ],
          [
           0.875
          ],
          [
           0.875
          ],
          [
           0.875
          ],
          [
           0.875
          ],
          [
           0.875
          ],
          [
           0.875
          ],
          [
           0.875
          ],
          [
           0.875
          ],
          [
           0.875
          ],
          [
           0.875
          ],
          [
           0.875
          ],
          [
           0.875
          ],
          [
           0.875
          ],
          [
           0.875
          ],
          [
           0.875
          ],
          [
           0.875
          ],
          [
           0.875
          ],
          [
           0.875
          ],
          [
           0.875
          ],
          [
           0.875
          ],
          [
           0.875
          ],
          [
           0.875
          ],
          [
           0.875
          ],
          [
           0.875
          ],
          [
           0.875
          ],
          [
           0.875
          ],
          [
           0.875
          ],
          [
           0.875
          ],
          [
           0.875
          ],
          [
           0.875
          ],
          [
           0.875
          ],
          [
           0.875
          ],
          [
           0.875
          ],
          [
           0.875
          ],
          [
           0.875
          ],
          [
           0.875
          ],
          [
           0.875
          ],
          [
           0.875
          ],
          [
           0.875
          ],
          [
           0.875
          ],
          [
           0.875
          ],
          [
           0.875
          ],
          [
           0.875
          ],
          [
           0.875
          ],
          [
           0.875
          ],
          [
           0.875
          ],
          [
           0.875
          ],
          [
           0.875
          ],
          [
           0.875
          ],
          [
           0.875
          ],
          [
           0.875
          ],
          [
           0.875
          ],
          [
           0.875
          ],
          [
           0.875
          ],
          [
           0.875
          ],
          [
           null
          ],
          [
           null
          ],
          [
           null
          ],
          [
           null
          ],
          [
           null
          ],
          [
           null
          ],
          [
           null
          ],
          [
           null
          ],
          [
           null
          ],
          [
           null
          ],
          [
           null
          ],
          [
           null
          ],
          [
           null
          ],
          [
           null
          ],
          [
           null
          ],
          [
           null
          ],
          [
           null
          ],
          [
           null
          ],
          [
           null
          ],
          [
           null
          ],
          [
           null
          ],
          [
           null
          ],
          [
           null
          ],
          [
           null
          ],
          [
           null
          ],
          [
           null
          ],
          [
           null
          ],
          [
           null
          ],
          [
           null
          ],
          [
           null
          ],
          [
           null
          ],
          [
           null
          ],
          [
           null
          ],
          [
           null
          ],
          [
           null
          ],
          [
           null
          ],
          [
           null
          ],
          [
           null
          ],
          [
           null
          ],
          [
           null
          ],
          [
           null
          ],
          [
           null
          ],
          [
           null
          ],
          [
           null
          ],
          [
           null
          ],
          [
           null
          ],
          [
           null
          ],
          [
           null
          ],
          [
           null
          ],
          [
           null
          ],
          [
           null
          ],
          [
           null
          ],
          [
           null
          ],
          [
           null
          ],
          [
           null
          ],
          [
           null
          ],
          [
           null
          ],
          [
           null
          ],
          [
           null
          ],
          [
           null
          ],
          [
           null
          ],
          [
           null
          ],
          [
           null
          ],
          [
           null
          ],
          [
           null
          ],
          [
           null
          ],
          [
           null
          ],
          [
           null
          ],
          [
           null
          ],
          [
           null
          ],
          [
           null
          ],
          [
           null
          ],
          [
           null
          ],
          [
           null
          ],
          [
           null
          ],
          [
           null
          ],
          [
           null
          ],
          [
           null
          ],
          [
           null
          ],
          [
           null
          ],
          [
           null
          ],
          [
           null
          ],
          [
           null
          ],
          [
           null
          ],
          [
           null
          ],
          [
           null
          ],
          [
           null
          ],
          [
           null
          ],
          [
           null
          ],
          [
           null
          ],
          [
           null
          ],
          [
           null
          ],
          [
           null
          ],
          [
           null
          ],
          [
           null
          ],
          [
           null
          ],
          [
           null
          ],
          [
           null
          ],
          [
           null
          ],
          [
           null
          ],
          [
           null
          ],
          [
           null
          ],
          [
           null
          ],
          [
           null
          ],
          [
           null
          ],
          [
           null
          ],
          [
           null
          ],
          [
           null
          ],
          [
           null
          ],
          [
           null
          ],
          [
           null
          ],
          [
           null
          ],
          [
           null
          ],
          [
           null
          ],
          [
           null
          ],
          [
           null
          ],
          [
           null
          ],
          [
           null
          ],
          [
           null
          ],
          [
           null
          ],
          [
           null
          ],
          [
           null
          ],
          [
           null
          ],
          [
           null
          ],
          [
           null
          ],
          [
           null
          ],
          [
           null
          ],
          [
           null
          ],
          [
           null
          ],
          [
           null
          ],
          [
           null
          ],
          [
           null
          ],
          [
           null
          ],
          [
           null
          ],
          [
           null
          ],
          [
           null
          ],
          [
           null
          ],
          [
           null
          ],
          [
           null
          ],
          [
           null
          ],
          [
           null
          ],
          [
           null
          ],
          [
           null
          ],
          [
           null
          ],
          [
           null
          ],
          [
           null
          ],
          [
           null
          ],
          [
           null
          ],
          [
           null
          ],
          [
           null
          ],
          [
           null
          ],
          [
           null
          ],
          [
           null
          ],
          [
           null
          ],
          [
           null
          ],
          [
           null
          ],
          [
           null
          ],
          [
           null
          ],
          [
           null
          ],
          [
           null
          ],
          [
           null
          ],
          [
           null
          ],
          [
           null
          ],
          [
           null
          ],
          [
           null
          ],
          [
           null
          ],
          [
           null
          ],
          [
           null
          ],
          [
           null
          ],
          [
           null
          ],
          [
           null
          ],
          [
           null
          ],
          [
           null
          ],
          [
           null
          ],
          [
           null
          ]
         ],
         "fillpattern": {
          "shape": ""
         },
         "hovertemplate": "<b>%{hovertext}</b><br><br>Compressors=Compressor 2<br>Qtot=%{x}<br>q=%{y}<br>w=%{customdata[0]}<extra></extra>",
         "hovertext": [
          "Compressor 2",
          "Compressor 2",
          "Compressor 2",
          "Compressor 2",
          "Compressor 2",
          "Compressor 2",
          "Compressor 2",
          "Compressor 2",
          "Compressor 2",
          "Compressor 2",
          "Compressor 2",
          "Compressor 2",
          "Compressor 2",
          "Compressor 2",
          "Compressor 2",
          "Compressor 2",
          "Compressor 2",
          "Compressor 2",
          "Compressor 2",
          "Compressor 2",
          "Compressor 2",
          "Compressor 2",
          "Compressor 2",
          "Compressor 2",
          "Compressor 2",
          "Compressor 2",
          "Compressor 2",
          "Compressor 2",
          "Compressor 2",
          "Compressor 2",
          "Compressor 2",
          "Compressor 2",
          "Compressor 2",
          "Compressor 2",
          "Compressor 2",
          "Compressor 2",
          "Compressor 2",
          "Compressor 2",
          "Compressor 2",
          "Compressor 2",
          "Compressor 2",
          "Compressor 2",
          "Compressor 2",
          "Compressor 2",
          "Compressor 2",
          "Compressor 2",
          "Compressor 2",
          "Compressor 2",
          "Compressor 2",
          "Compressor 2",
          "Compressor 2",
          "Compressor 2",
          "Compressor 2",
          "Compressor 2",
          "Compressor 2",
          "Compressor 2",
          "Compressor 2",
          "Compressor 2",
          "Compressor 2",
          "Compressor 2",
          "Compressor 2",
          "Compressor 2",
          "Compressor 2",
          "Compressor 2",
          "Compressor 2",
          "Compressor 2",
          "Compressor 2",
          "Compressor 2",
          "Compressor 2",
          "Compressor 2",
          "Compressor 2",
          "Compressor 2",
          "Compressor 2",
          "Compressor 2",
          "Compressor 2",
          "Compressor 2",
          "Compressor 2",
          "Compressor 2",
          "Compressor 2",
          "Compressor 2",
          "Compressor 2",
          "Compressor 2",
          "Compressor 2",
          "Compressor 2",
          "Compressor 2",
          "Compressor 2",
          "Compressor 2",
          "Compressor 2",
          "Compressor 2",
          "Compressor 2",
          "Compressor 2",
          "Compressor 2",
          "Compressor 2",
          "Compressor 2",
          "Compressor 2",
          "Compressor 2",
          "Compressor 2",
          "Compressor 2",
          "Compressor 2",
          "Compressor 2",
          "Compressor 2",
          "Compressor 2",
          "Compressor 2",
          "Compressor 2",
          "Compressor 2",
          "Compressor 2",
          "Compressor 2",
          "Compressor 2",
          "Compressor 2",
          "Compressor 2",
          "Compressor 2",
          "Compressor 2",
          "Compressor 2",
          "Compressor 2",
          "Compressor 2",
          "Compressor 2",
          "Compressor 2",
          "Compressor 2",
          "Compressor 2",
          "Compressor 2",
          "Compressor 2",
          "Compressor 2",
          "Compressor 2",
          "Compressor 2",
          "Compressor 2",
          "Compressor 2",
          "Compressor 2",
          "Compressor 2",
          "Compressor 2",
          "Compressor 2",
          "Compressor 2",
          "Compressor 2",
          "Compressor 2",
          "Compressor 2",
          "Compressor 2",
          "Compressor 2",
          "Compressor 2",
          "Compressor 2",
          "Compressor 2",
          "Compressor 2",
          "Compressor 2",
          "Compressor 2",
          "Compressor 2",
          "Compressor 2",
          "Compressor 2",
          "Compressor 2",
          "Compressor 2",
          "Compressor 2",
          "Compressor 2",
          "Compressor 2",
          "Compressor 2",
          "Compressor 2",
          "Compressor 2",
          "Compressor 2",
          "Compressor 2",
          "Compressor 2",
          "Compressor 2",
          "Compressor 2",
          "Compressor 2",
          "Compressor 2",
          "Compressor 2",
          "Compressor 2",
          "Compressor 2",
          "Compressor 2",
          "Compressor 2",
          "Compressor 2",
          "Compressor 2",
          "Compressor 2",
          "Compressor 2",
          "Compressor 2",
          "Compressor 2",
          "Compressor 2",
          "Compressor 2",
          "Compressor 2",
          "Compressor 2",
          "Compressor 2",
          "Compressor 2",
          "Compressor 2",
          "Compressor 2",
          "Compressor 2",
          "Compressor 2",
          "Compressor 2",
          "Compressor 2",
          "Compressor 2",
          "Compressor 2",
          "Compressor 2",
          "Compressor 2",
          "Compressor 2",
          "Compressor 2",
          "Compressor 2",
          "Compressor 2",
          "Compressor 2",
          "Compressor 2",
          "Compressor 2",
          "Compressor 2",
          "Compressor 2",
          "Compressor 2",
          "Compressor 2",
          "Compressor 2",
          "Compressor 2",
          "Compressor 2",
          "Compressor 2",
          "Compressor 2",
          "Compressor 2",
          "Compressor 2",
          "Compressor 2",
          "Compressor 2",
          "Compressor 2",
          "Compressor 2",
          "Compressor 2",
          "Compressor 2",
          "Compressor 2",
          "Compressor 2",
          "Compressor 2",
          "Compressor 2",
          "Compressor 2",
          "Compressor 2",
          "Compressor 2",
          "Compressor 2",
          "Compressor 2",
          "Compressor 2",
          "Compressor 2",
          "Compressor 2",
          "Compressor 2",
          "Compressor 2",
          "Compressor 2",
          "Compressor 2",
          "Compressor 2",
          "Compressor 2",
          "Compressor 2",
          "Compressor 2",
          "Compressor 2",
          "Compressor 2",
          "Compressor 2",
          "Compressor 2",
          "Compressor 2",
          "Compressor 2",
          "Compressor 2",
          "Compressor 2",
          "Compressor 2",
          "Compressor 2",
          "Compressor 2",
          "Compressor 2",
          "Compressor 2",
          "Compressor 2",
          "Compressor 2",
          "Compressor 2",
          "Compressor 2",
          "Compressor 2",
          "Compressor 2",
          "Compressor 2",
          "Compressor 2",
          "Compressor 2",
          "Compressor 2",
          "Compressor 2",
          "Compressor 2",
          "Compressor 2",
          "Compressor 2",
          "Compressor 2",
          "Compressor 2",
          "Compressor 2",
          "Compressor 2",
          "Compressor 2",
          "Compressor 2",
          "Compressor 2",
          "Compressor 2",
          "Compressor 2",
          "Compressor 2",
          "Compressor 2",
          "Compressor 2",
          "Compressor 2",
          "Compressor 2",
          "Compressor 2",
          "Compressor 2",
          "Compressor 2",
          "Compressor 2",
          "Compressor 2",
          "Compressor 2",
          "Compressor 2",
          "Compressor 2",
          "Compressor 2",
          "Compressor 2",
          "Compressor 2",
          "Compressor 2",
          "Compressor 2",
          "Compressor 2",
          "Compressor 2",
          "Compressor 2",
          "Compressor 2",
          "Compressor 2",
          "Compressor 2",
          "Compressor 2",
          "Compressor 2",
          "Compressor 2",
          "Compressor 2",
          "Compressor 2",
          "Compressor 2",
          "Compressor 2",
          "Compressor 2",
          "Compressor 2",
          "Compressor 2",
          "Compressor 2",
          "Compressor 2",
          "Compressor 2",
          "Compressor 2",
          "Compressor 2",
          "Compressor 2",
          "Compressor 2",
          "Compressor 2",
          "Compressor 2",
          "Compressor 2",
          "Compressor 2",
          "Compressor 2",
          "Compressor 2",
          "Compressor 2",
          "Compressor 2",
          "Compressor 2",
          "Compressor 2",
          "Compressor 2",
          "Compressor 2",
          "Compressor 2",
          "Compressor 2",
          "Compressor 2",
          "Compressor 2",
          "Compressor 2",
          "Compressor 2",
          "Compressor 2",
          "Compressor 2",
          "Compressor 2",
          "Compressor 2",
          "Compressor 2",
          "Compressor 2",
          "Compressor 2",
          "Compressor 2",
          "Compressor 2",
          "Compressor 2",
          "Compressor 2",
          "Compressor 2",
          "Compressor 2",
          "Compressor 2",
          "Compressor 2",
          "Compressor 2",
          "Compressor 2",
          "Compressor 2",
          "Compressor 2",
          "Compressor 2",
          "Compressor 2",
          "Compressor 2",
          "Compressor 2",
          "Compressor 2",
          "Compressor 2",
          "Compressor 2",
          "Compressor 2",
          "Compressor 2",
          "Compressor 2",
          "Compressor 2",
          "Compressor 2",
          "Compressor 2",
          "Compressor 2",
          "Compressor 2",
          "Compressor 2",
          "Compressor 2",
          "Compressor 2",
          "Compressor 2",
          "Compressor 2",
          "Compressor 2",
          "Compressor 2",
          "Compressor 2",
          "Compressor 2",
          "Compressor 2",
          "Compressor 2",
          "Compressor 2",
          "Compressor 2",
          "Compressor 2",
          "Compressor 2",
          "Compressor 2",
          "Compressor 2",
          "Compressor 2",
          "Compressor 2",
          "Compressor 2",
          "Compressor 2",
          "Compressor 2",
          "Compressor 2",
          "Compressor 2",
          "Compressor 2",
          "Compressor 2",
          "Compressor 2",
          "Compressor 2",
          "Compressor 2",
          "Compressor 2",
          "Compressor 2",
          "Compressor 2",
          "Compressor 2",
          "Compressor 2",
          "Compressor 2",
          "Compressor 2",
          "Compressor 2",
          "Compressor 2",
          "Compressor 2",
          "Compressor 2",
          "Compressor 2",
          "Compressor 2",
          "Compressor 2",
          "Compressor 2",
          "Compressor 2",
          "Compressor 2",
          "Compressor 2",
          "Compressor 2",
          "Compressor 2",
          "Compressor 2",
          "Compressor 2",
          "Compressor 2",
          "Compressor 2",
          "Compressor 2",
          "Compressor 2",
          "Compressor 2",
          "Compressor 2",
          "Compressor 2",
          "Compressor 2",
          "Compressor 2",
          "Compressor 2",
          "Compressor 2",
          "Compressor 2",
          "Compressor 2",
          "Compressor 2",
          "Compressor 2",
          "Compressor 2",
          "Compressor 2",
          "Compressor 2",
          "Compressor 2",
          "Compressor 2",
          "Compressor 2",
          "Compressor 2",
          "Compressor 2",
          "Compressor 2",
          "Compressor 2",
          "Compressor 2",
          "Compressor 2",
          "Compressor 2",
          "Compressor 2",
          "Compressor 2",
          "Compressor 2",
          "Compressor 2",
          "Compressor 2",
          "Compressor 2",
          "Compressor 2",
          "Compressor 2",
          "Compressor 2",
          "Compressor 2",
          "Compressor 2",
          "Compressor 2",
          "Compressor 2",
          "Compressor 2",
          "Compressor 2",
          "Compressor 2",
          "Compressor 2",
          "Compressor 2",
          "Compressor 2",
          "Compressor 2",
          "Compressor 2",
          "Compressor 2",
          "Compressor 2",
          "Compressor 2",
          "Compressor 2",
          "Compressor 2",
          "Compressor 2",
          "Compressor 2",
          "Compressor 2",
          "Compressor 2",
          "Compressor 2",
          "Compressor 2",
          "Compressor 2",
          "Compressor 2",
          "Compressor 2",
          "Compressor 2",
          "Compressor 2",
          "Compressor 2",
          "Compressor 2",
          "Compressor 2",
          "Compressor 2",
          "Compressor 2",
          "Compressor 2",
          "Compressor 2",
          "Compressor 2",
          "Compressor 2",
          "Compressor 2",
          "Compressor 2",
          "Compressor 2",
          "Compressor 2",
          "Compressor 2",
          "Compressor 2",
          "Compressor 2",
          "Compressor 2",
          "Compressor 2",
          "Compressor 2",
          "Compressor 2",
          "Compressor 2",
          "Compressor 2",
          "Compressor 2",
          "Compressor 2",
          "Compressor 2",
          "Compressor 2",
          "Compressor 2",
          "Compressor 2",
          "Compressor 2",
          "Compressor 2",
          "Compressor 2",
          "Compressor 2",
          "Compressor 2",
          "Compressor 2",
          "Compressor 2",
          "Compressor 2",
          "Compressor 2",
          "Compressor 2",
          "Compressor 2",
          "Compressor 2",
          "Compressor 2",
          "Compressor 2",
          "Compressor 2",
          "Compressor 2",
          "Compressor 2",
          "Compressor 2",
          "Compressor 2",
          "Compressor 2",
          "Compressor 2",
          "Compressor 2",
          "Compressor 2",
          "Compressor 2",
          "Compressor 2",
          "Compressor 2",
          "Compressor 2",
          "Compressor 2",
          "Compressor 2",
          "Compressor 2",
          "Compressor 2",
          "Compressor 2",
          "Compressor 2",
          "Compressor 2",
          "Compressor 2",
          "Compressor 2",
          "Compressor 2",
          "Compressor 2",
          "Compressor 2",
          "Compressor 2",
          "Compressor 2",
          "Compressor 2",
          "Compressor 2",
          "Compressor 2",
          "Compressor 2",
          "Compressor 2",
          "Compressor 2",
          "Compressor 2",
          "Compressor 2",
          "Compressor 2",
          "Compressor 2",
          "Compressor 2",
          "Compressor 2",
          "Compressor 2",
          "Compressor 2",
          "Compressor 2",
          "Compressor 2",
          "Compressor 2",
          "Compressor 2",
          "Compressor 2",
          "Compressor 2",
          "Compressor 2",
          "Compressor 2",
          "Compressor 2",
          "Compressor 2",
          "Compressor 2",
          "Compressor 2",
          "Compressor 2",
          "Compressor 2",
          "Compressor 2",
          "Compressor 2",
          "Compressor 2",
          "Compressor 2",
          "Compressor 2",
          "Compressor 2",
          "Compressor 2",
          "Compressor 2",
          "Compressor 2",
          "Compressor 2",
          "Compressor 2",
          "Compressor 2",
          "Compressor 2",
          "Compressor 2",
          "Compressor 2",
          "Compressor 2",
          "Compressor 2",
          "Compressor 2",
          "Compressor 2",
          "Compressor 2",
          "Compressor 2",
          "Compressor 2",
          "Compressor 2",
          "Compressor 2",
          "Compressor 2",
          "Compressor 2",
          "Compressor 2",
          "Compressor 2",
          "Compressor 2",
          "Compressor 2",
          "Compressor 2",
          "Compressor 2",
          "Compressor 2",
          "Compressor 2",
          "Compressor 2",
          "Compressor 2",
          "Compressor 2",
          "Compressor 2",
          "Compressor 2",
          "Compressor 2",
          "Compressor 2",
          "Compressor 2",
          "Compressor 2",
          "Compressor 2",
          "Compressor 2",
          "Compressor 2",
          "Compressor 2",
          "Compressor 2",
          "Compressor 2",
          "Compressor 2",
          "Compressor 2",
          "Compressor 2",
          "Compressor 2",
          "Compressor 2",
          "Compressor 2",
          "Compressor 2",
          "Compressor 2",
          "Compressor 2",
          "Compressor 2",
          "Compressor 2",
          "Compressor 2",
          "Compressor 2",
          "Compressor 2",
          "Compressor 2",
          "Compressor 2",
          "Compressor 2",
          "Compressor 2",
          "Compressor 2",
          "Compressor 2",
          "Compressor 2",
          "Compressor 2",
          "Compressor 2",
          "Compressor 2",
          "Compressor 2",
          "Compressor 2",
          "Compressor 2",
          "Compressor 2",
          "Compressor 2",
          "Compressor 2",
          "Compressor 2",
          "Compressor 2",
          "Compressor 2",
          "Compressor 2",
          "Compressor 2",
          "Compressor 2",
          "Compressor 2",
          "Compressor 2",
          "Compressor 2",
          "Compressor 2",
          "Compressor 2",
          "Compressor 2",
          "Compressor 2",
          "Compressor 2",
          "Compressor 2",
          "Compressor 2",
          "Compressor 2",
          "Compressor 2",
          "Compressor 2",
          "Compressor 2",
          "Compressor 2",
          "Compressor 2",
          "Compressor 2",
          "Compressor 2",
          "Compressor 2",
          "Compressor 2",
          "Compressor 2",
          "Compressor 2",
          "Compressor 2",
          "Compressor 2",
          "Compressor 2",
          "Compressor 2",
          "Compressor 2",
          "Compressor 2",
          "Compressor 2",
          "Compressor 2",
          "Compressor 2",
          "Compressor 2",
          "Compressor 2",
          "Compressor 2",
          "Compressor 2",
          "Compressor 2",
          "Compressor 2",
          "Compressor 2",
          "Compressor 2",
          "Compressor 2",
          "Compressor 2",
          "Compressor 2",
          "Compressor 2",
          "Compressor 2",
          "Compressor 2",
          "Compressor 2",
          "Compressor 2",
          "Compressor 2",
          "Compressor 2",
          "Compressor 2",
          "Compressor 2",
          "Compressor 2",
          "Compressor 2",
          "Compressor 2",
          "Compressor 2",
          "Compressor 2",
          "Compressor 2",
          "Compressor 2",
          "Compressor 2",
          "Compressor 2",
          "Compressor 2",
          "Compressor 2",
          "Compressor 2",
          "Compressor 2",
          "Compressor 2",
          "Compressor 2",
          "Compressor 2",
          "Compressor 2",
          "Compressor 2",
          "Compressor 2",
          "Compressor 2",
          "Compressor 2",
          "Compressor 2",
          "Compressor 2",
          "Compressor 2",
          "Compressor 2",
          "Compressor 2",
          "Compressor 2",
          "Compressor 2",
          "Compressor 2",
          "Compressor 2",
          "Compressor 2",
          "Compressor 2",
          "Compressor 2",
          "Compressor 2",
          "Compressor 2",
          "Compressor 2",
          "Compressor 2",
          "Compressor 2",
          "Compressor 2",
          "Compressor 2",
          "Compressor 2",
          "Compressor 2",
          "Compressor 2",
          "Compressor 2",
          "Compressor 2",
          "Compressor 2",
          "Compressor 2",
          "Compressor 2",
          "Compressor 2",
          "Compressor 2",
          "Compressor 2",
          "Compressor 2",
          "Compressor 2",
          "Compressor 2",
          "Compressor 2",
          "Compressor 2",
          "Compressor 2",
          "Compressor 2",
          "Compressor 2",
          "Compressor 2",
          "Compressor 2",
          "Compressor 2",
          "Compressor 2",
          "Compressor 2",
          "Compressor 2",
          "Compressor 2",
          "Compressor 2",
          "Compressor 2",
          "Compressor 2",
          "Compressor 2",
          "Compressor 2",
          "Compressor 2",
          "Compressor 2",
          "Compressor 2",
          "Compressor 2",
          "Compressor 2",
          "Compressor 2",
          "Compressor 2",
          "Compressor 2",
          "Compressor 2",
          "Compressor 2",
          "Compressor 2",
          "Compressor 2",
          "Compressor 2",
          "Compressor 2",
          "Compressor 2",
          "Compressor 2",
          "Compressor 2",
          "Compressor 2",
          "Compressor 2",
          "Compressor 2",
          "Compressor 2",
          "Compressor 2",
          "Compressor 2",
          "Compressor 2",
          "Compressor 2",
          "Compressor 2",
          "Compressor 2",
          "Compressor 2",
          "Compressor 2",
          "Compressor 2",
          "Compressor 2",
          "Compressor 2",
          "Compressor 2",
          "Compressor 2",
          "Compressor 2",
          "Compressor 2",
          "Compressor 2",
          "Compressor 2",
          "Compressor 2",
          "Compressor 2",
          "Compressor 2",
          "Compressor 2",
          "Compressor 2",
          "Compressor 2",
          "Compressor 2",
          "Compressor 2",
          "Compressor 2",
          "Compressor 2",
          "Compressor 2",
          "Compressor 2",
          "Compressor 2",
          "Compressor 2",
          "Compressor 2",
          "Compressor 2",
          "Compressor 2",
          "Compressor 2",
          "Compressor 2",
          "Compressor 2",
          "Compressor 2",
          "Compressor 2",
          "Compressor 2",
          "Compressor 2",
          "Compressor 2",
          "Compressor 2",
          "Compressor 2",
          "Compressor 2",
          "Compressor 2",
          "Compressor 2",
          "Compressor 2",
          "Compressor 2",
          "Compressor 2",
          "Compressor 2",
          "Compressor 2",
          "Compressor 2",
          "Compressor 2",
          "Compressor 2",
          "Compressor 2",
          "Compressor 2",
          "Compressor 2",
          "Compressor 2",
          "Compressor 2",
          "Compressor 2",
          "Compressor 2",
          "Compressor 2",
          "Compressor 2",
          "Compressor 2",
          "Compressor 2",
          "Compressor 2",
          "Compressor 2",
          "Compressor 2",
          "Compressor 2",
          "Compressor 2",
          "Compressor 2",
          "Compressor 2",
          "Compressor 2",
          "Compressor 2",
          "Compressor 2",
          "Compressor 2",
          "Compressor 2",
          "Compressor 2",
          "Compressor 2",
          "Compressor 2",
          "Compressor 2",
          "Compressor 2",
          "Compressor 2",
          "Compressor 2",
          "Compressor 2",
          "Compressor 2",
          "Compressor 2",
          "Compressor 2",
          "Compressor 2",
          "Compressor 2",
          "Compressor 2",
          "Compressor 2",
          "Compressor 2",
          "Compressor 2",
          "Compressor 2",
          "Compressor 2",
          "Compressor 2",
          "Compressor 2",
          "Compressor 2",
          "Compressor 2",
          "Compressor 2",
          "Compressor 2",
          "Compressor 2",
          "Compressor 2",
          "Compressor 2",
          "Compressor 2",
          "Compressor 2",
          "Compressor 2",
          "Compressor 2",
          "Compressor 2",
          "Compressor 2",
          "Compressor 2",
          "Compressor 2",
          "Compressor 2",
          "Compressor 2",
          "Compressor 2",
          "Compressor 2",
          "Compressor 2",
          "Compressor 2",
          "Compressor 2",
          "Compressor 2",
          "Compressor 2",
          "Compressor 2",
          "Compressor 2",
          "Compressor 2",
          "Compressor 2",
          "Compressor 2",
          "Compressor 2",
          "Compressor 2",
          "Compressor 2",
          "Compressor 2",
          "Compressor 2",
          "Compressor 2",
          "Compressor 2",
          "Compressor 2",
          "Compressor 2",
          "Compressor 2",
          "Compressor 2",
          "Compressor 2",
          "Compressor 2",
          "Compressor 2",
          "Compressor 2",
          "Compressor 2",
          "Compressor 2",
          "Compressor 2",
          "Compressor 2",
          "Compressor 2",
          "Compressor 2",
          "Compressor 2",
          "Compressor 2",
          "Compressor 2",
          "Compressor 2",
          "Compressor 2",
          "Compressor 2",
          "Compressor 2",
          "Compressor 2",
          "Compressor 2",
          "Compressor 2",
          "Compressor 2",
          "Compressor 2",
          "Compressor 2",
          "Compressor 2",
          "Compressor 2",
          "Compressor 2",
          "Compressor 2",
          "Compressor 2",
          "Compressor 2",
          "Compressor 2",
          "Compressor 2",
          "Compressor 2",
          "Compressor 2",
          "Compressor 2",
          "Compressor 2",
          "Compressor 2",
          "Compressor 2",
          "Compressor 2",
          "Compressor 2",
          "Compressor 2",
          "Compressor 2",
          "Compressor 2",
          "Compressor 2",
          "Compressor 2",
          "Compressor 2",
          "Compressor 2",
          "Compressor 2",
          "Compressor 2",
          "Compressor 2",
          "Compressor 2",
          "Compressor 2",
          "Compressor 2",
          "Compressor 2",
          "Compressor 2",
          "Compressor 2",
          "Compressor 2",
          "Compressor 2",
          "Compressor 2",
          "Compressor 2",
          "Compressor 2",
          "Compressor 2",
          "Compressor 2",
          "Compressor 2",
          "Compressor 2",
          "Compressor 2",
          "Compressor 2",
          "Compressor 2",
          "Compressor 2",
          "Compressor 2",
          "Compressor 2",
          "Compressor 2",
          "Compressor 2",
          "Compressor 2",
          "Compressor 2",
          "Compressor 2",
          "Compressor 2",
          "Compressor 2",
          "Compressor 2",
          "Compressor 2",
          "Compressor 2",
          "Compressor 2",
          "Compressor 2",
          "Compressor 2",
          "Compressor 2",
          "Compressor 2",
          "Compressor 2",
          "Compressor 2",
          "Compressor 2",
          "Compressor 2",
          "Compressor 2",
          "Compressor 2",
          "Compressor 2",
          "Compressor 2",
          "Compressor 2",
          "Compressor 2",
          "Compressor 2",
          "Compressor 2",
          "Compressor 2",
          "Compressor 2",
          "Compressor 2",
          "Compressor 2",
          "Compressor 2",
          "Compressor 2",
          "Compressor 2",
          "Compressor 2",
          "Compressor 2",
          "Compressor 2",
          "Compressor 2",
          "Compressor 2",
          "Compressor 2",
          "Compressor 2",
          "Compressor 2",
          "Compressor 2",
          "Compressor 2",
          "Compressor 2",
          "Compressor 2",
          "Compressor 2",
          "Compressor 2",
          "Compressor 2",
          "Compressor 2",
          "Compressor 2",
          "Compressor 2",
          "Compressor 2",
          "Compressor 2",
          "Compressor 2",
          "Compressor 2",
          "Compressor 2",
          "Compressor 2",
          "Compressor 2",
          "Compressor 2",
          "Compressor 2",
          "Compressor 2",
          "Compressor 2",
          "Compressor 2",
          "Compressor 2",
          "Compressor 2",
          "Compressor 2",
          "Compressor 2",
          "Compressor 2",
          "Compressor 2",
          "Compressor 2",
          "Compressor 2",
          "Compressor 2",
          "Compressor 2",
          "Compressor 2",
          "Compressor 2",
          "Compressor 2",
          "Compressor 2",
          "Compressor 2",
          "Compressor 2",
          "Compressor 2",
          "Compressor 2",
          "Compressor 2",
          "Compressor 2",
          "Compressor 2",
          "Compressor 2",
          "Compressor 2",
          "Compressor 2",
          "Compressor 2",
          "Compressor 2",
          "Compressor 2",
          "Compressor 2",
          "Compressor 2",
          "Compressor 2",
          "Compressor 2",
          "Compressor 2",
          "Compressor 2",
          "Compressor 2",
          "Compressor 2",
          "Compressor 2",
          "Compressor 2",
          "Compressor 2",
          "Compressor 2",
          "Compressor 2",
          "Compressor 2",
          "Compressor 2",
          "Compressor 2",
          "Compressor 2",
          "Compressor 2",
          "Compressor 2",
          "Compressor 2",
          "Compressor 2",
          "Compressor 2",
          "Compressor 2",
          "Compressor 2",
          "Compressor 2",
          "Compressor 2",
          "Compressor 2",
          "Compressor 2",
          "Compressor 2",
          "Compressor 2",
          "Compressor 2",
          "Compressor 2",
          "Compressor 2",
          "Compressor 2",
          "Compressor 2",
          "Compressor 2",
          "Compressor 2",
          "Compressor 2",
          "Compressor 2",
          "Compressor 2",
          "Compressor 2",
          "Compressor 2",
          "Compressor 2",
          "Compressor 2",
          "Compressor 2",
          "Compressor 2",
          "Compressor 2",
          "Compressor 2",
          "Compressor 2",
          "Compressor 2",
          "Compressor 2",
          "Compressor 2",
          "Compressor 2",
          "Compressor 2",
          "Compressor 2",
          "Compressor 2",
          "Compressor 2",
          "Compressor 2",
          "Compressor 2",
          "Compressor 2",
          "Compressor 2",
          "Compressor 2",
          "Compressor 2",
          "Compressor 2",
          "Compressor 2",
          "Compressor 2",
          "Compressor 2",
          "Compressor 2",
          "Compressor 2",
          "Compressor 2",
          "Compressor 2",
          "Compressor 2",
          "Compressor 2",
          "Compressor 2",
          "Compressor 2",
          "Compressor 2",
          "Compressor 2",
          "Compressor 2",
          "Compressor 2",
          "Compressor 2",
          "Compressor 2",
          "Compressor 2",
          "Compressor 2",
          "Compressor 2",
          "Compressor 2",
          "Compressor 2",
          "Compressor 2",
          "Compressor 2",
          "Compressor 2",
          "Compressor 2",
          "Compressor 2",
          "Compressor 2",
          "Compressor 2",
          "Compressor 2",
          "Compressor 2",
          "Compressor 2",
          "Compressor 2",
          "Compressor 2",
          "Compressor 2",
          "Compressor 2",
          "Compressor 2",
          "Compressor 2",
          "Compressor 2",
          "Compressor 2",
          "Compressor 2",
          "Compressor 2",
          "Compressor 2",
          "Compressor 2",
          "Compressor 2",
          "Compressor 2",
          "Compressor 2",
          "Compressor 2",
          "Compressor 2",
          "Compressor 2",
          "Compressor 2",
          "Compressor 2",
          "Compressor 2",
          "Compressor 2",
          "Compressor 2",
          "Compressor 2",
          "Compressor 2",
          "Compressor 2",
          "Compressor 2",
          "Compressor 2",
          "Compressor 2",
          "Compressor 2",
          "Compressor 2",
          "Compressor 2",
          "Compressor 2",
          "Compressor 2",
          "Compressor 2",
          "Compressor 2",
          "Compressor 2",
          "Compressor 2",
          "Compressor 2",
          "Compressor 2",
          "Compressor 2",
          "Compressor 2",
          "Compressor 2",
          "Compressor 2",
          "Compressor 2",
          "Compressor 2",
          "Compressor 2",
          "Compressor 2",
          "Compressor 2",
          "Compressor 2",
          "Compressor 2",
          "Compressor 2",
          "Compressor 2",
          "Compressor 2",
          "Compressor 2",
          "Compressor 2",
          "Compressor 2",
          "Compressor 2",
          "Compressor 2",
          "Compressor 2",
          "Compressor 2",
          "Compressor 2",
          "Compressor 2",
          "Compressor 2",
          "Compressor 2",
          "Compressor 2",
          "Compressor 2",
          "Compressor 2",
          "Compressor 2",
          "Compressor 2",
          "Compressor 2",
          "Compressor 2",
          "Compressor 2",
          "Compressor 2",
          "Compressor 2",
          "Compressor 2",
          "Compressor 2",
          "Compressor 2",
          "Compressor 2",
          "Compressor 2",
          "Compressor 2",
          "Compressor 2",
          "Compressor 2",
          "Compressor 2",
          "Compressor 2",
          "Compressor 2",
          "Compressor 2",
          "Compressor 2",
          "Compressor 2",
          "Compressor 2",
          "Compressor 2",
          "Compressor 2",
          "Compressor 2",
          "Compressor 2",
          "Compressor 2",
          "Compressor 2",
          "Compressor 2",
          "Compressor 2",
          "Compressor 2",
          "Compressor 2",
          "Compressor 2",
          "Compressor 2",
          "Compressor 2",
          "Compressor 2",
          "Compressor 2",
          "Compressor 2",
          "Compressor 2",
          "Compressor 2",
          "Compressor 2",
          "Compressor 2",
          "Compressor 2",
          "Compressor 2",
          "Compressor 2",
          "Compressor 2",
          "Compressor 2",
          "Compressor 2",
          "Compressor 2",
          "Compressor 2",
          "Compressor 2",
          "Compressor 2",
          "Compressor 2",
          "Compressor 2",
          "Compressor 2",
          "Compressor 2",
          "Compressor 2",
          "Compressor 2",
          "Compressor 2",
          "Compressor 2",
          "Compressor 2",
          "Compressor 2",
          "Compressor 2",
          "Compressor 2",
          "Compressor 2",
          "Compressor 2",
          "Compressor 2",
          "Compressor 2",
          "Compressor 2",
          "Compressor 2",
          "Compressor 2",
          "Compressor 2",
          "Compressor 2",
          "Compressor 2",
          "Compressor 2",
          "Compressor 2",
          "Compressor 2",
          "Compressor 2",
          "Compressor 2",
          "Compressor 2",
          "Compressor 2",
          "Compressor 2",
          "Compressor 2",
          "Compressor 2",
          "Compressor 2",
          "Compressor 2",
          "Compressor 2",
          "Compressor 2",
          "Compressor 2",
          "Compressor 2",
          "Compressor 2",
          "Compressor 2",
          "Compressor 2",
          "Compressor 2",
          "Compressor 2",
          "Compressor 2",
          "Compressor 2",
          "Compressor 2",
          "Compressor 2",
          "Compressor 2",
          "Compressor 2",
          "Compressor 2",
          "Compressor 2",
          "Compressor 2",
          "Compressor 2",
          "Compressor 2",
          "Compressor 2",
          "Compressor 2",
          "Compressor 2",
          "Compressor 2",
          "Compressor 2",
          "Compressor 2",
          "Compressor 2",
          "Compressor 2",
          "Compressor 2",
          "Compressor 2",
          "Compressor 2",
          "Compressor 2",
          "Compressor 2",
          "Compressor 2",
          "Compressor 2",
          "Compressor 2",
          "Compressor 2",
          "Compressor 2",
          "Compressor 2",
          "Compressor 2",
          "Compressor 2",
          "Compressor 2",
          "Compressor 2",
          "Compressor 2",
          "Compressor 2",
          "Compressor 2",
          "Compressor 2",
          "Compressor 2",
          "Compressor 2",
          "Compressor 2",
          "Compressor 2",
          "Compressor 2",
          "Compressor 2",
          "Compressor 2",
          "Compressor 2",
          "Compressor 2",
          "Compressor 2",
          "Compressor 2",
          "Compressor 2",
          "Compressor 2",
          "Compressor 2",
          "Compressor 2",
          "Compressor 2",
          "Compressor 2",
          "Compressor 2",
          "Compressor 2",
          "Compressor 2",
          "Compressor 2",
          "Compressor 2",
          "Compressor 2",
          "Compressor 2",
          "Compressor 2",
          "Compressor 2",
          "Compressor 2",
          "Compressor 2",
          "Compressor 2",
          "Compressor 2",
          "Compressor 2",
          "Compressor 2",
          "Compressor 2",
          "Compressor 2",
          "Compressor 2",
          "Compressor 2",
          "Compressor 2",
          "Compressor 2",
          "Compressor 2",
          "Compressor 2",
          "Compressor 2",
          "Compressor 2",
          "Compressor 2",
          "Compressor 2",
          "Compressor 2",
          "Compressor 2",
          "Compressor 2",
          "Compressor 2",
          "Compressor 2",
          "Compressor 2",
          "Compressor 2",
          "Compressor 2",
          "Compressor 2",
          "Compressor 2",
          "Compressor 2",
          "Compressor 2",
          "Compressor 2",
          "Compressor 2",
          "Compressor 2",
          "Compressor 2",
          "Compressor 2",
          "Compressor 2",
          "Compressor 2",
          "Compressor 2",
          "Compressor 2",
          "Compressor 2",
          "Compressor 2",
          "Compressor 2",
          "Compressor 2",
          "Compressor 2",
          "Compressor 2",
          "Compressor 2",
          "Compressor 2",
          "Compressor 2",
          "Compressor 2",
          "Compressor 2",
          "Compressor 2",
          "Compressor 2",
          "Compressor 2",
          "Compressor 2",
          "Compressor 2",
          "Compressor 2",
          "Compressor 2",
          "Compressor 2",
          "Compressor 2",
          "Compressor 2",
          "Compressor 2",
          "Compressor 2",
          "Compressor 2",
          "Compressor 2",
          "Compressor 2",
          "Compressor 2",
          "Compressor 2",
          "Compressor 2",
          "Compressor 2",
          "Compressor 2",
          "Compressor 2",
          "Compressor 2",
          "Compressor 2",
          "Compressor 2",
          "Compressor 2",
          "Compressor 2",
          "Compressor 2",
          "Compressor 2",
          "Compressor 2",
          "Compressor 2",
          "Compressor 2",
          "Compressor 2",
          "Compressor 2",
          "Compressor 2",
          "Compressor 2",
          "Compressor 2",
          "Compressor 2",
          "Compressor 2",
          "Compressor 2",
          "Compressor 2",
          "Compressor 2",
          "Compressor 2",
          "Compressor 2",
          "Compressor 2",
          "Compressor 2",
          "Compressor 2",
          "Compressor 2",
          "Compressor 2",
          "Compressor 2",
          "Compressor 2",
          "Compressor 2",
          "Compressor 2",
          "Compressor 2",
          "Compressor 2",
          "Compressor 2",
          "Compressor 2",
          "Compressor 2",
          "Compressor 2",
          "Compressor 2",
          "Compressor 2",
          "Compressor 2",
          "Compressor 2",
          "Compressor 2",
          "Compressor 2",
          "Compressor 2",
          "Compressor 2",
          "Compressor 2",
          "Compressor 2",
          "Compressor 2",
          "Compressor 2",
          "Compressor 2",
          "Compressor 2",
          "Compressor 2",
          "Compressor 2",
          "Compressor 2",
          "Compressor 2",
          "Compressor 2",
          "Compressor 2",
          "Compressor 2",
          "Compressor 2",
          "Compressor 2",
          "Compressor 2",
          "Compressor 2",
          "Compressor 2",
          "Compressor 2",
          "Compressor 2",
          "Compressor 2",
          "Compressor 2",
          "Compressor 2",
          "Compressor 2",
          "Compressor 2",
          "Compressor 2",
          "Compressor 2",
          "Compressor 2",
          "Compressor 2",
          "Compressor 2",
          "Compressor 2",
          "Compressor 2",
          "Compressor 2",
          "Compressor 2",
          "Compressor 2",
          "Compressor 2",
          "Compressor 2",
          "Compressor 2",
          "Compressor 2",
          "Compressor 2",
          "Compressor 2",
          "Compressor 2",
          "Compressor 2",
          "Compressor 2",
          "Compressor 2",
          "Compressor 2",
          "Compressor 2",
          "Compressor 2",
          "Compressor 2",
          "Compressor 2",
          "Compressor 2",
          "Compressor 2",
          "Compressor 2",
          "Compressor 2",
          "Compressor 2",
          "Compressor 2",
          "Compressor 2",
          "Compressor 2",
          "Compressor 2",
          "Compressor 2",
          "Compressor 2",
          "Compressor 2",
          "Compressor 2",
          "Compressor 2",
          "Compressor 2",
          "Compressor 2",
          "Compressor 2",
          "Compressor 2",
          "Compressor 2",
          "Compressor 2",
          "Compressor 2",
          "Compressor 2",
          "Compressor 2",
          "Compressor 2",
          "Compressor 2",
          "Compressor 2",
          "Compressor 2",
          "Compressor 2",
          "Compressor 2",
          "Compressor 2",
          "Compressor 2",
          "Compressor 2",
          "Compressor 2",
          "Compressor 2",
          "Compressor 2",
          "Compressor 2",
          "Compressor 2",
          "Compressor 2",
          "Compressor 2",
          "Compressor 2",
          "Compressor 2",
          "Compressor 2",
          "Compressor 2",
          "Compressor 2",
          "Compressor 2",
          "Compressor 2",
          "Compressor 2",
          "Compressor 2",
          "Compressor 2",
          "Compressor 2",
          "Compressor 2",
          "Compressor 2",
          "Compressor 2",
          "Compressor 2",
          "Compressor 2",
          "Compressor 2",
          "Compressor 2",
          "Compressor 2",
          "Compressor 2",
          "Compressor 2",
          "Compressor 2",
          "Compressor 2",
          "Compressor 2",
          "Compressor 2",
          "Compressor 2",
          "Compressor 2",
          "Compressor 2",
          "Compressor 2",
          "Compressor 2",
          "Compressor 2",
          "Compressor 2",
          "Compressor 2",
          "Compressor 2",
          "Compressor 2",
          "Compressor 2",
          "Compressor 2",
          "Compressor 2",
          "Compressor 2",
          "Compressor 2",
          "Compressor 2",
          "Compressor 2",
          "Compressor 2",
          "Compressor 2",
          "Compressor 2",
          "Compressor 2",
          "Compressor 2",
          "Compressor 2",
          "Compressor 2",
          "Compressor 2",
          "Compressor 2",
          "Compressor 2",
          "Compressor 2",
          "Compressor 2",
          "Compressor 2",
          "Compressor 2",
          "Compressor 2",
          "Compressor 2",
          "Compressor 2",
          "Compressor 2",
          "Compressor 2",
          "Compressor 2",
          "Compressor 2",
          "Compressor 2",
          "Compressor 2",
          "Compressor 2",
          "Compressor 2",
          "Compressor 2",
          "Compressor 2",
          "Compressor 2",
          "Compressor 2",
          "Compressor 2",
          "Compressor 2",
          "Compressor 2",
          "Compressor 2",
          "Compressor 2",
          "Compressor 2",
          "Compressor 2",
          "Compressor 2",
          "Compressor 2",
          "Compressor 2",
          "Compressor 2",
          "Compressor 2",
          "Compressor 2",
          "Compressor 2",
          "Compressor 2",
          "Compressor 2",
          "Compressor 2",
          "Compressor 2",
          "Compressor 2",
          "Compressor 2",
          "Compressor 2",
          "Compressor 2",
          "Compressor 2",
          "Compressor 2",
          "Compressor 2",
          "Compressor 2",
          "Compressor 2",
          "Compressor 2",
          "Compressor 2",
          "Compressor 2",
          "Compressor 2",
          "Compressor 2",
          "Compressor 2",
          "Compressor 2",
          "Compressor 2",
          "Compressor 2",
          "Compressor 2",
          "Compressor 2",
          "Compressor 2",
          "Compressor 2",
          "Compressor 2",
          "Compressor 2",
          "Compressor 2",
          "Compressor 2",
          "Compressor 2",
          "Compressor 2",
          "Compressor 2",
          "Compressor 2",
          "Compressor 2",
          "Compressor 2",
          "Compressor 2",
          "Compressor 2",
          "Compressor 2",
          "Compressor 2",
          "Compressor 2",
          "Compressor 2",
          "Compressor 2",
          "Compressor 2",
          "Compressor 2",
          "Compressor 2",
          "Compressor 2",
          "Compressor 2",
          "Compressor 2",
          "Compressor 2",
          "Compressor 2",
          "Compressor 2",
          "Compressor 2",
          "Compressor 2",
          "Compressor 2",
          "Compressor 2",
          "Compressor 2",
          "Compressor 2",
          "Compressor 2",
          "Compressor 2",
          "Compressor 2",
          "Compressor 2",
          "Compressor 2",
          "Compressor 2",
          "Compressor 2",
          "Compressor 2",
          "Compressor 2",
          "Compressor 2",
          "Compressor 2",
          "Compressor 2",
          "Compressor 2",
          "Compressor 2",
          "Compressor 2",
          "Compressor 2",
          "Compressor 2",
          "Compressor 2",
          "Compressor 2",
          "Compressor 2",
          "Compressor 2",
          "Compressor 2",
          "Compressor 2",
          "Compressor 2",
          "Compressor 2",
          "Compressor 2",
          "Compressor 2",
          "Compressor 2",
          "Compressor 2",
          "Compressor 2",
          "Compressor 2",
          "Compressor 2",
          "Compressor 2",
          "Compressor 2",
          "Compressor 2",
          "Compressor 2",
          "Compressor 2",
          "Compressor 2",
          "Compressor 2",
          "Compressor 2",
          "Compressor 2",
          "Compressor 2",
          "Compressor 2",
          "Compressor 2",
          "Compressor 2",
          "Compressor 2",
          "Compressor 2",
          "Compressor 2",
          "Compressor 2",
          "Compressor 2",
          "Compressor 2",
          "Compressor 2",
          "Compressor 2",
          "Compressor 2",
          "Compressor 2",
          "Compressor 2",
          "Compressor 2",
          "Compressor 2",
          "Compressor 2",
          "Compressor 2",
          "Compressor 2",
          "Compressor 2",
          "Compressor 2",
          "Compressor 2",
          "Compressor 2",
          "Compressor 2",
          "Compressor 2",
          "Compressor 2",
          "Compressor 2",
          "Compressor 2",
          "Compressor 2",
          "Compressor 2",
          "Compressor 2",
          "Compressor 2",
          "Compressor 2",
          "Compressor 2",
          "Compressor 2",
          "Compressor 2",
          "Compressor 2",
          "Compressor 2",
          "Compressor 2",
          "Compressor 2",
          "Compressor 2",
          "Compressor 2",
          "Compressor 2",
          "Compressor 2",
          "Compressor 2",
          "Compressor 2",
          "Compressor 2",
          "Compressor 2",
          "Compressor 2",
          "Compressor 2",
          "Compressor 2",
          "Compressor 2",
          "Compressor 2",
          "Compressor 2",
          "Compressor 2",
          "Compressor 2",
          "Compressor 2",
          "Compressor 2",
          "Compressor 2",
          "Compressor 2",
          "Compressor 2",
          "Compressor 2",
          "Compressor 2",
          "Compressor 2",
          "Compressor 2",
          "Compressor 2",
          "Compressor 2",
          "Compressor 2",
          "Compressor 2",
          "Compressor 2",
          "Compressor 2",
          "Compressor 2",
          "Compressor 2",
          "Compressor 2",
          "Compressor 2",
          "Compressor 2",
          "Compressor 2",
          "Compressor 2",
          "Compressor 2",
          "Compressor 2",
          "Compressor 2",
          "Compressor 2",
          "Compressor 2",
          "Compressor 2",
          "Compressor 2",
          "Compressor 2",
          "Compressor 2",
          "Compressor 2",
          "Compressor 2",
          "Compressor 2",
          "Compressor 2",
          "Compressor 2",
          "Compressor 2",
          "Compressor 2",
          "Compressor 2",
          "Compressor 2",
          "Compressor 2",
          "Compressor 2",
          "Compressor 2",
          "Compressor 2",
          "Compressor 2",
          "Compressor 2",
          "Compressor 2",
          "Compressor 2",
          "Compressor 2",
          "Compressor 2",
          "Compressor 2",
          "Compressor 2",
          "Compressor 2",
          "Compressor 2",
          "Compressor 2",
          "Compressor 2"
         ],
         "legendgroup": "Compressor 2",
         "line": {
          "color": "#EF553B"
         },
         "marker": {
          "symbol": "circle"
         },
         "mode": "lines",
         "name": "Compressor 2",
         "orientation": "v",
         "showlegend": true,
         "stackgroup": "1",
         "type": "scatter",
         "x": [
          0,
          0.001,
          0.002,
          0.003,
          0.004,
          0.005,
          0.006,
          0.007,
          0.008,
          0.009000000000000001,
          0.01,
          0.011,
          0.012,
          0.013000000000000001,
          0.014,
          0.015,
          0.016,
          0.017,
          0.018000000000000002,
          0.019,
          0.02,
          0.021,
          0.022,
          0.023,
          0.024,
          0.025,
          0.026000000000000002,
          0.027,
          0.028,
          0.029,
          0.03,
          0.031,
          0.032,
          0.033,
          0.034,
          0.035,
          0.036000000000000004,
          0.037,
          0.038,
          0.039,
          0.04,
          0.041,
          0.042,
          0.043000000000000003,
          0.044,
          0.045,
          0.046,
          0.047,
          0.048,
          0.049,
          0.05,
          0.051000000000000004,
          0.052000000000000005,
          0.053,
          0.054,
          0.055,
          0.056,
          0.057,
          0.058,
          0.059000000000000004,
          0.06,
          0.061,
          0.062,
          0.063,
          0.064,
          0.065,
          0.066,
          0.067,
          0.068,
          0.069,
          0.07,
          0.07100000000000001,
          0.07200000000000001,
          0.073,
          0.074,
          0.075,
          0.076,
          0.077,
          0.078,
          0.079,
          0.08,
          0.081,
          0.082,
          0.083,
          0.084,
          0.085,
          0.08600000000000001,
          0.08700000000000001,
          0.088,
          0.089,
          0.09,
          0.091,
          0.092,
          0.093,
          0.094,
          0.095,
          0.096,
          0.097,
          0.098,
          0.099,
          0.1,
          0.101,
          0.10200000000000001,
          0.10300000000000001,
          0.10400000000000001,
          0.105,
          0.106,
          0.107,
          0.108,
          0.109,
          0.11,
          0.111,
          0.112,
          0.113,
          0.114,
          0.115,
          0.116,
          0.117,
          0.11800000000000001,
          0.11900000000000001,
          0.12,
          0.121,
          0.122,
          0.123,
          0.124,
          0.125,
          0.126,
          0.127,
          0.128,
          0.129,
          0.13,
          0.131,
          0.132,
          0.133,
          0.134,
          0.135,
          0.136,
          0.137,
          0.138,
          0.139,
          0.14,
          0.14100000000000001,
          0.14200000000000002,
          0.14300000000000002,
          0.14400000000000002,
          0.145,
          0.146,
          0.147,
          0.148,
          0.149,
          0.15,
          0.151,
          0.152,
          0.153,
          0.154,
          0.155,
          0.156,
          0.157,
          0.158,
          0.159,
          0.16,
          0.161,
          0.162,
          0.163,
          0.164,
          0.165,
          0.166,
          0.167,
          0.168,
          0.169,
          0.17,
          0.171,
          0.17200000000000001,
          0.17300000000000001,
          0.17400000000000002,
          0.17500000000000002,
          0.176,
          0.177,
          0.178,
          0.179,
          0.18,
          0.181,
          0.182,
          0.183,
          0.184,
          0.185,
          0.186,
          0.187,
          0.188,
          0.189,
          0.19,
          0.191,
          0.192,
          0.193,
          0.194,
          0.195,
          0.196,
          0.197,
          0.198,
          0.199,
          0.2,
          0.201,
          0.202,
          0.203,
          0.20400000000000001,
          0.20500000000000002,
          0.20600000000000002,
          0.20700000000000002,
          0.20800000000000002,
          0.209,
          0.21,
          0.211,
          0.212,
          0.213,
          0.214,
          0.215,
          0.216,
          0.217,
          0.218,
          0.219,
          0.22,
          0.221,
          0.222,
          0.223,
          0.224,
          0.225,
          0.226,
          0.227,
          0.228,
          0.229,
          0.23,
          0.231,
          0.232,
          0.233,
          0.234,
          0.23500000000000001,
          0.23600000000000002,
          0.23700000000000002,
          0.23800000000000002,
          0.23900000000000002,
          0.24,
          0.241,
          0.242,
          0.243,
          0.244,
          0.245,
          0.246,
          0.247,
          0.248,
          0.249,
          0.25,
          0.251,
          0.252,
          0.253,
          0.254,
          0.255,
          0.256,
          0.257,
          0.258,
          0.259,
          0.26,
          0.261,
          0.262,
          0.263,
          0.264,
          0.265,
          0.266,
          0.267,
          0.268,
          0.269,
          0.27,
          0.271,
          0.272,
          0.273,
          0.274,
          0.275,
          0.276,
          0.277,
          0.278,
          0.279,
          0.28,
          0.281,
          0.28200000000000003,
          0.28300000000000003,
          0.28400000000000003,
          0.28500000000000003,
          0.28600000000000003,
          0.28700000000000003,
          0.28800000000000003,
          0.289,
          0.29,
          0.291,
          0.292,
          0.293,
          0.294,
          0.295,
          0.296,
          0.297,
          0.298,
          0.299,
          0.3,
          0.301,
          0.302,
          0.303,
          0.304,
          0.305,
          0.306,
          0.307,
          0.308,
          0.309,
          0.31,
          0.311,
          0.312,
          0.313,
          0.314,
          0.315,
          0.316,
          0.317,
          0.318,
          0.319,
          0.32,
          0.321,
          0.322,
          0.323,
          0.324,
          0.325,
          0.326,
          0.327,
          0.328,
          0.329,
          0.33,
          0.331,
          0.332,
          0.333,
          0.334,
          0.335,
          0.336,
          0.337,
          0.338,
          0.339,
          0.34,
          0.341,
          0.342,
          0.343,
          0.34400000000000003,
          0.34500000000000003,
          0.34600000000000003,
          0.34700000000000003,
          0.34800000000000003,
          0.34900000000000003,
          0.35000000000000003,
          0.35100000000000003,
          0.352,
          0.353,
          0.354,
          0.355,
          0.356,
          0.357,
          0.358,
          0.359,
          0.36,
          0.361,
          0.362,
          0.363,
          0.364,
          0.365,
          0.366,
          0.367,
          0.368,
          0.369,
          0.37,
          0.371,
          0.372,
          0.373,
          0.374,
          0.375,
          0.376,
          0.377,
          0.378,
          0.379,
          0.38,
          0.381,
          0.382,
          0.383,
          0.384,
          0.385,
          0.386,
          0.387,
          0.388,
          0.389,
          0.39,
          0.391,
          0.392,
          0.393,
          0.394,
          0.395,
          0.396,
          0.397,
          0.398,
          0.399,
          0.4,
          0.401,
          0.402,
          0.403,
          0.404,
          0.405,
          0.406,
          0.40700000000000003,
          0.40800000000000003,
          0.40900000000000003,
          0.41000000000000003,
          0.41100000000000003,
          0.41200000000000003,
          0.41300000000000003,
          0.41400000000000003,
          0.41500000000000004,
          0.41600000000000004,
          0.417,
          0.418,
          0.419,
          0.42,
          0.421,
          0.422,
          0.423,
          0.424,
          0.425,
          0.426,
          0.427,
          0.428,
          0.429,
          0.43,
          0.431,
          0.432,
          0.433,
          0.434,
          0.435,
          0.436,
          0.437,
          0.438,
          0.439,
          0.44,
          0.441,
          0.442,
          0.443,
          0.444,
          0.445,
          0.446,
          0.447,
          0.448,
          0.449,
          0.45,
          0.451,
          0.452,
          0.453,
          0.454,
          0.455,
          0.456,
          0.457,
          0.458,
          0.459,
          0.46,
          0.461,
          0.462,
          0.463,
          0.464,
          0.465,
          0.466,
          0.467,
          0.468,
          0.46900000000000003,
          0.47000000000000003,
          0.47100000000000003,
          0.47200000000000003,
          0.47300000000000003,
          0.47400000000000003,
          0.47500000000000003,
          0.47600000000000003,
          0.47700000000000004,
          0.47800000000000004,
          0.47900000000000004,
          0.48,
          0.481,
          0.482,
          0.483,
          0.484,
          0.485,
          0.486,
          0.487,
          0.488,
          0.489,
          0.49,
          0.491,
          0.492,
          0.493,
          0.494,
          0.495,
          0.496,
          0.497,
          0.498,
          0.499,
          0.5,
          0.501,
          0.502,
          0.503,
          0.504,
          0.505,
          0.506,
          0.507,
          0.508,
          0.509,
          0.51,
          0.511,
          0.512,
          0.513,
          0.514,
          0.515,
          0.516,
          0.517,
          0.518,
          0.519,
          0.52,
          0.521,
          0.522,
          0.523,
          0.524,
          0.525,
          0.526,
          0.527,
          0.528,
          0.529,
          0.53,
          0.531,
          0.532,
          0.533,
          0.534,
          0.535,
          0.536,
          0.537,
          0.538,
          0.539,
          0.54,
          0.541,
          0.542,
          0.543,
          0.544,
          0.545,
          0.546,
          0.547,
          0.548,
          0.549,
          0.55,
          0.551,
          0.552,
          0.553,
          0.554,
          0.555,
          0.556,
          0.557,
          0.558,
          0.559,
          0.56,
          0.561,
          0.562,
          0.5630000000000001,
          0.5640000000000001,
          0.5650000000000001,
          0.5660000000000001,
          0.5670000000000001,
          0.5680000000000001,
          0.5690000000000001,
          0.5700000000000001,
          0.5710000000000001,
          0.5720000000000001,
          0.5730000000000001,
          0.5740000000000001,
          0.5750000000000001,
          0.5760000000000001,
          0.577,
          0.578,
          0.579,
          0.58,
          0.581,
          0.582,
          0.583,
          0.584,
          0.585,
          0.586,
          0.587,
          0.588,
          0.589,
          0.59,
          0.591,
          0.592,
          0.593,
          0.594,
          0.595,
          0.596,
          0.597,
          0.598,
          0.599,
          0.6,
          0.601,
          0.602,
          0.603,
          0.604,
          0.605,
          0.606,
          0.607,
          0.608,
          0.609,
          0.61,
          0.611,
          0.612,
          0.613,
          0.614,
          0.615,
          0.616,
          0.617,
          0.618,
          0.619,
          0.62,
          0.621,
          0.622,
          0.623,
          0.624,
          0.625,
          0.626,
          0.627,
          0.628,
          0.629,
          0.63,
          0.631,
          0.632,
          0.633,
          0.634,
          0.635,
          0.636,
          0.637,
          0.638,
          0.639,
          0.64,
          0.641,
          0.642,
          0.643,
          0.644,
          0.645,
          0.646,
          0.647,
          0.648,
          0.649,
          0.65,
          0.651,
          0.652,
          0.653,
          0.654,
          0.655,
          0.656,
          0.657,
          0.658,
          0.659,
          0.66,
          0.661,
          0.662,
          0.663,
          0.664,
          0.665,
          0.666,
          0.667,
          0.668,
          0.669,
          0.67,
          0.671,
          0.672,
          0.673,
          0.674,
          0.675,
          0.676,
          0.677,
          0.678,
          0.679,
          0.68,
          0.681,
          0.682,
          0.683,
          0.684,
          0.685,
          0.686,
          0.687,
          0.6880000000000001,
          0.6890000000000001,
          0.6900000000000001,
          0.6910000000000001,
          0.6920000000000001,
          0.6930000000000001,
          0.6940000000000001,
          0.6950000000000001,
          0.6960000000000001,
          0.6970000000000001,
          0.6980000000000001,
          0.6990000000000001,
          0.7000000000000001,
          0.7010000000000001,
          0.7020000000000001,
          0.7030000000000001,
          0.704,
          0.705,
          0.706,
          0.707,
          0.708,
          0.709,
          0.71,
          0.711,
          0.712,
          0.713,
          0.714,
          0.715,
          0.716,
          0.717,
          0.718,
          0.719,
          0.72,
          0.721,
          0.722,
          0.723,
          0.724,
          0.725,
          0.726,
          0.727,
          0.728,
          0.729,
          0.73,
          0.731,
          0.732,
          0.733,
          0.734,
          0.735,
          0.736,
          0.737,
          0.738,
          0.739,
          0.74,
          0.741,
          0.742,
          0.743,
          0.744,
          0.745,
          0.746,
          0.747,
          0.748,
          0.749,
          0.75,
          0.751,
          0.752,
          0.753,
          0.754,
          0.755,
          0.756,
          0.757,
          0.758,
          0.759,
          0.76,
          0.761,
          0.762,
          0.763,
          0.764,
          0.765,
          0.766,
          0.767,
          0.768,
          0.769,
          0.77,
          0.771,
          0.772,
          0.773,
          0.774,
          0.775,
          0.776,
          0.777,
          0.778,
          0.779,
          0.78,
          0.781,
          0.782,
          0.783,
          0.784,
          0.785,
          0.786,
          0.787,
          0.788,
          0.789,
          0.79,
          0.791,
          0.792,
          0.793,
          0.794,
          0.795,
          0.796,
          0.797,
          0.798,
          0.799,
          0.8,
          0.801,
          0.802,
          0.803,
          0.804,
          0.805,
          0.806,
          0.807,
          0.808,
          0.809,
          0.81,
          0.811,
          0.812,
          0.8130000000000001,
          0.8140000000000001,
          0.8150000000000001,
          0.8160000000000001,
          0.8170000000000001,
          0.8180000000000001,
          0.8190000000000001,
          0.8200000000000001,
          0.8210000000000001,
          0.8220000000000001,
          0.8230000000000001,
          0.8240000000000001,
          0.8250000000000001,
          0.8260000000000001,
          0.8270000000000001,
          0.8280000000000001,
          0.8290000000000001,
          0.8300000000000001,
          0.8310000000000001,
          0.8320000000000001,
          0.833,
          0.834,
          0.835,
          0.836,
          0.837,
          0.838,
          0.839,
          0.84,
          0.841,
          0.842,
          0.843,
          0.844,
          0.845,
          0.846,
          0.847,
          0.848,
          0.849,
          0.85,
          0.851,
          0.852,
          0.853,
          0.854,
          0.855,
          0.856,
          0.857,
          0.858,
          0.859,
          0.86,
          0.861,
          0.862,
          0.863,
          0.864,
          0.865,
          0.866,
          0.867,
          0.868,
          0.869,
          0.87,
          0.871,
          0.872,
          0.873,
          0.874,
          0.875,
          0.876,
          0.877,
          0.878,
          0.879,
          0.88,
          0.881,
          0.882,
          0.883,
          0.884,
          0.885,
          0.886,
          0.887,
          0.888,
          0.889,
          0.89,
          0.891,
          0.892,
          0.893,
          0.894,
          0.895,
          0.896,
          0.897,
          0.898,
          0.899,
          0.9,
          0.901,
          0.902,
          0.903,
          0.904,
          0.905,
          0.906,
          0.907,
          0.908,
          0.909,
          0.91,
          0.911,
          0.912,
          0.913,
          0.914,
          0.915,
          0.916,
          0.917,
          0.918,
          0.919,
          0.92,
          0.921,
          0.922,
          0.923,
          0.924,
          0.925,
          0.926,
          0.927,
          0.928,
          0.929,
          0.93,
          0.931,
          0.932,
          0.933,
          0.934,
          0.935,
          0.936,
          0.937,
          0.9380000000000001,
          0.9390000000000001,
          0.9400000000000001,
          0.9410000000000001,
          0.9420000000000001,
          0.9430000000000001,
          0.9440000000000001,
          0.9450000000000001,
          0.9460000000000001,
          0.9470000000000001,
          0.9480000000000001,
          0.9490000000000001,
          0.9500000000000001,
          0.9510000000000001,
          0.9520000000000001,
          0.9530000000000001,
          0.9540000000000001,
          0.9550000000000001,
          0.9560000000000001,
          0.9570000000000001,
          0.9580000000000001,
          0.9590000000000001,
          0.96,
          0.961,
          0.962,
          0.963,
          0.964,
          0.965,
          0.966,
          0.967,
          0.968,
          0.969,
          0.97,
          0.971,
          0.972,
          0.973,
          0.974,
          0.975,
          0.976,
          0.977,
          0.978,
          0.979,
          0.98,
          0.981,
          0.982,
          0.983,
          0.984,
          0.985,
          0.986,
          0.987,
          0.988,
          0.989,
          0.99,
          0.991,
          0.992,
          0.993,
          0.994,
          0.995,
          0.996,
          0.997,
          0.998,
          0.999,
          1,
          1.0010000000000001,
          1.002,
          1.0030000000000001,
          1.004,
          1.0050000000000001,
          1.006,
          1.0070000000000001,
          1.008,
          1.0090000000000001,
          1.01,
          1.0110000000000001,
          1.012,
          1.0130000000000001,
          1.014,
          1.0150000000000001,
          1.016,
          1.0170000000000001,
          1.018,
          1.0190000000000001,
          1.02,
          1.0210000000000001,
          1.022,
          1.0230000000000001,
          1.024,
          1.025,
          1.026,
          1.027,
          1.028,
          1.029,
          1.03,
          1.031,
          1.032,
          1.033,
          1.034,
          1.035,
          1.036,
          1.037,
          1.038,
          1.039,
          1.04,
          1.041,
          1.042,
          1.043,
          1.044,
          1.045,
          1.046,
          1.047,
          1.048,
          1.049,
          1.05,
          1.051,
          1.052,
          1.053,
          1.054,
          1.055,
          1.056,
          1.057,
          1.058,
          1.059,
          1.06,
          1.061,
          1.062,
          1.063,
          1.064,
          1.065,
          1.066,
          1.067,
          1.068,
          1.069,
          1.07,
          1.071,
          1.072,
          1.073,
          1.074,
          1.075,
          1.076,
          1.077,
          1.078,
          1.079,
          1.08,
          1.081,
          1.082,
          1.083,
          1.084,
          1.085,
          1.086,
          1.087,
          1.088,
          1.089,
          1.09,
          1.091,
          1.092,
          1.093,
          1.094,
          1.095,
          1.096,
          1.097,
          1.098,
          1.099,
          1.1,
          1.101,
          1.102,
          1.103,
          1.104,
          1.105,
          1.106,
          1.107,
          1.108,
          1.109,
          1.11,
          1.111,
          1.112,
          1.113,
          1.114,
          1.115,
          1.116,
          1.117,
          1.118,
          1.119,
          1.12,
          1.121,
          1.122,
          1.123,
          1.124,
          1.125,
          1.1260000000000001,
          1.127,
          1.1280000000000001,
          1.129,
          1.1300000000000001,
          1.131,
          1.1320000000000001,
          1.133,
          1.1340000000000001,
          1.135,
          1.1360000000000001,
          1.137,
          1.1380000000000001,
          1.139,
          1.1400000000000001,
          1.141,
          1.1420000000000001,
          1.143,
          1.1440000000000001,
          1.145,
          1.1460000000000001,
          1.147,
          1.1480000000000001,
          1.149,
          1.1500000000000001,
          1.151,
          1.1520000000000001,
          1.153,
          1.154,
          1.155,
          1.156,
          1.157,
          1.158,
          1.159,
          1.16,
          1.161,
          1.162,
          1.163,
          1.164,
          1.165,
          1.166,
          1.167,
          1.168,
          1.169,
          1.17,
          1.171,
          1.172,
          1.173,
          1.174,
          1.175,
          1.176,
          1.177,
          1.178,
          1.179,
          1.18,
          1.181,
          1.182,
          1.183,
          1.184,
          1.185,
          1.186,
          1.187,
          1.188,
          1.189,
          1.19,
          1.191,
          1.192,
          1.193,
          1.194,
          1.195,
          1.196,
          1.197,
          1.198,
          1.199,
          1.2,
          1.201,
          1.202,
          1.203,
          1.204,
          1.205,
          1.206,
          1.207,
          1.208,
          1.209,
          1.21,
          1.211,
          1.212,
          1.213,
          1.214,
          1.215,
          1.216,
          1.217,
          1.218,
          1.219,
          1.22,
          1.221,
          1.222,
          1.223,
          1.224,
          1.225,
          1.226,
          1.227,
          1.228,
          1.229,
          1.23,
          1.231,
          1.232,
          1.233,
          1.234,
          1.235,
          1.236,
          1.237,
          1.238,
          1.239,
          1.24,
          1.241,
          1.242,
          1.243,
          1.244,
          1.245,
          1.246,
          1.247,
          1.248,
          1.249,
          1.25,
          1.2510000000000001,
          1.252,
          1.2530000000000001,
          1.254,
          1.2550000000000001,
          1.256,
          1.2570000000000001,
          1.258,
          1.2590000000000001,
          1.26,
          1.2610000000000001,
          1.262,
          1.2630000000000001,
          1.264,
          1.2650000000000001,
          1.266,
          1.2670000000000001,
          1.268,
          1.2690000000000001,
          1.27,
          1.2710000000000001,
          1.272,
          1.2730000000000001,
          1.274,
          1.2750000000000001,
          1.276,
          1.2770000000000001,
          1.278,
          1.2790000000000001,
          1.28,
          1.281,
          1.282,
          1.283,
          1.284,
          1.285,
          1.286,
          1.287,
          1.288,
          1.289,
          1.29,
          1.291,
          1.292,
          1.293,
          1.294,
          1.295,
          1.296,
          1.297,
          1.298,
          1.299,
          1.3,
          1.301,
          1.302,
          1.303,
          1.304,
          1.305,
          1.306,
          1.307,
          1.308,
          1.309,
          1.31,
          1.311,
          1.312,
          1.313,
          1.314,
          1.315,
          1.316,
          1.317,
          1.318,
          1.319,
          1.32,
          1.321,
          1.322,
          1.323,
          1.324,
          1.325,
          1.326,
          1.327,
          1.328,
          1.329,
          1.33,
          1.331,
          1.332,
          1.333,
          1.334,
          1.335,
          1.336,
          1.337,
          1.338,
          1.339,
          1.34,
          1.341,
          1.342,
          1.343,
          1.344,
          1.345,
          1.346,
          1.347,
          1.348,
          1.349,
          1.35,
          1.351,
          1.352,
          1.353,
          1.354,
          1.355,
          1.356,
          1.357,
          1.358,
          1.359,
          1.36,
          1.361,
          1.362,
          1.363,
          1.364,
          1.365,
          1.366,
          1.367,
          1.368,
          1.369,
          1.37,
          1.371,
          1.372,
          1.373,
          1.374,
          1.375,
          1.3760000000000001,
          1.377,
          1.3780000000000001,
          1.379,
          1.3800000000000001,
          1.381,
          1.3820000000000001,
          1.383,
          1.3840000000000001,
          1.385,
          1.3860000000000001,
          1.387,
          1.3880000000000001,
          1.389,
          1.3900000000000001,
          1.391,
          1.3920000000000001,
          1.393,
          1.3940000000000001,
          1.395,
          1.3960000000000001,
          1.397,
          1.3980000000000001,
          1.399,
          1.4000000000000001,
          1.401,
          1.4020000000000001,
          1.403,
          1.4040000000000001,
          1.405,
          1.4060000000000001,
          1.407,
          1.408,
          1.409,
          1.41,
          1.411,
          1.412,
          1.413,
          1.414,
          1.415,
          1.416,
          1.417,
          1.418,
          1.419,
          1.42,
          1.421,
          1.422,
          1.423,
          1.424,
          1.425,
          1.426,
          1.427,
          1.428,
          1.429,
          1.43,
          1.431,
          1.432,
          1.433,
          1.434,
          1.435,
          1.436,
          1.437,
          1.438,
          1.439,
          1.44,
          1.441,
          1.442,
          1.443,
          1.444,
          1.445,
          1.446,
          1.447,
          1.448,
          1.449,
          1.45,
          1.451,
          1.452,
          1.453,
          1.454,
          1.455,
          1.456,
          1.457,
          1.458,
          1.459,
          1.46,
          1.461,
          1.462,
          1.463,
          1.464,
          1.465,
          1.466,
          1.467,
          1.468,
          1.469,
          1.47,
          1.471,
          1.472,
          1.473,
          1.474,
          1.475,
          1.476,
          1.477,
          1.478,
          1.479,
          1.48,
          1.481,
          1.482,
          1.483,
          1.484,
          1.485,
          1.486,
          1.487,
          1.488,
          1.489,
          1.49,
          1.491,
          1.492,
          1.493,
          1.494,
          1.495,
          1.496,
          1.497,
          1.498,
          1.499,
          1.5,
          1.5010000000000001,
          1.502,
          1.5030000000000001,
          1.504,
          1.5050000000000001,
          1.506,
          1.5070000000000001,
          1.508,
          1.5090000000000001,
          1.51,
          1.5110000000000001,
          1.512,
          1.5130000000000001,
          1.514,
          1.5150000000000001,
          1.516,
          1.5170000000000001,
          1.518,
          1.5190000000000001,
          1.52,
          1.5210000000000001,
          1.522,
          1.5230000000000001,
          1.524,
          1.5250000000000001,
          1.526,
          1.5270000000000001,
          1.528,
          1.5290000000000001,
          1.53,
          1.5310000000000001,
          1.532,
          1.5330000000000001,
          1.534,
          1.5350000000000001,
          1.536,
          1.537,
          1.538,
          1.539,
          1.54,
          1.541,
          1.542,
          1.543,
          1.544,
          1.545,
          1.546,
          1.547,
          1.548,
          1.549,
          1.55,
          1.551,
          1.552,
          1.553,
          1.554,
          1.555,
          1.556,
          1.557,
          1.558,
          1.559,
          1.56,
          1.561,
          1.562,
          1.563,
          1.564,
          1.565,
          1.566,
          1.567,
          1.568,
          1.569,
          1.57,
          1.571,
          1.572,
          1.573,
          1.574,
          1.575,
          1.576,
          1.577,
          1.578,
          1.579,
          1.58,
          1.581,
          1.582,
          1.583,
          1.584,
          1.585,
          1.586,
          1.587,
          1.588,
          1.589,
          1.59,
          1.591,
          1.592,
          1.593,
          1.594,
          1.595,
          1.596,
          1.597,
          1.598,
          1.599,
          1.6,
          1.601,
          1.602,
          1.603,
          1.604,
          1.605,
          1.606,
          1.607,
          1.608,
          1.609,
          1.61,
          1.611,
          1.612,
          1.613,
          1.614,
          1.615,
          1.616,
          1.617,
          1.618,
          1.619,
          1.62,
          1.621,
          1.622,
          1.623,
          1.624,
          1.625,
          1.6260000000000001,
          1.627,
          1.6280000000000001,
          1.629,
          1.6300000000000001,
          1.631,
          1.6320000000000001,
          1.633,
          1.6340000000000001,
          1.635,
          1.6360000000000001,
          1.637,
          1.6380000000000001,
          1.639,
          1.6400000000000001,
          1.641,
          1.6420000000000001,
          1.643,
          1.6440000000000001,
          1.645,
          1.6460000000000001,
          1.647,
          1.6480000000000001,
          1.649,
          1.6500000000000001,
          1.651,
          1.6520000000000001,
          1.653,
          1.6540000000000001,
          1.655,
          1.6560000000000001,
          1.657,
          1.6580000000000001,
          1.659,
          1.6600000000000001,
          1.661,
          1.6620000000000001,
          1.663,
          1.6640000000000001,
          1.665,
          1.666,
          1.667,
          1.668,
          1.669,
          1.67,
          1.671,
          1.672,
          1.673,
          1.674,
          1.675,
          1.676,
          1.677,
          1.678,
          1.679,
          1.68,
          1.681,
          1.682,
          1.683,
          1.684,
          1.685,
          1.686,
          1.687,
          1.688,
          1.689,
          1.69,
          1.691,
          1.692,
          1.693,
          1.694,
          1.695,
          1.696,
          1.697,
          1.698,
          1.699,
          1.7,
          1.701,
          1.702,
          1.703,
          1.704,
          1.705,
          1.706,
          1.707,
          1.708,
          1.709,
          1.71,
          1.711,
          1.712,
          1.713,
          1.714,
          1.715,
          1.716,
          1.717,
          1.718,
          1.719,
          1.72,
          1.721,
          1.722,
          1.723,
          1.724,
          1.725,
          1.726,
          1.727,
          1.728,
          1.729,
          1.73,
          1.731,
          1.732,
          1.733,
          1.734,
          1.735,
          1.736,
          1.737,
          1.738,
          1.739,
          1.74,
          1.741,
          1.742,
          1.743,
          1.744,
          1.745,
          1.746,
          1.747,
          1.748,
          1.749,
          1.75,
          1.7510000000000001,
          1.752,
          1.7530000000000001,
          1.754,
          1.7550000000000001,
          1.756,
          1.7570000000000001,
          1.758,
          1.7590000000000001,
          1.76,
          1.7610000000000001,
          1.762,
          1.7630000000000001,
          1.764,
          1.7650000000000001,
          1.766,
          1.7670000000000001,
          1.768,
          1.7690000000000001,
          1.77,
          1.7710000000000001,
          1.772,
          1.7730000000000001,
          1.774,
          1.7750000000000001,
          1.776,
          1.7770000000000001,
          1.778,
          1.7790000000000001,
          1.78,
          1.7810000000000001,
          1.782,
          1.7830000000000001,
          1.784,
          1.7850000000000001,
          1.786,
          1.7870000000000001,
          1.788,
          1.7890000000000001,
          1.79,
          1.7910000000000001,
          1.792,
          1.793,
          1.794,
          1.795,
          1.796,
          1.797,
          1.798,
          1.799,
          1.8,
          1.801,
          1.802,
          1.803,
          1.804,
          1.805,
          1.806,
          1.807,
          1.808,
          1.809,
          1.81,
          1.811,
          1.812,
          1.813,
          1.814,
          1.815,
          1.816,
          1.817,
          1.818,
          1.819,
          1.82,
          1.821,
          1.822,
          1.823,
          1.824,
          1.825,
          1.826,
          1.827,
          1.828,
          1.829,
          1.83,
          1.831,
          1.832,
          1.833,
          1.834,
          1.835,
          1.836,
          1.837,
          1.838,
          1.839,
          1.84,
          1.841,
          1.842,
          1.843,
          1.844,
          1.845,
          1.846,
          1.847,
          1.848,
          1.849,
          1.85,
          1.851,
          1.852,
          1.853,
          1.854,
          1.855,
          1.856,
          1.857,
          1.858,
          1.859,
          1.86,
          1.861,
          1.862,
          1.863,
          1.864,
          1.865,
          1.866,
          1.867,
          1.868,
          1.869,
          1.87,
          1.871,
          1.872,
          1.873,
          1.874,
          1.875,
          1.8760000000000001,
          1.877,
          1.8780000000000001,
          1.879,
          1.8800000000000001,
          1.881,
          1.8820000000000001,
          1.883,
          1.8840000000000001,
          1.885,
          1.8860000000000001,
          1.887,
          1.8880000000000001,
          1.889,
          1.8900000000000001,
          1.891,
          1.8920000000000001,
          1.893,
          1.8940000000000001,
          1.895,
          1.8960000000000001,
          1.897,
          1.8980000000000001,
          1.899,
          1.9000000000000001,
          1.901,
          1.9020000000000001,
          1.903,
          1.9040000000000001,
          1.905,
          1.9060000000000001,
          1.907,
          1.9080000000000001,
          1.909,
          1.9100000000000001,
          1.911,
          1.9120000000000001,
          1.913,
          1.9140000000000001,
          1.915,
          1.9160000000000001,
          1.917,
          1.9180000000000001,
          1.919,
          1.92,
          1.921,
          1.922,
          1.923,
          1.924,
          1.925
         ],
         "xaxis": "x",
         "y": [
          0,
          null,
          null,
          null,
          null,
          null,
          null,
          null,
          null,
          null,
          null,
          null,
          null,
          null,
          null,
          null,
          null,
          null,
          null,
          null,
          null,
          null,
          null,
          null,
          null,
          null,
          null,
          null,
          null,
          null,
          null,
          null,
          null,
          null,
          null,
          null,
          null,
          null,
          null,
          null,
          null,
          null,
          null,
          null,
          null,
          null,
          null,
          null,
          null,
          null,
          null,
          null,
          null,
          null,
          null,
          null,
          null,
          null,
          null,
          null,
          null,
          null,
          null,
          null,
          null,
          null,
          null,
          null,
          null,
          null,
          null,
          null,
          null,
          null,
          null,
          null,
          null,
          null,
          null,
          null,
          null,
          null,
          null,
          null,
          null,
          null,
          null,
          null,
          null,
          null,
          null,
          null,
          null,
          null,
          null,
          null,
          null,
          null,
          null,
          null,
          null,
          null,
          null,
          null,
          null,
          null,
          null,
          null,
          null,
          null,
          null,
          null,
          null,
          null,
          null,
          null,
          null,
          null,
          null,
          null,
          null,
          null,
          null,
          null,
          null,
          null,
          null,
          null,
          null,
          null,
          null,
          null,
          null,
          null,
          null,
          null,
          null,
          null,
          null,
          null,
          null,
          null,
          null,
          null,
          null,
          null,
          null,
          null,
          null,
          null,
          null,
          null,
          null,
          null,
          null,
          null,
          null,
          null,
          null,
          null,
          null,
          null,
          null,
          null,
          null,
          null,
          null,
          null,
          null,
          null,
          null,
          null,
          null,
          null,
          null,
          null,
          null,
          null,
          null,
          null,
          null,
          null,
          null,
          null,
          null,
          null,
          null,
          null,
          null,
          null,
          null,
          null,
          null,
          null,
          null,
          null,
          null,
          null,
          null,
          null,
          null,
          null,
          null,
          null,
          null,
          null,
          null,
          null,
          null,
          null,
          null,
          null,
          null,
          null,
          null,
          null,
          null,
          null,
          null,
          null,
          null,
          null,
          null,
          null,
          null,
          null,
          null,
          null,
          null,
          null,
          null,
          null,
          null,
          null,
          null,
          null,
          null,
          null,
          null,
          null,
          null,
          null,
          null,
          null,
          null,
          null,
          null,
          null,
          null,
          null,
          null,
          null,
          null,
          null,
          null,
          null,
          null,
          null,
          null,
          null,
          null,
          null,
          null,
          null,
          null,
          null,
          null,
          null,
          null,
          null,
          null,
          null,
          null,
          null,
          null,
          null,
          null,
          null,
          null,
          null,
          null,
          null,
          null,
          null,
          null,
          null,
          null,
          null,
          null,
          null,
          null,
          null,
          null,
          null,
          null,
          null,
          null,
          null,
          null,
          null,
          null,
          null,
          null,
          null,
          null,
          null,
          null,
          null,
          null,
          null,
          null,
          null,
          null,
          null,
          null,
          null,
          null,
          null,
          null,
          null,
          null,
          null,
          null,
          null,
          null,
          null,
          null,
          null,
          null,
          null,
          null,
          null,
          null,
          null,
          null,
          null,
          null,
          null,
          null,
          null,
          null,
          null,
          null,
          null,
          null,
          null,
          null,
          null,
          null,
          null,
          null,
          null,
          null,
          null,
          null,
          null,
          null,
          null,
          null,
          null,
          null,
          null,
          null,
          null,
          null,
          null,
          null,
          null,
          null,
          null,
          null,
          null,
          null,
          null,
          null,
          null,
          null,
          null,
          null,
          null,
          null,
          null,
          null,
          null,
          null,
          null,
          null,
          null,
          null,
          null,
          null,
          null,
          null,
          null,
          null,
          null,
          null,
          null,
          null,
          null,
          null,
          null,
          null,
          null,
          null,
          null,
          null,
          null,
          null,
          null,
          null,
          null,
          null,
          null,
          null,
          null,
          null,
          null,
          null,
          null,
          null,
          null,
          null,
          null,
          null,
          null,
          null,
          null,
          null,
          null,
          null,
          null,
          null,
          null,
          null,
          null,
          null,
          null,
          null,
          null,
          null,
          null,
          null,
          null,
          null,
          null,
          null,
          null,
          null,
          null,
          null,
          null,
          null,
          null,
          null,
          null,
          null,
          null,
          null,
          null,
          null,
          null,
          null,
          null,
          null,
          null,
          null,
          null,
          null,
          null,
          null,
          null,
          null,
          null,
          null,
          null,
          null,
          null,
          null,
          null,
          null,
          null,
          null,
          null,
          null,
          null,
          null,
          null,
          null,
          null,
          null,
          null,
          null,
          null,
          null,
          null,
          null,
          null,
          null,
          null,
          0,
          0,
          0,
          0,
          0,
          0,
          0,
          0,
          0,
          0,
          0,
          0,
          0,
          0,
          0,
          0,
          0,
          0,
          0,
          0,
          0,
          0,
          0,
          0,
          0,
          0,
          0,
          0,
          0,
          0,
          0,
          0,
          0,
          0,
          0,
          0,
          0,
          0,
          0,
          0,
          0,
          0,
          0,
          0,
          0,
          0,
          0,
          0,
          0,
          0,
          0,
          0,
          0,
          0,
          0,
          0,
          0,
          0,
          0,
          0,
          0,
          0,
          0,
          0,
          0,
          0,
          0,
          0,
          0,
          0,
          0,
          0,
          0,
          0,
          0,
          0,
          0,
          0,
          0,
          0,
          0,
          0,
          0,
          0,
          0,
          0,
          0,
          0,
          0,
          0,
          0,
          0,
          0,
          0,
          0,
          0,
          0,
          0,
          0,
          0,
          0,
          0,
          0,
          0,
          0,
          0,
          0,
          0,
          0,
          0,
          0,
          0,
          0,
          0,
          0,
          0,
          0,
          0,
          0,
          0,
          0,
          0,
          0,
          0,
          0,
          0,
          0,
          0,
          0,
          0,
          0,
          0,
          0,
          0,
          0,
          0,
          0,
          0,
          0,
          0,
          0,
          0,
          0,
          0,
          0,
          0,
          0,
          0,
          0,
          0,
          0,
          0,
          0,
          0,
          0,
          0,
          0,
          0,
          0,
          0,
          0,
          0,
          0,
          0,
          0,
          0,
          0,
          0,
          0,
          0,
          0,
          0,
          0,
          0,
          0,
          0,
          0,
          0,
          0,
          0,
          0,
          0,
          0,
          0,
          0,
          0,
          0,
          0,
          0,
          0,
          0,
          0,
          0,
          0,
          0,
          0,
          0,
          0,
          0,
          0,
          0,
          0,
          0,
          0,
          0,
          0,
          0,
          0,
          0,
          0,
          0,
          0,
          0,
          0,
          0,
          0,
          0,
          0,
          0,
          0,
          0,
          0,
          0,
          0,
          0,
          0,
          0,
          0,
          0,
          0,
          0,
          0,
          0,
          0,
          0,
          0,
          0,
          0,
          0,
          0,
          0,
          0,
          0,
          0,
          0,
          0,
          0,
          0,
          0,
          0,
          0,
          0,
          0,
          0,
          0,
          0,
          0,
          0,
          0,
          0,
          0,
          0,
          0,
          0,
          0,
          0,
          0,
          0,
          0,
          0,
          0,
          0,
          0,
          0,
          0,
          0,
          0,
          0,
          0,
          0,
          0,
          0,
          0,
          0,
          0,
          0,
          0,
          0,
          0,
          0,
          0,
          0,
          0,
          0,
          0,
          0,
          0,
          0,
          0,
          0,
          0,
          0,
          0,
          0,
          0,
          0,
          0,
          0,
          0,
          0,
          0,
          0,
          0,
          0,
          0,
          0,
          0,
          0,
          0,
          0,
          0,
          0,
          0,
          0,
          0,
          0,
          0,
          0,
          0,
          0,
          0,
          0,
          0,
          0,
          0,
          0,
          0,
          0,
          0,
          0,
          0,
          0,
          0,
          0,
          0,
          0,
          0,
          0,
          0,
          0,
          0,
          0,
          0,
          0,
          0,
          0,
          0,
          0,
          0,
          0,
          0,
          0,
          0,
          0,
          0,
          0,
          0,
          0,
          0,
          0,
          0,
          0,
          0,
          0,
          0,
          0,
          0,
          0,
          0,
          0,
          0,
          0,
          0,
          0,
          0,
          0,
          0,
          0,
          0,
          0,
          0,
          0,
          0,
          0,
          0,
          0,
          0,
          0,
          0,
          0,
          0,
          0,
          0,
          0,
          0,
          0,
          0,
          0,
          0,
          0,
          0,
          0,
          0,
          0,
          0,
          0,
          0,
          0,
          0,
          0,
          0,
          0,
          0,
          0,
          0,
          0,
          0,
          0,
          0,
          0,
          0,
          0,
          0,
          0,
          0,
          0,
          0,
          0,
          0,
          0,
          0,
          0,
          0,
          0,
          0,
          0,
          0,
          0,
          0,
          0,
          0,
          0,
          0,
          0,
          0,
          0,
          0,
          0,
          0,
          0,
          0,
          0,
          0,
          0,
          0,
          0,
          0,
          0,
          0,
          0,
          0,
          0,
          0,
          0,
          0,
          0,
          0,
          0,
          0,
          0,
          0,
          0,
          0,
          0,
          0,
          0,
          0,
          0,
          0,
          0,
          0,
          0,
          0,
          0,
          0,
          0,
          0,
          0,
          0,
          0,
          0,
          0.5010000000000001,
          0.502,
          0.5030000000000001,
          0.504,
          0.5050000000000001,
          0.506,
          0.5070000000000001,
          0.508,
          0.5090000000000001,
          0.51,
          0.5110000000000001,
          0.512,
          0.5130000000000001,
          0.514,
          0.5150000000000001,
          0.516,
          0.5170000000000001,
          0.518,
          0.5190000000000001,
          0.52,
          0.5210000000000001,
          0.522,
          0.5230000000000001,
          0.524,
          0.5249999999999999,
          0.526,
          0.5269999999999999,
          0.528,
          0.5289999999999999,
          0.53,
          0.5309999999999999,
          0.532,
          0.5329999999999999,
          0.534,
          0.5349999999999999,
          0.536,
          0.5369999999999999,
          0.538,
          0.5389999999999999,
          0.54,
          0.5409999999999999,
          0.542,
          0.5429999999999999,
          0.544,
          0.5449999999999999,
          0.546,
          0.5469999999999999,
          0.548,
          0.5489999999999999,
          0.55,
          0.5509999999999999,
          0.552,
          0.5529999999999999,
          0.554,
          0.5549999999999999,
          0.556,
          0.5569999999999999,
          0.558,
          0.5589999999999999,
          0.56,
          0.5609999999999999,
          0.562,
          0.563,
          0.5640000000000001,
          0.565,
          0.5660000000000001,
          0.567,
          0.5680000000000001,
          0.569,
          0.5700000000000001,
          0.571,
          0.5720000000000001,
          0.573,
          0.5740000000000001,
          0.575,
          0.5760000000000001,
          0.577,
          0.5780000000000001,
          0.579,
          0.5800000000000001,
          0.581,
          0.5820000000000001,
          0.583,
          0.5840000000000001,
          0.585,
          0.5860000000000001,
          0.587,
          0.5880000000000001,
          0.589,
          0.5900000000000001,
          0.591,
          0.5920000000000001,
          0.593,
          0.5940000000000001,
          0.595,
          0.5960000000000001,
          0.597,
          0.5980000000000001,
          0.599,
          0.6000000000000001,
          0.601,
          0.6020000000000001,
          0.603,
          0.6040000000000001,
          0.605,
          0.6060000000000001,
          0.607,
          0.6080000000000001,
          0.609,
          0.6100000000000001,
          0.611,
          0.6120000000000001,
          0.613,
          0.6140000000000001,
          0.615,
          0.6160000000000001,
          0.617,
          0.6180000000000001,
          0.619,
          0.6200000000000001,
          0.621,
          0.6220000000000001,
          0.623,
          0.6240000000000001,
          0.625,
          0.6260000000000001,
          0.627,
          0.6280000000000001,
          0.629,
          0.6300000000000001,
          0.631,
          0.6320000000000001,
          0.633,
          0.6340000000000001,
          0.635,
          0.6360000000000001,
          0.637,
          0.6380000000000001,
          0.639,
          0.6400000000000001,
          0.641,
          0.6420000000000001,
          0.643,
          0.6440000000000001,
          0.645,
          0.6460000000000001,
          0.647,
          0.6480000000000001,
          0.649,
          0.6500000000000001,
          0.651,
          0.6520000000000001,
          0.653,
          0.6539999999999999,
          0.655,
          0.6559999999999999,
          0.657,
          0.6579999999999999,
          0.659,
          0.6599999999999999,
          0.661,
          0.6619999999999999,
          0.663,
          0.6639999999999999,
          0.665,
          0.6659999999999999,
          0.667,
          0.6679999999999999,
          0.669,
          0.6699999999999999,
          0.671,
          0.6719999999999999,
          0.673,
          0.6739999999999999,
          0.675,
          0.6759999999999999,
          0.677,
          0.6779999999999999,
          0.679,
          0.6799999999999999,
          0.681,
          0.6819999999999999,
          0.683,
          0.6839999999999999,
          0.685,
          0.6859999999999999,
          0.687,
          0.688,
          0.6890000000000001,
          0.69,
          0.6910000000000001,
          0.692,
          0.6930000000000001,
          0.694,
          0.6950000000000001,
          0.696,
          0.6970000000000001,
          0.698,
          0.6990000000000001,
          0.7,
          0.7010000000000001,
          0.702,
          0.7030000000000001,
          0.704,
          0.7050000000000001,
          0.706,
          0.7070000000000001,
          0.708,
          0.7090000000000001,
          0.71,
          0.7110000000000001,
          0.712,
          0.7130000000000001,
          0.714,
          0.7150000000000001,
          0.716,
          0.7170000000000001,
          0.718,
          0.7190000000000001,
          0.72,
          0.7210000000000001,
          0.722,
          0.7230000000000001,
          0.724,
          0.7250000000000001,
          0.726,
          0.7270000000000001,
          0.728,
          0.7290000000000001,
          0.73,
          0.7310000000000001,
          0.732,
          0.7330000000000001,
          0.734,
          0.7350000000000001,
          0.736,
          0.7370000000000001,
          0.738,
          0.7390000000000001,
          0.74,
          0.7410000000000001,
          0.742,
          0.7430000000000001,
          0.744,
          0.7450000000000001,
          0.746,
          0.7470000000000001,
          0.748,
          0.7490000000000001,
          0.75,
          0.75,
          0.75,
          0.75,
          0.75,
          0.75,
          0.75,
          0.75,
          0.75,
          0.75,
          0.75,
          0.75,
          0.75,
          0.75,
          0.75,
          0.75,
          0.75,
          0.75,
          0.75,
          0.75,
          0.75,
          0.75,
          0.75,
          0.75,
          0.75,
          0.75,
          0.75,
          0.75,
          0.75,
          0.75,
          0.75,
          0.75,
          0.75,
          0.75,
          0.75,
          0.75,
          0.75,
          0.75,
          0.75,
          0.75,
          0.75,
          0.75,
          0.75,
          0.75,
          0.75,
          0.75,
          0.75,
          0.75,
          0.75,
          0.75,
          0.75,
          0.75,
          0.75,
          0.75,
          0.75,
          0.75,
          0.75,
          0.75,
          0.75,
          0.75,
          0.75,
          0.75,
          0.75,
          0.75,
          0.75,
          0.75,
          0.75,
          0.75,
          0.75,
          0.75,
          0.75,
          0.75,
          0.75,
          0.75,
          0.75,
          0.75,
          0.75,
          0.75,
          0.75,
          0.75,
          0.75,
          0.75,
          0.75,
          0.75,
          0.75,
          0.75,
          0.75,
          0.75,
          0.75,
          0.75,
          0.75,
          0.75,
          0.75,
          0.75,
          0.75,
          0.75,
          0.75,
          0.75,
          0.75,
          0.75,
          0.75,
          0.75,
          0.75,
          0.75,
          0.75,
          0.75,
          0.75,
          0.75,
          0.75,
          0.75,
          0.75,
          0.75,
          0.75,
          0.75,
          0.75,
          0.75,
          0.75,
          0.75,
          0.75,
          0.75,
          0.75,
          0.75,
          0.75,
          0.75,
          0.75,
          0.75,
          0.75,
          0.75,
          0.75,
          0.75,
          0.75,
          0.75,
          0.75,
          0.75,
          0.75,
          0.75,
          0.75,
          0.75,
          0.75,
          0.75,
          0.75,
          0.75,
          0.75,
          0.75,
          0.75,
          0.75,
          0.75,
          0.75,
          0.75,
          0.75,
          0.75,
          0.75,
          0.75,
          0.75,
          0.75,
          0.75,
          0.75,
          0.75,
          0.75,
          0.75,
          0.75,
          0.75,
          0.75,
          0.75,
          0.75,
          0.75,
          0.75,
          0.75,
          0.75,
          0.75,
          0.75,
          0.75,
          0.75,
          0.75,
          0.75,
          0.75,
          0.75,
          0.75,
          0.75,
          0.75,
          0.75,
          0.75,
          0.75,
          0.75,
          0.75,
          0.75,
          0.75,
          0.75,
          0.75,
          0.75,
          0.75,
          0.75,
          0.75,
          0.75,
          0.75,
          0.75,
          0.75,
          0.75,
          0.75,
          0.75,
          0.75,
          0.75,
          0.75,
          0.75,
          0.75,
          0.75,
          0.75,
          0.75,
          0.75,
          0.75,
          0.75,
          0.75,
          0.75,
          0.75,
          0.75,
          0.75,
          0.75,
          0.75,
          0.75,
          0.75,
          0.75,
          0.75,
          0.75,
          0.75,
          0.75,
          0.75,
          0.75,
          0.75,
          0.75,
          0.75,
          0.75,
          0.75,
          0.75,
          0.75,
          0.75,
          0.75,
          0.75,
          0.75,
          0.75,
          0.75,
          0.75,
          0.75,
          0.75,
          0.75,
          0.75,
          0.75,
          0.75,
          0.75,
          0.75,
          0.75,
          0.75,
          0.75,
          0.75,
          0.75,
          0.75,
          0.75,
          0.75,
          0.75,
          0.75,
          0.75,
          0.75,
          0.75,
          0.75,
          0.75,
          0.75,
          0.75,
          0.75,
          0.75,
          0.75,
          0.75,
          0.75,
          0.75,
          0.75,
          0.75,
          0.75,
          0.75,
          0.75,
          0.75,
          0.75,
          0.75,
          0.75,
          0.75,
          0.75,
          0.75,
          0.75,
          0.75,
          0.75,
          0.75,
          0.75,
          0.75,
          0.75,
          0.75,
          0.75,
          0.75,
          0.75,
          0.75,
          0.75,
          0.75,
          0.75,
          0.75,
          0.75,
          0.75,
          0.75,
          0.75,
          0.75,
          0.75,
          0.75,
          0.75,
          0.75,
          0.75,
          0.75,
          0.75,
          0.75,
          0.75,
          0.75,
          0.75,
          0.75,
          0.75,
          0.75,
          0.75,
          0.75,
          0.75,
          0.75,
          0.75,
          0.75,
          0.75,
          0.75,
          0.75,
          0.75,
          0.75,
          0.75,
          0.75,
          0.75,
          0.75,
          0.75,
          0.75,
          0.75,
          0.75,
          0.75,
          0.75,
          0.75,
          0.75,
          0.75,
          0.75,
          0.75,
          0.75,
          0.75,
          0.75,
          0.75,
          0.75,
          0.75,
          0.75,
          0.75,
          0.75,
          0.75,
          0.75,
          0.75,
          0.75,
          0.75,
          0.75,
          0.75,
          0.75,
          0.75,
          0.75,
          0.75,
          0.75,
          0.75,
          0.75,
          0.75,
          0.75,
          0.75,
          0.75,
          0.75,
          0.75,
          0.75,
          0.75,
          0.75,
          0.75,
          0.75,
          0.75,
          0.75,
          0.75,
          0.75,
          0.75,
          0.75,
          0.75,
          0.75,
          0.75,
          0.75,
          0.75,
          0.75,
          0.75,
          0.75,
          0.75,
          0.75,
          0.75,
          0.75,
          0.75,
          0.75,
          0.75,
          0.75,
          0.75,
          0.75,
          0.75,
          0.75,
          0.75,
          0.75,
          0.75,
          0.75,
          0.75,
          0.75,
          0.75,
          0.75,
          0.75,
          0.75,
          0.75,
          0.75,
          0.75,
          0.75,
          0.75,
          0.75,
          0.75,
          0.75,
          0.75,
          0.75,
          0.75,
          0.75,
          0.75,
          0.75,
          0.75,
          0.75,
          0.75,
          0.75,
          0.75,
          0.75,
          0.75,
          0.75,
          0.75,
          0.75,
          0.75,
          0.75,
          0.75,
          0.75,
          0.75,
          0.75,
          0.75,
          0.75,
          0.75,
          0.75,
          0.75,
          0.75,
          0.75,
          0.75,
          0.75,
          0.75,
          0.75,
          0.75,
          0.75,
          0.75,
          0.75,
          0.75,
          0.75,
          0.75,
          0.75,
          0.75,
          0.75,
          0.75,
          0.75,
          0.75,
          0.75,
          0.75,
          0.75,
          0.75,
          0.75,
          0.75,
          0.75,
          0.75,
          0.75,
          0.75,
          0.75,
          0.75,
          0.75,
          0.75,
          0.75,
          0.75,
          0.75,
          0.75,
          0.75,
          0.75,
          0.75,
          0.75,
          0.75,
          0.75,
          0.75,
          0.75,
          0.75,
          0.75,
          0.75,
          0.75,
          0.75,
          0.75,
          null,
          null,
          null,
          null,
          null,
          null,
          null,
          null,
          null,
          null,
          null,
          null,
          null,
          null,
          null,
          null,
          null,
          null,
          null,
          null,
          null,
          null,
          null,
          null,
          null,
          null,
          null,
          null,
          null,
          null,
          null,
          null,
          null,
          null,
          null,
          null,
          null,
          null,
          null,
          null,
          null,
          null,
          null,
          null,
          null,
          null,
          null,
          null,
          null,
          null,
          null,
          null,
          null,
          null,
          null,
          null,
          null,
          null,
          null,
          null,
          null,
          null,
          null,
          null,
          null,
          null,
          null,
          null,
          null,
          null,
          null,
          null,
          null,
          null,
          null,
          null,
          null,
          null,
          null,
          null,
          null,
          null,
          null,
          null,
          null,
          null,
          null,
          null,
          null,
          null,
          null,
          null,
          null,
          null,
          null,
          null,
          null,
          null,
          null,
          null,
          null,
          null,
          null,
          null,
          null,
          null,
          null,
          null,
          null,
          null,
          null,
          null,
          null,
          null,
          null,
          null,
          null,
          null,
          null,
          null,
          null,
          null,
          null,
          null,
          null,
          null,
          null,
          null,
          null,
          null,
          null,
          null,
          null,
          null,
          null,
          null,
          null,
          null,
          null,
          null,
          null,
          null,
          null,
          null,
          null,
          null,
          null,
          null,
          null,
          null,
          null,
          null,
          null,
          null,
          null,
          null,
          null,
          null,
          null,
          null,
          null,
          null,
          null,
          null,
          null,
          null,
          null,
          null,
          null,
          null,
          null,
          null,
          null,
          null,
          null
         ],
         "yaxis": "y"
        }
       ],
       "layout": {
        "autosize": true,
        "legend": {
         "title": {
          "text": "Compressors"
         },
         "tracegroupgap": 0
        },
        "margin": {
         "t": 60
        },
        "template": {
         "data": {
          "bar": [
           {
            "error_x": {
             "color": "#2a3f5f"
            },
            "error_y": {
             "color": "#2a3f5f"
            },
            "marker": {
             "line": {
              "color": "#E5ECF6",
              "width": 0.5
             },
             "pattern": {
              "fillmode": "overlay",
              "size": 10,
              "solidity": 0.2
             }
            },
            "type": "bar"
           }
          ],
          "barpolar": [
           {
            "marker": {
             "line": {
              "color": "#E5ECF6",
              "width": 0.5
             },
             "pattern": {
              "fillmode": "overlay",
              "size": 10,
              "solidity": 0.2
             }
            },
            "type": "barpolar"
           }
          ],
          "carpet": [
           {
            "aaxis": {
             "endlinecolor": "#2a3f5f",
             "gridcolor": "white",
             "linecolor": "white",
             "minorgridcolor": "white",
             "startlinecolor": "#2a3f5f"
            },
            "baxis": {
             "endlinecolor": "#2a3f5f",
             "gridcolor": "white",
             "linecolor": "white",
             "minorgridcolor": "white",
             "startlinecolor": "#2a3f5f"
            },
            "type": "carpet"
           }
          ],
          "choropleth": [
           {
            "colorbar": {
             "outlinewidth": 0,
             "ticks": ""
            },
            "type": "choropleth"
           }
          ],
          "contour": [
           {
            "colorbar": {
             "outlinewidth": 0,
             "ticks": ""
            },
            "colorscale": [
             [
              0,
              "#0d0887"
             ],
             [
              0.1111111111111111,
              "#46039f"
             ],
             [
              0.2222222222222222,
              "#7201a8"
             ],
             [
              0.3333333333333333,
              "#9c179e"
             ],
             [
              0.4444444444444444,
              "#bd3786"
             ],
             [
              0.5555555555555556,
              "#d8576b"
             ],
             [
              0.6666666666666666,
              "#ed7953"
             ],
             [
              0.7777777777777778,
              "#fb9f3a"
             ],
             [
              0.8888888888888888,
              "#fdca26"
             ],
             [
              1,
              "#f0f921"
             ]
            ],
            "type": "contour"
           }
          ],
          "contourcarpet": [
           {
            "colorbar": {
             "outlinewidth": 0,
             "ticks": ""
            },
            "type": "contourcarpet"
           }
          ],
          "heatmap": [
           {
            "colorbar": {
             "outlinewidth": 0,
             "ticks": ""
            },
            "colorscale": [
             [
              0,
              "#0d0887"
             ],
             [
              0.1111111111111111,
              "#46039f"
             ],
             [
              0.2222222222222222,
              "#7201a8"
             ],
             [
              0.3333333333333333,
              "#9c179e"
             ],
             [
              0.4444444444444444,
              "#bd3786"
             ],
             [
              0.5555555555555556,
              "#d8576b"
             ],
             [
              0.6666666666666666,
              "#ed7953"
             ],
             [
              0.7777777777777778,
              "#fb9f3a"
             ],
             [
              0.8888888888888888,
              "#fdca26"
             ],
             [
              1,
              "#f0f921"
             ]
            ],
            "type": "heatmap"
           }
          ],
          "heatmapgl": [
           {
            "colorbar": {
             "outlinewidth": 0,
             "ticks": ""
            },
            "colorscale": [
             [
              0,
              "#0d0887"
             ],
             [
              0.1111111111111111,
              "#46039f"
             ],
             [
              0.2222222222222222,
              "#7201a8"
             ],
             [
              0.3333333333333333,
              "#9c179e"
             ],
             [
              0.4444444444444444,
              "#bd3786"
             ],
             [
              0.5555555555555556,
              "#d8576b"
             ],
             [
              0.6666666666666666,
              "#ed7953"
             ],
             [
              0.7777777777777778,
              "#fb9f3a"
             ],
             [
              0.8888888888888888,
              "#fdca26"
             ],
             [
              1,
              "#f0f921"
             ]
            ],
            "type": "heatmapgl"
           }
          ],
          "histogram": [
           {
            "marker": {
             "pattern": {
              "fillmode": "overlay",
              "size": 10,
              "solidity": 0.2
             }
            },
            "type": "histogram"
           }
          ],
          "histogram2d": [
           {
            "colorbar": {
             "outlinewidth": 0,
             "ticks": ""
            },
            "colorscale": [
             [
              0,
              "#0d0887"
             ],
             [
              0.1111111111111111,
              "#46039f"
             ],
             [
              0.2222222222222222,
              "#7201a8"
             ],
             [
              0.3333333333333333,
              "#9c179e"
             ],
             [
              0.4444444444444444,
              "#bd3786"
             ],
             [
              0.5555555555555556,
              "#d8576b"
             ],
             [
              0.6666666666666666,
              "#ed7953"
             ],
             [
              0.7777777777777778,
              "#fb9f3a"
             ],
             [
              0.8888888888888888,
              "#fdca26"
             ],
             [
              1,
              "#f0f921"
             ]
            ],
            "type": "histogram2d"
           }
          ],
          "histogram2dcontour": [
           {
            "colorbar": {
             "outlinewidth": 0,
             "ticks": ""
            },
            "colorscale": [
             [
              0,
              "#0d0887"
             ],
             [
              0.1111111111111111,
              "#46039f"
             ],
             [
              0.2222222222222222,
              "#7201a8"
             ],
             [
              0.3333333333333333,
              "#9c179e"
             ],
             [
              0.4444444444444444,
              "#bd3786"
             ],
             [
              0.5555555555555556,
              "#d8576b"
             ],
             [
              0.6666666666666666,
              "#ed7953"
             ],
             [
              0.7777777777777778,
              "#fb9f3a"
             ],
             [
              0.8888888888888888,
              "#fdca26"
             ],
             [
              1,
              "#f0f921"
             ]
            ],
            "type": "histogram2dcontour"
           }
          ],
          "mesh3d": [
           {
            "colorbar": {
             "outlinewidth": 0,
             "ticks": ""
            },
            "type": "mesh3d"
           }
          ],
          "parcoords": [
           {
            "line": {
             "colorbar": {
              "outlinewidth": 0,
              "ticks": ""
             }
            },
            "type": "parcoords"
           }
          ],
          "pie": [
           {
            "automargin": true,
            "type": "pie"
           }
          ],
          "scatter": [
           {
            "fillpattern": {
             "fillmode": "overlay",
             "size": 10,
             "solidity": 0.2
            },
            "type": "scatter"
           }
          ],
          "scatter3d": [
           {
            "line": {
             "colorbar": {
              "outlinewidth": 0,
              "ticks": ""
             }
            },
            "marker": {
             "colorbar": {
              "outlinewidth": 0,
              "ticks": ""
             }
            },
            "type": "scatter3d"
           }
          ],
          "scattercarpet": [
           {
            "marker": {
             "colorbar": {
              "outlinewidth": 0,
              "ticks": ""
             }
            },
            "type": "scattercarpet"
           }
          ],
          "scattergeo": [
           {
            "marker": {
             "colorbar": {
              "outlinewidth": 0,
              "ticks": ""
             }
            },
            "type": "scattergeo"
           }
          ],
          "scattergl": [
           {
            "marker": {
             "colorbar": {
              "outlinewidth": 0,
              "ticks": ""
             }
            },
            "type": "scattergl"
           }
          ],
          "scattermapbox": [
           {
            "marker": {
             "colorbar": {
              "outlinewidth": 0,
              "ticks": ""
             }
            },
            "type": "scattermapbox"
           }
          ],
          "scatterpolar": [
           {
            "marker": {
             "colorbar": {
              "outlinewidth": 0,
              "ticks": ""
             }
            },
            "type": "scatterpolar"
           }
          ],
          "scatterpolargl": [
           {
            "marker": {
             "colorbar": {
              "outlinewidth": 0,
              "ticks": ""
             }
            },
            "type": "scatterpolargl"
           }
          ],
          "scatterternary": [
           {
            "marker": {
             "colorbar": {
              "outlinewidth": 0,
              "ticks": ""
             }
            },
            "type": "scatterternary"
           }
          ],
          "surface": [
           {
            "colorbar": {
             "outlinewidth": 0,
             "ticks": ""
            },
            "colorscale": [
             [
              0,
              "#0d0887"
             ],
             [
              0.1111111111111111,
              "#46039f"
             ],
             [
              0.2222222222222222,
              "#7201a8"
             ],
             [
              0.3333333333333333,
              "#9c179e"
             ],
             [
              0.4444444444444444,
              "#bd3786"
             ],
             [
              0.5555555555555556,
              "#d8576b"
             ],
             [
              0.6666666666666666,
              "#ed7953"
             ],
             [
              0.7777777777777778,
              "#fb9f3a"
             ],
             [
              0.8888888888888888,
              "#fdca26"
             ],
             [
              1,
              "#f0f921"
             ]
            ],
            "type": "surface"
           }
          ],
          "table": [
           {
            "cells": {
             "fill": {
              "color": "#EBF0F8"
             },
             "line": {
              "color": "white"
             }
            },
            "header": {
             "fill": {
              "color": "#C8D4E3"
             },
             "line": {
              "color": "white"
             }
            },
            "type": "table"
           }
          ]
         },
         "layout": {
          "annotationdefaults": {
           "arrowcolor": "#2a3f5f",
           "arrowhead": 0,
           "arrowwidth": 1
          },
          "autotypenumbers": "strict",
          "coloraxis": {
           "colorbar": {
            "outlinewidth": 0,
            "ticks": ""
           }
          },
          "colorscale": {
           "diverging": [
            [
             0,
             "#8e0152"
            ],
            [
             0.1,
             "#c51b7d"
            ],
            [
             0.2,
             "#de77ae"
            ],
            [
             0.3,
             "#f1b6da"
            ],
            [
             0.4,
             "#fde0ef"
            ],
            [
             0.5,
             "#f7f7f7"
            ],
            [
             0.6,
             "#e6f5d0"
            ],
            [
             0.7,
             "#b8e186"
            ],
            [
             0.8,
             "#7fbc41"
            ],
            [
             0.9,
             "#4d9221"
            ],
            [
             1,
             "#276419"
            ]
           ],
           "sequential": [
            [
             0,
             "#0d0887"
            ],
            [
             0.1111111111111111,
             "#46039f"
            ],
            [
             0.2222222222222222,
             "#7201a8"
            ],
            [
             0.3333333333333333,
             "#9c179e"
            ],
            [
             0.4444444444444444,
             "#bd3786"
            ],
            [
             0.5555555555555556,
             "#d8576b"
            ],
            [
             0.6666666666666666,
             "#ed7953"
            ],
            [
             0.7777777777777778,
             "#fb9f3a"
            ],
            [
             0.8888888888888888,
             "#fdca26"
            ],
            [
             1,
             "#f0f921"
            ]
           ],
           "sequentialminus": [
            [
             0,
             "#0d0887"
            ],
            [
             0.1111111111111111,
             "#46039f"
            ],
            [
             0.2222222222222222,
             "#7201a8"
            ],
            [
             0.3333333333333333,
             "#9c179e"
            ],
            [
             0.4444444444444444,
             "#bd3786"
            ],
            [
             0.5555555555555556,
             "#d8576b"
            ],
            [
             0.6666666666666666,
             "#ed7953"
            ],
            [
             0.7777777777777778,
             "#fb9f3a"
            ],
            [
             0.8888888888888888,
             "#fdca26"
            ],
            [
             1,
             "#f0f921"
            ]
           ]
          },
          "colorway": [
           "#636efa",
           "#EF553B",
           "#00cc96",
           "#ab63fa",
           "#FFA15A",
           "#19d3f3",
           "#FF6692",
           "#B6E880",
           "#FF97FF",
           "#FECB52"
          ],
          "font": {
           "color": "#2a3f5f"
          },
          "geo": {
           "bgcolor": "white",
           "lakecolor": "white",
           "landcolor": "#E5ECF6",
           "showlakes": true,
           "showland": true,
           "subunitcolor": "white"
          },
          "hoverlabel": {
           "align": "left"
          },
          "hovermode": "closest",
          "mapbox": {
           "style": "light"
          },
          "paper_bgcolor": "white",
          "plot_bgcolor": "#E5ECF6",
          "polar": {
           "angularaxis": {
            "gridcolor": "white",
            "linecolor": "white",
            "ticks": ""
           },
           "bgcolor": "#E5ECF6",
           "radialaxis": {
            "gridcolor": "white",
            "linecolor": "white",
            "ticks": ""
           }
          },
          "scene": {
           "xaxis": {
            "backgroundcolor": "#E5ECF6",
            "gridcolor": "white",
            "gridwidth": 2,
            "linecolor": "white",
            "showbackground": true,
            "ticks": "",
            "zerolinecolor": "white"
           },
           "yaxis": {
            "backgroundcolor": "#E5ECF6",
            "gridcolor": "white",
            "gridwidth": 2,
            "linecolor": "white",
            "showbackground": true,
            "ticks": "",
            "zerolinecolor": "white"
           },
           "zaxis": {
            "backgroundcolor": "#E5ECF6",
            "gridcolor": "white",
            "gridwidth": 2,
            "linecolor": "white",
            "showbackground": true,
            "ticks": "",
            "zerolinecolor": "white"
           }
          },
          "shapedefaults": {
           "line": {
            "color": "#2a3f5f"
           }
          },
          "ternary": {
           "aaxis": {
            "gridcolor": "white",
            "linecolor": "white",
            "ticks": ""
           },
           "baxis": {
            "gridcolor": "white",
            "linecolor": "white",
            "ticks": ""
           },
           "bgcolor": "#E5ECF6",
           "caxis": {
            "gridcolor": "white",
            "linecolor": "white",
            "ticks": ""
           }
          },
          "title": {
           "x": 0.05
          },
          "xaxis": {
           "automargin": true,
           "gridcolor": "white",
           "linecolor": "white",
           "ticks": "",
           "title": {
            "standoff": 15
           },
           "zerolinecolor": "white",
           "zerolinewidth": 2
          },
          "yaxis": {
           "automargin": true,
           "gridcolor": "white",
           "linecolor": "white",
           "ticks": "",
           "title": {
            "standoff": 15
           },
           "zerolinecolor": "white",
           "zerolinewidth": 2
          }
         }
        },
        "title": {
         "text": "Stacked Area Chart"
        },
        "xaxis": {
         "anchor": "y",
         "autorange": true,
         "domain": [
          0,
          1
         ],
         "range": [
          0,
          1.925
         ],
         "title": {
          "text": "Qtot"
         },
         "type": "linear"
        },
        "yaxis": {
         "anchor": "x",
         "autorange": true,
         "domain": [
          0,
          1
         ],
         "range": [
          0,
          1.8421052631578947
         ],
         "title": {
          "text": "q"
         },
         "type": "linear"
        }
       }
      },
      "image/png": "[encoded data removed]",
      "text/html": [
       "<div>                            <div id=\"730ecf4b-c9c2-4afa-b80e-60d637b32f51\" class=\"plotly-graph-div\" style=\"height:525px; width:100%;\"></div>            <script type=\"text/javascript\">                require([\"plotly\"], function(Plotly) {                    window.PLOTLYENV=window.PLOTLYENV || {};                                    if (document.getElementById(\"730ecf4b-c9c2-4afa-b80e-60d637b32f51\")) {                    Plotly.newPlot(                        \"730ecf4b-c9c2-4afa-b80e-60d637b32f51\",                        [{\"customdata\":[[0.0],[null],[null],[null],[null],[null],[null],[null],[null],[null],[null],[null],[null],[null],[null],[null],[null],[null],[null],[null],[null],[null],[null],[null],[null],[null],[null],[null],[null],[null],[null],[null],[null],[null],[null],[null],[null],[null],[null],[null],[null],[null],[null],[null],[null],[null],[null],[null],[null],[null],[null],[null],[null],[null],[null],[null],[null],[null],[null],[null],[null],[null],[null],[null],[null],[null],[null],[null],[null],[null],[null],[null],[null],[null],[null],[null],[null],[null],[null],[null],[null],[null],[null],[null],[null],[null],[null],[null],[null],[null],[null],[null],[null],[null],[null],[null],[null],[null],[null],[null],[null],[null],[null],[null],[null],[null],[null],[null],[null],[null],[null],[null],[null],[null],[null],[null],[null],[null],[null],[null],[null],[null],[null],[null],[null],[null],[null],[null],[null],[null],[null],[null],[null],[null],[null],[null],[null],[null],[null],[null],[null],[null],[null],[null],[null],[null],[null],[null],[null],[null],[null],[null],[null],[null],[null],[null],[null],[null],[null],[null],[null],[null],[null],[null],[null],[null],[null],[null],[null],[null],[null],[null],[null],[null],[null],[null],[null],[null],[null],[null],[null],[null],[null],[null],[null],[null],[null],[null],[null],[null],[null],[null],[null],[null],[null],[null],[null],[null],[null],[null],[null],[null],[null],[null],[null],[null],[null],[null],[null],[null],[null],[null],[null],[null],[null],[null],[null],[null],[null],[null],[null],[null],[null],[null],[null],[null],[null],[null],[null],[null],[null],[null],[null],[null],[null],[null],[null],[null],[null],[null],[null],[null],[null],[null],[null],[null],[null],[null],[null],[null],[null],[null],[null],[null],[null],[null],[null],[null],[null],[null],[null],[null],[null],[null],[null],[null],[null],[null],[null],[null],[null],[null],[null],[null],[null],[null],[null],[null],[null],[null],[null],[null],[null],[null],[null],[null],[null],[null],[null],[null],[null],[null],[null],[null],[null],[null],[null],[null],[null],[null],[null],[null],[null],[null],[null],[null],[null],[null],[null],[null],[null],[null],[null],[null],[null],[null],[null],[null],[null],[null],[null],[null],[null],[null],[null],[null],[null],[null],[null],[null],[null],[null],[null],[null],[null],[null],[null],[null],[null],[null],[null],[null],[null],[null],[null],[null],[null],[null],[null],[null],[null],[null],[null],[null],[null],[null],[null],[null],[null],[null],[null],[null],[null],[null],[null],[null],[null],[null],[null],[null],[null],[null],[null],[null],[null],[null],[null],[null],[null],[null],[null],[null],[null],[null],[null],[null],[null],[null],[null],[null],[null],[null],[null],[null],[null],[null],[null],[null],[null],[null],[null],[null],[null],[null],[null],[null],[null],[null],[null],[null],[null],[null],[null],[null],[null],[null],[null],[null],[null],[null],[null],[null],[null],[null],[null],[null],[null],[null],[null],[null],[null],[null],[null],[null],[null],[null],[null],[null],[null],[null],[null],[null],[null],[null],[null],[null],[null],[null],[null],[null],[null],[null],[null],[null],[null],[null],[null],[null],[null],[null],[null],[null],[null],[null],[null],[null],[null],[null],[null],[null],[null],[null],[null],[null],[null],[null],[null],[null],[null],[null],[null],[null],[null],[null],[null],[null],[null],[null],[null],[null],[null],[null],[null],[null],[null],[null],[null],[null],[null],[null],[0.5],[0.501],[0.502],[0.503],[0.504],[0.505],[0.506],[0.507],[0.508],[0.509],[0.51],[0.511],[0.512],[0.513],[0.514],[0.515],[0.516],[0.517],[0.518],[0.519],[0.52],[0.521],[0.522],[0.523],[0.524],[0.525],[0.526],[0.527],[0.528],[0.529],[0.53],[0.531],[0.532],[0.533],[0.534],[0.535],[0.536],[0.537],[0.538],[0.539],[0.54],[0.541],[0.542],[0.543],[0.544],[0.545],[0.546],[0.547],[0.548],[0.549],[0.55],[0.551],[0.552],[0.553],[0.554],[0.555],[0.556],[0.557],[0.558],[0.559],[0.56],[0.561],[0.562],[0.5630000000000001],[0.5640000000000001],[0.5650000000000001],[0.5660000000000001],[0.5670000000000001],[0.5680000000000001],[0.5690000000000001],[0.5700000000000001],[0.5710000000000001],[0.5720000000000001],[0.5730000000000001],[0.5740000000000001],[0.5750000000000001],[0.5760000000000001],[0.577],[0.578],[0.579],[0.58],[0.581],[0.582],[0.583],[0.584],[0.585],[0.586],[0.587],[0.588],[0.589],[0.59],[0.591],[0.592],[0.593],[0.594],[0.595],[0.596],[0.597],[0.598],[0.599],[0.6],[0.601],[0.602],[0.603],[0.604],[0.605],[0.606],[0.607],[0.608],[0.609],[0.61],[0.611],[0.612],[0.613],[0.614],[0.615],[0.616],[0.617],[0.618],[0.619],[0.62],[0.621],[0.622],[0.623],[0.624],[0.625],[0.626],[0.627],[0.628],[0.629],[0.63],[0.631],[0.632],[0.633],[0.634],[0.635],[0.636],[0.637],[0.638],[0.639],[0.64],[0.641],[0.642],[0.643],[0.644],[0.645],[0.646],[0.647],[0.648],[0.649],[0.65],[0.651],[0.652],[0.653],[0.654],[0.655],[0.656],[0.657],[0.658],[0.659],[0.66],[0.661],[0.662],[0.663],[0.664],[0.665],[0.666],[0.667],[0.668],[0.669],[0.67],[0.671],[0.672],[0.673],[0.674],[0.675],[0.676],[0.677],[0.678],[0.679],[0.68],[0.681],[0.682],[0.683],[0.684],[0.685],[0.686],[0.687],[0.6880000000000001],[0.6890000000000001],[0.6900000000000001],[0.6910000000000001],[0.6920000000000001],[0.6930000000000001],[0.6940000000000001],[0.6950000000000001],[0.6960000000000001],[0.6970000000000001],[0.6980000000000001],[0.6990000000000001],[0.7000000000000001],[0.7010000000000001],[0.7020000000000001],[0.7030000000000001],[0.704],[0.705],[0.706],[0.707],[0.708],[0.709],[0.71],[0.711],[0.712],[0.713],[0.714],[0.715],[0.716],[0.717],[0.718],[0.719],[0.72],[0.721],[0.722],[0.723],[0.724],[0.725],[0.726],[0.727],[0.728],[0.729],[0.73],[0.731],[0.732],[0.733],[0.734],[0.735],[0.736],[0.737],[0.738],[0.739],[0.74],[0.741],[0.742],[0.743],[0.744],[0.745],[0.746],[0.747],[0.748],[0.749],[0.75],[0.751],[0.752],[0.753],[0.754],[0.755],[0.756],[0.757],[0.758],[0.759],[0.76],[0.761],[0.762],[0.763],[0.764],[0.765],[0.766],[0.767],[0.768],[0.769],[0.77],[0.771],[0.772],[0.773],[0.774],[0.775],[0.776],[0.777],[0.778],[0.779],[0.78],[0.781],[0.782],[0.783],[0.784],[0.785],[0.786],[0.787],[0.788],[0.789],[0.79],[0.791],[0.792],[0.793],[0.794],[0.795],[0.796],[0.797],[0.798],[0.799],[0.8],[0.801],[0.802],[0.803],[0.804],[0.805],[0.806],[0.807],[0.808],[0.809],[0.81],[0.811],[0.812],[0.8130000000000001],[0.8140000000000001],[0.8150000000000001],[0.8160000000000001],[0.8170000000000001],[0.8180000000000001],[0.8190000000000001],[0.8200000000000001],[0.8210000000000001],[0.8220000000000001],[0.8230000000000001],[0.8240000000000001],[0.8250000000000001],[0.8260000000000001],[0.8270000000000001],[0.8280000000000001],[0.8290000000000001],[0.8300000000000001],[0.8310000000000001],[0.8320000000000001],[0.833],[0.834],[0.835],[0.836],[0.837],[0.838],[0.839],[0.84],[0.841],[0.842],[0.843],[0.844],[0.845],[0.846],[0.847],[0.848],[0.849],[0.85],[0.851],[0.852],[0.853],[0.854],[0.855],[0.856],[0.857],[0.858],[0.859],[0.86],[0.861],[0.862],[0.863],[0.864],[0.865],[0.866],[0.867],[0.868],[0.869],[0.87],[0.871],[0.872],[0.873],[0.874],[0.875],[0.876],[0.877],[0.878],[0.879],[0.88],[0.881],[0.882],[0.883],[0.884],[0.885],[0.886],[0.887],[0.888],[0.889],[0.89],[0.891],[0.892],[0.893],[0.894],[0.895],[0.896],[0.897],[0.898],[0.899],[0.9],[0.901],[0.902],[0.903],[0.904],[0.905],[0.906],[0.907],[0.908],[0.909],[0.91],[0.911],[0.912],[0.913],[0.914],[0.915],[0.916],[0.917],[0.918],[0.919],[0.92],[0.921],[0.922],[0.923],[0.924],[0.925],[0.926],[0.927],[0.928],[0.929],[0.93],[0.931],[0.932],[0.933],[0.934],[0.935],[0.936],[0.937],[0.9380000000000001],[0.9390000000000001],[0.9400000000000001],[0.9410000000000001],[0.9420000000000001],[0.9430000000000001],[0.9440000000000001],[0.9450000000000001],[0.9460000000000001],[0.9470000000000001],[0.9480000000000001],[0.9490000000000001],[0.9500000000000001],[0.9510000000000001],[0.9520000000000001],[0.9530000000000001],[0.9540000000000001],[0.9550000000000001],[0.9560000000000001],[0.9570000000000001],[0.9580000000000001],[0.9590000000000001],[0.96],[0.961],[0.962],[0.963],[0.964],[0.965],[0.966],[0.967],[0.968],[0.969],[0.97],[0.971],[0.972],[0.973],[0.974],[0.975],[0.976],[0.977],[0.978],[0.979],[0.98],[0.981],[0.982],[0.983],[0.984],[0.985],[0.986],[0.987],[0.988],[0.989],[0.99],[0.991],[0.992],[0.993],[0.994],[0.995],[0.996],[0.997],[0.998],[0.999],[1.0],[0.5],[0.5],[0.5],[0.5],[0.5],[0.5],[0.5],[0.5],[0.5],[0.5],[0.5],[0.5],[0.5],[0.5],[0.5],[0.5],[0.5],[0.5],[0.5],[0.5],[0.5],[0.5],[0.5],[0.5],[0.5],[0.5],[0.5],[0.5],[0.5],[0.5],[0.5],[0.5],[0.5],[0.5],[0.5],[0.5],[0.5],[0.5],[0.5],[0.5],[0.5],[0.5],[0.5],[0.5],[0.5],[0.5],[0.5],[0.5],[0.5],[0.5],[0.5],[0.5],[0.5],[0.5],[0.5],[0.5],[0.5],[0.5],[0.5],[0.5],[0.5],[0.5],[0.5],[0.5],[0.5],[0.5],[0.5],[0.5],[0.5],[0.5],[0.5],[0.5],[0.5],[0.5],[0.5],[0.5],[0.5],[0.5],[0.5],[0.5],[0.5],[0.5],[0.5],[0.5],[0.5],[0.5],[0.5],[0.5],[0.5],[0.5],[0.5],[0.5],[0.5],[0.5],[0.5],[0.5],[0.5],[0.5],[0.5],[0.5],[0.5],[0.5],[0.5],[0.5],[0.5],[0.5],[0.5],[0.5],[0.5],[0.5],[0.5],[0.5],[0.5],[0.5],[0.5],[0.5],[0.5],[0.5],[0.5],[0.5],[0.5],[0.5],[0.5],[0.5],[0.5],[0.5],[0.5],[0.5],[0.5],[0.5],[0.5],[0.5],[0.5],[0.5],[0.5],[0.5],[0.5],[0.5],[0.5],[0.5],[0.5],[0.5],[0.5],[0.5],[0.5],[0.5],[0.5],[0.5],[0.5],[0.5],[0.5],[0.5],[0.5],[0.5],[0.5],[0.5],[0.5],[0.5],[0.5],[0.5],[0.5],[0.5],[0.5],[0.5],[0.5],[0.5],[0.5],[0.5],[0.5],[0.5],[0.5],[0.5],[0.5],[0.5],[0.5],[0.5],[0.5],[0.5],[0.5],[0.5],[0.5],[0.5],[0.5],[0.5],[0.5],[0.5],[0.5],[0.5],[0.5],[0.5],[0.5],[0.5],[0.5],[0.5],[0.5],[0.5],[0.5],[0.5],[0.5],[0.5],[0.5],[0.5],[0.5],[0.5],[0.5],[0.5],[0.5],[0.5],[0.5],[0.5],[0.5],[0.5],[0.5],[0.5],[0.5],[0.5],[0.5],[0.5],[0.5],[0.5],[0.5],[0.5],[0.5],[0.5],[0.5],[0.5],[0.5],[0.5],[0.5],[0.5],[0.5],[0.5],[0.5],[0.5],[0.5],[0.5],[0.5],[0.5],[0.5],[0.5],[0.5],[0.5],[0.5],[0.5],[0.5],[0.5],[0.5],[0.5],[0.5],[0.5],[0.5010000000000001],[0.502],[0.5030000000000001],[0.504],[0.5050000000000001],[0.506],[0.5070000000000001],[0.508],[0.5090000000000001],[0.51],[0.5110000000000001],[0.512],[0.5130000000000001],[0.514],[0.5150000000000001],[0.516],[0.5170000000000001],[0.518],[0.5190000000000001],[0.52],[0.5210000000000001],[0.522],[0.5230000000000001],[0.524],[0.5250000000000001],[0.526],[0.5270000000000001],[0.528],[0.5290000000000001],[0.53],[0.5309999999999999],[0.532],[0.5329999999999999],[0.534],[0.5349999999999999],[0.536],[0.5369999999999999],[0.538],[0.5389999999999999],[0.54],[0.5409999999999999],[0.542],[0.5429999999999999],[0.544],[0.5449999999999999],[0.546],[0.5469999999999999],[0.548],[0.5489999999999999],[0.55],[0.5509999999999999],[0.552],[0.5529999999999999],[0.554],[0.5549999999999999],[0.556],[0.5569999999999999],[0.558],[0.5589999999999999],[0.56],[0.5609999999999999],[0.562],[0.563],[0.5640000000000001],[0.565],[0.5660000000000001],[0.567],[0.5680000000000001],[0.569],[0.5700000000000001],[0.571],[0.5720000000000001],[0.573],[0.5740000000000001],[0.575],[0.5760000000000001],[0.577],[0.5780000000000001],[0.579],[0.5800000000000001],[0.581],[0.5820000000000001],[0.583],[0.5840000000000001],[0.585],[0.5860000000000001],[0.587],[0.5880000000000001],[0.589],[0.5900000000000001],[0.591],[0.5920000000000001],[0.593],[0.5940000000000001],[0.595],[0.5960000000000001],[0.597],[0.5980000000000001],[0.599],[0.6000000000000001],[0.601],[0.6020000000000001],[0.603],[0.6040000000000001],[0.605],[0.6060000000000001],[0.607],[0.6080000000000001],[0.609],[0.6100000000000001],[0.611],[0.6120000000000001],[0.613],[0.6140000000000001],[0.615],[0.6160000000000001],[0.617],[0.6180000000000001],[0.619],[0.6200000000000001],[0.621],[0.6220000000000001],[0.623],[0.6240000000000001],[0.625],[0.6260000000000001],[0.627],[0.6280000000000001],[0.629],[0.6300000000000001],[0.631],[0.6320000000000001],[0.633],[0.6340000000000001],[0.635],[0.6360000000000001],[0.637],[0.6380000000000001],[0.639],[0.6400000000000001],[0.641],[0.6420000000000001],[0.643],[0.6440000000000001],[0.645],[0.6460000000000001],[0.647],[0.6480000000000001],[0.649],[0.6500000000000001],[0.651],[0.6520000000000001],[0.653],[0.6540000000000001],[0.655],[0.6560000000000001],[0.657],[0.6579999999999999],[0.659],[0.6599999999999999],[0.661],[0.6619999999999999],[0.663],[0.6639999999999999],[0.665],[0.6659999999999999],[0.667],[0.6679999999999999],[0.669],[0.6699999999999999],[0.671],[0.6719999999999999],[0.673],[0.6739999999999999],[0.675],[0.6759999999999999],[0.677],[0.6779999999999999],[0.679],[0.6799999999999999],[0.681],[0.6819999999999999],[0.683],[0.6839999999999999],[0.685],[0.6859999999999999],[0.687],[0.688],[0.6890000000000001],[0.69],[0.6910000000000001],[0.692],[0.6930000000000001],[0.694],[0.6950000000000001],[0.696],[0.6970000000000001],[0.698],[0.6990000000000001],[0.7],[0.7010000000000001],[0.702],[0.7030000000000001],[0.704],[0.7050000000000001],[0.706],[0.7070000000000001],[0.708],[0.7090000000000001],[0.71],[0.7110000000000001],[0.712],[0.7130000000000001],[0.714],[0.7150000000000001],[0.716],[0.7170000000000001],[0.718],[0.7190000000000001],[0.72],[0.7210000000000001],[0.722],[0.7230000000000001],[0.724],[0.7250000000000001],[0.726],[0.7270000000000001],[0.728],[0.7290000000000001],[0.73],[0.7310000000000001],[0.732],[0.7330000000000001],[0.734],[0.7350000000000001],[0.736],[0.7370000000000001],[0.738],[0.7390000000000001],[0.74],[0.7410000000000001],[0.742],[0.7430000000000001],[0.744],[0.7450000000000001],[0.746],[0.7470000000000001],[0.748],[0.7490000000000001],[0.75],[0.7510000000000001],[0.752],[0.7530000000000001],[0.754],[0.7550000000000001],[0.756],[0.7570000000000001],[0.758],[0.7590000000000001],[0.76],[0.7610000000000001],[0.762],[0.7630000000000001],[0.764],[0.7650000000000001],[0.766],[0.7670000000000001],[0.768],[0.7690000000000001],[0.77],[0.7710000000000001],[0.772],[0.7730000000000001],[0.774],[0.7750000000000001],[0.776],[0.7770000000000001],[0.778],[0.7790000000000001],[0.78],[0.7810000000000001],[0.782],[0.7830000000000001],[0.784],[0.7850000000000001],[0.786],[0.7869999999999999],[0.788],[0.7889999999999999],[0.79],[0.7909999999999999],[0.792],[0.7929999999999999],[0.794],[0.7949999999999999],[0.796],[0.7969999999999999],[0.798],[0.7989999999999999],[0.8],[0.8009999999999999],[0.802],[0.8029999999999999],[0.804],[0.8049999999999999],[0.806],[0.8069999999999999],[0.808],[0.8089999999999999],[0.81],[0.8109999999999999],[0.812],[0.813],[0.8140000000000001],[0.815],[0.8160000000000001],[0.817],[0.8180000000000001],[0.819],[0.8200000000000001],[0.821],[0.8220000000000001],[0.823],[0.8240000000000001],[0.825],[0.8260000000000001],[0.827],[0.8280000000000001],[0.829],[0.8300000000000001],[0.831],[0.8320000000000001],[0.833],[0.8340000000000001],[0.835],[0.8360000000000001],[0.837],[0.8380000000000001],[0.839],[0.8400000000000001],[0.841],[0.8420000000000001],[0.843],[0.8440000000000001],[0.845],[0.8460000000000001],[0.847],[0.8480000000000001],[0.849],[0.8500000000000001],[0.851],[0.8520000000000001],[0.853],[0.8540000000000001],[0.855],[0.8560000000000001],[0.857],[0.8580000000000001],[0.859],[0.8600000000000001],[0.861],[0.8620000000000001],[0.863],[0.8640000000000001],[0.865],[0.8660000000000001],[0.867],[0.8680000000000001],[0.869],[0.8700000000000001],[0.871],[0.8720000000000001],[0.873],[0.8740000000000001],[0.875],[0.8760000000000001],[0.877],[0.8780000000000001],[0.879],[0.8800000000000001],[0.881],[0.8820000000000001],[0.883],[0.8840000000000001],[0.885],[0.8860000000000001],[0.887],[0.8880000000000001],[0.889],[0.8900000000000001],[0.891],[0.8920000000000001],[0.893],[0.8940000000000001],[0.895],[0.8960000000000001],[0.897],[0.8980000000000001],[0.899],[0.9000000000000001],[0.901],[0.9020000000000001],[0.903],[0.9040000000000001],[0.905],[0.9060000000000001],[0.907],[0.9080000000000001],[0.909],[0.9100000000000001],[0.911],[0.9120000000000001],[0.913],[0.9140000000000001],[0.915],[0.9159999999999999],[0.917],[0.9179999999999999],[0.919],[0.9199999999999999],[0.921],[0.9219999999999999],[0.923],[0.9239999999999999],[0.925],[0.9259999999999999],[0.927],[0.9279999999999999],[0.929],[0.9299999999999999],[0.931],[0.9319999999999999],[0.933],[0.9339999999999999],[0.935],[0.9359999999999999],[0.937],[0.938],[0.9390000000000001],[0.94],[0.9410000000000001],[0.942],[0.9430000000000001],[0.944],[0.9450000000000001],[0.946],[0.9470000000000001],[0.948],[0.9490000000000001],[0.95],[0.9510000000000001],[0.952],[0.9530000000000001],[0.954],[0.9550000000000001],[0.956],[0.9570000000000001],[0.958],[0.9590000000000001],[0.96],[0.9610000000000001],[0.962],[0.9630000000000001],[0.964],[0.9650000000000001],[0.966],[0.9670000000000001],[0.968],[0.9690000000000001],[0.97],[0.9710000000000001],[0.972],[0.9730000000000001],[0.974],[0.9750000000000001],[0.976],[0.9770000000000001],[0.978],[0.9790000000000001],[0.98],[0.9810000000000001],[0.982],[0.9830000000000001],[0.984],[0.9850000000000001],[0.986],[0.9870000000000001],[0.988],[0.9890000000000001],[0.99],[0.9910000000000001],[0.992],[0.9930000000000001],[0.994],[0.9950000000000001],[0.996],[0.9970000000000001],[0.998],[0.9990000000000001],[1.0],[null],[null],[null],[null],[null],[null],[null],[null],[null],[null],[null],[null],[null],[null],[null],[null],[null],[null],[null],[null],[null],[null],[null],[null],[null],[null],[null],[null],[null],[null],[null],[null],[null],[null],[null],[null],[null],[null],[null],[null],[null],[null],[null],[null],[null],[null],[null],[null],[null],[null],[null],[null],[null],[null],[null],[null],[null],[null],[null],[null],[null],[null],[null],[null],[null],[null],[null],[null],[null],[null],[null],[null],[null],[null],[null],[null],[null],[null],[null],[null],[null],[null],[null],[null],[null],[null],[null],[null],[null],[null],[null],[null],[null],[null],[null],[null],[null],[null],[null],[null],[null],[null],[null],[null],[null],[null],[null],[null],[null],[null],[null],[null],[null],[null],[null],[null],[null],[null],[null],[null],[null],[null],[null],[null],[null],[null],[null],[null],[null],[null],[null],[null],[null],[null],[null],[null],[null],[null],[null],[null],[null],[null],[null],[null],[null],[null],[null],[null],[null],[null],[null],[null],[null],[null],[null],[null],[null],[null],[null],[null],[null],[null],[null],[null],[null],[null],[null],[null],[null],[null],[null],[null],[null],[null],[null]],\"fillpattern\":{\"shape\":\"\"},\"hovertemplate\":\"<b>%{hovertext}</b><br><br>Compressors=Compressor 1<br>Qtot=%{x}<br>q=%{y}<br>w=%{customdata[0]}<extra></extra>\",\"hovertext\":[\"Compressor 1\",\"Compressor 1\",\"Compressor 1\",\"Compressor 1\",\"Compressor 1\",\"Compressor 1\",\"Compressor 1\",\"Compressor 1\",\"Compressor 1\",\"Compressor 1\",\"Compressor 1\",\"Compressor 1\",\"Compressor 1\",\"Compressor 1\",\"Compressor 1\",\"Compressor 1\",\"Compressor 1\",\"Compressor 1\",\"Compressor 1\",\"Compressor 1\",\"Compressor 1\",\"Compressor 1\",\"Compressor 1\",\"Compressor 1\",\"Compressor 1\",\"Compressor 1\",\"Compressor 1\",\"Compressor 1\",\"Compressor 1\",\"Compressor 1\",\"Compressor 1\",\"Compressor 1\",\"Compressor 1\",\"Compressor 1\",\"Compressor 1\",\"Compressor 1\",\"Compressor 1\",\"Compressor 1\",\"Compressor 1\",\"Compressor 1\",\"Compressor 1\",\"Compressor 1\",\"Compressor 1\",\"Compressor 1\",\"Compressor 1\",\"Compressor 1\",\"Compressor 1\",\"Compressor 1\",\"Compressor 1\",\"Compressor 1\",\"Compressor 1\",\"Compressor 1\",\"Compressor 1\",\"Compressor 1\",\"Compressor 1\",\"Compressor 1\",\"Compressor 1\",\"Compressor 1\",\"Compressor 1\",\"Compressor 1\",\"Compressor 1\",\"Compressor 1\",\"Compressor 1\",\"Compressor 1\",\"Compressor 1\",\"Compressor 1\",\"Compressor 1\",\"Compressor 1\",\"Compressor 1\",\"Compressor 1\",\"Compressor 1\",\"Compressor 1\",\"Compressor 1\",\"Compressor 1\",\"Compressor 1\",\"Compressor 1\",\"Compressor 1\",\"Compressor 1\",\"Compressor 1\",\"Compressor 1\",\"Compressor 1\",\"Compressor 1\",\"Compressor 1\",\"Compressor 1\",\"Compressor 1\",\"Compressor 1\",\"Compressor 1\",\"Compressor 1\",\"Compressor 1\",\"Compressor 1\",\"Compressor 1\",\"Compressor 1\",\"Compressor 1\",\"Compressor 1\",\"Compressor 1\",\"Compressor 1\",\"Compressor 1\",\"Compressor 1\",\"Compressor 1\",\"Compressor 1\",\"Compressor 1\",\"Compressor 1\",\"Compressor 1\",\"Compressor 1\",\"Compressor 1\",\"Compressor 1\",\"Compressor 1\",\"Compressor 1\",\"Compressor 1\",\"Compressor 1\",\"Compressor 1\",\"Compressor 1\",\"Compressor 1\",\"Compressor 1\",\"Compressor 1\",\"Compressor 1\",\"Compressor 1\",\"Compressor 1\",\"Compressor 1\",\"Compressor 1\",\"Compressor 1\",\"Compressor 1\",\"Compressor 1\",\"Compressor 1\",\"Compressor 1\",\"Compressor 1\",\"Compressor 1\",\"Compressor 1\",\"Compressor 1\",\"Compressor 1\",\"Compressor 1\",\"Compressor 1\",\"Compressor 1\",\"Compressor 1\",\"Compressor 1\",\"Compressor 1\",\"Compressor 1\",\"Compressor 1\",\"Compressor 1\",\"Compressor 1\",\"Compressor 1\",\"Compressor 1\",\"Compressor 1\",\"Compressor 1\",\"Compressor 1\",\"Compressor 1\",\"Compressor 1\",\"Compressor 1\",\"Compressor 1\",\"Compressor 1\",\"Compressor 1\",\"Compressor 1\",\"Compressor 1\",\"Compressor 1\",\"Compressor 1\",\"Compressor 1\",\"Compressor 1\",\"Compressor 1\",\"Compressor 1\",\"Compressor 1\",\"Compressor 1\",\"Compressor 1\",\"Compressor 1\",\"Compressor 1\",\"Compressor 1\",\"Compressor 1\",\"Compressor 1\",\"Compressor 1\",\"Compressor 1\",\"Compressor 1\",\"Compressor 1\",\"Compressor 1\",\"Compressor 1\",\"Compressor 1\",\"Compressor 1\",\"Compressor 1\",\"Compressor 1\",\"Compressor 1\",\"Compressor 1\",\"Compressor 1\",\"Compressor 1\",\"Compressor 1\",\"Compressor 1\",\"Compressor 1\",\"Compressor 1\",\"Compressor 1\",\"Compressor 1\",\"Compressor 1\",\"Compressor 1\",\"Compressor 1\",\"Compressor 1\",\"Compressor 1\",\"Compressor 1\",\"Compressor 1\",\"Compressor 1\",\"Compressor 1\",\"Compressor 1\",\"Compressor 1\",\"Compressor 1\",\"Compressor 1\",\"Compressor 1\",\"Compressor 1\",\"Compressor 1\",\"Compressor 1\",\"Compressor 1\",\"Compressor 1\",\"Compressor 1\",\"Compressor 1\",\"Compressor 1\",\"Compressor 1\",\"Compressor 1\",\"Compressor 1\",\"Compressor 1\",\"Compressor 1\",\"Compressor 1\",\"Compressor 1\",\"Compressor 1\",\"Compressor 1\",\"Compressor 1\",\"Compressor 1\",\"Compressor 1\",\"Compressor 1\",\"Compressor 1\",\"Compressor 1\",\"Compressor 1\",\"Compressor 1\",\"Compressor 1\",\"Compressor 1\",\"Compressor 1\",\"Compressor 1\",\"Compressor 1\",\"Compressor 1\",\"Compressor 1\",\"Compressor 1\",\"Compressor 1\",\"Compressor 1\",\"Compressor 1\",\"Compressor 1\",\"Compressor 1\",\"Compressor 1\",\"Compressor 1\",\"Compressor 1\",\"Compressor 1\",\"Compressor 1\",\"Compressor 1\",\"Compressor 1\",\"Compressor 1\",\"Compressor 1\",\"Compressor 1\",\"Compressor 1\",\"Compressor 1\",\"Compressor 1\",\"Compressor 1\",\"Compressor 1\",\"Compressor 1\",\"Compressor 1\",\"Compressor 1\",\"Compressor 1\",\"Compressor 1\",\"Compressor 1\",\"Compressor 1\",\"Compressor 1\",\"Compressor 1\",\"Compressor 1\",\"Compressor 1\",\"Compressor 1\",\"Compressor 1\",\"Compressor 1\",\"Compressor 1\",\"Compressor 1\",\"Compressor 1\",\"Compressor 1\",\"Compressor 1\",\"Compressor 1\",\"Compressor 1\",\"Compressor 1\",\"Compressor 1\",\"Compressor 1\",\"Compressor 1\",\"Compressor 1\",\"Compressor 1\",\"Compressor 1\",\"Compressor 1\",\"Compressor 1\",\"Compressor 1\",\"Compressor 1\",\"Compressor 1\",\"Compressor 1\",\"Compressor 1\",\"Compressor 1\",\"Compressor 1\",\"Compressor 1\",\"Compressor 1\",\"Compressor 1\",\"Compressor 1\",\"Compressor 1\",\"Compressor 1\",\"Compressor 1\",\"Compressor 1\",\"Compressor 1\",\"Compressor 1\",\"Compressor 1\",\"Compressor 1\",\"Compressor 1\",\"Compressor 1\",\"Compressor 1\",\"Compressor 1\",\"Compressor 1\",\"Compressor 1\",\"Compressor 1\",\"Compressor 1\",\"Compressor 1\",\"Compressor 1\",\"Compressor 1\",\"Compressor 1\",\"Compressor 1\",\"Compressor 1\",\"Compressor 1\",\"Compressor 1\",\"Compressor 1\",\"Compressor 1\",\"Compressor 1\",\"Compressor 1\",\"Compressor 1\",\"Compressor 1\",\"Compressor 1\",\"Compressor 1\",\"Compressor 1\",\"Compressor 1\",\"Compressor 1\",\"Compressor 1\",\"Compressor 1\",\"Compressor 1\",\"Compressor 1\",\"Compressor 1\",\"Compressor 1\",\"Compressor 1\",\"Compressor 1\",\"Compressor 1\",\"Compressor 1\",\"Compressor 1\",\"Compressor 1\",\"Compressor 1\",\"Compressor 1\",\"Compressor 1\",\"Compressor 1\",\"Compressor 1\",\"Compressor 1\",\"Compressor 1\",\"Compressor 1\",\"Compressor 1\",\"Compressor 1\",\"Compressor 1\",\"Compressor 1\",\"Compressor 1\",\"Compressor 1\",\"Compressor 1\",\"Compressor 1\",\"Compressor 1\",\"Compressor 1\",\"Compressor 1\",\"Compressor 1\",\"Compressor 1\",\"Compressor 1\",\"Compressor 1\",\"Compressor 1\",\"Compressor 1\",\"Compressor 1\",\"Compressor 1\",\"Compressor 1\",\"Compressor 1\",\"Compressor 1\",\"Compressor 1\",\"Compressor 1\",\"Compressor 1\",\"Compressor 1\",\"Compressor 1\",\"Compressor 1\",\"Compressor 1\",\"Compressor 1\",\"Compressor 1\",\"Compressor 1\",\"Compressor 1\",\"Compressor 1\",\"Compressor 1\",\"Compressor 1\",\"Compressor 1\",\"Compressor 1\",\"Compressor 1\",\"Compressor 1\",\"Compressor 1\",\"Compressor 1\",\"Compressor 1\",\"Compressor 1\",\"Compressor 1\",\"Compressor 1\",\"Compressor 1\",\"Compressor 1\",\"Compressor 1\",\"Compressor 1\",\"Compressor 1\",\"Compressor 1\",\"Compressor 1\",\"Compressor 1\",\"Compressor 1\",\"Compressor 1\",\"Compressor 1\",\"Compressor 1\",\"Compressor 1\",\"Compressor 1\",\"Compressor 1\",\"Compressor 1\",\"Compressor 1\",\"Compressor 1\",\"Compressor 1\",\"Compressor 1\",\"Compressor 1\",\"Compressor 1\",\"Compressor 1\",\"Compressor 1\",\"Compressor 1\",\"Compressor 1\",\"Compressor 1\",\"Compressor 1\",\"Compressor 1\",\"Compressor 1\",\"Compressor 1\",\"Compressor 1\",\"Compressor 1\",\"Compressor 1\",\"Compressor 1\",\"Compressor 1\",\"Compressor 1\",\"Compressor 1\",\"Compressor 1\",\"Compressor 1\",\"Compressor 1\",\"Compressor 1\",\"Compressor 1\",\"Compressor 1\",\"Compressor 1\",\"Compressor 1\",\"Compressor 1\",\"Compressor 1\",\"Compressor 1\",\"Compressor 1\",\"Compressor 1\",\"Compressor 1\",\"Compressor 1\",\"Compressor 1\",\"Compressor 1\",\"Compressor 1\",\"Compressor 1\",\"Compressor 1\",\"Compressor 1\",\"Compressor 1\",\"Compressor 1\",\"Compressor 1\",\"Compressor 1\",\"Compressor 1\",\"Compressor 1\",\"Compressor 1\",\"Compressor 1\",\"Compressor 1\",\"Compressor 1\",\"Compressor 1\",\"Compressor 1\",\"Compressor 1\",\"Compressor 1\",\"Compressor 1\",\"Compressor 1\",\"Compressor 1\",\"Compressor 1\",\"Compressor 1\",\"Compressor 1\",\"Compressor 1\",\"Compressor 1\",\"Compressor 1\",\"Compressor 1\",\"Compressor 1\",\"Compressor 1\",\"Compressor 1\",\"Compressor 1\",\"Compressor 1\",\"Compressor 1\",\"Compressor 1\",\"Compressor 1\",\"Compressor 1\",\"Compressor 1\",\"Compressor 1\",\"Compressor 1\",\"Compressor 1\",\"Compressor 1\",\"Compressor 1\",\"Compressor 1\",\"Compressor 1\",\"Compressor 1\",\"Compressor 1\",\"Compressor 1\",\"Compressor 1\",\"Compressor 1\",\"Compressor 1\",\"Compressor 1\",\"Compressor 1\",\"Compressor 1\",\"Compressor 1\",\"Compressor 1\",\"Compressor 1\",\"Compressor 1\",\"Compressor 1\",\"Compressor 1\",\"Compressor 1\",\"Compressor 1\",\"Compressor 1\",\"Compressor 1\",\"Compressor 1\",\"Compressor 1\",\"Compressor 1\",\"Compressor 1\",\"Compressor 1\",\"Compressor 1\",\"Compressor 1\",\"Compressor 1\",\"Compressor 1\",\"Compressor 1\",\"Compressor 1\",\"Compressor 1\",\"Compressor 1\",\"Compressor 1\",\"Compressor 1\",\"Compressor 1\",\"Compressor 1\",\"Compressor 1\",\"Compressor 1\",\"Compressor 1\",\"Compressor 1\",\"Compressor 1\",\"Compressor 1\",\"Compressor 1\",\"Compressor 1\",\"Compressor 1\",\"Compressor 1\",\"Compressor 1\",\"Compressor 1\",\"Compressor 1\",\"Compressor 1\",\"Compressor 1\",\"Compressor 1\",\"Compressor 1\",\"Compressor 1\",\"Compressor 1\",\"Compressor 1\",\"Compressor 1\",\"Compressor 1\",\"Compressor 1\",\"Compressor 1\",\"Compressor 1\",\"Compressor 1\",\"Compressor 1\",\"Compressor 1\",\"Compressor 1\",\"Compressor 1\",\"Compressor 1\",\"Compressor 1\",\"Compressor 1\",\"Compressor 1\",\"Compressor 1\",\"Compressor 1\",\"Compressor 1\",\"Compressor 1\",\"Compressor 1\",\"Compressor 1\",\"Compressor 1\",\"Compressor 1\",\"Compressor 1\",\"Compressor 1\",\"Compressor 1\",\"Compressor 1\",\"Compressor 1\",\"Compressor 1\",\"Compressor 1\",\"Compressor 1\",\"Compressor 1\",\"Compressor 1\",\"Compressor 1\",\"Compressor 1\",\"Compressor 1\",\"Compressor 1\",\"Compressor 1\",\"Compressor 1\",\"Compressor 1\",\"Compressor 1\",\"Compressor 1\",\"Compressor 1\",\"Compressor 1\",\"Compressor 1\",\"Compressor 1\",\"Compressor 1\",\"Compressor 1\",\"Compressor 1\",\"Compressor 1\",\"Compressor 1\",\"Compressor 1\",\"Compressor 1\",\"Compressor 1\",\"Compressor 1\",\"Compressor 1\",\"Compressor 1\",\"Compressor 1\",\"Compressor 1\",\"Compressor 1\",\"Compressor 1\",\"Compressor 1\",\"Compressor 1\",\"Compressor 1\",\"Compressor 1\",\"Compressor 1\",\"Compressor 1\",\"Compressor 1\",\"Compressor 1\",\"Compressor 1\",\"Compressor 1\",\"Compressor 1\",\"Compressor 1\",\"Compressor 1\",\"Compressor 1\",\"Compressor 1\",\"Compressor 1\",\"Compressor 1\",\"Compressor 1\",\"Compressor 1\",\"Compressor 1\",\"Compressor 1\",\"Compressor 1\",\"Compressor 1\",\"Compressor 1\",\"Compressor 1\",\"Compressor 1\",\"Compressor 1\",\"Compressor 1\",\"Compressor 1\",\"Compressor 1\",\"Compressor 1\",\"Compressor 1\",\"Compressor 1\",\"Compressor 1\",\"Compressor 1\",\"Compressor 1\",\"Compressor 1\",\"Compressor 1\",\"Compressor 1\",\"Compressor 1\",\"Compressor 1\",\"Compressor 1\",\"Compressor 1\",\"Compressor 1\",\"Compressor 1\",\"Compressor 1\",\"Compressor 1\",\"Compressor 1\",\"Compressor 1\",\"Compressor 1\",\"Compressor 1\",\"Compressor 1\",\"Compressor 1\",\"Compressor 1\",\"Compressor 1\",\"Compressor 1\",\"Compressor 1\",\"Compressor 1\",\"Compressor 1\",\"Compressor 1\",\"Compressor 1\",\"Compressor 1\",\"Compressor 1\",\"Compressor 1\",\"Compressor 1\",\"Compressor 1\",\"Compressor 1\",\"Compressor 1\",\"Compressor 1\",\"Compressor 1\",\"Compressor 1\",\"Compressor 1\",\"Compressor 1\",\"Compressor 1\",\"Compressor 1\",\"Compressor 1\",\"Compressor 1\",\"Compressor 1\",\"Compressor 1\",\"Compressor 1\",\"Compressor 1\",\"Compressor 1\",\"Compressor 1\",\"Compressor 1\",\"Compressor 1\",\"Compressor 1\",\"Compressor 1\",\"Compressor 1\",\"Compressor 1\",\"Compressor 1\",\"Compressor 1\",\"Compressor 1\",\"Compressor 1\",\"Compressor 1\",\"Compressor 1\",\"Compressor 1\",\"Compressor 1\",\"Compressor 1\",\"Compressor 1\",\"Compressor 1\",\"Compressor 1\",\"Compressor 1\",\"Compressor 1\",\"Compressor 1\",\"Compressor 1\",\"Compressor 1\",\"Compressor 1\",\"Compressor 1\",\"Compressor 1\",\"Compressor 1\",\"Compressor 1\",\"Compressor 1\",\"Compressor 1\",\"Compressor 1\",\"Compressor 1\",\"Compressor 1\",\"Compressor 1\",\"Compressor 1\",\"Compressor 1\",\"Compressor 1\",\"Compressor 1\",\"Compressor 1\",\"Compressor 1\",\"Compressor 1\",\"Compressor 1\",\"Compressor 1\",\"Compressor 1\",\"Compressor 1\",\"Compressor 1\",\"Compressor 1\",\"Compressor 1\",\"Compressor 1\",\"Compressor 1\",\"Compressor 1\",\"Compressor 1\",\"Compressor 1\",\"Compressor 1\",\"Compressor 1\",\"Compressor 1\",\"Compressor 1\",\"Compressor 1\",\"Compressor 1\",\"Compressor 1\",\"Compressor 1\",\"Compressor 1\",\"Compressor 1\",\"Compressor 1\",\"Compressor 1\",\"Compressor 1\",\"Compressor 1\",\"Compressor 1\",\"Compressor 1\",\"Compressor 1\",\"Compressor 1\",\"Compressor 1\",\"Compressor 1\",\"Compressor 1\",\"Compressor 1\",\"Compressor 1\",\"Compressor 1\",\"Compressor 1\",\"Compressor 1\",\"Compressor 1\",\"Compressor 1\",\"Compressor 1\",\"Compressor 1\",\"Compressor 1\",\"Compressor 1\",\"Compressor 1\",\"Compressor 1\",\"Compressor 1\",\"Compressor 1\",\"Compressor 1\",\"Compressor 1\",\"Compressor 1\",\"Compressor 1\",\"Compressor 1\",\"Compressor 1\",\"Compressor 1\",\"Compressor 1\",\"Compressor 1\",\"Compressor 1\",\"Compressor 1\",\"Compressor 1\",\"Compressor 1\",\"Compressor 1\",\"Compressor 1\",\"Compressor 1\",\"Compressor 1\",\"Compressor 1\",\"Compressor 1\",\"Compressor 1\",\"Compressor 1\",\"Compressor 1\",\"Compressor 1\",\"Compressor 1\",\"Compressor 1\",\"Compressor 1\",\"Compressor 1\",\"Compressor 1\",\"Compressor 1\",\"Compressor 1\",\"Compressor 1\",\"Compressor 1\",\"Compressor 1\",\"Compressor 1\",\"Compressor 1\",\"Compressor 1\",\"Compressor 1\",\"Compressor 1\",\"Compressor 1\",\"Compressor 1\",\"Compressor 1\",\"Compressor 1\",\"Compressor 1\",\"Compressor 1\",\"Compressor 1\",\"Compressor 1\",\"Compressor 1\",\"Compressor 1\",\"Compressor 1\",\"Compressor 1\",\"Compressor 1\",\"Compressor 1\",\"Compressor 1\",\"Compressor 1\",\"Compressor 1\",\"Compressor 1\",\"Compressor 1\",\"Compressor 1\",\"Compressor 1\",\"Compressor 1\",\"Compressor 1\",\"Compressor 1\",\"Compressor 1\",\"Compressor 1\",\"Compressor 1\",\"Compressor 1\",\"Compressor 1\",\"Compressor 1\",\"Compressor 1\",\"Compressor 1\",\"Compressor 1\",\"Compressor 1\",\"Compressor 1\",\"Compressor 1\",\"Compressor 1\",\"Compressor 1\",\"Compressor 1\",\"Compressor 1\",\"Compressor 1\",\"Compressor 1\",\"Compressor 1\",\"Compressor 1\",\"Compressor 1\",\"Compressor 1\",\"Compressor 1\",\"Compressor 1\",\"Compressor 1\",\"Compressor 1\",\"Compressor 1\",\"Compressor 1\",\"Compressor 1\",\"Compressor 1\",\"Compressor 1\",\"Compressor 1\",\"Compressor 1\",\"Compressor 1\",\"Compressor 1\",\"Compressor 1\",\"Compressor 1\",\"Compressor 1\",\"Compressor 1\",\"Compressor 1\",\"Compressor 1\",\"Compressor 1\",\"Compressor 1\",\"Compressor 1\",\"Compressor 1\",\"Compressor 1\",\"Compressor 1\",\"Compressor 1\",\"Compressor 1\",\"Compressor 1\",\"Compressor 1\",\"Compressor 1\",\"Compressor 1\",\"Compressor 1\",\"Compressor 1\",\"Compressor 1\",\"Compressor 1\",\"Compressor 1\",\"Compressor 1\",\"Compressor 1\",\"Compressor 1\",\"Compressor 1\",\"Compressor 1\",\"Compressor 1\",\"Compressor 1\",\"Compressor 1\",\"Compressor 1\",\"Compressor 1\",\"Compressor 1\",\"Compressor 1\",\"Compressor 1\",\"Compressor 1\",\"Compressor 1\",\"Compressor 1\",\"Compressor 1\",\"Compressor 1\",\"Compressor 1\",\"Compressor 1\",\"Compressor 1\",\"Compressor 1\",\"Compressor 1\",\"Compressor 1\",\"Compressor 1\",\"Compressor 1\",\"Compressor 1\",\"Compressor 1\",\"Compressor 1\",\"Compressor 1\",\"Compressor 1\",\"Compressor 1\",\"Compressor 1\",\"Compressor 1\",\"Compressor 1\",\"Compressor 1\",\"Compressor 1\",\"Compressor 1\",\"Compressor 1\",\"Compressor 1\",\"Compressor 1\",\"Compressor 1\",\"Compressor 1\",\"Compressor 1\",\"Compressor 1\",\"Compressor 1\",\"Compressor 1\",\"Compressor 1\",\"Compressor 1\",\"Compressor 1\",\"Compressor 1\",\"Compressor 1\",\"Compressor 1\",\"Compressor 1\",\"Compressor 1\",\"Compressor 1\",\"Compressor 1\",\"Compressor 1\",\"Compressor 1\",\"Compressor 1\",\"Compressor 1\",\"Compressor 1\",\"Compressor 1\",\"Compressor 1\",\"Compressor 1\",\"Compressor 1\",\"Compressor 1\",\"Compressor 1\",\"Compressor 1\",\"Compressor 1\",\"Compressor 1\",\"Compressor 1\",\"Compressor 1\",\"Compressor 1\",\"Compressor 1\",\"Compressor 1\",\"Compressor 1\",\"Compressor 1\",\"Compressor 1\",\"Compressor 1\",\"Compressor 1\",\"Compressor 1\",\"Compressor 1\",\"Compressor 1\",\"Compressor 1\",\"Compressor 1\",\"Compressor 1\",\"Compressor 1\",\"Compressor 1\",\"Compressor 1\",\"Compressor 1\",\"Compressor 1\",\"Compressor 1\",\"Compressor 1\",\"Compressor 1\",\"Compressor 1\",\"Compressor 1\",\"Compressor 1\",\"Compressor 1\",\"Compressor 1\",\"Compressor 1\",\"Compressor 1\",\"Compressor 1\",\"Compressor 1\",\"Compressor 1\",\"Compressor 1\",\"Compressor 1\",\"Compressor 1\",\"Compressor 1\",\"Compressor 1\",\"Compressor 1\",\"Compressor 1\",\"Compressor 1\",\"Compressor 1\",\"Compressor 1\",\"Compressor 1\",\"Compressor 1\",\"Compressor 1\",\"Compressor 1\",\"Compressor 1\",\"Compressor 1\",\"Compressor 1\",\"Compressor 1\",\"Compressor 1\",\"Compressor 1\",\"Compressor 1\",\"Compressor 1\",\"Compressor 1\",\"Compressor 1\",\"Compressor 1\",\"Compressor 1\",\"Compressor 1\",\"Compressor 1\",\"Compressor 1\",\"Compressor 1\",\"Compressor 1\",\"Compressor 1\",\"Compressor 1\",\"Compressor 1\",\"Compressor 1\",\"Compressor 1\",\"Compressor 1\",\"Compressor 1\",\"Compressor 1\",\"Compressor 1\",\"Compressor 1\",\"Compressor 1\",\"Compressor 1\",\"Compressor 1\",\"Compressor 1\",\"Compressor 1\",\"Compressor 1\",\"Compressor 1\",\"Compressor 1\",\"Compressor 1\",\"Compressor 1\",\"Compressor 1\",\"Compressor 1\",\"Compressor 1\",\"Compressor 1\",\"Compressor 1\",\"Compressor 1\",\"Compressor 1\",\"Compressor 1\",\"Compressor 1\",\"Compressor 1\",\"Compressor 1\",\"Compressor 1\",\"Compressor 1\",\"Compressor 1\",\"Compressor 1\",\"Compressor 1\",\"Compressor 1\",\"Compressor 1\",\"Compressor 1\",\"Compressor 1\",\"Compressor 1\",\"Compressor 1\",\"Compressor 1\",\"Compressor 1\",\"Compressor 1\",\"Compressor 1\",\"Compressor 1\",\"Compressor 1\",\"Compressor 1\",\"Compressor 1\",\"Compressor 1\",\"Compressor 1\",\"Compressor 1\",\"Compressor 1\",\"Compressor 1\",\"Compressor 1\",\"Compressor 1\",\"Compressor 1\",\"Compressor 1\",\"Compressor 1\",\"Compressor 1\",\"Compressor 1\",\"Compressor 1\",\"Compressor 1\",\"Compressor 1\",\"Compressor 1\",\"Compressor 1\",\"Compressor 1\",\"Compressor 1\",\"Compressor 1\",\"Compressor 1\",\"Compressor 1\",\"Compressor 1\",\"Compressor 1\",\"Compressor 1\",\"Compressor 1\",\"Compressor 1\",\"Compressor 1\",\"Compressor 1\",\"Compressor 1\",\"Compressor 1\",\"Compressor 1\",\"Compressor 1\",\"Compressor 1\",\"Compressor 1\",\"Compressor 1\",\"Compressor 1\",\"Compressor 1\",\"Compressor 1\",\"Compressor 1\",\"Compressor 1\",\"Compressor 1\",\"Compressor 1\",\"Compressor 1\",\"Compressor 1\",\"Compressor 1\",\"Compressor 1\",\"Compressor 1\",\"Compressor 1\",\"Compressor 1\",\"Compressor 1\",\"Compressor 1\",\"Compressor 1\",\"Compressor 1\",\"Compressor 1\",\"Compressor 1\",\"Compressor 1\",\"Compressor 1\",\"Compressor 1\",\"Compressor 1\",\"Compressor 1\",\"Compressor 1\",\"Compressor 1\",\"Compressor 1\",\"Compressor 1\",\"Compressor 1\",\"Compressor 1\",\"Compressor 1\",\"Compressor 1\",\"Compressor 1\",\"Compressor 1\",\"Compressor 1\",\"Compressor 1\",\"Compressor 1\",\"Compressor 1\",\"Compressor 1\",\"Compressor 1\",\"Compressor 1\",\"Compressor 1\",\"Compressor 1\",\"Compressor 1\",\"Compressor 1\",\"Compressor 1\",\"Compressor 1\",\"Compressor 1\",\"Compressor 1\",\"Compressor 1\",\"Compressor 1\",\"Compressor 1\",\"Compressor 1\",\"Compressor 1\",\"Compressor 1\",\"Compressor 1\",\"Compressor 1\",\"Compressor 1\",\"Compressor 1\",\"Compressor 1\",\"Compressor 1\",\"Compressor 1\",\"Compressor 1\",\"Compressor 1\",\"Compressor 1\",\"Compressor 1\",\"Compressor 1\",\"Compressor 1\",\"Compressor 1\",\"Compressor 1\",\"Compressor 1\",\"Compressor 1\",\"Compressor 1\",\"Compressor 1\",\"Compressor 1\",\"Compressor 1\",\"Compressor 1\",\"Compressor 1\",\"Compressor 1\",\"Compressor 1\",\"Compressor 1\",\"Compressor 1\",\"Compressor 1\",\"Compressor 1\",\"Compressor 1\",\"Compressor 1\",\"Compressor 1\",\"Compressor 1\",\"Compressor 1\",\"Compressor 1\",\"Compressor 1\",\"Compressor 1\",\"Compressor 1\",\"Compressor 1\",\"Compressor 1\",\"Compressor 1\",\"Compressor 1\",\"Compressor 1\",\"Compressor 1\",\"Compressor 1\",\"Compressor 1\",\"Compressor 1\",\"Compressor 1\",\"Compressor 1\",\"Compressor 1\",\"Compressor 1\",\"Compressor 1\",\"Compressor 1\",\"Compressor 1\",\"Compressor 1\",\"Compressor 1\",\"Compressor 1\",\"Compressor 1\",\"Compressor 1\",\"Compressor 1\",\"Compressor 1\",\"Compressor 1\",\"Compressor 1\",\"Compressor 1\",\"Compressor 1\",\"Compressor 1\",\"Compressor 1\",\"Compressor 1\",\"Compressor 1\",\"Compressor 1\",\"Compressor 1\",\"Compressor 1\",\"Compressor 1\",\"Compressor 1\",\"Compressor 1\",\"Compressor 1\",\"Compressor 1\",\"Compressor 1\",\"Compressor 1\",\"Compressor 1\",\"Compressor 1\",\"Compressor 1\",\"Compressor 1\",\"Compressor 1\",\"Compressor 1\",\"Compressor 1\",\"Compressor 1\",\"Compressor 1\",\"Compressor 1\",\"Compressor 1\",\"Compressor 1\",\"Compressor 1\",\"Compressor 1\",\"Compressor 1\",\"Compressor 1\",\"Compressor 1\",\"Compressor 1\",\"Compressor 1\",\"Compressor 1\",\"Compressor 1\",\"Compressor 1\",\"Compressor 1\",\"Compressor 1\",\"Compressor 1\",\"Compressor 1\",\"Compressor 1\",\"Compressor 1\",\"Compressor 1\",\"Compressor 1\",\"Compressor 1\",\"Compressor 1\",\"Compressor 1\",\"Compressor 1\",\"Compressor 1\",\"Compressor 1\",\"Compressor 1\",\"Compressor 1\",\"Compressor 1\",\"Compressor 1\",\"Compressor 1\",\"Compressor 1\",\"Compressor 1\",\"Compressor 1\",\"Compressor 1\",\"Compressor 1\",\"Compressor 1\",\"Compressor 1\",\"Compressor 1\",\"Compressor 1\",\"Compressor 1\",\"Compressor 1\",\"Compressor 1\",\"Compressor 1\",\"Compressor 1\",\"Compressor 1\",\"Compressor 1\",\"Compressor 1\",\"Compressor 1\",\"Compressor 1\",\"Compressor 1\",\"Compressor 1\",\"Compressor 1\",\"Compressor 1\",\"Compressor 1\",\"Compressor 1\",\"Compressor 1\",\"Compressor 1\",\"Compressor 1\",\"Compressor 1\",\"Compressor 1\",\"Compressor 1\",\"Compressor 1\",\"Compressor 1\",\"Compressor 1\",\"Compressor 1\",\"Compressor 1\",\"Compressor 1\",\"Compressor 1\",\"Compressor 1\",\"Compressor 1\",\"Compressor 1\",\"Compressor 1\",\"Compressor 1\",\"Compressor 1\",\"Compressor 1\",\"Compressor 1\",\"Compressor 1\",\"Compressor 1\",\"Compressor 1\",\"Compressor 1\",\"Compressor 1\",\"Compressor 1\",\"Compressor 1\",\"Compressor 1\",\"Compressor 1\",\"Compressor 1\",\"Compressor 1\",\"Compressor 1\",\"Compressor 1\",\"Compressor 1\",\"Compressor 1\",\"Compressor 1\",\"Compressor 1\",\"Compressor 1\",\"Compressor 1\",\"Compressor 1\",\"Compressor 1\",\"Compressor 1\",\"Compressor 1\",\"Compressor 1\",\"Compressor 1\",\"Compressor 1\",\"Compressor 1\",\"Compressor 1\",\"Compressor 1\",\"Compressor 1\",\"Compressor 1\",\"Compressor 1\",\"Compressor 1\",\"Compressor 1\",\"Compressor 1\",\"Compressor 1\",\"Compressor 1\",\"Compressor 1\",\"Compressor 1\",\"Compressor 1\",\"Compressor 1\",\"Compressor 1\",\"Compressor 1\",\"Compressor 1\",\"Compressor 1\",\"Compressor 1\",\"Compressor 1\",\"Compressor 1\",\"Compressor 1\",\"Compressor 1\",\"Compressor 1\",\"Compressor 1\",\"Compressor 1\",\"Compressor 1\",\"Compressor 1\",\"Compressor 1\",\"Compressor 1\",\"Compressor 1\",\"Compressor 1\",\"Compressor 1\",\"Compressor 1\",\"Compressor 1\",\"Compressor 1\",\"Compressor 1\",\"Compressor 1\",\"Compressor 1\",\"Compressor 1\",\"Compressor 1\",\"Compressor 1\",\"Compressor 1\",\"Compressor 1\",\"Compressor 1\",\"Compressor 1\",\"Compressor 1\",\"Compressor 1\",\"Compressor 1\",\"Compressor 1\",\"Compressor 1\",\"Compressor 1\",\"Compressor 1\",\"Compressor 1\",\"Compressor 1\",\"Compressor 1\",\"Compressor 1\",\"Compressor 1\",\"Compressor 1\",\"Compressor 1\",\"Compressor 1\",\"Compressor 1\",\"Compressor 1\",\"Compressor 1\",\"Compressor 1\",\"Compressor 1\",\"Compressor 1\",\"Compressor 1\",\"Compressor 1\",\"Compressor 1\",\"Compressor 1\",\"Compressor 1\",\"Compressor 1\",\"Compressor 1\",\"Compressor 1\",\"Compressor 1\",\"Compressor 1\",\"Compressor 1\",\"Compressor 1\",\"Compressor 1\",\"Compressor 1\",\"Compressor 1\",\"Compressor 1\",\"Compressor 1\",\"Compressor 1\",\"Compressor 1\",\"Compressor 1\",\"Compressor 1\",\"Compressor 1\",\"Compressor 1\",\"Compressor 1\",\"Compressor 1\",\"Compressor 1\",\"Compressor 1\",\"Compressor 1\",\"Compressor 1\",\"Compressor 1\",\"Compressor 1\",\"Compressor 1\",\"Compressor 1\",\"Compressor 1\",\"Compressor 1\",\"Compressor 1\",\"Compressor 1\",\"Compressor 1\",\"Compressor 1\",\"Compressor 1\",\"Compressor 1\",\"Compressor 1\",\"Compressor 1\",\"Compressor 1\",\"Compressor 1\",\"Compressor 1\",\"Compressor 1\",\"Compressor 1\",\"Compressor 1\",\"Compressor 1\",\"Compressor 1\",\"Compressor 1\",\"Compressor 1\",\"Compressor 1\",\"Compressor 1\",\"Compressor 1\",\"Compressor 1\",\"Compressor 1\",\"Compressor 1\",\"Compressor 1\",\"Compressor 1\",\"Compressor 1\",\"Compressor 1\",\"Compressor 1\",\"Compressor 1\",\"Compressor 1\",\"Compressor 1\",\"Compressor 1\",\"Compressor 1\",\"Compressor 1\",\"Compressor 1\",\"Compressor 1\",\"Compressor 1\",\"Compressor 1\",\"Compressor 1\",\"Compressor 1\",\"Compressor 1\",\"Compressor 1\",\"Compressor 1\",\"Compressor 1\",\"Compressor 1\",\"Compressor 1\",\"Compressor 1\",\"Compressor 1\",\"Compressor 1\",\"Compressor 1\",\"Compressor 1\",\"Compressor 1\",\"Compressor 1\",\"Compressor 1\",\"Compressor 1\",\"Compressor 1\",\"Compressor 1\",\"Compressor 1\",\"Compressor 1\",\"Compressor 1\",\"Compressor 1\",\"Compressor 1\",\"Compressor 1\",\"Compressor 1\",\"Compressor 1\",\"Compressor 1\",\"Compressor 1\",\"Compressor 1\",\"Compressor 1\",\"Compressor 1\",\"Compressor 1\",\"Compressor 1\",\"Compressor 1\",\"Compressor 1\",\"Compressor 1\",\"Compressor 1\",\"Compressor 1\",\"Compressor 1\",\"Compressor 1\",\"Compressor 1\",\"Compressor 1\",\"Compressor 1\",\"Compressor 1\",\"Compressor 1\",\"Compressor 1\",\"Compressor 1\",\"Compressor 1\",\"Compressor 1\",\"Compressor 1\",\"Compressor 1\",\"Compressor 1\",\"Compressor 1\",\"Compressor 1\",\"Compressor 1\",\"Compressor 1\",\"Compressor 1\",\"Compressor 1\",\"Compressor 1\",\"Compressor 1\",\"Compressor 1\",\"Compressor 1\",\"Compressor 1\",\"Compressor 1\",\"Compressor 1\",\"Compressor 1\",\"Compressor 1\",\"Compressor 1\",\"Compressor 1\",\"Compressor 1\",\"Compressor 1\",\"Compressor 1\",\"Compressor 1\",\"Compressor 1\",\"Compressor 1\",\"Compressor 1\",\"Compressor 1\",\"Compressor 1\",\"Compressor 1\",\"Compressor 1\",\"Compressor 1\",\"Compressor 1\",\"Compressor 1\",\"Compressor 1\",\"Compressor 1\",\"Compressor 1\",\"Compressor 1\",\"Compressor 1\",\"Compressor 1\",\"Compressor 1\",\"Compressor 1\",\"Compressor 1\",\"Compressor 1\",\"Compressor 1\",\"Compressor 1\",\"Compressor 1\",\"Compressor 1\",\"Compressor 1\",\"Compressor 1\",\"Compressor 1\",\"Compressor 1\",\"Compressor 1\",\"Compressor 1\",\"Compressor 1\",\"Compressor 1\",\"Compressor 1\",\"Compressor 1\",\"Compressor 1\",\"Compressor 1\",\"Compressor 1\",\"Compressor 1\",\"Compressor 1\",\"Compressor 1\",\"Compressor 1\",\"Compressor 1\",\"Compressor 1\",\"Compressor 1\",\"Compressor 1\",\"Compressor 1\",\"Compressor 1\",\"Compressor 1\",\"Compressor 1\",\"Compressor 1\",\"Compressor 1\",\"Compressor 1\",\"Compressor 1\",\"Compressor 1\",\"Compressor 1\",\"Compressor 1\",\"Compressor 1\",\"Compressor 1\",\"Compressor 1\",\"Compressor 1\",\"Compressor 1\",\"Compressor 1\",\"Compressor 1\",\"Compressor 1\",\"Compressor 1\",\"Compressor 1\",\"Compressor 1\",\"Compressor 1\",\"Compressor 1\",\"Compressor 1\",\"Compressor 1\",\"Compressor 1\",\"Compressor 1\",\"Compressor 1\",\"Compressor 1\",\"Compressor 1\",\"Compressor 1\",\"Compressor 1\",\"Compressor 1\",\"Compressor 1\",\"Compressor 1\",\"Compressor 1\",\"Compressor 1\",\"Compressor 1\",\"Compressor 1\",\"Compressor 1\",\"Compressor 1\",\"Compressor 1\",\"Compressor 1\",\"Compressor 1\",\"Compressor 1\",\"Compressor 1\",\"Compressor 1\",\"Compressor 1\",\"Compressor 1\",\"Compressor 1\",\"Compressor 1\",\"Compressor 1\",\"Compressor 1\",\"Compressor 1\",\"Compressor 1\",\"Compressor 1\",\"Compressor 1\",\"Compressor 1\",\"Compressor 1\",\"Compressor 1\",\"Compressor 1\",\"Compressor 1\",\"Compressor 1\",\"Compressor 1\",\"Compressor 1\",\"Compressor 1\",\"Compressor 1\",\"Compressor 1\",\"Compressor 1\",\"Compressor 1\",\"Compressor 1\",\"Compressor 1\",\"Compressor 1\",\"Compressor 1\",\"Compressor 1\",\"Compressor 1\",\"Compressor 1\",\"Compressor 1\",\"Compressor 1\",\"Compressor 1\",\"Compressor 1\",\"Compressor 1\",\"Compressor 1\",\"Compressor 1\",\"Compressor 1\",\"Compressor 1\",\"Compressor 1\",\"Compressor 1\",\"Compressor 1\",\"Compressor 1\",\"Compressor 1\",\"Compressor 1\",\"Compressor 1\",\"Compressor 1\",\"Compressor 1\",\"Compressor 1\",\"Compressor 1\",\"Compressor 1\",\"Compressor 1\",\"Compressor 1\",\"Compressor 1\",\"Compressor 1\",\"Compressor 1\",\"Compressor 1\",\"Compressor 1\",\"Compressor 1\",\"Compressor 1\",\"Compressor 1\",\"Compressor 1\",\"Compressor 1\",\"Compressor 1\",\"Compressor 1\",\"Compressor 1\",\"Compressor 1\",\"Compressor 1\",\"Compressor 1\",\"Compressor 1\",\"Compressor 1\",\"Compressor 1\",\"Compressor 1\",\"Compressor 1\",\"Compressor 1\",\"Compressor 1\",\"Compressor 1\",\"Compressor 1\",\"Compressor 1\",\"Compressor 1\",\"Compressor 1\",\"Compressor 1\",\"Compressor 1\",\"Compressor 1\",\"Compressor 1\",\"Compressor 1\",\"Compressor 1\",\"Compressor 1\",\"Compressor 1\",\"Compressor 1\",\"Compressor 1\",\"Compressor 1\",\"Compressor 1\",\"Compressor 1\",\"Compressor 1\",\"Compressor 1\",\"Compressor 1\",\"Compressor 1\",\"Compressor 1\",\"Compressor 1\",\"Compressor 1\",\"Compressor 1\",\"Compressor 1\",\"Compressor 1\",\"Compressor 1\",\"Compressor 1\",\"Compressor 1\",\"Compressor 1\",\"Compressor 1\",\"Compressor 1\",\"Compressor 1\",\"Compressor 1\",\"Compressor 1\",\"Compressor 1\",\"Compressor 1\",\"Compressor 1\",\"Compressor 1\",\"Compressor 1\",\"Compressor 1\",\"Compressor 1\",\"Compressor 1\",\"Compressor 1\",\"Compressor 1\",\"Compressor 1\",\"Compressor 1\",\"Compressor 1\",\"Compressor 1\",\"Compressor 1\",\"Compressor 1\",\"Compressor 1\",\"Compressor 1\",\"Compressor 1\",\"Compressor 1\",\"Compressor 1\",\"Compressor 1\",\"Compressor 1\",\"Compressor 1\",\"Compressor 1\",\"Compressor 1\",\"Compressor 1\",\"Compressor 1\",\"Compressor 1\",\"Compressor 1\",\"Compressor 1\",\"Compressor 1\",\"Compressor 1\",\"Compressor 1\",\"Compressor 1\",\"Compressor 1\",\"Compressor 1\",\"Compressor 1\",\"Compressor 1\",\"Compressor 1\",\"Compressor 1\",\"Compressor 1\",\"Compressor 1\",\"Compressor 1\",\"Compressor 1\",\"Compressor 1\",\"Compressor 1\",\"Compressor 1\",\"Compressor 1\",\"Compressor 1\",\"Compressor 1\",\"Compressor 1\",\"Compressor 1\",\"Compressor 1\",\"Compressor 1\",\"Compressor 1\",\"Compressor 1\",\"Compressor 1\",\"Compressor 1\",\"Compressor 1\",\"Compressor 1\",\"Compressor 1\",\"Compressor 1\",\"Compressor 1\",\"Compressor 1\",\"Compressor 1\",\"Compressor 1\",\"Compressor 1\",\"Compressor 1\",\"Compressor 1\",\"Compressor 1\",\"Compressor 1\",\"Compressor 1\",\"Compressor 1\",\"Compressor 1\",\"Compressor 1\",\"Compressor 1\",\"Compressor 1\",\"Compressor 1\",\"Compressor 1\",\"Compressor 1\",\"Compressor 1\",\"Compressor 1\",\"Compressor 1\",\"Compressor 1\",\"Compressor 1\",\"Compressor 1\",\"Compressor 1\",\"Compressor 1\",\"Compressor 1\",\"Compressor 1\",\"Compressor 1\",\"Compressor 1\",\"Compressor 1\",\"Compressor 1\",\"Compressor 1\",\"Compressor 1\",\"Compressor 1\",\"Compressor 1\",\"Compressor 1\",\"Compressor 1\",\"Compressor 1\",\"Compressor 1\",\"Compressor 1\",\"Compressor 1\",\"Compressor 1\",\"Compressor 1\",\"Compressor 1\",\"Compressor 1\",\"Compressor 1\",\"Compressor 1\",\"Compressor 1\",\"Compressor 1\",\"Compressor 1\",\"Compressor 1\",\"Compressor 1\",\"Compressor 1\",\"Compressor 1\",\"Compressor 1\",\"Compressor 1\",\"Compressor 1\",\"Compressor 1\",\"Compressor 1\",\"Compressor 1\",\"Compressor 1\",\"Compressor 1\",\"Compressor 1\",\"Compressor 1\",\"Compressor 1\",\"Compressor 1\"],\"legendgroup\":\"Compressor 1\",\"line\":{\"color\":\"#636efa\"},\"marker\":{\"symbol\":\"circle\"},\"mode\":\"lines\",\"name\":\"Compressor 1\",\"orientation\":\"v\",\"showlegend\":true,\"stackgroup\":\"1\",\"x\":[0.0,0.001,0.002,0.003,0.004,0.005,0.006,0.007,0.008,0.009000000000000001,0.01,0.011,0.012,0.013000000000000001,0.014,0.015,0.016,0.017,0.018000000000000002,0.019,0.02,0.021,0.022,0.023,0.024,0.025,0.026000000000000002,0.027,0.028,0.029,0.03,0.031,0.032,0.033,0.034,0.035,0.036000000000000004,0.037,0.038,0.039,0.04,0.041,0.042,0.043000000000000003,0.044,0.045,0.046,0.047,0.048,0.049,0.05,0.051000000000000004,0.052000000000000005,0.053,0.054,0.055,0.056,0.057,0.058,0.059000000000000004,0.06,0.061,0.062,0.063,0.064,0.065,0.066,0.067,0.068,0.069,0.07,0.07100000000000001,0.07200000000000001,0.073,0.074,0.075,0.076,0.077,0.078,0.079,0.08,0.081,0.082,0.083,0.084,0.085,0.08600000000000001,0.08700000000000001,0.088,0.089,0.09,0.091,0.092,0.093,0.094,0.095,0.096,0.097,0.098,0.099,0.1,0.101,0.10200000000000001,0.10300000000000001,0.10400000000000001,0.105,0.106,0.107,0.108,0.109,0.11,0.111,0.112,0.113,0.114,0.115,0.116,0.117,0.11800000000000001,0.11900000000000001,0.12,0.121,0.122,0.123,0.124,0.125,0.126,0.127,0.128,0.129,0.13,0.131,0.132,0.133,0.134,0.135,0.136,0.137,0.138,0.139,0.14,0.14100000000000001,0.14200000000000002,0.14300000000000002,0.14400000000000002,0.145,0.146,0.147,0.148,0.149,0.15,0.151,0.152,0.153,0.154,0.155,0.156,0.157,0.158,0.159,0.16,0.161,0.162,0.163,0.164,0.165,0.166,0.167,0.168,0.169,0.17,0.171,0.17200000000000001,0.17300000000000001,0.17400000000000002,0.17500000000000002,0.176,0.177,0.178,0.179,0.18,0.181,0.182,0.183,0.184,0.185,0.186,0.187,0.188,0.189,0.19,0.191,0.192,0.193,0.194,0.195,0.196,0.197,0.198,0.199,0.2,0.201,0.202,0.203,0.20400000000000001,0.20500000000000002,0.20600000000000002,0.20700000000000002,0.20800000000000002,0.209,0.21,0.211,0.212,0.213,0.214,0.215,0.216,0.217,0.218,0.219,0.22,0.221,0.222,0.223,0.224,0.225,0.226,0.227,0.228,0.229,0.23,0.231,0.232,0.233,0.234,0.23500000000000001,0.23600000000000002,0.23700000000000002,0.23800000000000002,0.23900000000000002,0.24,0.241,0.242,0.243,0.244,0.245,0.246,0.247,0.248,0.249,0.25,0.251,0.252,0.253,0.254,0.255,0.256,0.257,0.258,0.259,0.26,0.261,0.262,0.263,0.264,0.265,0.266,0.267,0.268,0.269,0.27,0.271,0.272,0.273,0.274,0.275,0.276,0.277,0.278,0.279,0.28,0.281,0.28200000000000003,0.28300000000000003,0.28400000000000003,0.28500000000000003,0.28600000000000003,0.28700000000000003,0.28800000000000003,0.289,0.29,0.291,0.292,0.293,0.294,0.295,0.296,0.297,0.298,0.299,0.3,0.301,0.302,0.303,0.304,0.305,0.306,0.307,0.308,0.309,0.31,0.311,0.312,0.313,0.314,0.315,0.316,0.317,0.318,0.319,0.32,0.321,0.322,0.323,0.324,0.325,0.326,0.327,0.328,0.329,0.33,0.331,0.332,0.333,0.334,0.335,0.336,0.337,0.338,0.339,0.34,0.341,0.342,0.343,0.34400000000000003,0.34500000000000003,0.34600000000000003,0.34700000000000003,0.34800000000000003,0.34900000000000003,0.35000000000000003,0.35100000000000003,0.352,0.353,0.354,0.355,0.356,0.357,0.358,0.359,0.36,0.361,0.362,0.363,0.364,0.365,0.366,0.367,0.368,0.369,0.37,0.371,0.372,0.373,0.374,0.375,0.376,0.377,0.378,0.379,0.38,0.381,0.382,0.383,0.384,0.385,0.386,0.387,0.388,0.389,0.39,0.391,0.392,0.393,0.394,0.395,0.396,0.397,0.398,0.399,0.4,0.401,0.402,0.403,0.404,0.405,0.406,0.40700000000000003,0.40800000000000003,0.40900000000000003,0.41000000000000003,0.41100000000000003,0.41200000000000003,0.41300000000000003,0.41400000000000003,0.41500000000000004,0.41600000000000004,0.417,0.418,0.419,0.42,0.421,0.422,0.423,0.424,0.425,0.426,0.427,0.428,0.429,0.43,0.431,0.432,0.433,0.434,0.435,0.436,0.437,0.438,0.439,0.44,0.441,0.442,0.443,0.444,0.445,0.446,0.447,0.448,0.449,0.45,0.451,0.452,0.453,0.454,0.455,0.456,0.457,0.458,0.459,0.46,0.461,0.462,0.463,0.464,0.465,0.466,0.467,0.468,0.46900000000000003,0.47000000000000003,0.47100000000000003,0.47200000000000003,0.47300000000000003,0.47400000000000003,0.47500000000000003,0.47600000000000003,0.47700000000000004,0.47800000000000004,0.47900000000000004,0.48,0.481,0.482,0.483,0.484,0.485,0.486,0.487,0.488,0.489,0.49,0.491,0.492,0.493,0.494,0.495,0.496,0.497,0.498,0.499,0.5,0.501,0.502,0.503,0.504,0.505,0.506,0.507,0.508,0.509,0.51,0.511,0.512,0.513,0.514,0.515,0.516,0.517,0.518,0.519,0.52,0.521,0.522,0.523,0.524,0.525,0.526,0.527,0.528,0.529,0.53,0.531,0.532,0.533,0.534,0.535,0.536,0.537,0.538,0.539,0.54,0.541,0.542,0.543,0.544,0.545,0.546,0.547,0.548,0.549,0.55,0.551,0.552,0.553,0.554,0.555,0.556,0.557,0.558,0.559,0.56,0.561,0.562,0.5630000000000001,0.5640000000000001,0.5650000000000001,0.5660000000000001,0.5670000000000001,0.5680000000000001,0.5690000000000001,0.5700000000000001,0.5710000000000001,0.5720000000000001,0.5730000000000001,0.5740000000000001,0.5750000000000001,0.5760000000000001,0.577,0.578,0.579,0.58,0.581,0.582,0.583,0.584,0.585,0.586,0.587,0.588,0.589,0.59,0.591,0.592,0.593,0.594,0.595,0.596,0.597,0.598,0.599,0.6,0.601,0.602,0.603,0.604,0.605,0.606,0.607,0.608,0.609,0.61,0.611,0.612,0.613,0.614,0.615,0.616,0.617,0.618,0.619,0.62,0.621,0.622,0.623,0.624,0.625,0.626,0.627,0.628,0.629,0.63,0.631,0.632,0.633,0.634,0.635,0.636,0.637,0.638,0.639,0.64,0.641,0.642,0.643,0.644,0.645,0.646,0.647,0.648,0.649,0.65,0.651,0.652,0.653,0.654,0.655,0.656,0.657,0.658,0.659,0.66,0.661,0.662,0.663,0.664,0.665,0.666,0.667,0.668,0.669,0.67,0.671,0.672,0.673,0.674,0.675,0.676,0.677,0.678,0.679,0.68,0.681,0.682,0.683,0.684,0.685,0.686,0.687,0.6880000000000001,0.6890000000000001,0.6900000000000001,0.6910000000000001,0.6920000000000001,0.6930000000000001,0.6940000000000001,0.6950000000000001,0.6960000000000001,0.6970000000000001,0.6980000000000001,0.6990000000000001,0.7000000000000001,0.7010000000000001,0.7020000000000001,0.7030000000000001,0.704,0.705,0.706,0.707,0.708,0.709,0.71,0.711,0.712,0.713,0.714,0.715,0.716,0.717,0.718,0.719,0.72,0.721,0.722,0.723,0.724,0.725,0.726,0.727,0.728,0.729,0.73,0.731,0.732,0.733,0.734,0.735,0.736,0.737,0.738,0.739,0.74,0.741,0.742,0.743,0.744,0.745,0.746,0.747,0.748,0.749,0.75,0.751,0.752,0.753,0.754,0.755,0.756,0.757,0.758,0.759,0.76,0.761,0.762,0.763,0.764,0.765,0.766,0.767,0.768,0.769,0.77,0.771,0.772,0.773,0.774,0.775,0.776,0.777,0.778,0.779,0.78,0.781,0.782,0.783,0.784,0.785,0.786,0.787,0.788,0.789,0.79,0.791,0.792,0.793,0.794,0.795,0.796,0.797,0.798,0.799,0.8,0.801,0.802,0.803,0.804,0.805,0.806,0.807,0.808,0.809,0.81,0.811,0.812,0.8130000000000001,0.8140000000000001,0.8150000000000001,0.8160000000000001,0.8170000000000001,0.8180000000000001,0.8190000000000001,0.8200000000000001,0.8210000000000001,0.8220000000000001,0.8230000000000001,0.8240000000000001,0.8250000000000001,0.8260000000000001,0.8270000000000001,0.8280000000000001,0.8290000000000001,0.8300000000000001,0.8310000000000001,0.8320000000000001,0.833,0.834,0.835,0.836,0.837,0.838,0.839,0.84,0.841,0.842,0.843,0.844,0.845,0.846,0.847,0.848,0.849,0.85,0.851,0.852,0.853,0.854,0.855,0.856,0.857,0.858,0.859,0.86,0.861,0.862,0.863,0.864,0.865,0.866,0.867,0.868,0.869,0.87,0.871,0.872,0.873,0.874,0.875,0.876,0.877,0.878,0.879,0.88,0.881,0.882,0.883,0.884,0.885,0.886,0.887,0.888,0.889,0.89,0.891,0.892,0.893,0.894,0.895,0.896,0.897,0.898,0.899,0.9,0.901,0.902,0.903,0.904,0.905,0.906,0.907,0.908,0.909,0.91,0.911,0.912,0.913,0.914,0.915,0.916,0.917,0.918,0.919,0.92,0.921,0.922,0.923,0.924,0.925,0.926,0.927,0.928,0.929,0.93,0.931,0.932,0.933,0.934,0.935,0.936,0.937,0.9380000000000001,0.9390000000000001,0.9400000000000001,0.9410000000000001,0.9420000000000001,0.9430000000000001,0.9440000000000001,0.9450000000000001,0.9460000000000001,0.9470000000000001,0.9480000000000001,0.9490000000000001,0.9500000000000001,0.9510000000000001,0.9520000000000001,0.9530000000000001,0.9540000000000001,0.9550000000000001,0.9560000000000001,0.9570000000000001,0.9580000000000001,0.9590000000000001,0.96,0.961,0.962,0.963,0.964,0.965,0.966,0.967,0.968,0.969,0.97,0.971,0.972,0.973,0.974,0.975,0.976,0.977,0.978,0.979,0.98,0.981,0.982,0.983,0.984,0.985,0.986,0.987,0.988,0.989,0.99,0.991,0.992,0.993,0.994,0.995,0.996,0.997,0.998,0.999,1.0,1.0010000000000001,1.002,1.0030000000000001,1.004,1.0050000000000001,1.006,1.0070000000000001,1.008,1.0090000000000001,1.01,1.0110000000000001,1.012,1.0130000000000001,1.014,1.0150000000000001,1.016,1.0170000000000001,1.018,1.0190000000000001,1.02,1.0210000000000001,1.022,1.0230000000000001,1.024,1.025,1.026,1.027,1.028,1.029,1.03,1.031,1.032,1.033,1.034,1.035,1.036,1.037,1.038,1.039,1.04,1.041,1.042,1.043,1.044,1.045,1.046,1.047,1.048,1.049,1.05,1.051,1.052,1.053,1.054,1.055,1.056,1.057,1.058,1.059,1.06,1.061,1.062,1.063,1.064,1.065,1.066,1.067,1.068,1.069,1.07,1.071,1.072,1.073,1.074,1.075,1.076,1.077,1.078,1.079,1.08,1.081,1.082,1.083,1.084,1.085,1.086,1.087,1.088,1.089,1.09,1.091,1.092,1.093,1.094,1.095,1.096,1.097,1.098,1.099,1.1,1.101,1.102,1.103,1.104,1.105,1.106,1.107,1.108,1.109,1.11,1.111,1.112,1.113,1.114,1.115,1.116,1.117,1.118,1.119,1.12,1.121,1.122,1.123,1.124,1.125,1.1260000000000001,1.127,1.1280000000000001,1.129,1.1300000000000001,1.131,1.1320000000000001,1.133,1.1340000000000001,1.135,1.1360000000000001,1.137,1.1380000000000001,1.139,1.1400000000000001,1.141,1.1420000000000001,1.143,1.1440000000000001,1.145,1.1460000000000001,1.147,1.1480000000000001,1.149,1.1500000000000001,1.151,1.1520000000000001,1.153,1.154,1.155,1.156,1.157,1.158,1.159,1.16,1.161,1.162,1.163,1.164,1.165,1.166,1.167,1.168,1.169,1.17,1.171,1.172,1.173,1.174,1.175,1.176,1.177,1.178,1.179,1.18,1.181,1.182,1.183,1.184,1.185,1.186,1.187,1.188,1.189,1.19,1.191,1.192,1.193,1.194,1.195,1.196,1.197,1.198,1.199,1.2,1.201,1.202,1.203,1.204,1.205,1.206,1.207,1.208,1.209,1.21,1.211,1.212,1.213,1.214,1.215,1.216,1.217,1.218,1.219,1.22,1.221,1.222,1.223,1.224,1.225,1.226,1.227,1.228,1.229,1.23,1.231,1.232,1.233,1.234,1.235,1.236,1.237,1.238,1.239,1.24,1.241,1.242,1.243,1.244,1.245,1.246,1.247,1.248,1.249,1.25,1.2510000000000001,1.252,1.2530000000000001,1.254,1.2550000000000001,1.256,1.2570000000000001,1.258,1.2590000000000001,1.26,1.2610000000000001,1.262,1.2630000000000001,1.264,1.2650000000000001,1.266,1.2670000000000001,1.268,1.2690000000000001,1.27,1.2710000000000001,1.272,1.2730000000000001,1.274,1.2750000000000001,1.276,1.2770000000000001,1.278,1.2790000000000001,1.28,1.281,1.282,1.283,1.284,1.285,1.286,1.287,1.288,1.289,1.29,1.291,1.292,1.293,1.294,1.295,1.296,1.297,1.298,1.299,1.3,1.301,1.302,1.303,1.304,1.305,1.306,1.307,1.308,1.309,1.31,1.311,1.312,1.313,1.314,1.315,1.316,1.317,1.318,1.319,1.32,1.321,1.322,1.323,1.324,1.325,1.326,1.327,1.328,1.329,1.33,1.331,1.332,1.333,1.334,1.335,1.336,1.337,1.338,1.339,1.34,1.341,1.342,1.343,1.344,1.345,1.346,1.347,1.348,1.349,1.35,1.351,1.352,1.353,1.354,1.355,1.356,1.357,1.358,1.359,1.36,1.361,1.362,1.363,1.364,1.365,1.366,1.367,1.368,1.369,1.37,1.371,1.372,1.373,1.374,1.375,1.3760000000000001,1.377,1.3780000000000001,1.379,1.3800000000000001,1.381,1.3820000000000001,1.383,1.3840000000000001,1.385,1.3860000000000001,1.387,1.3880000000000001,1.389,1.3900000000000001,1.391,1.3920000000000001,1.393,1.3940000000000001,1.395,1.3960000000000001,1.397,1.3980000000000001,1.399,1.4000000000000001,1.401,1.4020000000000001,1.403,1.4040000000000001,1.405,1.4060000000000001,1.407,1.408,1.409,1.41,1.411,1.412,1.413,1.414,1.415,1.416,1.417,1.418,1.419,1.42,1.421,1.422,1.423,1.424,1.425,1.426,1.427,1.428,1.429,1.43,1.431,1.432,1.433,1.434,1.435,1.436,1.437,1.438,1.439,1.44,1.441,1.442,1.443,1.444,1.445,1.446,1.447,1.448,1.449,1.45,1.451,1.452,1.453,1.454,1.455,1.456,1.457,1.458,1.459,1.46,1.461,1.462,1.463,1.464,1.465,1.466,1.467,1.468,1.469,1.47,1.471,1.472,1.473,1.474,1.475,1.476,1.477,1.478,1.479,1.48,1.481,1.482,1.483,1.484,1.485,1.486,1.487,1.488,1.489,1.49,1.491,1.492,1.493,1.494,1.495,1.496,1.497,1.498,1.499,1.5,1.5010000000000001,1.502,1.5030000000000001,1.504,1.5050000000000001,1.506,1.5070000000000001,1.508,1.5090000000000001,1.51,1.5110000000000001,1.512,1.5130000000000001,1.514,1.5150000000000001,1.516,1.5170000000000001,1.518,1.5190000000000001,1.52,1.5210000000000001,1.522,1.5230000000000001,1.524,1.5250000000000001,1.526,1.5270000000000001,1.528,1.5290000000000001,1.53,1.5310000000000001,1.532,1.5330000000000001,1.534,1.5350000000000001,1.536,1.537,1.538,1.539,1.54,1.541,1.542,1.543,1.544,1.545,1.546,1.547,1.548,1.549,1.55,1.551,1.552,1.553,1.554,1.555,1.556,1.557,1.558,1.559,1.56,1.561,1.562,1.563,1.564,1.565,1.566,1.567,1.568,1.569,1.57,1.571,1.572,1.573,1.574,1.575,1.576,1.577,1.578,1.579,1.58,1.581,1.582,1.583,1.584,1.585,1.586,1.587,1.588,1.589,1.59,1.591,1.592,1.593,1.594,1.595,1.596,1.597,1.598,1.599,1.6,1.601,1.602,1.603,1.604,1.605,1.606,1.607,1.608,1.609,1.61,1.611,1.612,1.613,1.614,1.615,1.616,1.617,1.618,1.619,1.62,1.621,1.622,1.623,1.624,1.625,1.6260000000000001,1.627,1.6280000000000001,1.629,1.6300000000000001,1.631,1.6320000000000001,1.633,1.6340000000000001,1.635,1.6360000000000001,1.637,1.6380000000000001,1.639,1.6400000000000001,1.641,1.6420000000000001,1.643,1.6440000000000001,1.645,1.6460000000000001,1.647,1.6480000000000001,1.649,1.6500000000000001,1.651,1.6520000000000001,1.653,1.6540000000000001,1.655,1.6560000000000001,1.657,1.6580000000000001,1.659,1.6600000000000001,1.661,1.6620000000000001,1.663,1.6640000000000001,1.665,1.666,1.667,1.668,1.669,1.67,1.671,1.672,1.673,1.674,1.675,1.676,1.677,1.678,1.679,1.68,1.681,1.682,1.683,1.684,1.685,1.686,1.687,1.688,1.689,1.69,1.691,1.692,1.693,1.694,1.695,1.696,1.697,1.698,1.699,1.7,1.701,1.702,1.703,1.704,1.705,1.706,1.707,1.708,1.709,1.71,1.711,1.712,1.713,1.714,1.715,1.716,1.717,1.718,1.719,1.72,1.721,1.722,1.723,1.724,1.725,1.726,1.727,1.728,1.729,1.73,1.731,1.732,1.733,1.734,1.735,1.736,1.737,1.738,1.739,1.74,1.741,1.742,1.743,1.744,1.745,1.746,1.747,1.748,1.749,1.75,1.7510000000000001,1.752,1.7530000000000001,1.754,1.7550000000000001,1.756,1.7570000000000001,1.758,1.7590000000000001,1.76,1.7610000000000001,1.762,1.7630000000000001,1.764,1.7650000000000001,1.766,1.7670000000000001,1.768,1.7690000000000001,1.77,1.7710000000000001,1.772,1.7730000000000001,1.774,1.7750000000000001,1.776,1.7770000000000001,1.778,1.7790000000000001,1.78,1.7810000000000001,1.782,1.7830000000000001,1.784,1.7850000000000001,1.786,1.7870000000000001,1.788,1.7890000000000001,1.79,1.7910000000000001,1.792,1.793,1.794,1.795,1.796,1.797,1.798,1.799,1.8,1.801,1.802,1.803,1.804,1.805,1.806,1.807,1.808,1.809,1.81,1.811,1.812,1.813,1.814,1.815,1.816,1.817,1.818,1.819,1.82,1.821,1.822,1.823,1.824,1.825,1.826,1.827,1.828,1.829,1.83,1.831,1.832,1.833,1.834,1.835,1.836,1.837,1.838,1.839,1.84,1.841,1.842,1.843,1.844,1.845,1.846,1.847,1.848,1.849,1.85,1.851,1.852,1.853,1.854,1.855,1.856,1.857,1.858,1.859,1.86,1.861,1.862,1.863,1.864,1.865,1.866,1.867,1.868,1.869,1.87,1.871,1.872,1.873,1.874,1.875,1.8760000000000001,1.877,1.8780000000000001,1.879,1.8800000000000001,1.881,1.8820000000000001,1.883,1.8840000000000001,1.885,1.8860000000000001,1.887,1.8880000000000001,1.889,1.8900000000000001,1.891,1.8920000000000001,1.893,1.8940000000000001,1.895,1.8960000000000001,1.897,1.8980000000000001,1.899,1.9000000000000001,1.901,1.9020000000000001,1.903,1.9040000000000001,1.905,1.9060000000000001,1.907,1.9080000000000001,1.909,1.9100000000000001,1.911,1.9120000000000001,1.913,1.9140000000000001,1.915,1.9160000000000001,1.917,1.9180000000000001,1.919,1.92,1.921,1.922,1.923,1.924,1.925],\"xaxis\":\"x\",\"y\":[0.0,null,null,null,null,null,null,null,null,null,null,null,null,null,null,null,null,null,null,null,null,null,null,null,null,null,null,null,null,null,null,null,null,null,null,null,null,null,null,null,null,null,null,null,null,null,null,null,null,null,null,null,null,null,null,null,null,null,null,null,null,null,null,null,null,null,null,null,null,null,null,null,null,null,null,null,null,null,null,null,null,null,null,null,null,null,null,null,null,null,null,null,null,null,null,null,null,null,null,null,null,null,null,null,null,null,null,null,null,null,null,null,null,null,null,null,null,null,null,null,null,null,null,null,null,null,null,null,null,null,null,null,null,null,null,null,null,null,null,null,null,null,null,null,null,null,null,null,null,null,null,null,null,null,null,null,null,null,null,null,null,null,null,null,null,null,null,null,null,null,null,null,null,null,null,null,null,null,null,null,null,null,null,null,null,null,null,null,null,null,null,null,null,null,null,null,null,null,null,null,null,null,null,null,null,null,null,null,null,null,null,null,null,null,null,null,null,null,null,null,null,null,null,null,null,null,null,null,null,null,null,null,null,null,null,null,null,null,null,null,null,null,null,null,null,null,null,null,null,null,null,null,null,null,null,null,null,null,null,null,null,null,null,null,null,null,null,null,null,null,null,null,null,null,null,null,null,null,null,null,null,null,null,null,null,null,null,null,null,null,null,null,null,null,null,null,null,null,null,null,null,null,null,null,null,null,null,null,null,null,null,null,null,null,null,null,null,null,null,null,null,null,null,null,null,null,null,null,null,null,null,null,null,null,null,null,null,null,null,null,null,null,null,null,null,null,null,null,null,null,null,null,null,null,null,null,null,null,null,null,null,null,null,null,null,null,null,null,null,null,null,null,null,null,null,null,null,null,null,null,null,null,null,null,null,null,null,null,null,null,null,null,null,null,null,null,null,null,null,null,null,null,null,null,null,null,null,null,null,null,null,null,null,null,null,null,null,null,null,null,null,null,null,null,null,null,null,null,null,null,null,null,null,null,null,null,null,null,null,null,null,null,null,null,null,null,null,null,null,null,null,null,null,null,null,null,null,null,null,null,null,null,null,null,null,null,null,null,null,null,null,null,null,null,null,null,null,null,null,null,null,null,null,null,null,null,null,null,null,null,null,null,null,null,null,null,null,null,null,null,0.5,0.501,0.502,0.503,0.504,0.505,0.506,0.507,0.508,0.509,0.51,0.511,0.512,0.513,0.514,0.515,0.516,0.517,0.518,0.519,0.52,0.521,0.522,0.523,0.524,0.525,0.526,0.527,0.528,0.529,0.53,0.531,0.532,0.533,0.534,0.535,0.536,0.537,0.538,0.539,0.54,0.541,0.542,0.543,0.544,0.545,0.546,0.547,0.548,0.549,0.55,0.551,0.552,0.553,0.554,0.555,0.556,0.557,0.558,0.559,0.56,0.561,0.562,0.5630000000000001,0.5640000000000001,0.5650000000000001,0.5660000000000001,0.5670000000000001,0.5680000000000001,0.5690000000000001,0.5700000000000001,0.5710000000000001,0.5720000000000001,0.5730000000000001,0.5740000000000001,0.5750000000000001,0.5760000000000001,0.577,0.578,0.579,0.58,0.581,0.582,0.583,0.584,0.585,0.586,0.587,0.588,0.589,0.59,0.591,0.592,0.593,0.594,0.595,0.596,0.597,0.598,0.599,0.6,0.601,0.602,0.603,0.604,0.605,0.606,0.607,0.608,0.609,0.61,0.611,0.612,0.613,0.614,0.615,0.616,0.617,0.618,0.619,0.62,0.621,0.622,0.623,0.624,0.625,0.626,0.627,0.628,0.629,0.63,0.631,0.632,0.633,0.634,0.635,0.636,0.637,0.638,0.639,0.64,0.641,0.642,0.643,0.644,0.645,0.646,0.647,0.648,0.649,0.65,0.651,0.652,0.653,0.654,0.655,0.656,0.657,0.658,0.659,0.66,0.661,0.662,0.663,0.664,0.665,0.666,0.667,0.668,0.669,0.67,0.671,0.672,0.673,0.674,0.675,0.676,0.677,0.678,0.679,0.68,0.681,0.682,0.683,0.684,0.685,0.686,0.687,0.6880000000000001,0.6890000000000001,0.6900000000000001,0.6910000000000001,0.6920000000000001,0.6930000000000001,0.6940000000000001,0.6950000000000001,0.6960000000000001,0.6970000000000001,0.6980000000000001,0.6990000000000001,0.7000000000000001,0.7010000000000001,0.7020000000000001,0.7030000000000001,0.704,0.705,0.706,0.707,0.708,0.709,0.71,0.711,0.712,0.713,0.714,0.715,0.716,0.717,0.718,0.719,0.72,0.721,0.722,0.723,0.724,0.725,0.726,0.727,0.728,0.729,0.73,0.731,0.732,0.733,0.734,0.735,0.736,0.737,0.738,0.739,0.74,0.741,0.742,0.743,0.744,0.745,0.746,0.747,0.748,0.749,0.75,0.751,0.752,0.753,0.754,0.755,0.756,0.757,0.758,0.759,0.76,0.761,0.762,0.763,0.764,0.765,0.766,0.767,0.768,0.769,0.77,0.771,0.772,0.773,0.774,0.775,0.776,0.777,0.778,0.779,0.78,0.781,0.782,0.783,0.784,0.785,0.786,0.787,0.788,0.789,0.79,0.791,0.792,0.793,0.794,0.795,0.796,0.797,0.798,0.799,0.8,0.801,0.802,0.803,0.804,0.805,0.806,0.807,0.808,0.809,0.81,0.811,0.812,0.8130000000000001,0.8140000000000001,0.8150000000000001,0.8160000000000001,0.8170000000000001,0.8180000000000001,0.8190000000000001,0.8200000000000001,0.8210000000000001,0.8220000000000001,0.8230000000000001,0.8240000000000001,0.8250000000000001,0.8260000000000001,0.8270000000000001,0.8280000000000001,0.8290000000000001,0.8300000000000001,0.8310000000000001,0.8320000000000001,0.833,0.834,0.835,0.836,0.837,0.838,0.839,0.84,0.841,0.842,0.843,0.844,0.845,0.846,0.847,0.848,0.849,0.85,0.851,0.852,0.853,0.854,0.855,0.856,0.857,0.858,0.859,0.86,0.861,0.862,0.863,0.864,0.865,0.866,0.867,0.868,0.869,0.87,0.871,0.872,0.873,0.874,0.875,0.876,0.877,0.878,0.879,0.88,0.881,0.882,0.883,0.884,0.885,0.886,0.887,0.888,0.889,0.89,0.891,0.892,0.893,0.894,0.895,0.896,0.897,0.898,0.899,0.9,0.901,0.902,0.903,0.904,0.905,0.906,0.907,0.908,0.909,0.91,0.911,0.912,0.913,0.914,0.915,0.916,0.917,0.918,0.919,0.92,0.921,0.922,0.923,0.924,0.925,0.926,0.927,0.928,0.929,0.93,0.931,0.932,0.933,0.934,0.935,0.936,0.937,0.9380000000000001,0.9390000000000001,0.9400000000000001,0.9410000000000001,0.9420000000000001,0.9430000000000001,0.9440000000000001,0.9450000000000001,0.9460000000000001,0.9470000000000001,0.9480000000000001,0.9490000000000001,0.9500000000000001,0.9510000000000001,0.9520000000000001,0.9530000000000001,0.9540000000000001,0.9550000000000001,0.9560000000000001,0.9570000000000001,0.9580000000000001,0.9590000000000001,0.96,0.961,0.962,0.963,0.964,0.965,0.966,0.967,0.968,0.969,0.97,0.971,0.972,0.973,0.974,0.975,0.976,0.977,0.978,0.979,0.98,0.981,0.982,0.983,0.984,0.985,0.986,0.987,0.988,0.989,0.99,0.991,0.992,0.993,0.994,0.995,0.996,0.997,0.998,0.999,1.0,0.5,0.5,0.5,0.5,0.5,0.5,0.5,0.5,0.5,0.5,0.5,0.5,0.5,0.5,0.5,0.5,0.5,0.5,0.5,0.5,0.5,0.5,0.5,0.5,0.5,0.5,0.5,0.5,0.5,0.5,0.5,0.5,0.5,0.5,0.5,0.5,0.5,0.5,0.5,0.5,0.5,0.5,0.5,0.5,0.5,0.5,0.5,0.5,0.5,0.5,0.5,0.5,0.5,0.5,0.5,0.5,0.5,0.5,0.5,0.5,0.5,0.5,0.5,0.5,0.5,0.5,0.5,0.5,0.5,0.5,0.5,0.5,0.5,0.5,0.5,0.5,0.5,0.5,0.5,0.5,0.5,0.5,0.5,0.5,0.5,0.5,0.5,0.5,0.5,0.5,0.5,0.5,0.5,0.5,0.5,0.5,0.5,0.5,0.5,0.5,0.5,0.5,0.5,0.5,0.5,0.5,0.5,0.5,0.5,0.5,0.5,0.5,0.5,0.5,0.5,0.5,0.5,0.5,0.5,0.5,0.5,0.5,0.5,0.5,0.5,0.5,0.5,0.5,0.5,0.5,0.5,0.5,0.5,0.5,0.5,0.5,0.5,0.5,0.5,0.5,0.5,0.5,0.5,0.5,0.5,0.5,0.5,0.5,0.5,0.5,0.5,0.5,0.5,0.5,0.5,0.5,0.5,0.5,0.5,0.5,0.5,0.5,0.5,0.5,0.5,0.5,0.5,0.5,0.5,0.5,0.5,0.5,0.5,0.5,0.5,0.5,0.5,0.5,0.5,0.5,0.5,0.5,0.5,0.5,0.5,0.5,0.5,0.5,0.5,0.5,0.5,0.5,0.5,0.5,0.5,0.5,0.5,0.5,0.5,0.5,0.5,0.5,0.5,0.5,0.5,0.5,0.5,0.5,0.5,0.5,0.5,0.5,0.5,0.5,0.5,0.5,0.5,0.5,0.5,0.5,0.5,0.5,0.5,0.5,0.5,0.5,0.5,0.5,0.5,0.5,0.5,0.5,0.5,0.5,0.5,0.5,0.5,0.5,0.5,0.5,0.5,0.5,0.5,0.5,0.5,0.5,0.5,0.5,0.5,0.5,0.5010000000000001,0.502,0.5030000000000001,0.504,0.5050000000000001,0.506,0.5070000000000001,0.508,0.5090000000000001,0.51,0.5110000000000001,0.512,0.5130000000000001,0.514,0.5150000000000001,0.516,0.5170000000000001,0.518,0.5190000000000001,0.52,0.5210000000000001,0.522,0.5230000000000001,0.524,0.5250000000000001,0.526,0.5270000000000001,0.528,0.5290000000000001,0.53,0.5309999999999999,0.532,0.5329999999999999,0.534,0.5349999999999999,0.536,0.5369999999999999,0.538,0.5389999999999999,0.54,0.5409999999999999,0.542,0.5429999999999999,0.544,0.5449999999999999,0.546,0.5469999999999999,0.548,0.5489999999999999,0.55,0.5509999999999999,0.552,0.5529999999999999,0.554,0.5549999999999999,0.556,0.5569999999999999,0.558,0.5589999999999999,0.56,0.5609999999999999,0.562,0.563,0.5640000000000001,0.565,0.5660000000000001,0.567,0.5680000000000001,0.569,0.5700000000000001,0.571,0.5720000000000001,0.573,0.5740000000000001,0.575,0.5760000000000001,0.577,0.5780000000000001,0.579,0.5800000000000001,0.581,0.5820000000000001,0.583,0.5840000000000001,0.585,0.5860000000000001,0.587,0.5880000000000001,0.589,0.5900000000000001,0.591,0.5920000000000001,0.593,0.5940000000000001,0.595,0.5960000000000001,0.597,0.5980000000000001,0.599,0.6000000000000001,0.601,0.6020000000000001,0.603,0.6040000000000001,0.605,0.6060000000000001,0.607,0.6080000000000001,0.609,0.6100000000000001,0.611,0.6120000000000001,0.613,0.6140000000000001,0.615,0.6160000000000001,0.617,0.6180000000000001,0.619,0.6200000000000001,0.621,0.6220000000000001,0.623,0.6240000000000001,0.625,0.6260000000000001,0.627,0.6280000000000001,0.629,0.6300000000000001,0.631,0.6320000000000001,0.633,0.6340000000000001,0.635,0.6360000000000001,0.637,0.6380000000000001,0.639,0.6400000000000001,0.641,0.6420000000000001,0.643,0.6440000000000001,0.645,0.6460000000000001,0.647,0.6480000000000001,0.649,0.6500000000000001,0.651,0.6520000000000001,0.653,0.6540000000000001,0.655,0.6560000000000001,0.657,0.6579999999999999,0.659,0.6599999999999999,0.661,0.6619999999999999,0.663,0.6639999999999999,0.665,0.6659999999999999,0.667,0.6679999999999999,0.669,0.6699999999999999,0.671,0.6719999999999999,0.673,0.6739999999999999,0.675,0.6759999999999999,0.677,0.6779999999999999,0.679,0.6799999999999999,0.681,0.6819999999999999,0.683,0.6839999999999999,0.685,0.6859999999999999,0.687,0.688,0.6890000000000001,0.69,0.6910000000000001,0.692,0.6930000000000001,0.694,0.6950000000000001,0.696,0.6970000000000001,0.698,0.6990000000000001,0.7,0.7010000000000001,0.702,0.7030000000000001,0.704,0.7050000000000001,0.706,0.7070000000000001,0.708,0.7090000000000001,0.71,0.7110000000000001,0.712,0.7130000000000001,0.714,0.7150000000000001,0.716,0.7170000000000001,0.718,0.7190000000000001,0.72,0.7210000000000001,0.722,0.7230000000000001,0.724,0.7250000000000001,0.726,0.7270000000000001,0.728,0.7290000000000001,0.73,0.7310000000000001,0.732,0.7330000000000001,0.734,0.7350000000000001,0.736,0.7370000000000001,0.738,0.7390000000000001,0.74,0.7410000000000001,0.742,0.7430000000000001,0.744,0.7450000000000001,0.746,0.7470000000000001,0.748,0.7490000000000001,0.75,0.7510000000000001,0.752,0.7530000000000001,0.754,0.7550000000000001,0.756,0.7570000000000001,0.758,0.7590000000000001,0.76,0.7610000000000001,0.762,0.7630000000000001,0.764,0.7650000000000001,0.766,0.7670000000000001,0.768,0.7690000000000001,0.77,0.7710000000000001,0.772,0.7730000000000001,0.774,0.7750000000000001,0.776,0.7770000000000001,0.778,0.7790000000000001,0.78,0.7810000000000001,0.782,0.7830000000000001,0.784,0.7850000000000001,0.786,0.7869999999999999,0.788,0.7889999999999999,0.79,0.7909999999999999,0.792,0.7929999999999999,0.794,0.7949999999999999,0.796,0.7969999999999999,0.798,0.7989999999999999,0.8,0.8009999999999999,0.802,0.8029999999999999,0.804,0.8049999999999999,0.806,0.8069999999999999,0.808,0.8089999999999999,0.81,0.8109999999999999,0.812,0.813,0.8140000000000001,0.815,0.8160000000000001,0.817,0.8180000000000001,0.819,0.8200000000000001,0.821,0.8220000000000001,0.823,0.8240000000000001,0.825,0.8260000000000001,0.827,0.8280000000000001,0.829,0.8300000000000001,0.831,0.8320000000000001,0.833,0.8340000000000001,0.835,0.8360000000000001,0.837,0.8380000000000001,0.839,0.8400000000000001,0.841,0.8420000000000001,0.843,0.8440000000000001,0.845,0.8460000000000001,0.847,0.8480000000000001,0.849,0.8500000000000001,0.851,0.8520000000000001,0.853,0.8540000000000001,0.855,0.8560000000000001,0.857,0.8580000000000001,0.859,0.8600000000000001,0.861,0.8620000000000001,0.863,0.8640000000000001,0.865,0.8660000000000001,0.867,0.8680000000000001,0.869,0.8700000000000001,0.871,0.8720000000000001,0.873,0.8740000000000001,0.875,0.8760000000000001,0.877,0.8780000000000001,0.879,0.8800000000000001,0.881,0.8820000000000001,0.883,0.8840000000000001,0.885,0.8860000000000001,0.887,0.8880000000000001,0.889,0.8900000000000001,0.891,0.8920000000000001,0.893,0.8940000000000001,0.895,0.8960000000000001,0.897,0.8980000000000001,0.899,0.9000000000000001,0.901,0.9020000000000001,0.903,0.9040000000000001,0.905,0.9060000000000001,0.907,0.9080000000000001,0.909,0.9100000000000001,0.911,0.9120000000000001,0.913,0.9140000000000001,0.915,0.9159999999999999,0.917,0.9179999999999999,0.919,0.9199999999999999,0.921,0.9219999999999999,0.923,0.9239999999999999,0.925,0.9259999999999999,0.927,0.9279999999999999,0.929,0.9299999999999999,0.931,0.9319999999999999,0.933,0.9339999999999999,0.935,0.9359999999999999,0.937,0.938,0.9390000000000001,0.94,0.9410000000000001,0.942,0.9430000000000001,0.944,0.9450000000000001,0.946,0.9470000000000001,0.948,0.9490000000000001,0.95,0.9510000000000001,0.952,0.9530000000000001,0.954,0.9550000000000001,0.956,0.9570000000000001,0.958,0.9590000000000001,0.96,0.9610000000000001,0.962,0.9630000000000001,0.964,0.9650000000000001,0.966,0.9670000000000001,0.968,0.9690000000000001,0.97,0.9710000000000001,0.972,0.9730000000000001,0.974,0.9750000000000001,0.976,0.9770000000000001,0.978,0.9790000000000001,0.98,0.9810000000000001,0.982,0.9830000000000001,0.984,0.9850000000000001,0.986,0.9870000000000001,0.988,0.9890000000000001,0.99,0.9910000000000001,0.992,0.9930000000000001,0.994,0.9950000000000001,0.996,0.9970000000000001,0.998,0.9990000000000001,1.0,null,null,null,null,null,null,null,null,null,null,null,null,null,null,null,null,null,null,null,null,null,null,null,null,null,null,null,null,null,null,null,null,null,null,null,null,null,null,null,null,null,null,null,null,null,null,null,null,null,null,null,null,null,null,null,null,null,null,null,null,null,null,null,null,null,null,null,null,null,null,null,null,null,null,null,null,null,null,null,null,null,null,null,null,null,null,null,null,null,null,null,null,null,null,null,null,null,null,null,null,null,null,null,null,null,null,null,null,null,null,null,null,null,null,null,null,null,null,null,null,null,null,null,null,null,null,null,null,null,null,null,null,null,null,null,null,null,null,null,null,null,null,null,null,null,null,null,null,null,null,null,null,null,null,null,null,null,null,null,null,null,null,null,null,null,null,null,null,null,null,null,null,null,null,null],\"yaxis\":\"y\",\"type\":\"scatter\"},{\"customdata\":[[0.0],[null],[null],[null],[null],[null],[null],[null],[null],[null],[null],[null],[null],[null],[null],[null],[null],[null],[null],[null],[null],[null],[null],[null],[null],[null],[null],[null],[null],[null],[null],[null],[null],[null],[null],[null],[null],[null],[null],[null],[null],[null],[null],[null],[null],[null],[null],[null],[null],[null],[null],[null],[null],[null],[null],[null],[null],[null],[null],[null],[null],[null],[null],[null],[null],[null],[null],[null],[null],[null],[null],[null],[null],[null],[null],[null],[null],[null],[null],[null],[null],[null],[null],[null],[null],[null],[null],[null],[null],[null],[null],[null],[null],[null],[null],[null],[null],[null],[null],[null],[null],[null],[null],[null],[null],[null],[null],[null],[null],[null],[null],[null],[null],[null],[null],[null],[null],[null],[null],[null],[null],[null],[null],[null],[null],[null],[null],[null],[null],[null],[null],[null],[null],[null],[null],[null],[null],[null],[null],[null],[null],[null],[null],[null],[null],[null],[null],[null],[null],[null],[null],[null],[null],[null],[null],[null],[null],[null],[null],[null],[null],[null],[null],[null],[null],[null],[null],[null],[null],[null],[null],[null],[null],[null],[null],[null],[null],[null],[null],[null],[null],[null],[null],[null],[null],[null],[null],[null],[null],[null],[null],[null],[null],[null],[null],[null],[null],[null],[null],[null],[null],[null],[null],[null],[null],[null],[null],[null],[null],[null],[null],[null],[null],[null],[null],[null],[null],[null],[null],[null],[null],[null],[null],[null],[null],[null],[null],[null],[null],[null],[null],[null],[null],[null],[null],[null],[null],[null],[null],[null],[null],[null],[null],[null],[null],[null],[null],[null],[null],[null],[null],[null],[null],[null],[null],[null],[null],[null],[null],[null],[null],[null],[null],[null],[null],[null],[null],[null],[null],[null],[null],[null],[null],[null],[null],[null],[null],[null],[null],[null],[null],[null],[null],[null],[null],[null],[null],[null],[null],[null],[null],[null],[null],[null],[null],[null],[null],[null],[null],[null],[null],[null],[null],[null],[null],[null],[null],[null],[null],[null],[null],[null],[null],[null],[null],[null],[null],[null],[null],[null],[null],[null],[null],[null],[null],[null],[null],[null],[null],[null],[null],[null],[null],[null],[null],[null],[null],[null],[null],[null],[null],[null],[null],[null],[null],[null],[null],[null],[null],[null],[null],[null],[null],[null],[null],[null],[null],[null],[null],[null],[null],[null],[null],[null],[null],[null],[null],[null],[null],[null],[null],[null],[null],[null],[null],[null],[null],[null],[null],[null],[null],[null],[null],[null],[null],[null],[null],[null],[null],[null],[null],[null],[null],[null],[null],[null],[null],[null],[null],[null],[null],[null],[null],[null],[null],[null],[null],[null],[null],[null],[null],[null],[null],[null],[null],[null],[null],[null],[null],[null],[null],[null],[null],[null],[null],[null],[null],[null],[null],[null],[null],[null],[null],[null],[null],[null],[null],[null],[null],[null],[null],[null],[null],[null],[null],[null],[null],[null],[null],[null],[null],[null],[null],[null],[null],[null],[null],[null],[null],[null],[null],[null],[null],[null],[null],[null],[null],[null],[null],[null],[null],[null],[null],[null],[null],[null],[null],[null],[null],[null],[null],[null],[null],[null],[null],[null],[null],[null],[null],[null],[null],[null],[null],[null],[null],[null],[null],[null],[null],[null],[0.0],[0.0],[0.0],[0.0],[0.0],[0.0],[0.0],[0.0],[0.0],[0.0],[0.0],[0.0],[0.0],[0.0],[0.0],[0.0],[0.0],[0.0],[0.0],[0.0],[0.0],[0.0],[0.0],[0.0],[0.0],[0.0],[0.0],[0.0],[0.0],[0.0],[0.0],[0.0],[0.0],[0.0],[0.0],[0.0],[0.0],[0.0],[0.0],[0.0],[0.0],[0.0],[0.0],[0.0],[0.0],[0.0],[0.0],[0.0],[0.0],[0.0],[0.0],[0.0],[0.0],[0.0],[0.0],[0.0],[0.0],[0.0],[0.0],[0.0],[0.0],[0.0],[0.0],[0.0],[0.0],[0.0],[0.0],[0.0],[0.0],[0.0],[0.0],[0.0],[0.0],[0.0],[0.0],[0.0],[0.0],[0.0],[0.0],[0.0],[0.0],[0.0],[0.0],[0.0],[0.0],[0.0],[0.0],[0.0],[0.0],[0.0],[0.0],[0.0],[0.0],[0.0],[0.0],[0.0],[0.0],[0.0],[0.0],[0.0],[0.0],[0.0],[0.0],[0.0],[0.0],[0.0],[0.0],[0.0],[0.0],[0.0],[0.0],[0.0],[0.0],[0.0],[0.0],[0.0],[0.0],[0.0],[0.0],[0.0],[0.0],[0.0],[0.0],[0.0],[0.0],[0.0],[0.0],[0.0],[0.0],[0.0],[0.0],[0.0],[0.0],[0.0],[0.0],[0.0],[0.0],[0.0],[0.0],[0.0],[0.0],[0.0],[0.0],[0.0],[0.0],[0.0],[0.0],[0.0],[0.0],[0.0],[0.0],[0.0],[0.0],[0.0],[0.0],[0.0],[0.0],[0.0],[0.0],[0.0],[0.0],[0.0],[0.0],[0.0],[0.0],[0.0],[0.0],[0.0],[0.0],[0.0],[0.0],[0.0],[0.0],[0.0],[0.0],[0.0],[0.0],[0.0],[0.0],[0.0],[0.0],[0.0],[0.0],[0.0],[0.0],[0.0],[0.0],[0.0],[0.0],[0.0],[0.0],[0.0],[0.0],[0.0],[0.0],[0.0],[0.0],[0.0],[0.0],[0.0],[0.0],[0.0],[0.0],[0.0],[0.0],[0.0],[0.0],[0.0],[0.0],[0.0],[0.0],[0.0],[0.0],[0.0],[0.0],[0.0],[0.0],[0.0],[0.0],[0.0],[0.0],[0.0],[0.0],[0.0],[0.0],[0.0],[0.0],[0.0],[0.0],[0.0],[0.0],[0.0],[0.0],[0.0],[0.0],[0.0],[0.0],[0.0],[0.0],[0.0],[0.0],[0.0],[0.0],[0.0],[0.0],[0.0],[0.0],[0.0],[0.0],[0.0],[0.0],[0.0],[0.0],[0.0],[0.0],[0.0],[0.0],[0.0],[0.0],[0.0],[0.0],[0.0],[0.0],[0.0],[0.0],[0.0],[0.0],[0.0],[0.0],[0.0],[0.0],[0.0],[0.0],[0.0],[0.0],[0.0],[0.0],[0.0],[0.0],[0.0],[0.0],[0.0],[0.0],[0.0],[0.0],[0.0],[0.0],[0.0],[0.0],[0.0],[0.0],[0.0],[0.0],[0.0],[0.0],[0.0],[0.0],[0.0],[0.0],[0.0],[0.0],[0.0],[0.0],[0.0],[0.0],[0.0],[0.0],[0.0],[0.0],[0.0],[0.0],[0.0],[0.0],[0.0],[0.0],[0.0],[0.0],[0.0],[0.0],[0.0],[0.0],[0.0],[0.0],[0.0],[0.0],[0.0],[0.0],[0.0],[0.0],[0.0],[0.0],[0.0],[0.0],[0.0],[0.0],[0.0],[0.0],[0.0],[0.0],[0.0],[0.0],[0.0],[0.0],[0.0],[0.0],[0.0],[0.0],[0.0],[0.0],[0.0],[0.0],[0.0],[0.0],[0.0],[0.0],[0.0],[0.0],[0.0],[0.0],[0.0],[0.0],[0.0],[0.0],[0.0],[0.0],[0.0],[0.0],[0.0],[0.0],[0.0],[0.0],[0.0],[0.0],[0.0],[0.0],[0.0],[0.0],[0.0],[0.0],[0.0],[0.0],[0.0],[0.0],[0.0],[0.0],[0.0],[0.0],[0.0],[0.0],[0.0],[0.0],[0.0],[0.0],[0.0],[0.0],[0.0],[0.0],[0.0],[0.0],[0.0],[0.0],[0.0],[0.0],[0.0],[0.0],[0.0],[0.0],[0.0],[0.0],[0.0],[0.0],[0.0],[0.0],[0.0],[0.0],[0.0],[0.0],[0.0],[0.0],[0.0],[0.0],[0.0],[0.0],[0.0],[0.0],[0.0],[0.0],[0.0],[0.0],[0.0],[0.0],[0.0],[0.0],[0.0],[0.0],[0.0],[0.0],[0.0],[0.0],[0.0],[0.0],[0.0],[0.0],[0.0],[0.0],[0.0],[0.0],[0.0],[0.0],[0.0],[0.0],[0.0],[0.0],[0.0],[0.0],[0.0],[0.0],[0.0],[0.0],[0.0],[0.0],[0.0],[0.0],[0.0],[0.0],[0.0],[0.0],[0.0],[0.0],[0.0],[0.0],[0.0],[0.0],[0.0],[0.0],[0.0],[0.0],[0.0],[0.0],[0.0],[0.0],[0.0],[0.0],[0.0],[0.0],[0.0],[0.0],[0.0],[0.0],[0.0],[0.0],[0.0],[0.0],[0.0],[0.0],[0.0],[0.0],[0.0],[0.0],[0.0],[0.0],[0.7505000000000001],[0.751],[0.7515000000000001],[0.752],[0.7525000000000001],[0.753],[0.7535000000000001],[0.754],[0.7545000000000001],[0.755],[0.7555000000000001],[0.756],[0.7565000000000001],[0.757],[0.7575000000000001],[0.758],[0.7585000000000001],[0.759],[0.7595000000000001],[0.76],[0.7605000000000001],[0.761],[0.7615000000000001],[0.762],[0.7625],[0.763],[0.7635],[0.764],[0.7645],[0.765],[0.7655],[0.766],[0.7665],[0.767],[0.7675],[0.768],[0.7685],[0.769],[0.7695],[0.77],[0.7705],[0.771],[0.7715],[0.772],[0.7725],[0.773],[0.7735],[0.774],[0.7745],[0.775],[0.7755],[0.776],[0.7765],[0.777],[0.7775],[0.778],[0.7785],[0.779],[0.7795],[0.78],[0.7805],[0.781],[0.7815],[0.782],[0.7825],[0.783],[0.7835],[0.784],[0.7845],[0.785],[0.7855],[0.786],[0.7865],[0.787],[0.7875],[0.788],[0.7885],[0.789],[0.7895],[0.79],[0.7905],[0.791],[0.7915],[0.792],[0.7925],[0.793],[0.7935],[0.794],[0.7945],[0.795],[0.7955],[0.796],[0.7965],[0.797],[0.7975],[0.798],[0.7985],[0.799],[0.7995],[0.8],[0.8005],[0.801],[0.8015],[0.802],[0.8025],[0.803],[0.8035],[0.804],[0.8045],[0.805],[0.8055],[0.806],[0.8065],[0.807],[0.8075],[0.808],[0.8085],[0.809],[0.8095],[0.81],[0.8105],[0.811],[0.8115],[0.812],[0.8125],[0.8130000000000001],[0.8135],[0.8140000000000001],[0.8145],[0.8150000000000001],[0.8155],[0.8160000000000001],[0.8165],[0.8170000000000001],[0.8175],[0.8180000000000001],[0.8185],[0.8190000000000001],[0.8195],[0.8200000000000001],[0.8205],[0.8210000000000001],[0.8215],[0.8220000000000001],[0.8225],[0.8230000000000001],[0.8235],[0.8240000000000001],[0.8245],[0.8250000000000001],[0.8255],[0.8260000000000001],[0.8265],[0.827],[0.8275],[0.828],[0.8285],[0.829],[0.8295],[0.83],[0.8305],[0.831],[0.8315],[0.832],[0.8325],[0.833],[0.8335],[0.834],[0.8345],[0.835],[0.8355],[0.836],[0.8365],[0.837],[0.8375],[0.838],[0.8385],[0.839],[0.8395],[0.84],[0.8405],[0.841],[0.8415],[0.842],[0.8425],[0.843],[0.8435],[0.844],[0.8445],[0.845],[0.8455],[0.846],[0.8465],[0.847],[0.8475],[0.848],[0.8485],[0.849],[0.8495],[0.85],[0.8505],[0.851],[0.8515],[0.852],[0.8525],[0.853],[0.8535],[0.854],[0.8545],[0.855],[0.8555],[0.856],[0.8565],[0.857],[0.8575],[0.858],[0.8585],[0.859],[0.8595],[0.86],[0.8605],[0.861],[0.8615],[0.862],[0.8625],[0.863],[0.8635],[0.864],[0.8645],[0.865],[0.8655],[0.866],[0.8665],[0.867],[0.8675],[0.868],[0.8685],[0.869],[0.8695],[0.87],[0.8705],[0.871],[0.8715],[0.872],[0.8725],[0.873],[0.8735],[0.874],[0.8745],[0.875],[0.875],[0.875],[0.875],[0.875],[0.875],[0.875],[0.875],[0.875],[0.875],[0.875],[0.875],[0.875],[0.875],[0.875],[0.875],[0.875],[0.875],[0.875],[0.875],[0.875],[0.875],[0.875],[0.875],[0.875],[0.875],[0.875],[0.875],[0.875],[0.875],[0.875],[0.875],[0.875],[0.875],[0.875],[0.875],[0.875],[0.875],[0.875],[0.875],[0.875],[0.875],[0.875],[0.875],[0.875],[0.875],[0.875],[0.875],[0.875],[0.875],[0.875],[0.875],[0.875],[0.875],[0.875],[0.875],[0.875],[0.875],[0.875],[0.875],[0.875],[0.875],[0.875],[0.875],[0.875],[0.875],[0.875],[0.875],[0.875],[0.875],[0.875],[0.875],[0.875],[0.875],[0.875],[0.875],[0.875],[0.875],[0.875],[0.875],[0.875],[0.875],[0.875],[0.875],[0.875],[0.875],[0.875],[0.875],[0.875],[0.875],[0.875],[0.875],[0.875],[0.875],[0.875],[0.875],[0.875],[0.875],[0.875],[0.875],[0.875],[0.875],[0.875],[0.875],[0.875],[0.875],[0.875],[0.875],[0.875],[0.875],[0.875],[0.875],[0.875],[0.875],[0.875],[0.875],[0.875],[0.875],[0.875],[0.875],[0.875],[0.875],[0.875],[0.875],[0.875],[0.875],[0.875],[0.875],[0.875],[0.875],[0.875],[0.875],[0.875],[0.875],[0.875],[0.875],[0.875],[0.875],[0.875],[0.875],[0.875],[0.875],[0.875],[0.875],[0.875],[0.875],[0.875],[0.875],[0.875],[0.875],[0.875],[0.875],[0.875],[0.875],[0.875],[0.875],[0.875],[0.875],[0.875],[0.875],[0.875],[0.875],[0.875],[0.875],[0.875],[0.875],[0.875],[0.875],[0.875],[0.875],[0.875],[0.875],[0.875],[0.875],[0.875],[0.875],[0.875],[0.875],[0.875],[0.875],[0.875],[0.875],[0.875],[0.875],[0.875],[0.875],[0.875],[0.875],[0.875],[0.875],[0.875],[0.875],[0.875],[0.875],[0.875],[0.875],[0.875],[0.875],[0.875],[0.875],[0.875],[0.875],[0.875],[0.875],[0.875],[0.875],[0.875],[0.875],[0.875],[0.875],[0.875],[0.875],[0.875],[0.875],[0.875],[0.875],[0.875],[0.875],[0.875],[0.875],[0.875],[0.875],[0.875],[0.875],[0.875],[0.875],[0.875],[0.875],[0.875],[0.875],[0.875],[0.875],[0.875],[0.875],[0.875],[0.875],[0.875],[0.875],[0.875],[0.875],[0.875],[0.875],[0.875],[0.875],[0.875],[0.875],[0.875],[0.875],[0.875],[0.875],[0.875],[0.875],[0.875],[0.875],[0.875],[0.875],[0.875],[0.875],[0.875],[0.875],[0.875],[0.875],[0.875],[0.875],[0.875],[0.875],[0.875],[0.875],[0.875],[0.875],[0.875],[0.875],[0.875],[0.875],[0.875],[0.875],[0.875],[0.875],[0.875],[0.875],[0.875],[0.875],[0.875],[0.875],[0.875],[0.875],[0.875],[0.875],[0.875],[0.875],[0.875],[0.875],[0.875],[0.875],[0.875],[0.875],[0.875],[0.875],[0.875],[0.875],[0.875],[0.875],[0.875],[0.875],[0.875],[0.875],[0.875],[0.875],[0.875],[0.875],[0.875],[0.875],[0.875],[0.875],[0.875],[0.875],[0.875],[0.875],[0.875],[0.875],[0.875],[0.875],[0.875],[0.875],[0.875],[0.875],[0.875],[0.875],[0.875],[0.875],[0.875],[0.875],[0.875],[0.875],[0.875],[0.875],[0.875],[0.875],[0.875],[0.875],[0.875],[0.875],[0.875],[0.875],[0.875],[0.875],[0.875],[0.875],[0.875],[0.875],[0.875],[0.875],[0.875],[0.875],[0.875],[0.875],[0.875],[0.875],[0.875],[0.875],[0.875],[0.875],[0.875],[0.875],[0.875],[0.875],[0.875],[0.875],[0.875],[0.875],[0.875],[0.875],[0.875],[0.875],[0.875],[0.875],[0.875],[0.875],[0.875],[0.875],[0.875],[0.875],[0.875],[0.875],[0.875],[0.875],[0.875],[0.875],[0.875],[0.875],[0.875],[0.875],[0.875],[0.875],[0.875],[0.875],[0.875],[0.875],[0.875],[0.875],[0.875],[0.875],[0.875],[0.875],[0.875],[0.875],[0.875],[0.875],[0.875],[0.875],[0.875],[0.875],[0.875],[0.875],[0.875],[0.875],[0.875],[0.875],[0.875],[0.875],[0.875],[0.875],[0.875],[0.875],[0.875],[0.875],[0.875],[0.875],[0.875],[0.875],[0.875],[0.875],[0.875],[0.875],[0.875],[0.875],[0.875],[0.875],[0.875],[0.875],[0.875],[0.875],[0.875],[0.875],[0.875],[0.875],[0.875],[0.875],[0.875],[0.875],[0.875],[0.875],[0.875],[0.875],[0.875],[0.875],[0.875],[0.875],[0.875],[0.875],[0.875],[0.875],[0.875],[0.875],[0.875],[0.875],[0.875],[0.875],[0.875],[0.875],[0.875],[0.875],[0.875],[0.875],[0.875],[0.875],[0.875],[0.875],[0.875],[0.875],[0.875],[0.875],[0.875],[0.875],[0.875],[0.875],[0.875],[0.875],[0.875],[0.875],[0.875],[0.875],[0.875],[0.875],[0.875],[0.875],[0.875],[0.875],[0.875],[0.875],[0.875],[null],[null],[null],[null],[null],[null],[null],[null],[null],[null],[null],[null],[null],[null],[null],[null],[null],[null],[null],[null],[null],[null],[null],[null],[null],[null],[null],[null],[null],[null],[null],[null],[null],[null],[null],[null],[null],[null],[null],[null],[null],[null],[null],[null],[null],[null],[null],[null],[null],[null],[null],[null],[null],[null],[null],[null],[null],[null],[null],[null],[null],[null],[null],[null],[null],[null],[null],[null],[null],[null],[null],[null],[null],[null],[null],[null],[null],[null],[null],[null],[null],[null],[null],[null],[null],[null],[null],[null],[null],[null],[null],[null],[null],[null],[null],[null],[null],[null],[null],[null],[null],[null],[null],[null],[null],[null],[null],[null],[null],[null],[null],[null],[null],[null],[null],[null],[null],[null],[null],[null],[null],[null],[null],[null],[null],[null],[null],[null],[null],[null],[null],[null],[null],[null],[null],[null],[null],[null],[null],[null],[null],[null],[null],[null],[null],[null],[null],[null],[null],[null],[null],[null],[null],[null],[null],[null],[null],[null],[null],[null],[null],[null],[null],[null],[null],[null],[null],[null],[null],[null],[null],[null],[null],[null],[null]],\"fillpattern\":{\"shape\":\"\"},\"hovertemplate\":\"<b>%{hovertext}</b><br><br>Compressors=Compressor 2<br>Qtot=%{x}<br>q=%{y}<br>w=%{customdata[0]}<extra></extra>\",\"hovertext\":[\"Compressor 2\",\"Compressor 2\",\"Compressor 2\",\"Compressor 2\",\"Compressor 2\",\"Compressor 2\",\"Compressor 2\",\"Compressor 2\",\"Compressor 2\",\"Compressor 2\",\"Compressor 2\",\"Compressor 2\",\"Compressor 2\",\"Compressor 2\",\"Compressor 2\",\"Compressor 2\",\"Compressor 2\",\"Compressor 2\",\"Compressor 2\",\"Compressor 2\",\"Compressor 2\",\"Compressor 2\",\"Compressor 2\",\"Compressor 2\",\"Compressor 2\",\"Compressor 2\",\"Compressor 2\",\"Compressor 2\",\"Compressor 2\",\"Compressor 2\",\"Compressor 2\",\"Compressor 2\",\"Compressor 2\",\"Compressor 2\",\"Compressor 2\",\"Compressor 2\",\"Compressor 2\",\"Compressor 2\",\"Compressor 2\",\"Compressor 2\",\"Compressor 2\",\"Compressor 2\",\"Compressor 2\",\"Compressor 2\",\"Compressor 2\",\"Compressor 2\",\"Compressor 2\",\"Compressor 2\",\"Compressor 2\",\"Compressor 2\",\"Compressor 2\",\"Compressor 2\",\"Compressor 2\",\"Compressor 2\",\"Compressor 2\",\"Compressor 2\",\"Compressor 2\",\"Compressor 2\",\"Compressor 2\",\"Compressor 2\",\"Compressor 2\",\"Compressor 2\",\"Compressor 2\",\"Compressor 2\",\"Compressor 2\",\"Compressor 2\",\"Compressor 2\",\"Compressor 2\",\"Compressor 2\",\"Compressor 2\",\"Compressor 2\",\"Compressor 2\",\"Compressor 2\",\"Compressor 2\",\"Compressor 2\",\"Compressor 2\",\"Compressor 2\",\"Compressor 2\",\"Compressor 2\",\"Compressor 2\",\"Compressor 2\",\"Compressor 2\",\"Compressor 2\",\"Compressor 2\",\"Compressor 2\",\"Compressor 2\",\"Compressor 2\",\"Compressor 2\",\"Compressor 2\",\"Compressor 2\",\"Compressor 2\",\"Compressor 2\",\"Compressor 2\",\"Compressor 2\",\"Compressor 2\",\"Compressor 2\",\"Compressor 2\",\"Compressor 2\",\"Compressor 2\",\"Compressor 2\",\"Compressor 2\",\"Compressor 2\",\"Compressor 2\",\"Compressor 2\",\"Compressor 2\",\"Compressor 2\",\"Compressor 2\",\"Compressor 2\",\"Compressor 2\",\"Compressor 2\",\"Compressor 2\",\"Compressor 2\",\"Compressor 2\",\"Compressor 2\",\"Compressor 2\",\"Compressor 2\",\"Compressor 2\",\"Compressor 2\",\"Compressor 2\",\"Compressor 2\",\"Compressor 2\",\"Compressor 2\",\"Compressor 2\",\"Compressor 2\",\"Compressor 2\",\"Compressor 2\",\"Compressor 2\",\"Compressor 2\",\"Compressor 2\",\"Compressor 2\",\"Compressor 2\",\"Compressor 2\",\"Compressor 2\",\"Compressor 2\",\"Compressor 2\",\"Compressor 2\",\"Compressor 2\",\"Compressor 2\",\"Compressor 2\",\"Compressor 2\",\"Compressor 2\",\"Compressor 2\",\"Compressor 2\",\"Compressor 2\",\"Compressor 2\",\"Compressor 2\",\"Compressor 2\",\"Compressor 2\",\"Compressor 2\",\"Compressor 2\",\"Compressor 2\",\"Compressor 2\",\"Compressor 2\",\"Compressor 2\",\"Compressor 2\",\"Compressor 2\",\"Compressor 2\",\"Compressor 2\",\"Compressor 2\",\"Compressor 2\",\"Compressor 2\",\"Compressor 2\",\"Compressor 2\",\"Compressor 2\",\"Compressor 2\",\"Compressor 2\",\"Compressor 2\",\"Compressor 2\",\"Compressor 2\",\"Compressor 2\",\"Compressor 2\",\"Compressor 2\",\"Compressor 2\",\"Compressor 2\",\"Compressor 2\",\"Compressor 2\",\"Compressor 2\",\"Compressor 2\",\"Compressor 2\",\"Compressor 2\",\"Compressor 2\",\"Compressor 2\",\"Compressor 2\",\"Compressor 2\",\"Compressor 2\",\"Compressor 2\",\"Compressor 2\",\"Compressor 2\",\"Compressor 2\",\"Compressor 2\",\"Compressor 2\",\"Compressor 2\",\"Compressor 2\",\"Compressor 2\",\"Compressor 2\",\"Compressor 2\",\"Compressor 2\",\"Compressor 2\",\"Compressor 2\",\"Compressor 2\",\"Compressor 2\",\"Compressor 2\",\"Compressor 2\",\"Compressor 2\",\"Compressor 2\",\"Compressor 2\",\"Compressor 2\",\"Compressor 2\",\"Compressor 2\",\"Compressor 2\",\"Compressor 2\",\"Compressor 2\",\"Compressor 2\",\"Compressor 2\",\"Compressor 2\",\"Compressor 2\",\"Compressor 2\",\"Compressor 2\",\"Compressor 2\",\"Compressor 2\",\"Compressor 2\",\"Compressor 2\",\"Compressor 2\",\"Compressor 2\",\"Compressor 2\",\"Compressor 2\",\"Compressor 2\",\"Compressor 2\",\"Compressor 2\",\"Compressor 2\",\"Compressor 2\",\"Compressor 2\",\"Compressor 2\",\"Compressor 2\",\"Compressor 2\",\"Compressor 2\",\"Compressor 2\",\"Compressor 2\",\"Compressor 2\",\"Compressor 2\",\"Compressor 2\",\"Compressor 2\",\"Compressor 2\",\"Compressor 2\",\"Compressor 2\",\"Compressor 2\",\"Compressor 2\",\"Compressor 2\",\"Compressor 2\",\"Compressor 2\",\"Compressor 2\",\"Compressor 2\",\"Compressor 2\",\"Compressor 2\",\"Compressor 2\",\"Compressor 2\",\"Compressor 2\",\"Compressor 2\",\"Compressor 2\",\"Compressor 2\",\"Compressor 2\",\"Compressor 2\",\"Compressor 2\",\"Compressor 2\",\"Compressor 2\",\"Compressor 2\",\"Compressor 2\",\"Compressor 2\",\"Compressor 2\",\"Compressor 2\",\"Compressor 2\",\"Compressor 2\",\"Compressor 2\",\"Compressor 2\",\"Compressor 2\",\"Compressor 2\",\"Compressor 2\",\"Compressor 2\",\"Compressor 2\",\"Compressor 2\",\"Compressor 2\",\"Compressor 2\",\"Compressor 2\",\"Compressor 2\",\"Compressor 2\",\"Compressor 2\",\"Compressor 2\",\"Compressor 2\",\"Compressor 2\",\"Compressor 2\",\"Compressor 2\",\"Compressor 2\",\"Compressor 2\",\"Compressor 2\",\"Compressor 2\",\"Compressor 2\",\"Compressor 2\",\"Compressor 2\",\"Compressor 2\",\"Compressor 2\",\"Compressor 2\",\"Compressor 2\",\"Compressor 2\",\"Compressor 2\",\"Compressor 2\",\"Compressor 2\",\"Compressor 2\",\"Compressor 2\",\"Compressor 2\",\"Compressor 2\",\"Compressor 2\",\"Compressor 2\",\"Compressor 2\",\"Compressor 2\",\"Compressor 2\",\"Compressor 2\",\"Compressor 2\",\"Compressor 2\",\"Compressor 2\",\"Compressor 2\",\"Compressor 2\",\"Compressor 2\",\"Compressor 2\",\"Compressor 2\",\"Compressor 2\",\"Compressor 2\",\"Compressor 2\",\"Compressor 2\",\"Compressor 2\",\"Compressor 2\",\"Compressor 2\",\"Compressor 2\",\"Compressor 2\",\"Compressor 2\",\"Compressor 2\",\"Compressor 2\",\"Compressor 2\",\"Compressor 2\",\"Compressor 2\",\"Compressor 2\",\"Compressor 2\",\"Compressor 2\",\"Compressor 2\",\"Compressor 2\",\"Compressor 2\",\"Compressor 2\",\"Compressor 2\",\"Compressor 2\",\"Compressor 2\",\"Compressor 2\",\"Compressor 2\",\"Compressor 2\",\"Compressor 2\",\"Compressor 2\",\"Compressor 2\",\"Compressor 2\",\"Compressor 2\",\"Compressor 2\",\"Compressor 2\",\"Compressor 2\",\"Compressor 2\",\"Compressor 2\",\"Compressor 2\",\"Compressor 2\",\"Compressor 2\",\"Compressor 2\",\"Compressor 2\",\"Compressor 2\",\"Compressor 2\",\"Compressor 2\",\"Compressor 2\",\"Compressor 2\",\"Compressor 2\",\"Compressor 2\",\"Compressor 2\",\"Compressor 2\",\"Compressor 2\",\"Compressor 2\",\"Compressor 2\",\"Compressor 2\",\"Compressor 2\",\"Compressor 2\",\"Compressor 2\",\"Compressor 2\",\"Compressor 2\",\"Compressor 2\",\"Compressor 2\",\"Compressor 2\",\"Compressor 2\",\"Compressor 2\",\"Compressor 2\",\"Compressor 2\",\"Compressor 2\",\"Compressor 2\",\"Compressor 2\",\"Compressor 2\",\"Compressor 2\",\"Compressor 2\",\"Compressor 2\",\"Compressor 2\",\"Compressor 2\",\"Compressor 2\",\"Compressor 2\",\"Compressor 2\",\"Compressor 2\",\"Compressor 2\",\"Compressor 2\",\"Compressor 2\",\"Compressor 2\",\"Compressor 2\",\"Compressor 2\",\"Compressor 2\",\"Compressor 2\",\"Compressor 2\",\"Compressor 2\",\"Compressor 2\",\"Compressor 2\",\"Compressor 2\",\"Compressor 2\",\"Compressor 2\",\"Compressor 2\",\"Compressor 2\",\"Compressor 2\",\"Compressor 2\",\"Compressor 2\",\"Compressor 2\",\"Compressor 2\",\"Compressor 2\",\"Compressor 2\",\"Compressor 2\",\"Compressor 2\",\"Compressor 2\",\"Compressor 2\",\"Compressor 2\",\"Compressor 2\",\"Compressor 2\",\"Compressor 2\",\"Compressor 2\",\"Compressor 2\",\"Compressor 2\",\"Compressor 2\",\"Compressor 2\",\"Compressor 2\",\"Compressor 2\",\"Compressor 2\",\"Compressor 2\",\"Compressor 2\",\"Compressor 2\",\"Compressor 2\",\"Compressor 2\",\"Compressor 2\",\"Compressor 2\",\"Compressor 2\",\"Compressor 2\",\"Compressor 2\",\"Compressor 2\",\"Compressor 2\",\"Compressor 2\",\"Compressor 2\",\"Compressor 2\",\"Compressor 2\",\"Compressor 2\",\"Compressor 2\",\"Compressor 2\",\"Compressor 2\",\"Compressor 2\",\"Compressor 2\",\"Compressor 2\",\"Compressor 2\",\"Compressor 2\",\"Compressor 2\",\"Compressor 2\",\"Compressor 2\",\"Compressor 2\",\"Compressor 2\",\"Compressor 2\",\"Compressor 2\",\"Compressor 2\",\"Compressor 2\",\"Compressor 2\",\"Compressor 2\",\"Compressor 2\",\"Compressor 2\",\"Compressor 2\",\"Compressor 2\",\"Compressor 2\",\"Compressor 2\",\"Compressor 2\",\"Compressor 2\",\"Compressor 2\",\"Compressor 2\",\"Compressor 2\",\"Compressor 2\",\"Compressor 2\",\"Compressor 2\",\"Compressor 2\",\"Compressor 2\",\"Compressor 2\",\"Compressor 2\",\"Compressor 2\",\"Compressor 2\",\"Compressor 2\",\"Compressor 2\",\"Compressor 2\",\"Compressor 2\",\"Compressor 2\",\"Compressor 2\",\"Compressor 2\",\"Compressor 2\",\"Compressor 2\",\"Compressor 2\",\"Compressor 2\",\"Compressor 2\",\"Compressor 2\",\"Compressor 2\",\"Compressor 2\",\"Compressor 2\",\"Compressor 2\",\"Compressor 2\",\"Compressor 2\",\"Compressor 2\",\"Compressor 2\",\"Compressor 2\",\"Compressor 2\",\"Compressor 2\",\"Compressor 2\",\"Compressor 2\",\"Compressor 2\",\"Compressor 2\",\"Compressor 2\",\"Compressor 2\",\"Compressor 2\",\"Compressor 2\",\"Compressor 2\",\"Compressor 2\",\"Compressor 2\",\"Compressor 2\",\"Compressor 2\",\"Compressor 2\",\"Compressor 2\",\"Compressor 2\",\"Compressor 2\",\"Compressor 2\",\"Compressor 2\",\"Compressor 2\",\"Compressor 2\",\"Compressor 2\",\"Compressor 2\",\"Compressor 2\",\"Compressor 2\",\"Compressor 2\",\"Compressor 2\",\"Compressor 2\",\"Compressor 2\",\"Compressor 2\",\"Compressor 2\",\"Compressor 2\",\"Compressor 2\",\"Compressor 2\",\"Compressor 2\",\"Compressor 2\",\"Compressor 2\",\"Compressor 2\",\"Compressor 2\",\"Compressor 2\",\"Compressor 2\",\"Compressor 2\",\"Compressor 2\",\"Compressor 2\",\"Compressor 2\",\"Compressor 2\",\"Compressor 2\",\"Compressor 2\",\"Compressor 2\",\"Compressor 2\",\"Compressor 2\",\"Compressor 2\",\"Compressor 2\",\"Compressor 2\",\"Compressor 2\",\"Compressor 2\",\"Compressor 2\",\"Compressor 2\",\"Compressor 2\",\"Compressor 2\",\"Compressor 2\",\"Compressor 2\",\"Compressor 2\",\"Compressor 2\",\"Compressor 2\",\"Compressor 2\",\"Compressor 2\",\"Compressor 2\",\"Compressor 2\",\"Compressor 2\",\"Compressor 2\",\"Compressor 2\",\"Compressor 2\",\"Compressor 2\",\"Compressor 2\",\"Compressor 2\",\"Compressor 2\",\"Compressor 2\",\"Compressor 2\",\"Compressor 2\",\"Compressor 2\",\"Compressor 2\",\"Compressor 2\",\"Compressor 2\",\"Compressor 2\",\"Compressor 2\",\"Compressor 2\",\"Compressor 2\",\"Compressor 2\",\"Compressor 2\",\"Compressor 2\",\"Compressor 2\",\"Compressor 2\",\"Compressor 2\",\"Compressor 2\",\"Compressor 2\",\"Compressor 2\",\"Compressor 2\",\"Compressor 2\",\"Compressor 2\",\"Compressor 2\",\"Compressor 2\",\"Compressor 2\",\"Compressor 2\",\"Compressor 2\",\"Compressor 2\",\"Compressor 2\",\"Compressor 2\",\"Compressor 2\",\"Compressor 2\",\"Compressor 2\",\"Compressor 2\",\"Compressor 2\",\"Compressor 2\",\"Compressor 2\",\"Compressor 2\",\"Compressor 2\",\"Compressor 2\",\"Compressor 2\",\"Compressor 2\",\"Compressor 2\",\"Compressor 2\",\"Compressor 2\",\"Compressor 2\",\"Compressor 2\",\"Compressor 2\",\"Compressor 2\",\"Compressor 2\",\"Compressor 2\",\"Compressor 2\",\"Compressor 2\",\"Compressor 2\",\"Compressor 2\",\"Compressor 2\",\"Compressor 2\",\"Compressor 2\",\"Compressor 2\",\"Compressor 2\",\"Compressor 2\",\"Compressor 2\",\"Compressor 2\",\"Compressor 2\",\"Compressor 2\",\"Compressor 2\",\"Compressor 2\",\"Compressor 2\",\"Compressor 2\",\"Compressor 2\",\"Compressor 2\",\"Compressor 2\",\"Compressor 2\",\"Compressor 2\",\"Compressor 2\",\"Compressor 2\",\"Compressor 2\",\"Compressor 2\",\"Compressor 2\",\"Compressor 2\",\"Compressor 2\",\"Compressor 2\",\"Compressor 2\",\"Compressor 2\",\"Compressor 2\",\"Compressor 2\",\"Compressor 2\",\"Compressor 2\",\"Compressor 2\",\"Compressor 2\",\"Compressor 2\",\"Compressor 2\",\"Compressor 2\",\"Compressor 2\",\"Compressor 2\",\"Compressor 2\",\"Compressor 2\",\"Compressor 2\",\"Compressor 2\",\"Compressor 2\",\"Compressor 2\",\"Compressor 2\",\"Compressor 2\",\"Compressor 2\",\"Compressor 2\",\"Compressor 2\",\"Compressor 2\",\"Compressor 2\",\"Compressor 2\",\"Compressor 2\",\"Compressor 2\",\"Compressor 2\",\"Compressor 2\",\"Compressor 2\",\"Compressor 2\",\"Compressor 2\",\"Compressor 2\",\"Compressor 2\",\"Compressor 2\",\"Compressor 2\",\"Compressor 2\",\"Compressor 2\",\"Compressor 2\",\"Compressor 2\",\"Compressor 2\",\"Compressor 2\",\"Compressor 2\",\"Compressor 2\",\"Compressor 2\",\"Compressor 2\",\"Compressor 2\",\"Compressor 2\",\"Compressor 2\",\"Compressor 2\",\"Compressor 2\",\"Compressor 2\",\"Compressor 2\",\"Compressor 2\",\"Compressor 2\",\"Compressor 2\",\"Compressor 2\",\"Compressor 2\",\"Compressor 2\",\"Compressor 2\",\"Compressor 2\",\"Compressor 2\",\"Compressor 2\",\"Compressor 2\",\"Compressor 2\",\"Compressor 2\",\"Compressor 2\",\"Compressor 2\",\"Compressor 2\",\"Compressor 2\",\"Compressor 2\",\"Compressor 2\",\"Compressor 2\",\"Compressor 2\",\"Compressor 2\",\"Compressor 2\",\"Compressor 2\",\"Compressor 2\",\"Compressor 2\",\"Compressor 2\",\"Compressor 2\",\"Compressor 2\",\"Compressor 2\",\"Compressor 2\",\"Compressor 2\",\"Compressor 2\",\"Compressor 2\",\"Compressor 2\",\"Compressor 2\",\"Compressor 2\",\"Compressor 2\",\"Compressor 2\",\"Compressor 2\",\"Compressor 2\",\"Compressor 2\",\"Compressor 2\",\"Compressor 2\",\"Compressor 2\",\"Compressor 2\",\"Compressor 2\",\"Compressor 2\",\"Compressor 2\",\"Compressor 2\",\"Compressor 2\",\"Compressor 2\",\"Compressor 2\",\"Compressor 2\",\"Compressor 2\",\"Compressor 2\",\"Compressor 2\",\"Compressor 2\",\"Compressor 2\",\"Compressor 2\",\"Compressor 2\",\"Compressor 2\",\"Compressor 2\",\"Compressor 2\",\"Compressor 2\",\"Compressor 2\",\"Compressor 2\",\"Compressor 2\",\"Compressor 2\",\"Compressor 2\",\"Compressor 2\",\"Compressor 2\",\"Compressor 2\",\"Compressor 2\",\"Compressor 2\",\"Compressor 2\",\"Compressor 2\",\"Compressor 2\",\"Compressor 2\",\"Compressor 2\",\"Compressor 2\",\"Compressor 2\",\"Compressor 2\",\"Compressor 2\",\"Compressor 2\",\"Compressor 2\",\"Compressor 2\",\"Compressor 2\",\"Compressor 2\",\"Compressor 2\",\"Compressor 2\",\"Compressor 2\",\"Compressor 2\",\"Compressor 2\",\"Compressor 2\",\"Compressor 2\",\"Compressor 2\",\"Compressor 2\",\"Compressor 2\",\"Compressor 2\",\"Compressor 2\",\"Compressor 2\",\"Compressor 2\",\"Compressor 2\",\"Compressor 2\",\"Compressor 2\",\"Compressor 2\",\"Compressor 2\",\"Compressor 2\",\"Compressor 2\",\"Compressor 2\",\"Compressor 2\",\"Compressor 2\",\"Compressor 2\",\"Compressor 2\",\"Compressor 2\",\"Compressor 2\",\"Compressor 2\",\"Compressor 2\",\"Compressor 2\",\"Compressor 2\",\"Compressor 2\",\"Compressor 2\",\"Compressor 2\",\"Compressor 2\",\"Compressor 2\",\"Compressor 2\",\"Compressor 2\",\"Compressor 2\",\"Compressor 2\",\"Compressor 2\",\"Compressor 2\",\"Compressor 2\",\"Compressor 2\",\"Compressor 2\",\"Compressor 2\",\"Compressor 2\",\"Compressor 2\",\"Compressor 2\",\"Compressor 2\",\"Compressor 2\",\"Compressor 2\",\"Compressor 2\",\"Compressor 2\",\"Compressor 2\",\"Compressor 2\",\"Compressor 2\",\"Compressor 2\",\"Compressor 2\",\"Compressor 2\",\"Compressor 2\",\"Compressor 2\",\"Compressor 2\",\"Compressor 2\",\"Compressor 2\",\"Compressor 2\",\"Compressor 2\",\"Compressor 2\",\"Compressor 2\",\"Compressor 2\",\"Compressor 2\",\"Compressor 2\",\"Compressor 2\",\"Compressor 2\",\"Compressor 2\",\"Compressor 2\",\"Compressor 2\",\"Compressor 2\",\"Compressor 2\",\"Compressor 2\",\"Compressor 2\",\"Compressor 2\",\"Compressor 2\",\"Compressor 2\",\"Compressor 2\",\"Compressor 2\",\"Compressor 2\",\"Compressor 2\",\"Compressor 2\",\"Compressor 2\",\"Compressor 2\",\"Compressor 2\",\"Compressor 2\",\"Compressor 2\",\"Compressor 2\",\"Compressor 2\",\"Compressor 2\",\"Compressor 2\",\"Compressor 2\",\"Compressor 2\",\"Compressor 2\",\"Compressor 2\",\"Compressor 2\",\"Compressor 2\",\"Compressor 2\",\"Compressor 2\",\"Compressor 2\",\"Compressor 2\",\"Compressor 2\",\"Compressor 2\",\"Compressor 2\",\"Compressor 2\",\"Compressor 2\",\"Compressor 2\",\"Compressor 2\",\"Compressor 2\",\"Compressor 2\",\"Compressor 2\",\"Compressor 2\",\"Compressor 2\",\"Compressor 2\",\"Compressor 2\",\"Compressor 2\",\"Compressor 2\",\"Compressor 2\",\"Compressor 2\",\"Compressor 2\",\"Compressor 2\",\"Compressor 2\",\"Compressor 2\",\"Compressor 2\",\"Compressor 2\",\"Compressor 2\",\"Compressor 2\",\"Compressor 2\",\"Compressor 2\",\"Compressor 2\",\"Compressor 2\",\"Compressor 2\",\"Compressor 2\",\"Compressor 2\",\"Compressor 2\",\"Compressor 2\",\"Compressor 2\",\"Compressor 2\",\"Compressor 2\",\"Compressor 2\",\"Compressor 2\",\"Compressor 2\",\"Compressor 2\",\"Compressor 2\",\"Compressor 2\",\"Compressor 2\",\"Compressor 2\",\"Compressor 2\",\"Compressor 2\",\"Compressor 2\",\"Compressor 2\",\"Compressor 2\",\"Compressor 2\",\"Compressor 2\",\"Compressor 2\",\"Compressor 2\",\"Compressor 2\",\"Compressor 2\",\"Compressor 2\",\"Compressor 2\",\"Compressor 2\",\"Compressor 2\",\"Compressor 2\",\"Compressor 2\",\"Compressor 2\",\"Compressor 2\",\"Compressor 2\",\"Compressor 2\",\"Compressor 2\",\"Compressor 2\",\"Compressor 2\",\"Compressor 2\",\"Compressor 2\",\"Compressor 2\",\"Compressor 2\",\"Compressor 2\",\"Compressor 2\",\"Compressor 2\",\"Compressor 2\",\"Compressor 2\",\"Compressor 2\",\"Compressor 2\",\"Compressor 2\",\"Compressor 2\",\"Compressor 2\",\"Compressor 2\",\"Compressor 2\",\"Compressor 2\",\"Compressor 2\",\"Compressor 2\",\"Compressor 2\",\"Compressor 2\",\"Compressor 2\",\"Compressor 2\",\"Compressor 2\",\"Compressor 2\",\"Compressor 2\",\"Compressor 2\",\"Compressor 2\",\"Compressor 2\",\"Compressor 2\",\"Compressor 2\",\"Compressor 2\",\"Compressor 2\",\"Compressor 2\",\"Compressor 2\",\"Compressor 2\",\"Compressor 2\",\"Compressor 2\",\"Compressor 2\",\"Compressor 2\",\"Compressor 2\",\"Compressor 2\",\"Compressor 2\",\"Compressor 2\",\"Compressor 2\",\"Compressor 2\",\"Compressor 2\",\"Compressor 2\",\"Compressor 2\",\"Compressor 2\",\"Compressor 2\",\"Compressor 2\",\"Compressor 2\",\"Compressor 2\",\"Compressor 2\",\"Compressor 2\",\"Compressor 2\",\"Compressor 2\",\"Compressor 2\",\"Compressor 2\",\"Compressor 2\",\"Compressor 2\",\"Compressor 2\",\"Compressor 2\",\"Compressor 2\",\"Compressor 2\",\"Compressor 2\",\"Compressor 2\",\"Compressor 2\",\"Compressor 2\",\"Compressor 2\",\"Compressor 2\",\"Compressor 2\",\"Compressor 2\",\"Compressor 2\",\"Compressor 2\",\"Compressor 2\",\"Compressor 2\",\"Compressor 2\",\"Compressor 2\",\"Compressor 2\",\"Compressor 2\",\"Compressor 2\",\"Compressor 2\",\"Compressor 2\",\"Compressor 2\",\"Compressor 2\",\"Compressor 2\",\"Compressor 2\",\"Compressor 2\",\"Compressor 2\",\"Compressor 2\",\"Compressor 2\",\"Compressor 2\",\"Compressor 2\",\"Compressor 2\",\"Compressor 2\",\"Compressor 2\",\"Compressor 2\",\"Compressor 2\",\"Compressor 2\",\"Compressor 2\",\"Compressor 2\",\"Compressor 2\",\"Compressor 2\",\"Compressor 2\",\"Compressor 2\",\"Compressor 2\",\"Compressor 2\",\"Compressor 2\",\"Compressor 2\",\"Compressor 2\",\"Compressor 2\",\"Compressor 2\",\"Compressor 2\",\"Compressor 2\",\"Compressor 2\",\"Compressor 2\",\"Compressor 2\",\"Compressor 2\",\"Compressor 2\",\"Compressor 2\",\"Compressor 2\",\"Compressor 2\",\"Compressor 2\",\"Compressor 2\",\"Compressor 2\",\"Compressor 2\",\"Compressor 2\",\"Compressor 2\",\"Compressor 2\",\"Compressor 2\",\"Compressor 2\",\"Compressor 2\",\"Compressor 2\",\"Compressor 2\",\"Compressor 2\",\"Compressor 2\",\"Compressor 2\",\"Compressor 2\",\"Compressor 2\",\"Compressor 2\",\"Compressor 2\",\"Compressor 2\",\"Compressor 2\",\"Compressor 2\",\"Compressor 2\",\"Compressor 2\",\"Compressor 2\",\"Compressor 2\",\"Compressor 2\",\"Compressor 2\",\"Compressor 2\",\"Compressor 2\",\"Compressor 2\",\"Compressor 2\",\"Compressor 2\",\"Compressor 2\",\"Compressor 2\",\"Compressor 2\",\"Compressor 2\",\"Compressor 2\",\"Compressor 2\",\"Compressor 2\",\"Compressor 2\",\"Compressor 2\",\"Compressor 2\",\"Compressor 2\",\"Compressor 2\",\"Compressor 2\",\"Compressor 2\",\"Compressor 2\",\"Compressor 2\",\"Compressor 2\",\"Compressor 2\",\"Compressor 2\",\"Compressor 2\",\"Compressor 2\",\"Compressor 2\",\"Compressor 2\",\"Compressor 2\",\"Compressor 2\",\"Compressor 2\",\"Compressor 2\",\"Compressor 2\",\"Compressor 2\",\"Compressor 2\",\"Compressor 2\",\"Compressor 2\",\"Compressor 2\",\"Compressor 2\",\"Compressor 2\",\"Compressor 2\",\"Compressor 2\",\"Compressor 2\",\"Compressor 2\",\"Compressor 2\",\"Compressor 2\",\"Compressor 2\",\"Compressor 2\",\"Compressor 2\",\"Compressor 2\",\"Compressor 2\",\"Compressor 2\",\"Compressor 2\",\"Compressor 2\",\"Compressor 2\",\"Compressor 2\",\"Compressor 2\",\"Compressor 2\",\"Compressor 2\",\"Compressor 2\",\"Compressor 2\",\"Compressor 2\",\"Compressor 2\",\"Compressor 2\",\"Compressor 2\",\"Compressor 2\",\"Compressor 2\",\"Compressor 2\",\"Compressor 2\",\"Compressor 2\",\"Compressor 2\",\"Compressor 2\",\"Compressor 2\",\"Compressor 2\",\"Compressor 2\",\"Compressor 2\",\"Compressor 2\",\"Compressor 2\",\"Compressor 2\",\"Compressor 2\",\"Compressor 2\",\"Compressor 2\",\"Compressor 2\",\"Compressor 2\",\"Compressor 2\",\"Compressor 2\",\"Compressor 2\",\"Compressor 2\",\"Compressor 2\",\"Compressor 2\",\"Compressor 2\",\"Compressor 2\",\"Compressor 2\",\"Compressor 2\",\"Compressor 2\",\"Compressor 2\",\"Compressor 2\",\"Compressor 2\",\"Compressor 2\",\"Compressor 2\",\"Compressor 2\",\"Compressor 2\",\"Compressor 2\",\"Compressor 2\",\"Compressor 2\",\"Compressor 2\",\"Compressor 2\",\"Compressor 2\",\"Compressor 2\",\"Compressor 2\",\"Compressor 2\",\"Compressor 2\",\"Compressor 2\",\"Compressor 2\",\"Compressor 2\",\"Compressor 2\",\"Compressor 2\",\"Compressor 2\",\"Compressor 2\",\"Compressor 2\",\"Compressor 2\",\"Compressor 2\",\"Compressor 2\",\"Compressor 2\",\"Compressor 2\",\"Compressor 2\",\"Compressor 2\",\"Compressor 2\",\"Compressor 2\",\"Compressor 2\",\"Compressor 2\",\"Compressor 2\",\"Compressor 2\",\"Compressor 2\",\"Compressor 2\",\"Compressor 2\",\"Compressor 2\",\"Compressor 2\",\"Compressor 2\",\"Compressor 2\",\"Compressor 2\",\"Compressor 2\",\"Compressor 2\",\"Compressor 2\",\"Compressor 2\",\"Compressor 2\",\"Compressor 2\",\"Compressor 2\",\"Compressor 2\",\"Compressor 2\",\"Compressor 2\",\"Compressor 2\",\"Compressor 2\",\"Compressor 2\",\"Compressor 2\",\"Compressor 2\",\"Compressor 2\",\"Compressor 2\",\"Compressor 2\",\"Compressor 2\",\"Compressor 2\",\"Compressor 2\",\"Compressor 2\",\"Compressor 2\",\"Compressor 2\",\"Compressor 2\",\"Compressor 2\",\"Compressor 2\",\"Compressor 2\",\"Compressor 2\",\"Compressor 2\",\"Compressor 2\",\"Compressor 2\",\"Compressor 2\",\"Compressor 2\",\"Compressor 2\",\"Compressor 2\",\"Compressor 2\",\"Compressor 2\",\"Compressor 2\",\"Compressor 2\",\"Compressor 2\",\"Compressor 2\",\"Compressor 2\",\"Compressor 2\",\"Compressor 2\",\"Compressor 2\",\"Compressor 2\",\"Compressor 2\",\"Compressor 2\",\"Compressor 2\",\"Compressor 2\",\"Compressor 2\",\"Compressor 2\",\"Compressor 2\",\"Compressor 2\",\"Compressor 2\",\"Compressor 2\",\"Compressor 2\",\"Compressor 2\",\"Compressor 2\",\"Compressor 2\",\"Compressor 2\",\"Compressor 2\",\"Compressor 2\",\"Compressor 2\",\"Compressor 2\",\"Compressor 2\",\"Compressor 2\",\"Compressor 2\",\"Compressor 2\",\"Compressor 2\",\"Compressor 2\",\"Compressor 2\",\"Compressor 2\",\"Compressor 2\",\"Compressor 2\",\"Compressor 2\",\"Compressor 2\",\"Compressor 2\",\"Compressor 2\",\"Compressor 2\",\"Compressor 2\",\"Compressor 2\",\"Compressor 2\",\"Compressor 2\",\"Compressor 2\",\"Compressor 2\",\"Compressor 2\",\"Compressor 2\",\"Compressor 2\",\"Compressor 2\",\"Compressor 2\",\"Compressor 2\",\"Compressor 2\",\"Compressor 2\",\"Compressor 2\",\"Compressor 2\",\"Compressor 2\",\"Compressor 2\",\"Compressor 2\",\"Compressor 2\",\"Compressor 2\",\"Compressor 2\",\"Compressor 2\",\"Compressor 2\",\"Compressor 2\",\"Compressor 2\",\"Compressor 2\",\"Compressor 2\",\"Compressor 2\",\"Compressor 2\",\"Compressor 2\",\"Compressor 2\",\"Compressor 2\",\"Compressor 2\",\"Compressor 2\",\"Compressor 2\",\"Compressor 2\",\"Compressor 2\",\"Compressor 2\",\"Compressor 2\",\"Compressor 2\",\"Compressor 2\",\"Compressor 2\",\"Compressor 2\",\"Compressor 2\",\"Compressor 2\",\"Compressor 2\",\"Compressor 2\",\"Compressor 2\",\"Compressor 2\",\"Compressor 2\",\"Compressor 2\",\"Compressor 2\",\"Compressor 2\",\"Compressor 2\",\"Compressor 2\",\"Compressor 2\",\"Compressor 2\",\"Compressor 2\",\"Compressor 2\",\"Compressor 2\",\"Compressor 2\",\"Compressor 2\",\"Compressor 2\",\"Compressor 2\",\"Compressor 2\",\"Compressor 2\",\"Compressor 2\",\"Compressor 2\",\"Compressor 2\",\"Compressor 2\",\"Compressor 2\",\"Compressor 2\",\"Compressor 2\",\"Compressor 2\",\"Compressor 2\",\"Compressor 2\",\"Compressor 2\",\"Compressor 2\",\"Compressor 2\",\"Compressor 2\",\"Compressor 2\",\"Compressor 2\",\"Compressor 2\",\"Compressor 2\",\"Compressor 2\",\"Compressor 2\",\"Compressor 2\",\"Compressor 2\",\"Compressor 2\",\"Compressor 2\",\"Compressor 2\",\"Compressor 2\",\"Compressor 2\",\"Compressor 2\",\"Compressor 2\",\"Compressor 2\",\"Compressor 2\",\"Compressor 2\",\"Compressor 2\",\"Compressor 2\",\"Compressor 2\",\"Compressor 2\",\"Compressor 2\",\"Compressor 2\",\"Compressor 2\",\"Compressor 2\",\"Compressor 2\",\"Compressor 2\",\"Compressor 2\",\"Compressor 2\",\"Compressor 2\",\"Compressor 2\",\"Compressor 2\",\"Compressor 2\",\"Compressor 2\",\"Compressor 2\",\"Compressor 2\",\"Compressor 2\",\"Compressor 2\",\"Compressor 2\",\"Compressor 2\",\"Compressor 2\",\"Compressor 2\",\"Compressor 2\",\"Compressor 2\",\"Compressor 2\",\"Compressor 2\",\"Compressor 2\",\"Compressor 2\",\"Compressor 2\",\"Compressor 2\",\"Compressor 2\",\"Compressor 2\",\"Compressor 2\",\"Compressor 2\",\"Compressor 2\",\"Compressor 2\",\"Compressor 2\",\"Compressor 2\",\"Compressor 2\",\"Compressor 2\",\"Compressor 2\",\"Compressor 2\",\"Compressor 2\",\"Compressor 2\",\"Compressor 2\",\"Compressor 2\",\"Compressor 2\",\"Compressor 2\",\"Compressor 2\",\"Compressor 2\",\"Compressor 2\",\"Compressor 2\",\"Compressor 2\",\"Compressor 2\",\"Compressor 2\",\"Compressor 2\",\"Compressor 2\",\"Compressor 2\",\"Compressor 2\",\"Compressor 2\",\"Compressor 2\",\"Compressor 2\",\"Compressor 2\",\"Compressor 2\",\"Compressor 2\",\"Compressor 2\",\"Compressor 2\",\"Compressor 2\",\"Compressor 2\",\"Compressor 2\",\"Compressor 2\",\"Compressor 2\",\"Compressor 2\",\"Compressor 2\",\"Compressor 2\",\"Compressor 2\",\"Compressor 2\",\"Compressor 2\",\"Compressor 2\",\"Compressor 2\",\"Compressor 2\",\"Compressor 2\",\"Compressor 2\",\"Compressor 2\",\"Compressor 2\",\"Compressor 2\",\"Compressor 2\",\"Compressor 2\",\"Compressor 2\",\"Compressor 2\",\"Compressor 2\",\"Compressor 2\",\"Compressor 2\",\"Compressor 2\",\"Compressor 2\",\"Compressor 2\",\"Compressor 2\",\"Compressor 2\",\"Compressor 2\",\"Compressor 2\",\"Compressor 2\",\"Compressor 2\",\"Compressor 2\",\"Compressor 2\",\"Compressor 2\",\"Compressor 2\",\"Compressor 2\",\"Compressor 2\",\"Compressor 2\",\"Compressor 2\",\"Compressor 2\",\"Compressor 2\",\"Compressor 2\",\"Compressor 2\",\"Compressor 2\",\"Compressor 2\",\"Compressor 2\",\"Compressor 2\",\"Compressor 2\",\"Compressor 2\",\"Compressor 2\",\"Compressor 2\",\"Compressor 2\",\"Compressor 2\",\"Compressor 2\",\"Compressor 2\",\"Compressor 2\",\"Compressor 2\",\"Compressor 2\",\"Compressor 2\",\"Compressor 2\",\"Compressor 2\",\"Compressor 2\",\"Compressor 2\",\"Compressor 2\",\"Compressor 2\",\"Compressor 2\",\"Compressor 2\",\"Compressor 2\",\"Compressor 2\",\"Compressor 2\",\"Compressor 2\",\"Compressor 2\",\"Compressor 2\",\"Compressor 2\",\"Compressor 2\",\"Compressor 2\",\"Compressor 2\",\"Compressor 2\",\"Compressor 2\",\"Compressor 2\",\"Compressor 2\",\"Compressor 2\",\"Compressor 2\",\"Compressor 2\",\"Compressor 2\",\"Compressor 2\",\"Compressor 2\",\"Compressor 2\",\"Compressor 2\",\"Compressor 2\",\"Compressor 2\",\"Compressor 2\",\"Compressor 2\",\"Compressor 2\",\"Compressor 2\",\"Compressor 2\",\"Compressor 2\",\"Compressor 2\",\"Compressor 2\",\"Compressor 2\",\"Compressor 2\",\"Compressor 2\",\"Compressor 2\",\"Compressor 2\",\"Compressor 2\",\"Compressor 2\",\"Compressor 2\",\"Compressor 2\",\"Compressor 2\",\"Compressor 2\",\"Compressor 2\",\"Compressor 2\",\"Compressor 2\",\"Compressor 2\",\"Compressor 2\",\"Compressor 2\",\"Compressor 2\",\"Compressor 2\",\"Compressor 2\",\"Compressor 2\",\"Compressor 2\",\"Compressor 2\",\"Compressor 2\",\"Compressor 2\",\"Compressor 2\",\"Compressor 2\",\"Compressor 2\",\"Compressor 2\",\"Compressor 2\",\"Compressor 2\",\"Compressor 2\",\"Compressor 2\",\"Compressor 2\",\"Compressor 2\",\"Compressor 2\",\"Compressor 2\",\"Compressor 2\",\"Compressor 2\",\"Compressor 2\",\"Compressor 2\",\"Compressor 2\",\"Compressor 2\",\"Compressor 2\",\"Compressor 2\",\"Compressor 2\",\"Compressor 2\",\"Compressor 2\",\"Compressor 2\",\"Compressor 2\",\"Compressor 2\",\"Compressor 2\",\"Compressor 2\",\"Compressor 2\",\"Compressor 2\",\"Compressor 2\",\"Compressor 2\",\"Compressor 2\",\"Compressor 2\",\"Compressor 2\",\"Compressor 2\",\"Compressor 2\",\"Compressor 2\",\"Compressor 2\",\"Compressor 2\",\"Compressor 2\",\"Compressor 2\",\"Compressor 2\",\"Compressor 2\",\"Compressor 2\",\"Compressor 2\",\"Compressor 2\",\"Compressor 2\",\"Compressor 2\",\"Compressor 2\",\"Compressor 2\",\"Compressor 2\",\"Compressor 2\",\"Compressor 2\",\"Compressor 2\",\"Compressor 2\",\"Compressor 2\",\"Compressor 2\",\"Compressor 2\",\"Compressor 2\",\"Compressor 2\",\"Compressor 2\",\"Compressor 2\",\"Compressor 2\",\"Compressor 2\",\"Compressor 2\",\"Compressor 2\",\"Compressor 2\",\"Compressor 2\",\"Compressor 2\",\"Compressor 2\",\"Compressor 2\",\"Compressor 2\",\"Compressor 2\",\"Compressor 2\",\"Compressor 2\",\"Compressor 2\",\"Compressor 2\",\"Compressor 2\",\"Compressor 2\",\"Compressor 2\",\"Compressor 2\",\"Compressor 2\",\"Compressor 2\",\"Compressor 2\",\"Compressor 2\",\"Compressor 2\",\"Compressor 2\",\"Compressor 2\",\"Compressor 2\",\"Compressor 2\",\"Compressor 2\",\"Compressor 2\",\"Compressor 2\",\"Compressor 2\",\"Compressor 2\",\"Compressor 2\",\"Compressor 2\",\"Compressor 2\",\"Compressor 2\",\"Compressor 2\",\"Compressor 2\",\"Compressor 2\",\"Compressor 2\",\"Compressor 2\",\"Compressor 2\",\"Compressor 2\",\"Compressor 2\",\"Compressor 2\",\"Compressor 2\",\"Compressor 2\",\"Compressor 2\",\"Compressor 2\",\"Compressor 2\",\"Compressor 2\",\"Compressor 2\",\"Compressor 2\",\"Compressor 2\",\"Compressor 2\",\"Compressor 2\",\"Compressor 2\",\"Compressor 2\",\"Compressor 2\",\"Compressor 2\",\"Compressor 2\",\"Compressor 2\",\"Compressor 2\",\"Compressor 2\",\"Compressor 2\",\"Compressor 2\",\"Compressor 2\",\"Compressor 2\",\"Compressor 2\",\"Compressor 2\",\"Compressor 2\",\"Compressor 2\",\"Compressor 2\",\"Compressor 2\",\"Compressor 2\",\"Compressor 2\",\"Compressor 2\",\"Compressor 2\",\"Compressor 2\",\"Compressor 2\",\"Compressor 2\",\"Compressor 2\",\"Compressor 2\",\"Compressor 2\",\"Compressor 2\",\"Compressor 2\",\"Compressor 2\",\"Compressor 2\",\"Compressor 2\",\"Compressor 2\",\"Compressor 2\",\"Compressor 2\",\"Compressor 2\",\"Compressor 2\",\"Compressor 2\",\"Compressor 2\",\"Compressor 2\",\"Compressor 2\",\"Compressor 2\",\"Compressor 2\",\"Compressor 2\",\"Compressor 2\",\"Compressor 2\",\"Compressor 2\",\"Compressor 2\",\"Compressor 2\",\"Compressor 2\",\"Compressor 2\",\"Compressor 2\",\"Compressor 2\",\"Compressor 2\",\"Compressor 2\",\"Compressor 2\",\"Compressor 2\",\"Compressor 2\",\"Compressor 2\",\"Compressor 2\",\"Compressor 2\",\"Compressor 2\",\"Compressor 2\",\"Compressor 2\",\"Compressor 2\",\"Compressor 2\",\"Compressor 2\",\"Compressor 2\",\"Compressor 2\",\"Compressor 2\",\"Compressor 2\",\"Compressor 2\",\"Compressor 2\",\"Compressor 2\",\"Compressor 2\",\"Compressor 2\",\"Compressor 2\",\"Compressor 2\",\"Compressor 2\",\"Compressor 2\",\"Compressor 2\",\"Compressor 2\",\"Compressor 2\",\"Compressor 2\",\"Compressor 2\",\"Compressor 2\",\"Compressor 2\",\"Compressor 2\",\"Compressor 2\",\"Compressor 2\",\"Compressor 2\",\"Compressor 2\",\"Compressor 2\",\"Compressor 2\",\"Compressor 2\",\"Compressor 2\",\"Compressor 2\",\"Compressor 2\",\"Compressor 2\",\"Compressor 2\",\"Compressor 2\",\"Compressor 2\",\"Compressor 2\",\"Compressor 2\",\"Compressor 2\",\"Compressor 2\",\"Compressor 2\",\"Compressor 2\",\"Compressor 2\",\"Compressor 2\",\"Compressor 2\",\"Compressor 2\",\"Compressor 2\",\"Compressor 2\",\"Compressor 2\",\"Compressor 2\",\"Compressor 2\",\"Compressor 2\",\"Compressor 2\",\"Compressor 2\",\"Compressor 2\",\"Compressor 2\",\"Compressor 2\",\"Compressor 2\",\"Compressor 2\",\"Compressor 2\"],\"legendgroup\":\"Compressor 2\",\"line\":{\"color\":\"#EF553B\"},\"marker\":{\"symbol\":\"circle\"},\"mode\":\"lines\",\"name\":\"Compressor 2\",\"orientation\":\"v\",\"showlegend\":true,\"stackgroup\":\"1\",\"x\":[0.0,0.001,0.002,0.003,0.004,0.005,0.006,0.007,0.008,0.009000000000000001,0.01,0.011,0.012,0.013000000000000001,0.014,0.015,0.016,0.017,0.018000000000000002,0.019,0.02,0.021,0.022,0.023,0.024,0.025,0.026000000000000002,0.027,0.028,0.029,0.03,0.031,0.032,0.033,0.034,0.035,0.036000000000000004,0.037,0.038,0.039,0.04,0.041,0.042,0.043000000000000003,0.044,0.045,0.046,0.047,0.048,0.049,0.05,0.051000000000000004,0.052000000000000005,0.053,0.054,0.055,0.056,0.057,0.058,0.059000000000000004,0.06,0.061,0.062,0.063,0.064,0.065,0.066,0.067,0.068,0.069,0.07,0.07100000000000001,0.07200000000000001,0.073,0.074,0.075,0.076,0.077,0.078,0.079,0.08,0.081,0.082,0.083,0.084,0.085,0.08600000000000001,0.08700000000000001,0.088,0.089,0.09,0.091,0.092,0.093,0.094,0.095,0.096,0.097,0.098,0.099,0.1,0.101,0.10200000000000001,0.10300000000000001,0.10400000000000001,0.105,0.106,0.107,0.108,0.109,0.11,0.111,0.112,0.113,0.114,0.115,0.116,0.117,0.11800000000000001,0.11900000000000001,0.12,0.121,0.122,0.123,0.124,0.125,0.126,0.127,0.128,0.129,0.13,0.131,0.132,0.133,0.134,0.135,0.136,0.137,0.138,0.139,0.14,0.14100000000000001,0.14200000000000002,0.14300000000000002,0.14400000000000002,0.145,0.146,0.147,0.148,0.149,0.15,0.151,0.152,0.153,0.154,0.155,0.156,0.157,0.158,0.159,0.16,0.161,0.162,0.163,0.164,0.165,0.166,0.167,0.168,0.169,0.17,0.171,0.17200000000000001,0.17300000000000001,0.17400000000000002,0.17500000000000002,0.176,0.177,0.178,0.179,0.18,0.181,0.182,0.183,0.184,0.185,0.186,0.187,0.188,0.189,0.19,0.191,0.192,0.193,0.194,0.195,0.196,0.197,0.198,0.199,0.2,0.201,0.202,0.203,0.20400000000000001,0.20500000000000002,0.20600000000000002,0.20700000000000002,0.20800000000000002,0.209,0.21,0.211,0.212,0.213,0.214,0.215,0.216,0.217,0.218,0.219,0.22,0.221,0.222,0.223,0.224,0.225,0.226,0.227,0.228,0.229,0.23,0.231,0.232,0.233,0.234,0.23500000000000001,0.23600000000000002,0.23700000000000002,0.23800000000000002,0.23900000000000002,0.24,0.241,0.242,0.243,0.244,0.245,0.246,0.247,0.248,0.249,0.25,0.251,0.252,0.253,0.254,0.255,0.256,0.257,0.258,0.259,0.26,0.261,0.262,0.263,0.264,0.265,0.266,0.267,0.268,0.269,0.27,0.271,0.272,0.273,0.274,0.275,0.276,0.277,0.278,0.279,0.28,0.281,0.28200000000000003,0.28300000000000003,0.28400000000000003,0.28500000000000003,0.28600000000000003,0.28700000000000003,0.28800000000000003,0.289,0.29,0.291,0.292,0.293,0.294,0.295,0.296,0.297,0.298,0.299,0.3,0.301,0.302,0.303,0.304,0.305,0.306,0.307,0.308,0.309,0.31,0.311,0.312,0.313,0.314,0.315,0.316,0.317,0.318,0.319,0.32,0.321,0.322,0.323,0.324,0.325,0.326,0.327,0.328,0.329,0.33,0.331,0.332,0.333,0.334,0.335,0.336,0.337,0.338,0.339,0.34,0.341,0.342,0.343,0.34400000000000003,0.34500000000000003,0.34600000000000003,0.34700000000000003,0.34800000000000003,0.34900000000000003,0.35000000000000003,0.35100000000000003,0.352,0.353,0.354,0.355,0.356,0.357,0.358,0.359,0.36,0.361,0.362,0.363,0.364,0.365,0.366,0.367,0.368,0.369,0.37,0.371,0.372,0.373,0.374,0.375,0.376,0.377,0.378,0.379,0.38,0.381,0.382,0.383,0.384,0.385,0.386,0.387,0.388,0.389,0.39,0.391,0.392,0.393,0.394,0.395,0.396,0.397,0.398,0.399,0.4,0.401,0.402,0.403,0.404,0.405,0.406,0.40700000000000003,0.40800000000000003,0.40900000000000003,0.41000000000000003,0.41100000000000003,0.41200000000000003,0.41300000000000003,0.41400000000000003,0.41500000000000004,0.41600000000000004,0.417,0.418,0.419,0.42,0.421,0.422,0.423,0.424,0.425,0.426,0.427,0.428,0.429,0.43,0.431,0.432,0.433,0.434,0.435,0.436,0.437,0.438,0.439,0.44,0.441,0.442,0.443,0.444,0.445,0.446,0.447,0.448,0.449,0.45,0.451,0.452,0.453,0.454,0.455,0.456,0.457,0.458,0.459,0.46,0.461,0.462,0.463,0.464,0.465,0.466,0.467,0.468,0.46900000000000003,0.47000000000000003,0.47100000000000003,0.47200000000000003,0.47300000000000003,0.47400000000000003,0.47500000000000003,0.47600000000000003,0.47700000000000004,0.47800000000000004,0.47900000000000004,0.48,0.481,0.482,0.483,0.484,0.485,0.486,0.487,0.488,0.489,0.49,0.491,0.492,0.493,0.494,0.495,0.496,0.497,0.498,0.499,0.5,0.501,0.502,0.503,0.504,0.505,0.506,0.507,0.508,0.509,0.51,0.511,0.512,0.513,0.514,0.515,0.516,0.517,0.518,0.519,0.52,0.521,0.522,0.523,0.524,0.525,0.526,0.527,0.528,0.529,0.53,0.531,0.532,0.533,0.534,0.535,0.536,0.537,0.538,0.539,0.54,0.541,0.542,0.543,0.544,0.545,0.546,0.547,0.548,0.549,0.55,0.551,0.552,0.553,0.554,0.555,0.556,0.557,0.558,0.559,0.56,0.561,0.562,0.5630000000000001,0.5640000000000001,0.5650000000000001,0.5660000000000001,0.5670000000000001,0.5680000000000001,0.5690000000000001,0.5700000000000001,0.5710000000000001,0.5720000000000001,0.5730000000000001,0.5740000000000001,0.5750000000000001,0.5760000000000001,0.577,0.578,0.579,0.58,0.581,0.582,0.583,0.584,0.585,0.586,0.587,0.588,0.589,0.59,0.591,0.592,0.593,0.594,0.595,0.596,0.597,0.598,0.599,0.6,0.601,0.602,0.603,0.604,0.605,0.606,0.607,0.608,0.609,0.61,0.611,0.612,0.613,0.614,0.615,0.616,0.617,0.618,0.619,0.62,0.621,0.622,0.623,0.624,0.625,0.626,0.627,0.628,0.629,0.63,0.631,0.632,0.633,0.634,0.635,0.636,0.637,0.638,0.639,0.64,0.641,0.642,0.643,0.644,0.645,0.646,0.647,0.648,0.649,0.65,0.651,0.652,0.653,0.654,0.655,0.656,0.657,0.658,0.659,0.66,0.661,0.662,0.663,0.664,0.665,0.666,0.667,0.668,0.669,0.67,0.671,0.672,0.673,0.674,0.675,0.676,0.677,0.678,0.679,0.68,0.681,0.682,0.683,0.684,0.685,0.686,0.687,0.6880000000000001,0.6890000000000001,0.6900000000000001,0.6910000000000001,0.6920000000000001,0.6930000000000001,0.6940000000000001,0.6950000000000001,0.6960000000000001,0.6970000000000001,0.6980000000000001,0.6990000000000001,0.7000000000000001,0.7010000000000001,0.7020000000000001,0.7030000000000001,0.704,0.705,0.706,0.707,0.708,0.709,0.71,0.711,0.712,0.713,0.714,0.715,0.716,0.717,0.718,0.719,0.72,0.721,0.722,0.723,0.724,0.725,0.726,0.727,0.728,0.729,0.73,0.731,0.732,0.733,0.734,0.735,0.736,0.737,0.738,0.739,0.74,0.741,0.742,0.743,0.744,0.745,0.746,0.747,0.748,0.749,0.75,0.751,0.752,0.753,0.754,0.755,0.756,0.757,0.758,0.759,0.76,0.761,0.762,0.763,0.764,0.765,0.766,0.767,0.768,0.769,0.77,0.771,0.772,0.773,0.774,0.775,0.776,0.777,0.778,0.779,0.78,0.781,0.782,0.783,0.784,0.785,0.786,0.787,0.788,0.789,0.79,0.791,0.792,0.793,0.794,0.795,0.796,0.797,0.798,0.799,0.8,0.801,0.802,0.803,0.804,0.805,0.806,0.807,0.808,0.809,0.81,0.811,0.812,0.8130000000000001,0.8140000000000001,0.8150000000000001,0.8160000000000001,0.8170000000000001,0.8180000000000001,0.8190000000000001,0.8200000000000001,0.8210000000000001,0.8220000000000001,0.8230000000000001,0.8240000000000001,0.8250000000000001,0.8260000000000001,0.8270000000000001,0.8280000000000001,0.8290000000000001,0.8300000000000001,0.8310000000000001,0.8320000000000001,0.833,0.834,0.835,0.836,0.837,0.838,0.839,0.84,0.841,0.842,0.843,0.844,0.845,0.846,0.847,0.848,0.849,0.85,0.851,0.852,0.853,0.854,0.855,0.856,0.857,0.858,0.859,0.86,0.861,0.862,0.863,0.864,0.865,0.866,0.867,0.868,0.869,0.87,0.871,0.872,0.873,0.874,0.875,0.876,0.877,0.878,0.879,0.88,0.881,0.882,0.883,0.884,0.885,0.886,0.887,0.888,0.889,0.89,0.891,0.892,0.893,0.894,0.895,0.896,0.897,0.898,0.899,0.9,0.901,0.902,0.903,0.904,0.905,0.906,0.907,0.908,0.909,0.91,0.911,0.912,0.913,0.914,0.915,0.916,0.917,0.918,0.919,0.92,0.921,0.922,0.923,0.924,0.925,0.926,0.927,0.928,0.929,0.93,0.931,0.932,0.933,0.934,0.935,0.936,0.937,0.9380000000000001,0.9390000000000001,0.9400000000000001,0.9410000000000001,0.9420000000000001,0.9430000000000001,0.9440000000000001,0.9450000000000001,0.9460000000000001,0.9470000000000001,0.9480000000000001,0.9490000000000001,0.9500000000000001,0.9510000000000001,0.9520000000000001,0.9530000000000001,0.9540000000000001,0.9550000000000001,0.9560000000000001,0.9570000000000001,0.9580000000000001,0.9590000000000001,0.96,0.961,0.962,0.963,0.964,0.965,0.966,0.967,0.968,0.969,0.97,0.971,0.972,0.973,0.974,0.975,0.976,0.977,0.978,0.979,0.98,0.981,0.982,0.983,0.984,0.985,0.986,0.987,0.988,0.989,0.99,0.991,0.992,0.993,0.994,0.995,0.996,0.997,0.998,0.999,1.0,1.0010000000000001,1.002,1.0030000000000001,1.004,1.0050000000000001,1.006,1.0070000000000001,1.008,1.0090000000000001,1.01,1.0110000000000001,1.012,1.0130000000000001,1.014,1.0150000000000001,1.016,1.0170000000000001,1.018,1.0190000000000001,1.02,1.0210000000000001,1.022,1.0230000000000001,1.024,1.025,1.026,1.027,1.028,1.029,1.03,1.031,1.032,1.033,1.034,1.035,1.036,1.037,1.038,1.039,1.04,1.041,1.042,1.043,1.044,1.045,1.046,1.047,1.048,1.049,1.05,1.051,1.052,1.053,1.054,1.055,1.056,1.057,1.058,1.059,1.06,1.061,1.062,1.063,1.064,1.065,1.066,1.067,1.068,1.069,1.07,1.071,1.072,1.073,1.074,1.075,1.076,1.077,1.078,1.079,1.08,1.081,1.082,1.083,1.084,1.085,1.086,1.087,1.088,1.089,1.09,1.091,1.092,1.093,1.094,1.095,1.096,1.097,1.098,1.099,1.1,1.101,1.102,1.103,1.104,1.105,1.106,1.107,1.108,1.109,1.11,1.111,1.112,1.113,1.114,1.115,1.116,1.117,1.118,1.119,1.12,1.121,1.122,1.123,1.124,1.125,1.1260000000000001,1.127,1.1280000000000001,1.129,1.1300000000000001,1.131,1.1320000000000001,1.133,1.1340000000000001,1.135,1.1360000000000001,1.137,1.1380000000000001,1.139,1.1400000000000001,1.141,1.1420000000000001,1.143,1.1440000000000001,1.145,1.1460000000000001,1.147,1.1480000000000001,1.149,1.1500000000000001,1.151,1.1520000000000001,1.153,1.154,1.155,1.156,1.157,1.158,1.159,1.16,1.161,1.162,1.163,1.164,1.165,1.166,1.167,1.168,1.169,1.17,1.171,1.172,1.173,1.174,1.175,1.176,1.177,1.178,1.179,1.18,1.181,1.182,1.183,1.184,1.185,1.186,1.187,1.188,1.189,1.19,1.191,1.192,1.193,1.194,1.195,1.196,1.197,1.198,1.199,1.2,1.201,1.202,1.203,1.204,1.205,1.206,1.207,1.208,1.209,1.21,1.211,1.212,1.213,1.214,1.215,1.216,1.217,1.218,1.219,1.22,1.221,1.222,1.223,1.224,1.225,1.226,1.227,1.228,1.229,1.23,1.231,1.232,1.233,1.234,1.235,1.236,1.237,1.238,1.239,1.24,1.241,1.242,1.243,1.244,1.245,1.246,1.247,1.248,1.249,1.25,1.2510000000000001,1.252,1.2530000000000001,1.254,1.2550000000000001,1.256,1.2570000000000001,1.258,1.2590000000000001,1.26,1.2610000000000001,1.262,1.2630000000000001,1.264,1.2650000000000001,1.266,1.2670000000000001,1.268,1.2690000000000001,1.27,1.2710000000000001,1.272,1.2730000000000001,1.274,1.2750000000000001,1.276,1.2770000000000001,1.278,1.2790000000000001,1.28,1.281,1.282,1.283,1.284,1.285,1.286,1.287,1.288,1.289,1.29,1.291,1.292,1.293,1.294,1.295,1.296,1.297,1.298,1.299,1.3,1.301,1.302,1.303,1.304,1.305,1.306,1.307,1.308,1.309,1.31,1.311,1.312,1.313,1.314,1.315,1.316,1.317,1.318,1.319,1.32,1.321,1.322,1.323,1.324,1.325,1.326,1.327,1.328,1.329,1.33,1.331,1.332,1.333,1.334,1.335,1.336,1.337,1.338,1.339,1.34,1.341,1.342,1.343,1.344,1.345,1.346,1.347,1.348,1.349,1.35,1.351,1.352,1.353,1.354,1.355,1.356,1.357,1.358,1.359,1.36,1.361,1.362,1.363,1.364,1.365,1.366,1.367,1.368,1.369,1.37,1.371,1.372,1.373,1.374,1.375,1.3760000000000001,1.377,1.3780000000000001,1.379,1.3800000000000001,1.381,1.3820000000000001,1.383,1.3840000000000001,1.385,1.3860000000000001,1.387,1.3880000000000001,1.389,1.3900000000000001,1.391,1.3920000000000001,1.393,1.3940000000000001,1.395,1.3960000000000001,1.397,1.3980000000000001,1.399,1.4000000000000001,1.401,1.4020000000000001,1.403,1.4040000000000001,1.405,1.4060000000000001,1.407,1.408,1.409,1.41,1.411,1.412,1.413,1.414,1.415,1.416,1.417,1.418,1.419,1.42,1.421,1.422,1.423,1.424,1.425,1.426,1.427,1.428,1.429,1.43,1.431,1.432,1.433,1.434,1.435,1.436,1.437,1.438,1.439,1.44,1.441,1.442,1.443,1.444,1.445,1.446,1.447,1.448,1.449,1.45,1.451,1.452,1.453,1.454,1.455,1.456,1.457,1.458,1.459,1.46,1.461,1.462,1.463,1.464,1.465,1.466,1.467,1.468,1.469,1.47,1.471,1.472,1.473,1.474,1.475,1.476,1.477,1.478,1.479,1.48,1.481,1.482,1.483,1.484,1.485,1.486,1.487,1.488,1.489,1.49,1.491,1.492,1.493,1.494,1.495,1.496,1.497,1.498,1.499,1.5,1.5010000000000001,1.502,1.5030000000000001,1.504,1.5050000000000001,1.506,1.5070000000000001,1.508,1.5090000000000001,1.51,1.5110000000000001,1.512,1.5130000000000001,1.514,1.5150000000000001,1.516,1.5170000000000001,1.518,1.5190000000000001,1.52,1.5210000000000001,1.522,1.5230000000000001,1.524,1.5250000000000001,1.526,1.5270000000000001,1.528,1.5290000000000001,1.53,1.5310000000000001,1.532,1.5330000000000001,1.534,1.5350000000000001,1.536,1.537,1.538,1.539,1.54,1.541,1.542,1.543,1.544,1.545,1.546,1.547,1.548,1.549,1.55,1.551,1.552,1.553,1.554,1.555,1.556,1.557,1.558,1.559,1.56,1.561,1.562,1.563,1.564,1.565,1.566,1.567,1.568,1.569,1.57,1.571,1.572,1.573,1.574,1.575,1.576,1.577,1.578,1.579,1.58,1.581,1.582,1.583,1.584,1.585,1.586,1.587,1.588,1.589,1.59,1.591,1.592,1.593,1.594,1.595,1.596,1.597,1.598,1.599,1.6,1.601,1.602,1.603,1.604,1.605,1.606,1.607,1.608,1.609,1.61,1.611,1.612,1.613,1.614,1.615,1.616,1.617,1.618,1.619,1.62,1.621,1.622,1.623,1.624,1.625,1.6260000000000001,1.627,1.6280000000000001,1.629,1.6300000000000001,1.631,1.6320000000000001,1.633,1.6340000000000001,1.635,1.6360000000000001,1.637,1.6380000000000001,1.639,1.6400000000000001,1.641,1.6420000000000001,1.643,1.6440000000000001,1.645,1.6460000000000001,1.647,1.6480000000000001,1.649,1.6500000000000001,1.651,1.6520000000000001,1.653,1.6540000000000001,1.655,1.6560000000000001,1.657,1.6580000000000001,1.659,1.6600000000000001,1.661,1.6620000000000001,1.663,1.6640000000000001,1.665,1.666,1.667,1.668,1.669,1.67,1.671,1.672,1.673,1.674,1.675,1.676,1.677,1.678,1.679,1.68,1.681,1.682,1.683,1.684,1.685,1.686,1.687,1.688,1.689,1.69,1.691,1.692,1.693,1.694,1.695,1.696,1.697,1.698,1.699,1.7,1.701,1.702,1.703,1.704,1.705,1.706,1.707,1.708,1.709,1.71,1.711,1.712,1.713,1.714,1.715,1.716,1.717,1.718,1.719,1.72,1.721,1.722,1.723,1.724,1.725,1.726,1.727,1.728,1.729,1.73,1.731,1.732,1.733,1.734,1.735,1.736,1.737,1.738,1.739,1.74,1.741,1.742,1.743,1.744,1.745,1.746,1.747,1.748,1.749,1.75,1.7510000000000001,1.752,1.7530000000000001,1.754,1.7550000000000001,1.756,1.7570000000000001,1.758,1.7590000000000001,1.76,1.7610000000000001,1.762,1.7630000000000001,1.764,1.7650000000000001,1.766,1.7670000000000001,1.768,1.7690000000000001,1.77,1.7710000000000001,1.772,1.7730000000000001,1.774,1.7750000000000001,1.776,1.7770000000000001,1.778,1.7790000000000001,1.78,1.7810000000000001,1.782,1.7830000000000001,1.784,1.7850000000000001,1.786,1.7870000000000001,1.788,1.7890000000000001,1.79,1.7910000000000001,1.792,1.793,1.794,1.795,1.796,1.797,1.798,1.799,1.8,1.801,1.802,1.803,1.804,1.805,1.806,1.807,1.808,1.809,1.81,1.811,1.812,1.813,1.814,1.815,1.816,1.817,1.818,1.819,1.82,1.821,1.822,1.823,1.824,1.825,1.826,1.827,1.828,1.829,1.83,1.831,1.832,1.833,1.834,1.835,1.836,1.837,1.838,1.839,1.84,1.841,1.842,1.843,1.844,1.845,1.846,1.847,1.848,1.849,1.85,1.851,1.852,1.853,1.854,1.855,1.856,1.857,1.858,1.859,1.86,1.861,1.862,1.863,1.864,1.865,1.866,1.867,1.868,1.869,1.87,1.871,1.872,1.873,1.874,1.875,1.8760000000000001,1.877,1.8780000000000001,1.879,1.8800000000000001,1.881,1.8820000000000001,1.883,1.8840000000000001,1.885,1.8860000000000001,1.887,1.8880000000000001,1.889,1.8900000000000001,1.891,1.8920000000000001,1.893,1.8940000000000001,1.895,1.8960000000000001,1.897,1.8980000000000001,1.899,1.9000000000000001,1.901,1.9020000000000001,1.903,1.9040000000000001,1.905,1.9060000000000001,1.907,1.9080000000000001,1.909,1.9100000000000001,1.911,1.9120000000000001,1.913,1.9140000000000001,1.915,1.9160000000000001,1.917,1.9180000000000001,1.919,1.92,1.921,1.922,1.923,1.924,1.925],\"xaxis\":\"x\",\"y\":[0.0,null,null,null,null,null,null,null,null,null,null,null,null,null,null,null,null,null,null,null,null,null,null,null,null,null,null,null,null,null,null,null,null,null,null,null,null,null,null,null,null,null,null,null,null,null,null,null,null,null,null,null,null,null,null,null,null,null,null,null,null,null,null,null,null,null,null,null,null,null,null,null,null,null,null,null,null,null,null,null,null,null,null,null,null,null,null,null,null,null,null,null,null,null,null,null,null,null,null,null,null,null,null,null,null,null,null,null,null,null,null,null,null,null,null,null,null,null,null,null,null,null,null,null,null,null,null,null,null,null,null,null,null,null,null,null,null,null,null,null,null,null,null,null,null,null,null,null,null,null,null,null,null,null,null,null,null,null,null,null,null,null,null,null,null,null,null,null,null,null,null,null,null,null,null,null,null,null,null,null,null,null,null,null,null,null,null,null,null,null,null,null,null,null,null,null,null,null,null,null,null,null,null,null,null,null,null,null,null,null,null,null,null,null,null,null,null,null,null,null,null,null,null,null,null,null,null,null,null,null,null,null,null,null,null,null,null,null,null,null,null,null,null,null,null,null,null,null,null,null,null,null,null,null,null,null,null,null,null,null,null,null,null,null,null,null,null,null,null,null,null,null,null,null,null,null,null,null,null,null,null,null,null,null,null,null,null,null,null,null,null,null,null,null,null,null,null,null,null,null,null,null,null,null,null,null,null,null,null,null,null,null,null,null,null,null,null,null,null,null,null,null,null,null,null,null,null,null,null,null,null,null,null,null,null,null,null,null,null,null,null,null,null,null,null,null,null,null,null,null,null,null,null,null,null,null,null,null,null,null,null,null,null,null,null,null,null,null,null,null,null,null,null,null,null,null,null,null,null,null,null,null,null,null,null,null,null,null,null,null,null,null,null,null,null,null,null,null,null,null,null,null,null,null,null,null,null,null,null,null,null,null,null,null,null,null,null,null,null,null,null,null,null,null,null,null,null,null,null,null,null,null,null,null,null,null,null,null,null,null,null,null,null,null,null,null,null,null,null,null,null,null,null,null,null,null,null,null,null,null,null,null,null,null,null,null,null,null,null,null,null,null,null,null,null,null,null,null,null,null,null,null,null,null,null,null,null,null,null,null,null,null,null,null,null,null,null,null,null,null,0.0,0.0,0.0,0.0,0.0,0.0,0.0,0.0,0.0,0.0,0.0,0.0,0.0,0.0,0.0,0.0,0.0,0.0,0.0,0.0,0.0,0.0,0.0,0.0,0.0,0.0,0.0,0.0,0.0,0.0,0.0,0.0,0.0,0.0,0.0,0.0,0.0,0.0,0.0,0.0,0.0,0.0,0.0,0.0,0.0,0.0,0.0,0.0,0.0,0.0,0.0,0.0,0.0,0.0,0.0,0.0,0.0,0.0,0.0,0.0,0.0,0.0,0.0,0.0,0.0,0.0,0.0,0.0,0.0,0.0,0.0,0.0,0.0,0.0,0.0,0.0,0.0,0.0,0.0,0.0,0.0,0.0,0.0,0.0,0.0,0.0,0.0,0.0,0.0,0.0,0.0,0.0,0.0,0.0,0.0,0.0,0.0,0.0,0.0,0.0,0.0,0.0,0.0,0.0,0.0,0.0,0.0,0.0,0.0,0.0,0.0,0.0,0.0,0.0,0.0,0.0,0.0,0.0,0.0,0.0,0.0,0.0,0.0,0.0,0.0,0.0,0.0,0.0,0.0,0.0,0.0,0.0,0.0,0.0,0.0,0.0,0.0,0.0,0.0,0.0,0.0,0.0,0.0,0.0,0.0,0.0,0.0,0.0,0.0,0.0,0.0,0.0,0.0,0.0,0.0,0.0,0.0,0.0,0.0,0.0,0.0,0.0,0.0,0.0,0.0,0.0,0.0,0.0,0.0,0.0,0.0,0.0,0.0,0.0,0.0,0.0,0.0,0.0,0.0,0.0,0.0,0.0,0.0,0.0,0.0,0.0,0.0,0.0,0.0,0.0,0.0,0.0,0.0,0.0,0.0,0.0,0.0,0.0,0.0,0.0,0.0,0.0,0.0,0.0,0.0,0.0,0.0,0.0,0.0,0.0,0.0,0.0,0.0,0.0,0.0,0.0,0.0,0.0,0.0,0.0,0.0,0.0,0.0,0.0,0.0,0.0,0.0,0.0,0.0,0.0,0.0,0.0,0.0,0.0,0.0,0.0,0.0,0.0,0.0,0.0,0.0,0.0,0.0,0.0,0.0,0.0,0.0,0.0,0.0,0.0,0.0,0.0,0.0,0.0,0.0,0.0,0.0,0.0,0.0,0.0,0.0,0.0,0.0,0.0,0.0,0.0,0.0,0.0,0.0,0.0,0.0,0.0,0.0,0.0,0.0,0.0,0.0,0.0,0.0,0.0,0.0,0.0,0.0,0.0,0.0,0.0,0.0,0.0,0.0,0.0,0.0,0.0,0.0,0.0,0.0,0.0,0.0,0.0,0.0,0.0,0.0,0.0,0.0,0.0,0.0,0.0,0.0,0.0,0.0,0.0,0.0,0.0,0.0,0.0,0.0,0.0,0.0,0.0,0.0,0.0,0.0,0.0,0.0,0.0,0.0,0.0,0.0,0.0,0.0,0.0,0.0,0.0,0.0,0.0,0.0,0.0,0.0,0.0,0.0,0.0,0.0,0.0,0.0,0.0,0.0,0.0,0.0,0.0,0.0,0.0,0.0,0.0,0.0,0.0,0.0,0.0,0.0,0.0,0.0,0.0,0.0,0.0,0.0,0.0,0.0,0.0,0.0,0.0,0.0,0.0,0.0,0.0,0.0,0.0,0.0,0.0,0.0,0.0,0.0,0.0,0.0,0.0,0.0,0.0,0.0,0.0,0.0,0.0,0.0,0.0,0.0,0.0,0.0,0.0,0.0,0.0,0.0,0.0,0.0,0.0,0.0,0.0,0.0,0.0,0.0,0.0,0.0,0.0,0.0,0.0,0.0,0.0,0.0,0.0,0.0,0.0,0.0,0.0,0.0,0.0,0.0,0.0,0.0,0.0,0.0,0.0,0.0,0.0,0.0,0.0,0.0,0.0,0.0,0.0,0.0,0.0,0.0,0.0,0.0,0.0,0.0,0.0,0.0,0.0,0.0,0.0,0.0,0.0,0.0,0.0,0.0,0.0,0.0,0.0,0.0,0.0,0.0,0.0,0.0,0.0,0.0,0.0,0.0,0.0,0.0,0.0,0.0,0.0,0.0,0.0,0.0,0.0,0.0,0.0,0.0,0.0,0.0,0.0,0.0,0.0,0.0,0.0,0.0,0.0,0.0,0.0,0.0,0.0,0.0,0.0,0.0,0.0,0.0,0.0,0.0,0.0,0.0,0.0,0.0,0.0,0.0,0.5010000000000001,0.502,0.5030000000000001,0.504,0.5050000000000001,0.506,0.5070000000000001,0.508,0.5090000000000001,0.51,0.5110000000000001,0.512,0.5130000000000001,0.514,0.5150000000000001,0.516,0.5170000000000001,0.518,0.5190000000000001,0.52,0.5210000000000001,0.522,0.5230000000000001,0.524,0.5249999999999999,0.526,0.5269999999999999,0.528,0.5289999999999999,0.53,0.5309999999999999,0.532,0.5329999999999999,0.534,0.5349999999999999,0.536,0.5369999999999999,0.538,0.5389999999999999,0.54,0.5409999999999999,0.542,0.5429999999999999,0.544,0.5449999999999999,0.546,0.5469999999999999,0.548,0.5489999999999999,0.55,0.5509999999999999,0.552,0.5529999999999999,0.554,0.5549999999999999,0.556,0.5569999999999999,0.558,0.5589999999999999,0.56,0.5609999999999999,0.562,0.563,0.5640000000000001,0.565,0.5660000000000001,0.567,0.5680000000000001,0.569,0.5700000000000001,0.571,0.5720000000000001,0.573,0.5740000000000001,0.575,0.5760000000000001,0.577,0.5780000000000001,0.579,0.5800000000000001,0.581,0.5820000000000001,0.583,0.5840000000000001,0.585,0.5860000000000001,0.587,0.5880000000000001,0.589,0.5900000000000001,0.591,0.5920000000000001,0.593,0.5940000000000001,0.595,0.5960000000000001,0.597,0.5980000000000001,0.599,0.6000000000000001,0.601,0.6020000000000001,0.603,0.6040000000000001,0.605,0.6060000000000001,0.607,0.6080000000000001,0.609,0.6100000000000001,0.611,0.6120000000000001,0.613,0.6140000000000001,0.615,0.6160000000000001,0.617,0.6180000000000001,0.619,0.6200000000000001,0.621,0.6220000000000001,0.623,0.6240000000000001,0.625,0.6260000000000001,0.627,0.6280000000000001,0.629,0.6300000000000001,0.631,0.6320000000000001,0.633,0.6340000000000001,0.635,0.6360000000000001,0.637,0.6380000000000001,0.639,0.6400000000000001,0.641,0.6420000000000001,0.643,0.6440000000000001,0.645,0.6460000000000001,0.647,0.6480000000000001,0.649,0.6500000000000001,0.651,0.6520000000000001,0.653,0.6539999999999999,0.655,0.6559999999999999,0.657,0.6579999999999999,0.659,0.6599999999999999,0.661,0.6619999999999999,0.663,0.6639999999999999,0.665,0.6659999999999999,0.667,0.6679999999999999,0.669,0.6699999999999999,0.671,0.6719999999999999,0.673,0.6739999999999999,0.675,0.6759999999999999,0.677,0.6779999999999999,0.679,0.6799999999999999,0.681,0.6819999999999999,0.683,0.6839999999999999,0.685,0.6859999999999999,0.687,0.688,0.6890000000000001,0.69,0.6910000000000001,0.692,0.6930000000000001,0.694,0.6950000000000001,0.696,0.6970000000000001,0.698,0.6990000000000001,0.7,0.7010000000000001,0.702,0.7030000000000001,0.704,0.7050000000000001,0.706,0.7070000000000001,0.708,0.7090000000000001,0.71,0.7110000000000001,0.712,0.7130000000000001,0.714,0.7150000000000001,0.716,0.7170000000000001,0.718,0.7190000000000001,0.72,0.7210000000000001,0.722,0.7230000000000001,0.724,0.7250000000000001,0.726,0.7270000000000001,0.728,0.7290000000000001,0.73,0.7310000000000001,0.732,0.7330000000000001,0.734,0.7350000000000001,0.736,0.7370000000000001,0.738,0.7390000000000001,0.74,0.7410000000000001,0.742,0.7430000000000001,0.744,0.7450000000000001,0.746,0.7470000000000001,0.748,0.7490000000000001,0.75,0.75,0.75,0.75,0.75,0.75,0.75,0.75,0.75,0.75,0.75,0.75,0.75,0.75,0.75,0.75,0.75,0.75,0.75,0.75,0.75,0.75,0.75,0.75,0.75,0.75,0.75,0.75,0.75,0.75,0.75,0.75,0.75,0.75,0.75,0.75,0.75,0.75,0.75,0.75,0.75,0.75,0.75,0.75,0.75,0.75,0.75,0.75,0.75,0.75,0.75,0.75,0.75,0.75,0.75,0.75,0.75,0.75,0.75,0.75,0.75,0.75,0.75,0.75,0.75,0.75,0.75,0.75,0.75,0.75,0.75,0.75,0.75,0.75,0.75,0.75,0.75,0.75,0.75,0.75,0.75,0.75,0.75,0.75,0.75,0.75,0.75,0.75,0.75,0.75,0.75,0.75,0.75,0.75,0.75,0.75,0.75,0.75,0.75,0.75,0.75,0.75,0.75,0.75,0.75,0.75,0.75,0.75,0.75,0.75,0.75,0.75,0.75,0.75,0.75,0.75,0.75,0.75,0.75,0.75,0.75,0.75,0.75,0.75,0.75,0.75,0.75,0.75,0.75,0.75,0.75,0.75,0.75,0.75,0.75,0.75,0.75,0.75,0.75,0.75,0.75,0.75,0.75,0.75,0.75,0.75,0.75,0.75,0.75,0.75,0.75,0.75,0.75,0.75,0.75,0.75,0.75,0.75,0.75,0.75,0.75,0.75,0.75,0.75,0.75,0.75,0.75,0.75,0.75,0.75,0.75,0.75,0.75,0.75,0.75,0.75,0.75,0.75,0.75,0.75,0.75,0.75,0.75,0.75,0.75,0.75,0.75,0.75,0.75,0.75,0.75,0.75,0.75,0.75,0.75,0.75,0.75,0.75,0.75,0.75,0.75,0.75,0.75,0.75,0.75,0.75,0.75,0.75,0.75,0.75,0.75,0.75,0.75,0.75,0.75,0.75,0.75,0.75,0.75,0.75,0.75,0.75,0.75,0.75,0.75,0.75,0.75,0.75,0.75,0.75,0.75,0.75,0.75,0.75,0.75,0.75,0.75,0.75,0.75,0.75,0.75,0.75,0.75,0.75,0.75,0.75,0.75,0.75,0.75,0.75,0.75,0.75,0.75,0.75,0.75,0.75,0.75,0.75,0.75,0.75,0.75,0.75,0.75,0.75,0.75,0.75,0.75,0.75,0.75,0.75,0.75,0.75,0.75,0.75,0.75,0.75,0.75,0.75,0.75,0.75,0.75,0.75,0.75,0.75,0.75,0.75,0.75,0.75,0.75,0.75,0.75,0.75,0.75,0.75,0.75,0.75,0.75,0.75,0.75,0.75,0.75,0.75,0.75,0.75,0.75,0.75,0.75,0.75,0.75,0.75,0.75,0.75,0.75,0.75,0.75,0.75,0.75,0.75,0.75,0.75,0.75,0.75,0.75,0.75,0.75,0.75,0.75,0.75,0.75,0.75,0.75,0.75,0.75,0.75,0.75,0.75,0.75,0.75,0.75,0.75,0.75,0.75,0.75,0.75,0.75,0.75,0.75,0.75,0.75,0.75,0.75,0.75,0.75,0.75,0.75,0.75,0.75,0.75,0.75,0.75,0.75,0.75,0.75,0.75,0.75,0.75,0.75,0.75,0.75,0.75,0.75,0.75,0.75,0.75,0.75,0.75,0.75,0.75,0.75,0.75,0.75,0.75,0.75,0.75,0.75,0.75,0.75,0.75,0.75,0.75,0.75,0.75,0.75,0.75,0.75,0.75,0.75,0.75,0.75,0.75,0.75,0.75,0.75,0.75,0.75,0.75,0.75,0.75,0.75,0.75,0.75,0.75,0.75,0.75,0.75,0.75,0.75,0.75,0.75,0.75,0.75,0.75,0.75,0.75,0.75,0.75,0.75,0.75,0.75,0.75,0.75,0.75,0.75,0.75,0.75,0.75,0.75,0.75,0.75,0.75,0.75,0.75,0.75,0.75,0.75,0.75,0.75,0.75,0.75,0.75,0.75,0.75,0.75,0.75,0.75,0.75,0.75,0.75,0.75,0.75,0.75,0.75,0.75,0.75,0.75,0.75,0.75,0.75,0.75,0.75,0.75,0.75,0.75,0.75,0.75,0.75,0.75,0.75,0.75,0.75,0.75,0.75,0.75,0.75,0.75,0.75,0.75,0.75,0.75,0.75,0.75,0.75,0.75,0.75,0.75,0.75,0.75,0.75,0.75,0.75,0.75,null,null,null,null,null,null,null,null,null,null,null,null,null,null,null,null,null,null,null,null,null,null,null,null,null,null,null,null,null,null,null,null,null,null,null,null,null,null,null,null,null,null,null,null,null,null,null,null,null,null,null,null,null,null,null,null,null,null,null,null,null,null,null,null,null,null,null,null,null,null,null,null,null,null,null,null,null,null,null,null,null,null,null,null,null,null,null,null,null,null,null,null,null,null,null,null,null,null,null,null,null,null,null,null,null,null,null,null,null,null,null,null,null,null,null,null,null,null,null,null,null,null,null,null,null,null,null,null,null,null,null,null,null,null,null,null,null,null,null,null,null,null,null,null,null,null,null,null,null,null,null,null,null,null,null,null,null,null,null,null,null,null,null,null,null,null,null,null,null,null,null,null,null,null,null],\"yaxis\":\"y\",\"type\":\"scatter\"}],                        {\"template\":{\"data\":{\"histogram2dcontour\":[{\"type\":\"histogram2dcontour\",\"colorbar\":{\"outlinewidth\":0,\"ticks\":\"\"},\"colorscale\":[[0.0,\"#0d0887\"],[0.1111111111111111,\"#46039f\"],[0.2222222222222222,\"#7201a8\"],[0.3333333333333333,\"#9c179e\"],[0.4444444444444444,\"#bd3786\"],[0.5555555555555556,\"#d8576b\"],[0.6666666666666666,\"#ed7953\"],[0.7777777777777778,\"#fb9f3a\"],[0.8888888888888888,\"#fdca26\"],[1.0,\"#f0f921\"]]}],\"choropleth\":[{\"type\":\"choropleth\",\"colorbar\":{\"outlinewidth\":0,\"ticks\":\"\"}}],\"histogram2d\":[{\"type\":\"histogram2d\",\"colorbar\":{\"outlinewidth\":0,\"ticks\":\"\"},\"colorscale\":[[0.0,\"#0d0887\"],[0.1111111111111111,\"#46039f\"],[0.2222222222222222,\"#7201a8\"],[0.3333333333333333,\"#9c179e\"],[0.4444444444444444,\"#bd3786\"],[0.5555555555555556,\"#d8576b\"],[0.6666666666666666,\"#ed7953\"],[0.7777777777777778,\"#fb9f3a\"],[0.8888888888888888,\"#fdca26\"],[1.0,\"#f0f921\"]]}],\"heatmap\":[{\"type\":\"heatmap\",\"colorbar\":{\"outlinewidth\":0,\"ticks\":\"\"},\"colorscale\":[[0.0,\"#0d0887\"],[0.1111111111111111,\"#46039f\"],[0.2222222222222222,\"#7201a8\"],[0.3333333333333333,\"#9c179e\"],[0.4444444444444444,\"#bd3786\"],[0.5555555555555556,\"#d8576b\"],[0.6666666666666666,\"#ed7953\"],[0.7777777777777778,\"#fb9f3a\"],[0.8888888888888888,\"#fdca26\"],[1.0,\"#f0f921\"]]}],\"heatmapgl\":[{\"type\":\"heatmapgl\",\"colorbar\":{\"outlinewidth\":0,\"ticks\":\"\"},\"colorscale\":[[0.0,\"#0d0887\"],[0.1111111111111111,\"#46039f\"],[0.2222222222222222,\"#7201a8\"],[0.3333333333333333,\"#9c179e\"],[0.4444444444444444,\"#bd3786\"],[0.5555555555555556,\"#d8576b\"],[0.6666666666666666,\"#ed7953\"],[0.7777777777777778,\"#fb9f3a\"],[0.8888888888888888,\"#fdca26\"],[1.0,\"#f0f921\"]]}],\"contourcarpet\":[{\"type\":\"contourcarpet\",\"colorbar\":{\"outlinewidth\":0,\"ticks\":\"\"}}],\"contour\":[{\"type\":\"contour\",\"colorbar\":{\"outlinewidth\":0,\"ticks\":\"\"},\"colorscale\":[[0.0,\"#0d0887\"],[0.1111111111111111,\"#46039f\"],[0.2222222222222222,\"#7201a8\"],[0.3333333333333333,\"#9c179e\"],[0.4444444444444444,\"#bd3786\"],[0.5555555555555556,\"#d8576b\"],[0.6666666666666666,\"#ed7953\"],[0.7777777777777778,\"#fb9f3a\"],[0.8888888888888888,\"#fdca26\"],[1.0,\"#f0f921\"]]}],\"surface\":[{\"type\":\"surface\",\"colorbar\":{\"outlinewidth\":0,\"ticks\":\"\"},\"colorscale\":[[0.0,\"#0d0887\"],[0.1111111111111111,\"#46039f\"],[0.2222222222222222,\"#7201a8\"],[0.3333333333333333,\"#9c179e\"],[0.4444444444444444,\"#bd3786\"],[0.5555555555555556,\"#d8576b\"],[0.6666666666666666,\"#ed7953\"],[0.7777777777777778,\"#fb9f3a\"],[0.8888888888888888,\"#fdca26\"],[1.0,\"#f0f921\"]]}],\"mesh3d\":[{\"type\":\"mesh3d\",\"colorbar\":{\"outlinewidth\":0,\"ticks\":\"\"}}],\"scatter\":[{\"fillpattern\":{\"fillmode\":\"overlay\",\"size\":10,\"solidity\":0.2},\"type\":\"scatter\"}],\"parcoords\":[{\"type\":\"parcoords\",\"line\":{\"colorbar\":{\"outlinewidth\":0,\"ticks\":\"\"}}}],\"scatterpolargl\":[{\"type\":\"scatterpolargl\",\"marker\":{\"colorbar\":{\"outlinewidth\":0,\"ticks\":\"\"}}}],\"bar\":[{\"error_x\":{\"color\":\"#2a3f5f\"},\"error_y\":{\"color\":\"#2a3f5f\"},\"marker\":{\"line\":{\"color\":\"#E5ECF6\",\"width\":0.5},\"pattern\":{\"fillmode\":\"overlay\",\"size\":10,\"solidity\":0.2}},\"type\":\"bar\"}],\"scattergeo\":[{\"type\":\"scattergeo\",\"marker\":{\"colorbar\":{\"outlinewidth\":0,\"ticks\":\"\"}}}],\"scatterpolar\":[{\"type\":\"scatterpolar\",\"marker\":{\"colorbar\":{\"outlinewidth\":0,\"ticks\":\"\"}}}],\"histogram\":[{\"marker\":{\"pattern\":{\"fillmode\":\"overlay\",\"size\":10,\"solidity\":0.2}},\"type\":\"histogram\"}],\"scattergl\":[{\"type\":\"scattergl\",\"marker\":{\"colorbar\":{\"outlinewidth\":0,\"ticks\":\"\"}}}],\"scatter3d\":[{\"type\":\"scatter3d\",\"line\":{\"colorbar\":{\"outlinewidth\":0,\"ticks\":\"\"}},\"marker\":{\"colorbar\":{\"outlinewidth\":0,\"ticks\":\"\"}}}],\"scattermapbox\":[{\"type\":\"scattermapbox\",\"marker\":{\"colorbar\":{\"outlinewidth\":0,\"ticks\":\"\"}}}],\"scatterternary\":[{\"type\":\"scatterternary\",\"marker\":{\"colorbar\":{\"outlinewidth\":0,\"ticks\":\"\"}}}],\"scattercarpet\":[{\"type\":\"scattercarpet\",\"marker\":{\"colorbar\":{\"outlinewidth\":0,\"ticks\":\"\"}}}],\"carpet\":[{\"aaxis\":{\"endlinecolor\":\"#2a3f5f\",\"gridcolor\":\"white\",\"linecolor\":\"white\",\"minorgridcolor\":\"white\",\"startlinecolor\":\"#2a3f5f\"},\"baxis\":{\"endlinecolor\":\"#2a3f5f\",\"gridcolor\":\"white\",\"linecolor\":\"white\",\"minorgridcolor\":\"white\",\"startlinecolor\":\"#2a3f5f\"},\"type\":\"carpet\"}],\"table\":[{\"cells\":{\"fill\":{\"color\":\"#EBF0F8\"},\"line\":{\"color\":\"white\"}},\"header\":{\"fill\":{\"color\":\"#C8D4E3\"},\"line\":{\"color\":\"white\"}},\"type\":\"table\"}],\"barpolar\":[{\"marker\":{\"line\":{\"color\":\"#E5ECF6\",\"width\":0.5},\"pattern\":{\"fillmode\":\"overlay\",\"size\":10,\"solidity\":0.2}},\"type\":\"barpolar\"}],\"pie\":[{\"automargin\":true,\"type\":\"pie\"}]},\"layout\":{\"autotypenumbers\":\"strict\",\"colorway\":[\"#636efa\",\"#EF553B\",\"#00cc96\",\"#ab63fa\",\"#FFA15A\",\"#19d3f3\",\"#FF6692\",\"#B6E880\",\"#FF97FF\",\"#FECB52\"],\"font\":{\"color\":\"#2a3f5f\"},\"hovermode\":\"closest\",\"hoverlabel\":{\"align\":\"left\"},\"paper_bgcolor\":\"white\",\"plot_bgcolor\":\"#E5ECF6\",\"polar\":{\"bgcolor\":\"#E5ECF6\",\"angularaxis\":{\"gridcolor\":\"white\",\"linecolor\":\"white\",\"ticks\":\"\"},\"radialaxis\":{\"gridcolor\":\"white\",\"linecolor\":\"white\",\"ticks\":\"\"}},\"ternary\":{\"bgcolor\":\"#E5ECF6\",\"aaxis\":{\"gridcolor\":\"white\",\"linecolor\":\"white\",\"ticks\":\"\"},\"baxis\":{\"gridcolor\":\"white\",\"linecolor\":\"white\",\"ticks\":\"\"},\"caxis\":{\"gridcolor\":\"white\",\"linecolor\":\"white\",\"ticks\":\"\"}},\"coloraxis\":{\"colorbar\":{\"outlinewidth\":0,\"ticks\":\"\"}},\"colorscale\":{\"sequential\":[[0.0,\"#0d0887\"],[0.1111111111111111,\"#46039f\"],[0.2222222222222222,\"#7201a8\"],[0.3333333333333333,\"#9c179e\"],[0.4444444444444444,\"#bd3786\"],[0.5555555555555556,\"#d8576b\"],[0.6666666666666666,\"#ed7953\"],[0.7777777777777778,\"#fb9f3a\"],[0.8888888888888888,\"#fdca26\"],[1.0,\"#f0f921\"]],\"sequentialminus\":[[0.0,\"#0d0887\"],[0.1111111111111111,\"#46039f\"],[0.2222222222222222,\"#7201a8\"],[0.3333333333333333,\"#9c179e\"],[0.4444444444444444,\"#bd3786\"],[0.5555555555555556,\"#d8576b\"],[0.6666666666666666,\"#ed7953\"],[0.7777777777777778,\"#fb9f3a\"],[0.8888888888888888,\"#fdca26\"],[1.0,\"#f0f921\"]],\"diverging\":[[0,\"#8e0152\"],[0.1,\"#c51b7d\"],[0.2,\"#de77ae\"],[0.3,\"#f1b6da\"],[0.4,\"#fde0ef\"],[0.5,\"#f7f7f7\"],[0.6,\"#e6f5d0\"],[0.7,\"#b8e186\"],[0.8,\"#7fbc41\"],[0.9,\"#4d9221\"],[1,\"#276419\"]]},\"xaxis\":{\"gridcolor\":\"white\",\"linecolor\":\"white\",\"ticks\":\"\",\"title\":{\"standoff\":15},\"zerolinecolor\":\"white\",\"automargin\":true,\"zerolinewidth\":2},\"yaxis\":{\"gridcolor\":\"white\",\"linecolor\":\"white\",\"ticks\":\"\",\"title\":{\"standoff\":15},\"zerolinecolor\":\"white\",\"automargin\":true,\"zerolinewidth\":2},\"scene\":{\"xaxis\":{\"backgroundcolor\":\"#E5ECF6\",\"gridcolor\":\"white\",\"linecolor\":\"white\",\"showbackground\":true,\"ticks\":\"\",\"zerolinecolor\":\"white\",\"gridwidth\":2},\"yaxis\":{\"backgroundcolor\":\"#E5ECF6\",\"gridcolor\":\"white\",\"linecolor\":\"white\",\"showbackground\":true,\"ticks\":\"\",\"zerolinecolor\":\"white\",\"gridwidth\":2},\"zaxis\":{\"backgroundcolor\":\"#E5ECF6\",\"gridcolor\":\"white\",\"linecolor\":\"white\",\"showbackground\":true,\"ticks\":\"\",\"zerolinecolor\":\"white\",\"gridwidth\":2}},\"shapedefaults\":{\"line\":{\"color\":\"#2a3f5f\"}},\"annotationdefaults\":{\"arrowcolor\":\"#2a3f5f\",\"arrowhead\":0,\"arrowwidth\":1},\"geo\":{\"bgcolor\":\"white\",\"landcolor\":\"#E5ECF6\",\"subunitcolor\":\"white\",\"showland\":true,\"showlakes\":true,\"lakecolor\":\"white\"},\"title\":{\"x\":0.05},\"mapbox\":{\"style\":\"light\"}}},\"xaxis\":{\"anchor\":\"y\",\"domain\":[0.0,1.0],\"title\":{\"text\":\"Qtot\"}},\"yaxis\":{\"anchor\":\"x\",\"domain\":[0.0,1.0],\"title\":{\"text\":\"q\"}},\"legend\":{\"title\":{\"text\":\"Compressors\"},\"tracegroupgap\":0},\"margin\":{\"t\":60},\"title\":{\"text\":\"Stacked Area Chart\"}},                        {\"responsive\": true}                    ).then(function(){\n",
       "                            \n",
       "var gd = document.getElementById('730ecf4b-c9c2-4afa-b80e-60d637b32f51');\n",
       "var x = new MutationObserver(function (mutations, observer) {{\n",
       "        var display = window.getComputedStyle(gd).display;\n",
       "        if (!display || display === 'none') {{\n",
       "            console.log([gd, 'removed!']);\n",
       "            Plotly.purge(gd);\n",
       "            observer.disconnect();\n",
       "        }}\n",
       "}});\n",
       "\n",
       "// Listen for the removal of the full notebook cells\n",
       "var notebookContainer = gd.closest('#notebook-container');\n",
       "if (notebookContainer) {{\n",
       "    x.observe(notebookContainer, {childList: true});\n",
       "}}\n",
       "\n",
       "// Listen for the clearing of the current output cell\n",
       "var outputEl = gd.closest('.output');\n",
       "if (outputEl) {{\n",
       "    x.observe(outputEl, {childList: true});\n",
       "}}\n",
       "\n",
       "                        })                };                });            </script>        </div>"
      ]
     },
     "metadata": {},
     "output_type": "display_data"
    }
   ],
   "source": [
    "import plotly.express as px\n",
    "import pandas as pd\n",
    "\n",
    "df_Q = df[['Qtot', *[f'{c}: q' for c in comp_names]]].copy()\n",
    "df_Q.rename(columns={f'{c}: q': c for c in comp_names}, inplace=True)\n",
    "df_W = df[['Qtot', *[f'{c}: w' for c in comp_names]]].copy()\n",
    "df_W.rename(columns={f'{c}: w': c for c in comp_names}, inplace=True)\n",
    "\n",
    "#dg.rename(columns={'oldName1': 'newName1', 'oldName2': 'newName2'}, inplace=True)\n",
    "# Melt the DataFrame to create a long-form dataset\n",
    "df_Q_melted = df_Q.melt(id_vars=['Qtot'], var_name='Compressors', value_name='q')\n",
    "df_W_melted = df_W.melt(id_vars=['Qtot'], var_name='Compressors', value_name='w')\n",
    "df_melted = pd.merge(df_Q_melted, df_W_melted, on=['Qtot', 'Compressors'])\n",
    "\n",
    "# Create a stacked area chart\n",
    "fig = px.area(df_melted, x='Qtot', y='q', color='Compressors', line_group='Compressors', hover_name='Compressors', hover_data={'q': True, 'w': True})\n",
    "\n",
    "# Customize the chart layout\n",
    "fig.update_layout(title='Stacked Area Chart', xaxis_title='Qtot', yaxis_title='q')\n",
    "\n",
    "# Display the chart\n",
    "fig.show()"
   ]
  },
  {
   "cell_type": "code",
   "execution_count": 164,
   "id": "897ffa19-deea-4ba2-9d23-dbb200d9dae9",
   "metadata": {},
   "outputs": [],
   "source": [
    "df_new = pd.merge(df_Q_melted, df_W_melted, on=['Qtot', 'Compressors'])"
   ]
  },
  {
   "cell_type": "code",
   "execution_count": 165,
   "id": "5b857847-d7d8-46b0-a9c5-7001f774c5ea",
   "metadata": {},
   "outputs": [
    {
     "data": {
      "text/html": [
       "<div>\n",
       "<style scoped>\n",
       "    .dataframe tbody tr th:only-of-type {\n",
       "        vertical-align: middle;\n",
       "    }\n",
       "\n",
       "    .dataframe tbody tr th {\n",
       "        vertical-align: top;\n",
       "    }\n",
       "\n",
       "    .dataframe thead th {\n",
       "        text-align: right;\n",
       "    }\n",
       "</style>\n",
       "<table border=\"1\" class=\"dataframe\">\n",
       "  <thead>\n",
       "    <tr style=\"text-align: right;\">\n",
       "      <th></th>\n",
       "      <th>Qtot</th>\n",
       "      <th>Compressors</th>\n",
       "      <th>q</th>\n",
       "      <th>w</th>\n",
       "    </tr>\n",
       "  </thead>\n",
       "  <tbody>\n",
       "    <tr>\n",
       "      <th>0</th>\n",
       "      <td>0.000</td>\n",
       "      <td>Compressor 1</td>\n",
       "      <td>0.0</td>\n",
       "      <td>0.0</td>\n",
       "    </tr>\n",
       "    <tr>\n",
       "      <th>1</th>\n",
       "      <td>0.001</td>\n",
       "      <td>Compressor 1</td>\n",
       "      <td>NaN</td>\n",
       "      <td>NaN</td>\n",
       "    </tr>\n",
       "    <tr>\n",
       "      <th>2</th>\n",
       "      <td>0.002</td>\n",
       "      <td>Compressor 1</td>\n",
       "      <td>NaN</td>\n",
       "      <td>NaN</td>\n",
       "    </tr>\n",
       "    <tr>\n",
       "      <th>3</th>\n",
       "      <td>0.003</td>\n",
       "      <td>Compressor 1</td>\n",
       "      <td>NaN</td>\n",
       "      <td>NaN</td>\n",
       "    </tr>\n",
       "    <tr>\n",
       "      <th>4</th>\n",
       "      <td>0.004</td>\n",
       "      <td>Compressor 1</td>\n",
       "      <td>NaN</td>\n",
       "      <td>NaN</td>\n",
       "    </tr>\n",
       "    <tr>\n",
       "      <th>...</th>\n",
       "      <td>...</td>\n",
       "      <td>...</td>\n",
       "      <td>...</td>\n",
       "      <td>...</td>\n",
       "    </tr>\n",
       "    <tr>\n",
       "      <th>3847</th>\n",
       "      <td>1.921</td>\n",
       "      <td>Compressor 2</td>\n",
       "      <td>NaN</td>\n",
       "      <td>NaN</td>\n",
       "    </tr>\n",
       "    <tr>\n",
       "      <th>3848</th>\n",
       "      <td>1.922</td>\n",
       "      <td>Compressor 2</td>\n",
       "      <td>NaN</td>\n",
       "      <td>NaN</td>\n",
       "    </tr>\n",
       "    <tr>\n",
       "      <th>3849</th>\n",
       "      <td>1.923</td>\n",
       "      <td>Compressor 2</td>\n",
       "      <td>NaN</td>\n",
       "      <td>NaN</td>\n",
       "    </tr>\n",
       "    <tr>\n",
       "      <th>3850</th>\n",
       "      <td>1.924</td>\n",
       "      <td>Compressor 2</td>\n",
       "      <td>NaN</td>\n",
       "      <td>NaN</td>\n",
       "    </tr>\n",
       "    <tr>\n",
       "      <th>3851</th>\n",
       "      <td>1.925</td>\n",
       "      <td>Compressor 2</td>\n",
       "      <td>NaN</td>\n",
       "      <td>NaN</td>\n",
       "    </tr>\n",
       "  </tbody>\n",
       "</table>\n",
       "<p>3852 rows × 4 columns</p>\n",
       "</div>"
      ],
      "text/plain": [
       "       Qtot   Compressors    q    w\n",
       "0     0.000  Compressor 1  0.0  0.0\n",
       "1     0.001  Compressor 1  NaN  NaN\n",
       "2     0.002  Compressor 1  NaN  NaN\n",
       "3     0.003  Compressor 1  NaN  NaN\n",
       "4     0.004  Compressor 1  NaN  NaN\n",
       "...     ...           ...  ...  ...\n",
       "3847  1.921  Compressor 2  NaN  NaN\n",
       "3848  1.922  Compressor 2  NaN  NaN\n",
       "3849  1.923  Compressor 2  NaN  NaN\n",
       "3850  1.924  Compressor 2  NaN  NaN\n",
       "3851  1.925  Compressor 2  NaN  NaN\n",
       "\n",
       "[3852 rows x 4 columns]"
      ]
     },
     "execution_count": 165,
     "metadata": {},
     "output_type": "execute_result"
    }
   ],
   "source": [
    "df_new"
   ]
  },
  {
   "cell_type": "code",
   "execution_count": 98,
   "id": "bf19ec02-f02e-4983-8c87-fa0596debca8",
   "metadata": {},
   "outputs": [
    {
     "data": {
      "text/html": [
       "<div>\n",
       "<style scoped>\n",
       "    .dataframe tbody tr th:only-of-type {\n",
       "        vertical-align: middle;\n",
       "    }\n",
       "\n",
       "    .dataframe tbody tr th {\n",
       "        vertical-align: top;\n",
       "    }\n",
       "\n",
       "    .dataframe thead th {\n",
       "        text-align: right;\n",
       "    }\n",
       "</style>\n",
       "<table border=\"1\" class=\"dataframe\">\n",
       "  <thead>\n",
       "    <tr style=\"text-align: right;\">\n",
       "      <th></th>\n",
       "      <th>Year</th>\n",
       "      <th>Category</th>\n",
       "      <th>Value</th>\n",
       "    </tr>\n",
       "  </thead>\n",
       "  <tbody>\n",
       "    <tr>\n",
       "      <th>0</th>\n",
       "      <td>2015</td>\n",
       "      <td>A</td>\n",
       "      <td>3</td>\n",
       "    </tr>\n",
       "    <tr>\n",
       "      <th>1</th>\n",
       "      <td>2016</td>\n",
       "      <td>A</td>\n",
       "      <td>6</td>\n",
       "    </tr>\n",
       "    <tr>\n",
       "      <th>2</th>\n",
       "      <td>2017</td>\n",
       "      <td>A</td>\n",
       "      <td>8</td>\n",
       "    </tr>\n",
       "    <tr>\n",
       "      <th>3</th>\n",
       "      <td>2018</td>\n",
       "      <td>A</td>\n",
       "      <td>9</td>\n",
       "    </tr>\n",
       "    <tr>\n",
       "      <th>4</th>\n",
       "      <td>2019</td>\n",
       "      <td>A</td>\n",
       "      <td>11</td>\n",
       "    </tr>\n",
       "    <tr>\n",
       "      <th>5</th>\n",
       "      <td>2020</td>\n",
       "      <td>A</td>\n",
       "      <td>12</td>\n",
       "    </tr>\n",
       "    <tr>\n",
       "      <th>6</th>\n",
       "      <td>2015</td>\n",
       "      <td>B</td>\n",
       "      <td>5</td>\n",
       "    </tr>\n",
       "    <tr>\n",
       "      <th>7</th>\n",
       "      <td>2016</td>\n",
       "      <td>B</td>\n",
       "      <td>7</td>\n",
       "    </tr>\n",
       "    <tr>\n",
       "      <th>8</th>\n",
       "      <td>2017</td>\n",
       "      <td>B</td>\n",
       "      <td>6</td>\n",
       "    </tr>\n",
       "    <tr>\n",
       "      <th>9</th>\n",
       "      <td>2018</td>\n",
       "      <td>B</td>\n",
       "      <td>10</td>\n",
       "    </tr>\n",
       "    <tr>\n",
       "      <th>10</th>\n",
       "      <td>2019</td>\n",
       "      <td>B</td>\n",
       "      <td>12</td>\n",
       "    </tr>\n",
       "    <tr>\n",
       "      <th>11</th>\n",
       "      <td>2020</td>\n",
       "      <td>B</td>\n",
       "      <td>13</td>\n",
       "    </tr>\n",
       "    <tr>\n",
       "      <th>12</th>\n",
       "      <td>2015</td>\n",
       "      <td>C</td>\n",
       "      <td>4</td>\n",
       "    </tr>\n",
       "    <tr>\n",
       "      <th>13</th>\n",
       "      <td>2016</td>\n",
       "      <td>C</td>\n",
       "      <td>6</td>\n",
       "    </tr>\n",
       "    <tr>\n",
       "      <th>14</th>\n",
       "      <td>2017</td>\n",
       "      <td>C</td>\n",
       "      <td>7</td>\n",
       "    </tr>\n",
       "    <tr>\n",
       "      <th>15</th>\n",
       "      <td>2018</td>\n",
       "      <td>C</td>\n",
       "      <td>8</td>\n",
       "    </tr>\n",
       "    <tr>\n",
       "      <th>16</th>\n",
       "      <td>2019</td>\n",
       "      <td>C</td>\n",
       "      <td>9</td>\n",
       "    </tr>\n",
       "    <tr>\n",
       "      <th>17</th>\n",
       "      <td>2020</td>\n",
       "      <td>C</td>\n",
       "      <td>11</td>\n",
       "    </tr>\n",
       "  </tbody>\n",
       "</table>\n",
       "</div>"
      ],
      "text/plain": [
       "    Year Category  Value\n",
       "0   2015        A      3\n",
       "1   2016        A      6\n",
       "2   2017        A      8\n",
       "3   2018        A      9\n",
       "4   2019        A     11\n",
       "5   2020        A     12\n",
       "6   2015        B      5\n",
       "7   2016        B      7\n",
       "8   2017        B      6\n",
       "9   2018        B     10\n",
       "10  2019        B     12\n",
       "11  2020        B     13\n",
       "12  2015        C      4\n",
       "13  2016        C      6\n",
       "14  2017        C      7\n",
       "15  2018        C      8\n",
       "16  2019        C      9\n",
       "17  2020        C     11"
      ]
     },
     "execution_count": 98,
     "metadata": {},
     "output_type": "execute_result"
    }
   ],
   "source": [
    "df_melted"
   ]
  },
  {
   "cell_type": "code",
   "execution_count": 104,
   "id": "70c19f00-677a-4459-95f9-df69ba0fc643",
   "metadata": {},
   "outputs": [
    {
     "name": "stdout",
     "output_type": "stream",
     "text": [
      "    Year Variable  Value\n",
      "0   2015        A      3\n",
      "1   2016        A      6\n",
      "2   2017        A      8\n",
      "3   2018        A      9\n",
      "4   2019        A     11\n",
      "5   2020        A     12\n",
      "6   2015        B      5\n",
      "7   2016        B      7\n",
      "8   2017        B      6\n",
      "9   2018        B     10\n",
      "10  2019        B     12\n",
      "11  2020        B     13\n"
     ]
    }
   ],
   "source": [
    "import pandas as pd\n",
    "\n",
    "# Generate some sample data\n",
    "df = pd.DataFrame({'Year': [2015, 2016, 2017, 2018, 2019, 2020],\n",
    "                   'A': [3, 6, 8, 9, 11, 12],\n",
    "                   'B': [5, 7, 6, 10, 12, 13],\n",
    "                   'C': [4, 6, 7, 8, 9, 11]})\n",
    "\n",
    "# Melt the DataFrame and retain 'Year' and 'A' and 'B' as values per observation\n",
    "df_melted = df.melt(id_vars=['Year'], value_vars=['A', 'B'], var_name='Variable', value_name='Value')\n",
    "\n",
    "# Print the melted DataFrame\n",
    "print(df_melted)"
   ]
  },
  {
   "cell_type": "code",
   "execution_count": null,
   "id": "7d31fbf3-6af9-48f1-9637-c47055c8ebb6",
   "metadata": {},
   "outputs": [
    {
     "data": {
      "application/vnd.plotly.v1+json": {
       "config": {
        "plotlyServerURL": "https://plot.ly"
       },
       "data": [
        {
         "customdata": [
          [
           3
          ],
          [
           5
          ],
          [
           4
          ],
          [
           1
          ]
         ],
         "fillpattern": {
          "shape": ""
         },
         "hovertemplate": "variable=y1<br>value=%{y}<br>y3=%{customdata[0]}<extra></extra>",
         "legendgroup": "y1",
         "line": {
          "color": "#636efa"
         },
         "marker": {
          "symbol": "circle"
         },
         "mode": "lines",
         "name": "y1",
         "orientation": "v",
         "showlegend": true,
         "stackgroup": "1",
         "type": "scatter",
         "x": [
          1,
          2,
          4,
          5
         ],
         "xaxis": "x",
         "y": [
          1,
          3,
          4,
          2
         ],
         "yaxis": "y"
        },
        {
         "customdata": [
          [
           3
          ],
          [
           5
          ],
          [
           4
          ],
          [
           1
          ]
         ],
         "fillpattern": {
          "shape": ""
         },
         "hovertemplate": "variable=y2<br>value=%{y}<br>y3=%{customdata[0]}<extra></extra>",
         "legendgroup": "y2",
         "line": {
          "color": "#EF553B"
         },
         "marker": {
          "symbol": "circle"
         },
         "mode": "lines",
         "name": "y2",
         "orientation": "v",
         "showlegend": true,
         "stackgroup": "1",
         "type": "scatter",
         "x": [
          1,
          2,
          4,
          5
         ],
         "xaxis": "x",
         "y": [
          2,
          4,
          5,
          3
         ],
         "yaxis": "y"
        }
       ],
       "layout": {
        "autosize": true,
        "legend": {
         "title": {
          "text": "variable"
         },
         "tracegroupgap": 0
        },
        "margin": {
         "t": 60
        },
        "template": {
         "data": {
          "bar": [
           {
            "error_x": {
             "color": "#2a3f5f"
            },
            "error_y": {
             "color": "#2a3f5f"
            },
            "marker": {
             "line": {
              "color": "#E5ECF6",
              "width": 0.5
             },
             "pattern": {
              "fillmode": "overlay",
              "size": 10,
              "solidity": 0.2
             }
            },
            "type": "bar"
           }
          ],
          "barpolar": [
           {
            "marker": {
             "line": {
              "color": "#E5ECF6",
              "width": 0.5
             },
             "pattern": {
              "fillmode": "overlay",
              "size": 10,
              "solidity": 0.2
             }
            },
            "type": "barpolar"
           }
          ],
          "carpet": [
           {
            "aaxis": {
             "endlinecolor": "#2a3f5f",
             "gridcolor": "white",
             "linecolor": "white",
             "minorgridcolor": "white",
             "startlinecolor": "#2a3f5f"
            },
            "baxis": {
             "endlinecolor": "#2a3f5f",
             "gridcolor": "white",
             "linecolor": "white",
             "minorgridcolor": "white",
             "startlinecolor": "#2a3f5f"
            },
            "type": "carpet"
           }
          ],
          "choropleth": [
           {
            "colorbar": {
             "outlinewidth": 0,
             "ticks": ""
            },
            "type": "choropleth"
           }
          ],
          "contour": [
           {
            "colorbar": {
             "outlinewidth": 0,
             "ticks": ""
            },
            "colorscale": [
             [
              0,
              "#0d0887"
             ],
             [
              0.1111111111111111,
              "#46039f"
             ],
             [
              0.2222222222222222,
              "#7201a8"
             ],
             [
              0.3333333333333333,
              "#9c179e"
             ],
             [
              0.4444444444444444,
              "#bd3786"
             ],
             [
              0.5555555555555556,
              "#d8576b"
             ],
             [
              0.6666666666666666,
              "#ed7953"
             ],
             [
              0.7777777777777778,
              "#fb9f3a"
             ],
             [
              0.8888888888888888,
              "#fdca26"
             ],
             [
              1,
              "#f0f921"
             ]
            ],
            "type": "contour"
           }
          ],
          "contourcarpet": [
           {
            "colorbar": {
             "outlinewidth": 0,
             "ticks": ""
            },
            "type": "contourcarpet"
           }
          ],
          "heatmap": [
           {
            "colorbar": {
             "outlinewidth": 0,
             "ticks": ""
            },
            "colorscale": [
             [
              0,
              "#0d0887"
             ],
             [
              0.1111111111111111,
              "#46039f"
             ],
             [
              0.2222222222222222,
              "#7201a8"
             ],
             [
              0.3333333333333333,
              "#9c179e"
             ],
             [
              0.4444444444444444,
              "#bd3786"
             ],
             [
              0.5555555555555556,
              "#d8576b"
             ],
             [
              0.6666666666666666,
              "#ed7953"
             ],
             [
              0.7777777777777778,
              "#fb9f3a"
             ],
             [
              0.8888888888888888,
              "#fdca26"
             ],
             [
              1,
              "#f0f921"
             ]
            ],
            "type": "heatmap"
           }
          ],
          "heatmapgl": [
           {
            "colorbar": {
             "outlinewidth": 0,
             "ticks": ""
            },
            "colorscale": [
             [
              0,
              "#0d0887"
             ],
             [
              0.1111111111111111,
              "#46039f"
             ],
             [
              0.2222222222222222,
              "#7201a8"
             ],
             [
              0.3333333333333333,
              "#9c179e"
             ],
             [
              0.4444444444444444,
              "#bd3786"
             ],
             [
              0.5555555555555556,
              "#d8576b"
             ],
             [
              0.6666666666666666,
              "#ed7953"
             ],
             [
              0.7777777777777778,
              "#fb9f3a"
             ],
             [
              0.8888888888888888,
              "#fdca26"
             ],
             [
              1,
              "#f0f921"
             ]
            ],
            "type": "heatmapgl"
           }
          ],
          "histogram": [
           {
            "marker": {
             "pattern": {
              "fillmode": "overlay",
              "size": 10,
              "solidity": 0.2
             }
            },
            "type": "histogram"
           }
          ],
          "histogram2d": [
           {
            "colorbar": {
             "outlinewidth": 0,
             "ticks": ""
            },
            "colorscale": [
             [
              0,
              "#0d0887"
             ],
             [
              0.1111111111111111,
              "#46039f"
             ],
             [
              0.2222222222222222,
              "#7201a8"
             ],
             [
              0.3333333333333333,
              "#9c179e"
             ],
             [
              0.4444444444444444,
              "#bd3786"
             ],
             [
              0.5555555555555556,
              "#d8576b"
             ],
             [
              0.6666666666666666,
              "#ed7953"
             ],
             [
              0.7777777777777778,
              "#fb9f3a"
             ],
             [
              0.8888888888888888,
              "#fdca26"
             ],
             [
              1,
              "#f0f921"
             ]
            ],
            "type": "histogram2d"
           }
          ],
          "histogram2dcontour": [
           {
            "colorbar": {
             "outlinewidth": 0,
             "ticks": ""
            },
            "colorscale": [
             [
              0,
              "#0d0887"
             ],
             [
              0.1111111111111111,
              "#46039f"
             ],
             [
              0.2222222222222222,
              "#7201a8"
             ],
             [
              0.3333333333333333,
              "#9c179e"
             ],
             [
              0.4444444444444444,
              "#bd3786"
             ],
             [
              0.5555555555555556,
              "#d8576b"
             ],
             [
              0.6666666666666666,
              "#ed7953"
             ],
             [
              0.7777777777777778,
              "#fb9f3a"
             ],
             [
              0.8888888888888888,
              "#fdca26"
             ],
             [
              1,
              "#f0f921"
             ]
            ],
            "type": "histogram2dcontour"
           }
          ],
          "mesh3d": [
           {
            "colorbar": {
             "outlinewidth": 0,
             "ticks": ""
            },
            "type": "mesh3d"
           }
          ],
          "parcoords": [
           {
            "line": {
             "colorbar": {
              "outlinewidth": 0,
              "ticks": ""
             }
            },
            "type": "parcoords"
           }
          ],
          "pie": [
           {
            "automargin": true,
            "type": "pie"
           }
          ],
          "scatter": [
           {
            "fillpattern": {
             "fillmode": "overlay",
             "size": 10,
             "solidity": 0.2
            },
            "type": "scatter"
           }
          ],
          "scatter3d": [
           {
            "line": {
             "colorbar": {
              "outlinewidth": 0,
              "ticks": ""
             }
            },
            "marker": {
             "colorbar": {
              "outlinewidth": 0,
              "ticks": ""
             }
            },
            "type": "scatter3d"
           }
          ],
          "scattercarpet": [
           {
            "marker": {
             "colorbar": {
              "outlinewidth": 0,
              "ticks": ""
             }
            },
            "type": "scattercarpet"
           }
          ],
          "scattergeo": [
           {
            "marker": {
             "colorbar": {
              "outlinewidth": 0,
              "ticks": ""
             }
            },
            "type": "scattergeo"
           }
          ],
          "scattergl": [
           {
            "marker": {
             "colorbar": {
              "outlinewidth": 0,
              "ticks": ""
             }
            },
            "type": "scattergl"
           }
          ],
          "scattermapbox": [
           {
            "marker": {
             "colorbar": {
              "outlinewidth": 0,
              "ticks": ""
             }
            },
            "type": "scattermapbox"
           }
          ],
          "scatterpolar": [
           {
            "marker": {
             "colorbar": {
              "outlinewidth": 0,
              "ticks": ""
             }
            },
            "type": "scatterpolar"
           }
          ],
          "scatterpolargl": [
           {
            "marker": {
             "colorbar": {
              "outlinewidth": 0,
              "ticks": ""
             }
            },
            "type": "scatterpolargl"
           }
          ],
          "scatterternary": [
           {
            "marker": {
             "colorbar": {
              "outlinewidth": 0,
              "ticks": ""
             }
            },
            "type": "scatterternary"
           }
          ],
          "surface": [
           {
            "colorbar": {
             "outlinewidth": 0,
             "ticks": ""
            },
            "colorscale": [
             [
              0,
              "#0d0887"
             ],
             [
              0.1111111111111111,
              "#46039f"
             ],
             [
              0.2222222222222222,
              "#7201a8"
             ],
             [
              0.3333333333333333,
              "#9c179e"
             ],
             [
              0.4444444444444444,
              "#bd3786"
             ],
             [
              0.5555555555555556,
              "#d8576b"
             ],
             [
              0.6666666666666666,
              "#ed7953"
             ],
             [
              0.7777777777777778,
              "#fb9f3a"
             ],
             [
              0.8888888888888888,
              "#fdca26"
             ],
             [
              1,
              "#f0f921"
             ]
            ],
            "type": "surface"
           }
          ],
          "table": [
           {
            "cells": {
             "fill": {
              "color": "#EBF0F8"
             },
             "line": {
              "color": "white"
             }
            },
            "header": {
             "fill": {
              "color": "#C8D4E3"
             },
             "line": {
              "color": "white"
             }
            },
            "type": "table"
           }
          ]
         },
         "layout": {
          "annotationdefaults": {
           "arrowcolor": "#2a3f5f",
           "arrowhead": 0,
           "arrowwidth": 1
          },
          "autotypenumbers": "strict",
          "coloraxis": {
           "colorbar": {
            "outlinewidth": 0,
            "ticks": ""
           }
          },
          "colorscale": {
           "diverging": [
            [
             0,
             "#8e0152"
            ],
            [
             0.1,
             "#c51b7d"
            ],
            [
             0.2,
             "#de77ae"
            ],
            [
             0.3,
             "#f1b6da"
            ],
            [
             0.4,
             "#fde0ef"
            ],
            [
             0.5,
             "#f7f7f7"
            ],
            [
             0.6,
             "#e6f5d0"
            ],
            [
             0.7,
             "#b8e186"
            ],
            [
             0.8,
             "#7fbc41"
            ],
            [
             0.9,
             "#4d9221"
            ],
            [
             1,
             "#276419"
            ]
           ],
           "sequential": [
            [
             0,
             "#0d0887"
            ],
            [
             0.1111111111111111,
             "#46039f"
            ],
            [
             0.2222222222222222,
             "#7201a8"
            ],
            [
             0.3333333333333333,
             "#9c179e"
            ],
            [
             0.4444444444444444,
             "#bd3786"
            ],
            [
             0.5555555555555556,
             "#d8576b"
            ],
            [
             0.6666666666666666,
             "#ed7953"
            ],
            [
             0.7777777777777778,
             "#fb9f3a"
            ],
            [
             0.8888888888888888,
             "#fdca26"
            ],
            [
             1,
             "#f0f921"
            ]
           ],
           "sequentialminus": [
            [
             0,
             "#0d0887"
            ],
            [
             0.1111111111111111,
             "#46039f"
            ],
            [
             0.2222222222222222,
             "#7201a8"
            ],
            [
             0.3333333333333333,
             "#9c179e"
            ],
            [
             0.4444444444444444,
             "#bd3786"
            ],
            [
             0.5555555555555556,
             "#d8576b"
            ],
            [
             0.6666666666666666,
             "#ed7953"
            ],
            [
             0.7777777777777778,
             "#fb9f3a"
            ],
            [
             0.8888888888888888,
             "#fdca26"
            ],
            [
             1,
             "#f0f921"
            ]
           ]
          },
          "colorway": [
           "#636efa",
           "#EF553B",
           "#00cc96",
           "#ab63fa",
           "#FFA15A",
           "#19d3f3",
           "#FF6692",
           "#B6E880",
           "#FF97FF",
           "#FECB52"
          ],
          "font": {
           "color": "#2a3f5f"
          },
          "geo": {
           "bgcolor": "white",
           "lakecolor": "white",
           "landcolor": "#E5ECF6",
           "showlakes": true,
           "showland": true,
           "subunitcolor": "white"
          },
          "hoverlabel": {
           "align": "left"
          },
          "hovermode": "closest",
          "mapbox": {
           "style": "light"
          },
          "paper_bgcolor": "white",
          "plot_bgcolor": "#E5ECF6",
          "polar": {
           "angularaxis": {
            "gridcolor": "white",
            "linecolor": "white",
            "ticks": ""
           },
           "bgcolor": "#E5ECF6",
           "radialaxis": {
            "gridcolor": "white",
            "linecolor": "white",
            "ticks": ""
           }
          },
          "scene": {
           "xaxis": {
            "backgroundcolor": "#E5ECF6",
            "gridcolor": "white",
            "gridwidth": 2,
            "linecolor": "white",
            "showbackground": true,
            "ticks": "",
            "zerolinecolor": "white"
           },
           "yaxis": {
            "backgroundcolor": "#E5ECF6",
            "gridcolor": "white",
            "gridwidth": 2,
            "linecolor": "white",
            "showbackground": true,
            "ticks": "",
            "zerolinecolor": "white"
           },
           "zaxis": {
            "backgroundcolor": "#E5ECF6",
            "gridcolor": "white",
            "gridwidth": 2,
            "linecolor": "white",
            "showbackground": true,
            "ticks": "",
            "zerolinecolor": "white"
           }
          },
          "shapedefaults": {
           "line": {
            "color": "#2a3f5f"
           }
          },
          "ternary": {
           "aaxis": {
            "gridcolor": "white",
            "linecolor": "white",
            "ticks": ""
           },
           "baxis": {
            "gridcolor": "white",
            "linecolor": "white",
            "ticks": ""
           },
           "bgcolor": "#E5ECF6",
           "caxis": {
            "gridcolor": "white",
            "linecolor": "white",
            "ticks": ""
           }
          },
          "title": {
           "x": 0.05
          },
          "xaxis": {
           "automargin": true,
           "gridcolor": "white",
           "linecolor": "white",
           "ticks": "",
           "title": {
            "standoff": 15
           },
           "zerolinecolor": "white",
           "zerolinewidth": 2
          },
          "yaxis": {
           "automargin": true,
           "gridcolor": "white",
           "linecolor": "white",
           "ticks": "",
           "title": {
            "standoff": 15
           },
           "zerolinecolor": "white",
           "zerolinewidth": 2
          }
         }
        },
        "xaxis": {
         "anchor": "y",
         "autorange": true,
         "domain": [
          0,
          1
         ],
         "range": [
          1,
          5
         ],
         "title": {
          "text": "x"
         },
         "type": "linear"
        },
        "yaxis": {
         "anchor": "x",
         "autorange": true,
         "domain": [
          0,
          1
         ],
         "range": [
          0,
          9.473684210526315
         ],
         "title": {
          "text": "value"
         },
         "type": "linear"
        }
       }
      },
      "image/png": "[encoded data removed]",
      "text/html": [
       "<div>                            <div id=\"17c1d42f-61d2-4404-9eb2-a3fec01b79e4\" class=\"plotly-graph-div\" style=\"height:525px; width:100%;\"></div>            <script type=\"text/javascript\">                require([\"plotly\"], function(Plotly) {                    window.PLOTLYENV=window.PLOTLYENV || {};                                    if (document.getElementById(\"17c1d42f-61d2-4404-9eb2-a3fec01b79e4\")) {                    Plotly.newPlot(                        \"17c1d42f-61d2-4404-9eb2-a3fec01b79e4\",                        [{\"customdata\":[[3],[5],[4],[1]],\"fillpattern\":{\"shape\":\"\"},\"hovertemplate\":\"variable=y1<br>value=%{y}<br>y3=%{customdata[0]}<extra></extra>\",\"legendgroup\":\"y1\",\"line\":{\"color\":\"#636efa\"},\"marker\":{\"symbol\":\"circle\"},\"mode\":\"lines\",\"name\":\"y1\",\"orientation\":\"v\",\"showlegend\":true,\"stackgroup\":\"1\",\"x\":[1,2,4,5],\"xaxis\":\"x\",\"y\":[1.0,3.0,4.0,2.0],\"yaxis\":\"y\",\"type\":\"scatter\"},{\"customdata\":[[3],[5],[4],[1]],\"fillpattern\":{\"shape\":\"\"},\"hovertemplate\":\"variable=y2<br>value=%{y}<br>y3=%{customdata[0]}<extra></extra>\",\"legendgroup\":\"y2\",\"line\":{\"color\":\"#EF553B\"},\"marker\":{\"symbol\":\"circle\"},\"mode\":\"lines\",\"name\":\"y2\",\"orientation\":\"v\",\"showlegend\":true,\"stackgroup\":\"1\",\"x\":[1,2,4,5],\"xaxis\":\"x\",\"y\":[2.0,4.0,5.0,3.0],\"yaxis\":\"y\",\"type\":\"scatter\"}],                        {\"template\":{\"data\":{\"histogram2dcontour\":[{\"type\":\"histogram2dcontour\",\"colorbar\":{\"outlinewidth\":0,\"ticks\":\"\"},\"colorscale\":[[0.0,\"#0d0887\"],[0.1111111111111111,\"#46039f\"],[0.2222222222222222,\"#7201a8\"],[0.3333333333333333,\"#9c179e\"],[0.4444444444444444,\"#bd3786\"],[0.5555555555555556,\"#d8576b\"],[0.6666666666666666,\"#ed7953\"],[0.7777777777777778,\"#fb9f3a\"],[0.8888888888888888,\"#fdca26\"],[1.0,\"#f0f921\"]]}],\"choropleth\":[{\"type\":\"choropleth\",\"colorbar\":{\"outlinewidth\":0,\"ticks\":\"\"}}],\"histogram2d\":[{\"type\":\"histogram2d\",\"colorbar\":{\"outlinewidth\":0,\"ticks\":\"\"},\"colorscale\":[[0.0,\"#0d0887\"],[0.1111111111111111,\"#46039f\"],[0.2222222222222222,\"#7201a8\"],[0.3333333333333333,\"#9c179e\"],[0.4444444444444444,\"#bd3786\"],[0.5555555555555556,\"#d8576b\"],[0.6666666666666666,\"#ed7953\"],[0.7777777777777778,\"#fb9f3a\"],[0.8888888888888888,\"#fdca26\"],[1.0,\"#f0f921\"]]}],\"heatmap\":[{\"type\":\"heatmap\",\"colorbar\":{\"outlinewidth\":0,\"ticks\":\"\"},\"colorscale\":[[0.0,\"#0d0887\"],[0.1111111111111111,\"#46039f\"],[0.2222222222222222,\"#7201a8\"],[0.3333333333333333,\"#9c179e\"],[0.4444444444444444,\"#bd3786\"],[0.5555555555555556,\"#d8576b\"],[0.6666666666666666,\"#ed7953\"],[0.7777777777777778,\"#fb9f3a\"],[0.8888888888888888,\"#fdca26\"],[1.0,\"#f0f921\"]]}],\"heatmapgl\":[{\"type\":\"heatmapgl\",\"colorbar\":{\"outlinewidth\":0,\"ticks\":\"\"},\"colorscale\":[[0.0,\"#0d0887\"],[0.1111111111111111,\"#46039f\"],[0.2222222222222222,\"#7201a8\"],[0.3333333333333333,\"#9c179e\"],[0.4444444444444444,\"#bd3786\"],[0.5555555555555556,\"#d8576b\"],[0.6666666666666666,\"#ed7953\"],[0.7777777777777778,\"#fb9f3a\"],[0.8888888888888888,\"#fdca26\"],[1.0,\"#f0f921\"]]}],\"contourcarpet\":[{\"type\":\"contourcarpet\",\"colorbar\":{\"outlinewidth\":0,\"ticks\":\"\"}}],\"contour\":[{\"type\":\"contour\",\"colorbar\":{\"outlinewidth\":0,\"ticks\":\"\"},\"colorscale\":[[0.0,\"#0d0887\"],[0.1111111111111111,\"#46039f\"],[0.2222222222222222,\"#7201a8\"],[0.3333333333333333,\"#9c179e\"],[0.4444444444444444,\"#bd3786\"],[0.5555555555555556,\"#d8576b\"],[0.6666666666666666,\"#ed7953\"],[0.7777777777777778,\"#fb9f3a\"],[0.8888888888888888,\"#fdca26\"],[1.0,\"#f0f921\"]]}],\"surface\":[{\"type\":\"surface\",\"colorbar\":{\"outlinewidth\":0,\"ticks\":\"\"},\"colorscale\":[[0.0,\"#0d0887\"],[0.1111111111111111,\"#46039f\"],[0.2222222222222222,\"#7201a8\"],[0.3333333333333333,\"#9c179e\"],[0.4444444444444444,\"#bd3786\"],[0.5555555555555556,\"#d8576b\"],[0.6666666666666666,\"#ed7953\"],[0.7777777777777778,\"#fb9f3a\"],[0.8888888888888888,\"#fdca26\"],[1.0,\"#f0f921\"]]}],\"mesh3d\":[{\"type\":\"mesh3d\",\"colorbar\":{\"outlinewidth\":0,\"ticks\":\"\"}}],\"scatter\":[{\"fillpattern\":{\"fillmode\":\"overlay\",\"size\":10,\"solidity\":0.2},\"type\":\"scatter\"}],\"parcoords\":[{\"type\":\"parcoords\",\"line\":{\"colorbar\":{\"outlinewidth\":0,\"ticks\":\"\"}}}],\"scatterpolargl\":[{\"type\":\"scatterpolargl\",\"marker\":{\"colorbar\":{\"outlinewidth\":0,\"ticks\":\"\"}}}],\"bar\":[{\"error_x\":{\"color\":\"#2a3f5f\"},\"error_y\":{\"color\":\"#2a3f5f\"},\"marker\":{\"line\":{\"color\":\"#E5ECF6\",\"width\":0.5},\"pattern\":{\"fillmode\":\"overlay\",\"size\":10,\"solidity\":0.2}},\"type\":\"bar\"}],\"scattergeo\":[{\"type\":\"scattergeo\",\"marker\":{\"colorbar\":{\"outlinewidth\":0,\"ticks\":\"\"}}}],\"scatterpolar\":[{\"type\":\"scatterpolar\",\"marker\":{\"colorbar\":{\"outlinewidth\":0,\"ticks\":\"\"}}}],\"histogram\":[{\"marker\":{\"pattern\":{\"fillmode\":\"overlay\",\"size\":10,\"solidity\":0.2}},\"type\":\"histogram\"}],\"scattergl\":[{\"type\":\"scattergl\",\"marker\":{\"colorbar\":{\"outlinewidth\":0,\"ticks\":\"\"}}}],\"scatter3d\":[{\"type\":\"scatter3d\",\"line\":{\"colorbar\":{\"outlinewidth\":0,\"ticks\":\"\"}},\"marker\":{\"colorbar\":{\"outlinewidth\":0,\"ticks\":\"\"}}}],\"scattermapbox\":[{\"type\":\"scattermapbox\",\"marker\":{\"colorbar\":{\"outlinewidth\":0,\"ticks\":\"\"}}}],\"scatterternary\":[{\"type\":\"scatterternary\",\"marker\":{\"colorbar\":{\"outlinewidth\":0,\"ticks\":\"\"}}}],\"scattercarpet\":[{\"type\":\"scattercarpet\",\"marker\":{\"colorbar\":{\"outlinewidth\":0,\"ticks\":\"\"}}}],\"carpet\":[{\"aaxis\":{\"endlinecolor\":\"#2a3f5f\",\"gridcolor\":\"white\",\"linecolor\":\"white\",\"minorgridcolor\":\"white\",\"startlinecolor\":\"#2a3f5f\"},\"baxis\":{\"endlinecolor\":\"#2a3f5f\",\"gridcolor\":\"white\",\"linecolor\":\"white\",\"minorgridcolor\":\"white\",\"startlinecolor\":\"#2a3f5f\"},\"type\":\"carpet\"}],\"table\":[{\"cells\":{\"fill\":{\"color\":\"#EBF0F8\"},\"line\":{\"color\":\"white\"}},\"header\":{\"fill\":{\"color\":\"#C8D4E3\"},\"line\":{\"color\":\"white\"}},\"type\":\"table\"}],\"barpolar\":[{\"marker\":{\"line\":{\"color\":\"#E5ECF6\",\"width\":0.5},\"pattern\":{\"fillmode\":\"overlay\",\"size\":10,\"solidity\":0.2}},\"type\":\"barpolar\"}],\"pie\":[{\"automargin\":true,\"type\":\"pie\"}]},\"layout\":{\"autotypenumbers\":\"strict\",\"colorway\":[\"#636efa\",\"#EF553B\",\"#00cc96\",\"#ab63fa\",\"#FFA15A\",\"#19d3f3\",\"#FF6692\",\"#B6E880\",\"#FF97FF\",\"#FECB52\"],\"font\":{\"color\":\"#2a3f5f\"},\"hovermode\":\"closest\",\"hoverlabel\":{\"align\":\"left\"},\"paper_bgcolor\":\"white\",\"plot_bgcolor\":\"#E5ECF6\",\"polar\":{\"bgcolor\":\"#E5ECF6\",\"angularaxis\":{\"gridcolor\":\"white\",\"linecolor\":\"white\",\"ticks\":\"\"},\"radialaxis\":{\"gridcolor\":\"white\",\"linecolor\":\"white\",\"ticks\":\"\"}},\"ternary\":{\"bgcolor\":\"#E5ECF6\",\"aaxis\":{\"gridcolor\":\"white\",\"linecolor\":\"white\",\"ticks\":\"\"},\"baxis\":{\"gridcolor\":\"white\",\"linecolor\":\"white\",\"ticks\":\"\"},\"caxis\":{\"gridcolor\":\"white\",\"linecolor\":\"white\",\"ticks\":\"\"}},\"coloraxis\":{\"colorbar\":{\"outlinewidth\":0,\"ticks\":\"\"}},\"colorscale\":{\"sequential\":[[0.0,\"#0d0887\"],[0.1111111111111111,\"#46039f\"],[0.2222222222222222,\"#7201a8\"],[0.3333333333333333,\"#9c179e\"],[0.4444444444444444,\"#bd3786\"],[0.5555555555555556,\"#d8576b\"],[0.6666666666666666,\"#ed7953\"],[0.7777777777777778,\"#fb9f3a\"],[0.8888888888888888,\"#fdca26\"],[1.0,\"#f0f921\"]],\"sequentialminus\":[[0.0,\"#0d0887\"],[0.1111111111111111,\"#46039f\"],[0.2222222222222222,\"#7201a8\"],[0.3333333333333333,\"#9c179e\"],[0.4444444444444444,\"#bd3786\"],[0.5555555555555556,\"#d8576b\"],[0.6666666666666666,\"#ed7953\"],[0.7777777777777778,\"#fb9f3a\"],[0.8888888888888888,\"#fdca26\"],[1.0,\"#f0f921\"]],\"diverging\":[[0,\"#8e0152\"],[0.1,\"#c51b7d\"],[0.2,\"#de77ae\"],[0.3,\"#f1b6da\"],[0.4,\"#fde0ef\"],[0.5,\"#f7f7f7\"],[0.6,\"#e6f5d0\"],[0.7,\"#b8e186\"],[0.8,\"#7fbc41\"],[0.9,\"#4d9221\"],[1,\"#276419\"]]},\"xaxis\":{\"gridcolor\":\"white\",\"linecolor\":\"white\",\"ticks\":\"\",\"title\":{\"standoff\":15},\"zerolinecolor\":\"white\",\"automargin\":true,\"zerolinewidth\":2},\"yaxis\":{\"gridcolor\":\"white\",\"linecolor\":\"white\",\"ticks\":\"\",\"title\":{\"standoff\":15},\"zerolinecolor\":\"white\",\"automargin\":true,\"zerolinewidth\":2},\"scene\":{\"xaxis\":{\"backgroundcolor\":\"#E5ECF6\",\"gridcolor\":\"white\",\"linecolor\":\"white\",\"showbackground\":true,\"ticks\":\"\",\"zerolinecolor\":\"white\",\"gridwidth\":2},\"yaxis\":{\"backgroundcolor\":\"#E5ECF6\",\"gridcolor\":\"white\",\"linecolor\":\"white\",\"showbackground\":true,\"ticks\":\"\",\"zerolinecolor\":\"white\",\"gridwidth\":2},\"zaxis\":{\"backgroundcolor\":\"#E5ECF6\",\"gridcolor\":\"white\",\"linecolor\":\"white\",\"showbackground\":true,\"ticks\":\"\",\"zerolinecolor\":\"white\",\"gridwidth\":2}},\"shapedefaults\":{\"line\":{\"color\":\"#2a3f5f\"}},\"annotationdefaults\":{\"arrowcolor\":\"#2a3f5f\",\"arrowhead\":0,\"arrowwidth\":1},\"geo\":{\"bgcolor\":\"white\",\"landcolor\":\"#E5ECF6\",\"subunitcolor\":\"white\",\"showland\":true,\"showlakes\":true,\"lakecolor\":\"white\"},\"title\":{\"x\":0.05},\"mapbox\":{\"style\":\"light\"}}},\"xaxis\":{\"anchor\":\"y\",\"domain\":[0.0,1.0],\"title\":{\"text\":\"x\"}},\"yaxis\":{\"anchor\":\"x\",\"domain\":[0.0,1.0],\"title\":{\"text\":\"value\"}},\"legend\":{\"title\":{\"text\":\"variable\"},\"tracegroupgap\":0},\"margin\":{\"t\":60}},                        {\"responsive\": true}                    ).then(function(){\n",
       "                            \n",
       "var gd = document.getElementById('17c1d42f-61d2-4404-9eb2-a3fec01b79e4');\n",
       "var x = new MutationObserver(function (mutations, observer) {{\n",
       "        var display = window.getComputedStyle(gd).display;\n",
       "        if (!display || display === 'none') {{\n",
       "            console.log([gd, 'removed!']);\n",
       "            Plotly.purge(gd);\n",
       "            observer.disconnect();\n",
       "        }}\n",
       "}});\n",
       "\n",
       "// Listen for the removal of the full notebook cells\n",
       "var notebookContainer = gd.closest('#notebook-container');\n",
       "if (notebookContainer) {{\n",
       "    x.observe(notebookContainer, {childList: true});\n",
       "}}\n",
       "\n",
       "// Listen for the clearing of the current output cell\n",
       "var outputEl = gd.closest('.output');\n",
       "if (outputEl) {{\n",
       "    x.observe(outputEl, {childList: true});\n",
       "}}\n",
       "\n",
       "                        })                };                });            </script>        </div>"
      ]
     },
     "metadata": {},
     "output_type": "display_data"
    }
   ],
   "source": []
  }
 ],
 "metadata": {
  "kernelspec": {
   "display_name": "Python 3 (ipykernel)",
   "language": "python",
   "name": "python3"
  },
  "language_info": {
   "codemirror_mode": {
    "name": "ipython",
    "version": 3
   },
   "file_extension": ".py",
   "mimetype": "text/x-python",
   "name": "python",
   "nbconvert_exporter": "python",
   "pygments_lexer": "ipython3",
   "version": "3.10.9"
  }
 },
 "nbformat": 4,
 "nbformat_minor": 5
}
