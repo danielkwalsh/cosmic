{
 "cells": [
  {
   "cell_type": "code",
   "execution_count": 3,
   "id": "887c8563-a11a-48c6-bb0d-0892bca7a965",
   "metadata": {},
   "outputs": [
    {
     "name": "stdout",
     "output_type": "stream",
     "text": [
      "Cgl0004I processed model has 0 rows, 0 columns (0 integer (0 of which binary)) and 0 elements\n",
      "Cgl0015I Clique Strengthening extended 0 cliques, 0 were dominated\n",
      "Cbc3007W No integer variables\n",
      "Total time (CPU seconds):       0.00   (Wallclock seconds):       0.00\n",
      "\n",
      "Starting solution of the Linear programming relaxation problem using Primal Simplex\n",
      "\n",
      "Coin0506I Presolve 0 (-3) rows, 0 (-2) columns and 0 (-5) elements\n",
      "Clp0000I Optimal - objective value 0.5\n",
      "Coin0511I After Postsolve, objective 0.5, infeasibilities - dual 0 (0), primal 0 (0)\n",
      "Clp0032I Optimal objective 0.5 - 0 iterations time 0.002, Presolve 0.00, Idiot 0.00\n",
      "\n",
      "Starting MIP optimization\n"
     ]
    },
    {
     "data": {
      "text/plain": [
       "(0.5, 1.0)"
      ]
     },
     "execution_count": 3,
     "metadata": {},
     "output_type": "execute_result"
    }
   ],
   "source": [
    "from mip import Model, xsum, minimize, BINARY\n",
    "\n",
    "alpha = [1, ]\n",
    "beta = [0]\n",
    "qmin = [1/2]\n",
    "qmax = [1]\n",
    "Q = 1/2\n",
    "\n",
    "m = Model()\n",
    "\n",
    "theta = [m.add_var(var_type=BINARY)]\n",
    "q = [m.add_var()]\n",
    "\n",
    "m.objective = minimize(alpha[0] * q[0] + beta[0] - beta[0] * (1 - theta[0]))\n",
    "\n",
    "#Constraints:\n",
    "m += q[0] <= qmax[0] * theta[0]\n",
    "m += q[0] >= qmin[0]* theta[0]\n",
    "m += q[0] == Q\n",
    "\n",
    "m.optimize()\n",
    "\n",
    "q[0].x, theta[0].x"
   ]
  },
  {
   "cell_type": "code",
   "execution_count": null,
   "id": "ed2e2112-025e-4a99-9b42-00dda813b430",
   "metadata": {},
   "outputs": [],
   "source": []
  }
 ],
 "metadata": {
  "kernelspec": {
   "display_name": "Python 3 (ipykernel)",
   "language": "python",
   "name": "python3"
  },
  "language_info": {
   "codemirror_mode": {
    "name": "ipython",
    "version": 3
   },
   "file_extension": ".py",
   "mimetype": "text/x-python",
   "name": "python",
   "nbconvert_exporter": "python",
   "pygments_lexer": "ipython3",
   "version": "3.10.9"
  }
 },
 "nbformat": 4,
 "nbformat_minor": 5
}
