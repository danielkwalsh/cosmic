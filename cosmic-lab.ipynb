{
 "cells": [
  {
   "cell_type": "code",
   "execution_count": 24,
   "id": "887c8563-a11a-48c6-bb0d-0892bca7a965",
   "metadata": {},
   "outputs": [
    {
     "name": "stdout",
     "output_type": "stream",
     "text": [
      "Coin0507I Presolve determined that the problem was infeasible with tolerance of 1e-08\n",
      "Clp3003W Analysis indicates model infeasible or unbounded\n",
      "Clp0006I 0  Obj 0 Primal inf 1.999999 (1)\n",
      "Clp0001I Primal infeasible - objective value 2.1666667\n",
      "Clp0032I PrimalInfeasible objective 2.166666667 - 4 iterations time 0.002\n",
      "Starting solution of the Linear programming relaxation problem using Dual Simplex\n",
      "\n",
      "Coin0506I Presolve 0 (-5) rows, 0 (-4) columns and 0 (-10) elements\n",
      "Clp0000I Optimal - objective value 1.875\n",
      "Coin0511I After Postsolve, objective 1.875, infeasibilities - dual 0 (0), primal 0 (0)\n",
      "Clp0032I Optimal objective 1.875 - 0 iterations time 0.002, Presolve 0.00\n",
      "\n",
      "Starting MIP optimization\n"
     ]
    },
    {
     "data": {
      "text/plain": [
       "([True, True], [1.0, 0.75])"
      ]
     },
     "execution_count": 24,
     "metadata": {},
     "output_type": "execute_result"
    }
   ],
   "source": [
    "from mip import Model, xsum, minimize, BINARY\n",
    "\n",
    "qmin = [1/2, 1/2]\n",
    "qmax = [1, 3/4]\n",
    "\n",
    "wmin = [1/2, 3/4]\n",
    "wmax = [1, 7/8]\n",
    "\n",
    "ncomps = len(qmin)\n",
    "I = range(ncomps)\n",
    "\n",
    "alpha = [(wmax[i] - wmin[i])/(qmax[i] - qmin[i]) for i in I]\n",
    "beta = [wmin[i] - qmin[i] * alpha[i] for i in I]\n",
    "\n",
    "Q = 1.75\n",
    "\n",
    "m = Model()\n",
    "\n",
    "theta = [m.add_var(var_type=BINARY) for _ in I]\n",
    "q = [m.add_var() for _ in I]\n",
    "\n",
    "m.objective = minimize(xsum(alpha[i] * q[i] + beta[i] - beta[i] * (1 - theta[i]) for i in I))\n",
    "\n",
    "#Constraints:\n",
    "for i in I:\n",
    "    m += q[i] <= qmax[i] * theta[i]\n",
    "    m += q[i] >= qmin[i]* theta[i]\n",
    "m += xsum(q[i] for i in I) == Q\n",
    "\n",
    "m.optimize()\n",
    "\n",
    "\n",
    "[bool(theta[i].x) for i in I], [q[i].x for i in I]"
   ]
  },
  {
   "cell_type": "code",
   "execution_count": 12,
   "id": "ed2e2112-025e-4a99-9b42-00dda813b430",
   "metadata": {},
   "outputs": [
    {
     "data": {
      "text/plain": [
       "[[1, 0.875]]"
      ]
     },
     "execution_count": 12,
     "metadata": {},
     "output_type": "execute_result"
    }
   ],
   "source": [
    "alpha"
   ]
  },
  {
   "cell_type": "code",
   "execution_count": 13,
   "id": "876a12a8-e47c-4d4c-b3f4-d986f088dcf9",
   "metadata": {},
   "outputs": [
    {
     "data": {
      "text/plain": [
       "[0]"
      ]
     },
     "execution_count": 13,
     "metadata": {},
     "output_type": "execute_result"
    }
   ],
   "source": [
    "beta"
   ]
  },
  {
   "cell_type": "code",
   "execution_count": null,
   "id": "bfe5367a-df1d-4068-ac3e-69dd6c711bf1",
   "metadata": {},
   "outputs": [],
   "source": []
  }
 ],
 "metadata": {
  "kernelspec": {
   "display_name": "Python 3 (ipykernel)",
   "language": "python",
   "name": "python3"
  },
  "language_info": {
   "codemirror_mode": {
    "name": "ipython",
    "version": 3
   },
   "file_extension": ".py",
   "mimetype": "text/x-python",
   "name": "python",
   "nbconvert_exporter": "python",
   "pygments_lexer": "ipython3",
   "version": "3.10.9"
  }
 },
 "nbformat": 4,
 "nbformat_minor": 5
}
