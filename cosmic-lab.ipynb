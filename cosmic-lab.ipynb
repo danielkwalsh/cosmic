{
 "cells": [
  {
   "cell_type": "code",
   "execution_count": 12,
   "id": "887c8563-a11a-48c6-bb0d-0892bca7a965",
   "metadata": {},
   "outputs": [
    {
     "name": "stdout",
     "output_type": "stream",
     "text": [
      "None\n",
      "Cgl0003I 0 fixed, 0 tightened bounds, 2 strengthened rows, 1 substitutions\n",
      "Cgl0004I processed model has 4 rows, 2 columns (1 integer (1 of which binary)) and 8 elements\n",
      "Coin3009W Conflict graph built in 0.000 seconds, density: 10.000%\n",
      "Cgl0015I Clique Strengthening extended 0 cliques, 0 were dominated\n",
      "Cbc0038I Initial state - 0 integers unsatisfied sum - 0\n",
      "Cbc0038I Solution found of 0.75\n",
      "Cbc0038I Relaxing continuous gives 0.75\n",
      "Cbc0038I Before mini branch and bound, 1 integers at bound fixed and 1 continuous\n",
      "Cbc0038I Mini branch and bound did not improve solution (0.00 seconds)\n",
      "Cbc0038I After 0.00 seconds - Feasibility pump exiting with objective of 0.75 - took 0.00 seconds\n",
      "Cbc0012I Integer solution of 0.75 found by feasibility pump after 0 iterations and 0 nodes (0.00 seconds)\n",
      "Cbc0001I Search completed - best objective 0.75, took 0 iterations and 0 nodes (0.00 seconds)\n",
      "Cbc0035I Maximum depth 0, 0 variables fixed on reduced cost\n",
      "Total time (CPU seconds):       0.00   (Wallclock seconds):       0.00\n",
      "\n",
      "Starting solution of the Linear programming relaxation problem using Dual Simplex\n",
      "\n"
     ]
    },
    {
     "data": {
      "text/plain": [
       "([False, False], [None, None])"
      ]
     },
     "execution_count": 12,
     "metadata": {},
     "output_type": "execute_result"
    }
   ],
   "source": [
    "from mip import Model, xsum, minimize, BINARY, Constr\n",
    "\n",
    "qmin = [1/2, 1/2]\n",
    "qmax = [1, 3/4]\n",
    "\n",
    "wmin = [1/2, 3/4]\n",
    "wmax = [1, 7/8]\n",
    "\n",
    "ncomps = len(qmin)\n",
    "I = range(ncomps)\n",
    "\n",
    "alpha = [(wmax[i] - wmin[i])/(qmax[i] - qmin[i]) for i in I]\n",
    "beta = [wmin[i] - qmin[i] * alpha[i] for i in I]\n",
    "\n",
    "Q = 0\n",
    "\n",
    "m = Model()\n",
    "\n",
    "theta = [m.add_var(var_type=BINARY) for _ in I]\n",
    "q = [m.add_var() for _ in I]\n",
    "\n",
    "m.objective = minimize(xsum(alpha[i] * q[i] + beta[i] - beta[i] * (1 - theta[i]) for i in I))\n",
    "\n",
    "#Constraints:\n",
    "for i in I:\n",
    "    m += q[i] <= qmax[i] * theta[i]\n",
    "    m += q[i] >= qmin[i]* theta[i]\n",
    "m += xsum(q[i] for i in I) == Q, \"asdfsdf\"\n",
    "print(m.constr_by_name('Qtot'))\n",
    "m += xsum(q[i] for i in I) == 0.75, \"Qtot\"\n",
    "\n",
    "m.optimize()\n",
    "\n",
    "\n",
    "[bool(theta[i].x) for i in I], [q[i].x for i in I]"
   ]
  },
  {
   "cell_type": "code",
   "execution_count": 1,
   "id": "bfe5367a-df1d-4068-ac3e-69dd6c711bf1",
   "metadata": {},
   "outputs": [],
   "source": [
    "from cosmiclib import Compressor, Optimizer"
   ]
  },
  {
   "cell_type": "code",
   "execution_count": 2,
   "id": "6a3c02be-9706-4f0b-9cbf-a7488eb1d7a4",
   "metadata": {},
   "outputs": [],
   "source": [
    "my_compressor = Compressor('my compressor', qmin=0.5, qmax=1, wmin=0.5, wmax=1)"
   ]
  },
  {
   "cell_type": "code",
   "execution_count": 3,
   "id": "b251d1c5-b658-437c-8b99-18ef22a30b3d",
   "metadata": {},
   "outputs": [],
   "source": [
    "my_optimizer = Optimizer(compressors=[my_compressor])"
   ]
  },
  {
   "cell_type": "code",
   "execution_count": 4,
   "id": "c39f7f6b-e5c2-4c2b-9963-2d14fc50fb4b",
   "metadata": {},
   "outputs": [],
   "source": [
    "my_optimizer.setup_problem()"
   ]
  },
  {
   "cell_type": "code",
   "execution_count": 5,
   "id": "8b1d1399-0f69-43c4-a0f1-1e0e6bce821f",
   "metadata": {},
   "outputs": [
    {
     "data": {
      "text/plain": [
       "[0.0]"
      ]
     },
     "execution_count": 5,
     "metadata": {},
     "output_type": "execute_result"
    }
   ],
   "source": [
    "my_optimizer.beta"
   ]
  },
  {
   "cell_type": "code",
   "execution_count": 10,
   "id": "6d9cc9b7-6327-4f4f-83c2-768a47a739fb",
   "metadata": {},
   "outputs": [
    {
     "name": "stdout",
     "output_type": "stream",
     "text": [
      "Cgl0004I processed model has 0 rows, 0 columns (0 integer (0 of which binary)) and 0 elements\n",
      "Cgl0015I Clique Strengthening extended 0 cliques, 0 were dominated\n",
      "Cbc3007W No integer variables\n",
      "Total time (CPU seconds):       0.00   (Wallclock seconds):       0.00\n",
      "\n",
      "Starting solution of the Linear programming relaxation problem using Primal Simplex\n",
      "\n"
     ]
    },
    {
     "data": {
      "text/plain": [
       "([False], [None])"
      ]
     },
     "execution_count": 10,
     "metadata": {},
     "output_type": "execute_result"
    }
   ],
   "source": [
    "my_optimizer.find_opt(100)"
   ]
  },
  {
   "cell_type": "code",
   "execution_count": null,
   "id": "239177c0-877d-4eab-8595-8ae85ce2d70f",
   "metadata": {},
   "outputs": [],
   "source": []
  }
 ],
 "metadata": {
  "kernelspec": {
   "display_name": "Python 3 (ipykernel)",
   "language": "python",
   "name": "python3"
  },
  "language_info": {
   "codemirror_mode": {
    "name": "ipython",
    "version": 3
   },
   "file_extension": ".py",
   "mimetype": "text/x-python",
   "name": "python",
   "nbconvert_exporter": "python",
   "pygments_lexer": "ipython3",
   "version": "3.10.9"
  }
 },
 "nbformat": 4,
 "nbformat_minor": 5
}
