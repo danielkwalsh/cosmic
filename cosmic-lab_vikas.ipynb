{
 "cells": [
  {
   "cell_type": "code",
   "execution_count": 1,
   "id": "bfe5367a-df1d-4068-ac3e-69dd6c711bf1",
   "metadata": {},
   "outputs": [],
   "source": [
    "from cosmiclib import Compressor, Optimizer, Counterfactualgenerator, generate_sequence_plot\n",
    "import plotly"
   ]
  },
  {
   "cell_type": "code",
   "execution_count": 2,
   "id": "6a3c02be-9706-4f0b-9cbf-a7488eb1d7a4",
   "metadata": {},
   "outputs": [
    {
     "ename": "TypeError",
     "evalue": "Optimizer.find_opt() got multiple values for argument 'Q'",
     "output_type": "error",
     "traceback": [
      "\u001b[0;31m---------------------------------------------------------------------------\u001b[0m",
      "\u001b[0;31mTypeError\u001b[0m                                 Traceback (most recent call last)",
      "Cell \u001b[0;32mIn[2], line 8\u001b[0m\n\u001b[1;32m      6\u001b[0m my_cf \u001b[39m=\u001b[39m Counterfactualgenerator(compressors\u001b[39m=\u001b[39m[compressor1, compressor2])\n\u001b[1;32m      7\u001b[0m \u001b[39m#my_cf.find_opt(Q= 1.5, cf_option = 1, sequence_cf=['Compressor 1', 'Compressor 2'])\u001b[39;00m\n\u001b[0;32m----> 8\u001b[0m fig \u001b[39m=\u001b[39m generate_sequence_plot(my_cf, Q\u001b[39m=\u001b[39;49m \u001b[39m1.5\u001b[39;49m, cf_option \u001b[39m=\u001b[39;49m \u001b[39m1\u001b[39;49m, sequence_cf\u001b[39m=\u001b[39;49m[\u001b[39m'\u001b[39;49m\u001b[39mCompressor 1\u001b[39;49m\u001b[39m'\u001b[39;49m, \u001b[39m'\u001b[39;49m\u001b[39mCompressor 2\u001b[39;49m\u001b[39m'\u001b[39;49m])\n\u001b[1;32m      9\u001b[0m fig\u001b[39m.\u001b[39mshow()\n",
      "File \u001b[0;32m~/crossnokaye/cosmic/cosmiclib.py:177\u001b[0m, in \u001b[0;36mgenerate_sequence_plot\u001b[0;34m(opt_obj, *args, **kwargs)\u001b[0m\n\u001b[1;32m    175\u001b[0m Qmax_plot \u001b[39m=\u001b[39m Qmax \u001b[39m*\u001b[39m \u001b[39m1.1\u001b[39m\n\u001b[1;32m    176\u001b[0m \u001b[39mfor\u001b[39;00m Qtot \u001b[39min\u001b[39;00m np\u001b[39m.\u001b[39marange(\u001b[39m0\u001b[39m,Qmax_plot,Qmax_plot\u001b[39m/\u001b[39m\u001b[39m1000\u001b[39m):\n\u001b[0;32m--> 177\u001b[0m     solution \u001b[39m=\u001b[39m my_optimizer\u001b[39m.\u001b[39;49mfind_opt(Qtot, \u001b[39m*\u001b[39;49margs, \u001b[39m*\u001b[39;49m\u001b[39m*\u001b[39;49mkwargs)\n\u001b[1;32m    178\u001b[0m     \u001b[39mif\u001b[39;00m df \u001b[39mis\u001b[39;00m \u001b[39mNone\u001b[39;00m:\n\u001b[1;32m    179\u001b[0m         df \u001b[39m=\u001b[39m make_row(Qtot, solution)\n",
      "\u001b[0;31mTypeError\u001b[0m: Optimizer.find_opt() got multiple values for argument 'Q'"
     ]
    }
   ],
   "source": [
    "compressor1 = Compressor('Compressor 1', qmin=0.5, qmax=1, wmin=0.5, wmax=1)\n",
    "compressor2 = Compressor('Compressor 2', qmin=0.5, qmax=0.75, wmin=0.75, wmax=7/8)\n",
    "my_optimizer = Optimizer(compressors=[compressor1, compressor2])\n",
    "my_optimizer.setup_problem()\n",
    "my_optimizer.find_opt(1.5)\n",
    "my_cf = Counterfactualgenerator(compressors=[compressor1, compressor2])\n",
    "#my_cf.find_opt(Q= 1.5, cf_option = 1, sequence_cf=['Compressor 1', 'Compressor 2'])\n",
    "fig = generate_sequence_plot(my_cf, Q= 1.5, cf_option = 1, sequence_cf=['Compressor 1', 'Compressor 2'])\n",
    "fig.show()\n",
    "\n"
   ]
  }
 ],
 "metadata": {
  "kernelspec": {
   "display_name": "Python 3 (ipykernel)",
   "language": "python",
   "name": "python3"
  },
  "language_info": {
   "codemirror_mode": {
    "name": "ipython",
    "version": 3
   },
   "file_extension": ".py",
   "mimetype": "text/x-python",
   "name": "python",
   "nbconvert_exporter": "python",
   "pygments_lexer": "ipython3",
   "version": "3.10.10"
  }
 },
 "nbformat": 4,
 "nbformat_minor": 5
}
